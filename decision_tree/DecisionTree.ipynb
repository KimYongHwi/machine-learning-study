{
  "nbformat": 4,
  "nbformat_minor": 0,
  "metadata": {
    "colab": {
      "name": "DecisionTree.ipynb",
      "provenance": [],
      "authorship_tag": "ABX9TyMa5buaCdDzxCxxqYirh+KB",
      "include_colab_link": true
    },
    "kernelspec": {
      "name": "python3",
      "display_name": "Python 3"
    },
    "language_info": {
      "name": "python"
    }
  },
  "cells": [
    {
      "cell_type": "markdown",
      "metadata": {
        "id": "view-in-github",
        "colab_type": "text"
      },
      "source": [
        "<a href=\"https://colab.research.google.com/github/KimYongHwi/machine-learning-study/blob/main/decision_tree/DecisionTree.ipynb\" target=\"_parent\"><img src=\"https://colab.research.google.com/assets/colab-badge.svg\" alt=\"Open In Colab\"/></a>"
      ]
    },
    {
      "cell_type": "markdown",
      "metadata": {
        "id": "laZkC3sogAps"
      },
      "source": [
        "# 결정 트리(Decision Tree)\n",
        "- 분류와 회귀에 사용되는 지도 학습 방법\n",
        "- 데이터 특승으로 부터 추론된 결정 규칙을 통해 값을 예측\n",
        "- **if-then-else** 결정 규칙을 통해 데이터 학습\n",
        "- 트리의 깊이가 깊을 수록 복잡한 모델\n",
        "- 결정 트리 장점\n",
        "  - 이해와 해석이 쉽다.\n",
        "  - 시각화가 용이하다.\n",
        "  - 많은 데이터 전처리가 필요하지 않다.\n",
        "  - 수치형과 범주형 데이터 모두를 다룰 수 있다.\n",
        "  - ..."
      ]
    },
    {
      "cell_type": "code",
      "metadata": {
        "id": "l46GA-DVgctJ"
      },
      "source": [
        "import pandas as pd\n",
        "import numpy as np\n",
        "import graphviz\n",
        "import multiprocessing\n",
        "import matplotlib.pyplot as plt\n",
        "plt.style.use('seaborn-whitegrid')"
      ],
      "execution_count": 1,
      "outputs": []
    },
    {
      "cell_type": "code",
      "metadata": {
        "id": "Qgc64ucOg9lG"
      },
      "source": [
        "from sklearn.datasets import load_iris, load_wine, load_breast_cancer\n",
        "from sklearn.datasets import load_boston, load_diabetes\n",
        "from sklearn import tree\n",
        "from sklearn.tree import DecisionTreeClassifier, DecisionTreeRegressor\n",
        "from sklearn.preprocessing import StandardScaler\n",
        "from sklearn.model_selection import cross_val_score\n",
        "from sklearn.pipeline import make_pipeline"
      ],
      "execution_count": 2,
      "outputs": []
    },
    {
      "cell_type": "markdown",
      "metadata": {
        "id": "26F4gOaNhgK5"
      },
      "source": [
        "## 분류를 위한 데이터"
      ]
    },
    {
      "cell_type": "markdown",
      "metadata": {
        "id": "9TW35-HQhjWv"
      },
      "source": [
        "### 1. Iris 데이터"
      ]
    },
    {
      "cell_type": "code",
      "metadata": {
        "id": "x3Qu64ZEhdmW"
      },
      "source": [
        "iris = load_iris()"
      ],
      "execution_count": 3,
      "outputs": []
    },
    {
      "cell_type": "code",
      "metadata": {
        "colab": {
          "base_uri": "https://localhost:8080/",
          "height": 419
        },
        "id": "hYCSD8xUhq1J",
        "outputId": "41cd413d-1d53-4216-b63d-be719d815cc7"
      },
      "source": [
        "iris_df = pd.DataFrame(data = iris.data, columns= iris.feature_names)\n",
        "iris_df['target'] = iris.target\n",
        "iris_df"
      ],
      "execution_count": 4,
      "outputs": [
        {
          "output_type": "execute_result",
          "data": {
            "text/html": [
              "<div>\n",
              "<style scoped>\n",
              "    .dataframe tbody tr th:only-of-type {\n",
              "        vertical-align: middle;\n",
              "    }\n",
              "\n",
              "    .dataframe tbody tr th {\n",
              "        vertical-align: top;\n",
              "    }\n",
              "\n",
              "    .dataframe thead th {\n",
              "        text-align: right;\n",
              "    }\n",
              "</style>\n",
              "<table border=\"1\" class=\"dataframe\">\n",
              "  <thead>\n",
              "    <tr style=\"text-align: right;\">\n",
              "      <th></th>\n",
              "      <th>sepal length (cm)</th>\n",
              "      <th>sepal width (cm)</th>\n",
              "      <th>petal length (cm)</th>\n",
              "      <th>petal width (cm)</th>\n",
              "      <th>target</th>\n",
              "    </tr>\n",
              "  </thead>\n",
              "  <tbody>\n",
              "    <tr>\n",
              "      <th>0</th>\n",
              "      <td>5.1</td>\n",
              "      <td>3.5</td>\n",
              "      <td>1.4</td>\n",
              "      <td>0.2</td>\n",
              "      <td>0</td>\n",
              "    </tr>\n",
              "    <tr>\n",
              "      <th>1</th>\n",
              "      <td>4.9</td>\n",
              "      <td>3.0</td>\n",
              "      <td>1.4</td>\n",
              "      <td>0.2</td>\n",
              "      <td>0</td>\n",
              "    </tr>\n",
              "    <tr>\n",
              "      <th>2</th>\n",
              "      <td>4.7</td>\n",
              "      <td>3.2</td>\n",
              "      <td>1.3</td>\n",
              "      <td>0.2</td>\n",
              "      <td>0</td>\n",
              "    </tr>\n",
              "    <tr>\n",
              "      <th>3</th>\n",
              "      <td>4.6</td>\n",
              "      <td>3.1</td>\n",
              "      <td>1.5</td>\n",
              "      <td>0.2</td>\n",
              "      <td>0</td>\n",
              "    </tr>\n",
              "    <tr>\n",
              "      <th>4</th>\n",
              "      <td>5.0</td>\n",
              "      <td>3.6</td>\n",
              "      <td>1.4</td>\n",
              "      <td>0.2</td>\n",
              "      <td>0</td>\n",
              "    </tr>\n",
              "    <tr>\n",
              "      <th>...</th>\n",
              "      <td>...</td>\n",
              "      <td>...</td>\n",
              "      <td>...</td>\n",
              "      <td>...</td>\n",
              "      <td>...</td>\n",
              "    </tr>\n",
              "    <tr>\n",
              "      <th>145</th>\n",
              "      <td>6.7</td>\n",
              "      <td>3.0</td>\n",
              "      <td>5.2</td>\n",
              "      <td>2.3</td>\n",
              "      <td>2</td>\n",
              "    </tr>\n",
              "    <tr>\n",
              "      <th>146</th>\n",
              "      <td>6.3</td>\n",
              "      <td>2.5</td>\n",
              "      <td>5.0</td>\n",
              "      <td>1.9</td>\n",
              "      <td>2</td>\n",
              "    </tr>\n",
              "    <tr>\n",
              "      <th>147</th>\n",
              "      <td>6.5</td>\n",
              "      <td>3.0</td>\n",
              "      <td>5.2</td>\n",
              "      <td>2.0</td>\n",
              "      <td>2</td>\n",
              "    </tr>\n",
              "    <tr>\n",
              "      <th>148</th>\n",
              "      <td>6.2</td>\n",
              "      <td>3.4</td>\n",
              "      <td>5.4</td>\n",
              "      <td>2.3</td>\n",
              "      <td>2</td>\n",
              "    </tr>\n",
              "    <tr>\n",
              "      <th>149</th>\n",
              "      <td>5.9</td>\n",
              "      <td>3.0</td>\n",
              "      <td>5.1</td>\n",
              "      <td>1.8</td>\n",
              "      <td>2</td>\n",
              "    </tr>\n",
              "  </tbody>\n",
              "</table>\n",
              "<p>150 rows × 5 columns</p>\n",
              "</div>"
            ],
            "text/plain": [
              "     sepal length (cm)  sepal width (cm)  ...  petal width (cm)  target\n",
              "0                  5.1               3.5  ...               0.2       0\n",
              "1                  4.9               3.0  ...               0.2       0\n",
              "2                  4.7               3.2  ...               0.2       0\n",
              "3                  4.6               3.1  ...               0.2       0\n",
              "4                  5.0               3.6  ...               0.2       0\n",
              "..                 ...               ...  ...               ...     ...\n",
              "145                6.7               3.0  ...               2.3       2\n",
              "146                6.3               2.5  ...               1.9       2\n",
              "147                6.5               3.0  ...               2.0       2\n",
              "148                6.2               3.4  ...               2.3       2\n",
              "149                5.9               3.0  ...               1.8       2\n",
              "\n",
              "[150 rows x 5 columns]"
            ]
          },
          "metadata": {
            "tags": []
          },
          "execution_count": 4
        }
      ]
    },
    {
      "cell_type": "markdown",
      "metadata": {
        "id": "u3AKk33wiEcQ"
      },
      "source": [
        "### 2. Wine 데이터\n"
      ]
    },
    {
      "cell_type": "code",
      "metadata": {
        "id": "-Au3FuSAh_BD"
      },
      "source": [
        "wine = load_wine()"
      ],
      "execution_count": 5,
      "outputs": []
    },
    {
      "cell_type": "code",
      "metadata": {
        "colab": {
          "base_uri": "https://localhost:8080/",
          "height": 439
        },
        "id": "3IAFp4OTiLKe",
        "outputId": "da56a6a9-5fc8-40e5-b82b-adc10d5669a8"
      },
      "source": [
        "wine_df = pd.DataFrame(data = wine.data, columns = wine.feature_names)\n",
        "wine_df['target'] = wine.target\n",
        "wine_df"
      ],
      "execution_count": 6,
      "outputs": [
        {
          "output_type": "execute_result",
          "data": {
            "text/html": [
              "<div>\n",
              "<style scoped>\n",
              "    .dataframe tbody tr th:only-of-type {\n",
              "        vertical-align: middle;\n",
              "    }\n",
              "\n",
              "    .dataframe tbody tr th {\n",
              "        vertical-align: top;\n",
              "    }\n",
              "\n",
              "    .dataframe thead th {\n",
              "        text-align: right;\n",
              "    }\n",
              "</style>\n",
              "<table border=\"1\" class=\"dataframe\">\n",
              "  <thead>\n",
              "    <tr style=\"text-align: right;\">\n",
              "      <th></th>\n",
              "      <th>alcohol</th>\n",
              "      <th>malic_acid</th>\n",
              "      <th>ash</th>\n",
              "      <th>alcalinity_of_ash</th>\n",
              "      <th>magnesium</th>\n",
              "      <th>total_phenols</th>\n",
              "      <th>flavanoids</th>\n",
              "      <th>nonflavanoid_phenols</th>\n",
              "      <th>proanthocyanins</th>\n",
              "      <th>color_intensity</th>\n",
              "      <th>hue</th>\n",
              "      <th>od280/od315_of_diluted_wines</th>\n",
              "      <th>proline</th>\n",
              "      <th>target</th>\n",
              "    </tr>\n",
              "  </thead>\n",
              "  <tbody>\n",
              "    <tr>\n",
              "      <th>0</th>\n",
              "      <td>14.23</td>\n",
              "      <td>1.71</td>\n",
              "      <td>2.43</td>\n",
              "      <td>15.6</td>\n",
              "      <td>127.0</td>\n",
              "      <td>2.80</td>\n",
              "      <td>3.06</td>\n",
              "      <td>0.28</td>\n",
              "      <td>2.29</td>\n",
              "      <td>5.64</td>\n",
              "      <td>1.04</td>\n",
              "      <td>3.92</td>\n",
              "      <td>1065.0</td>\n",
              "      <td>0</td>\n",
              "    </tr>\n",
              "    <tr>\n",
              "      <th>1</th>\n",
              "      <td>13.20</td>\n",
              "      <td>1.78</td>\n",
              "      <td>2.14</td>\n",
              "      <td>11.2</td>\n",
              "      <td>100.0</td>\n",
              "      <td>2.65</td>\n",
              "      <td>2.76</td>\n",
              "      <td>0.26</td>\n",
              "      <td>1.28</td>\n",
              "      <td>4.38</td>\n",
              "      <td>1.05</td>\n",
              "      <td>3.40</td>\n",
              "      <td>1050.0</td>\n",
              "      <td>0</td>\n",
              "    </tr>\n",
              "    <tr>\n",
              "      <th>2</th>\n",
              "      <td>13.16</td>\n",
              "      <td>2.36</td>\n",
              "      <td>2.67</td>\n",
              "      <td>18.6</td>\n",
              "      <td>101.0</td>\n",
              "      <td>2.80</td>\n",
              "      <td>3.24</td>\n",
              "      <td>0.30</td>\n",
              "      <td>2.81</td>\n",
              "      <td>5.68</td>\n",
              "      <td>1.03</td>\n",
              "      <td>3.17</td>\n",
              "      <td>1185.0</td>\n",
              "      <td>0</td>\n",
              "    </tr>\n",
              "    <tr>\n",
              "      <th>3</th>\n",
              "      <td>14.37</td>\n",
              "      <td>1.95</td>\n",
              "      <td>2.50</td>\n",
              "      <td>16.8</td>\n",
              "      <td>113.0</td>\n",
              "      <td>3.85</td>\n",
              "      <td>3.49</td>\n",
              "      <td>0.24</td>\n",
              "      <td>2.18</td>\n",
              "      <td>7.80</td>\n",
              "      <td>0.86</td>\n",
              "      <td>3.45</td>\n",
              "      <td>1480.0</td>\n",
              "      <td>0</td>\n",
              "    </tr>\n",
              "    <tr>\n",
              "      <th>4</th>\n",
              "      <td>13.24</td>\n",
              "      <td>2.59</td>\n",
              "      <td>2.87</td>\n",
              "      <td>21.0</td>\n",
              "      <td>118.0</td>\n",
              "      <td>2.80</td>\n",
              "      <td>2.69</td>\n",
              "      <td>0.39</td>\n",
              "      <td>1.82</td>\n",
              "      <td>4.32</td>\n",
              "      <td>1.04</td>\n",
              "      <td>2.93</td>\n",
              "      <td>735.0</td>\n",
              "      <td>0</td>\n",
              "    </tr>\n",
              "    <tr>\n",
              "      <th>...</th>\n",
              "      <td>...</td>\n",
              "      <td>...</td>\n",
              "      <td>...</td>\n",
              "      <td>...</td>\n",
              "      <td>...</td>\n",
              "      <td>...</td>\n",
              "      <td>...</td>\n",
              "      <td>...</td>\n",
              "      <td>...</td>\n",
              "      <td>...</td>\n",
              "      <td>...</td>\n",
              "      <td>...</td>\n",
              "      <td>...</td>\n",
              "      <td>...</td>\n",
              "    </tr>\n",
              "    <tr>\n",
              "      <th>173</th>\n",
              "      <td>13.71</td>\n",
              "      <td>5.65</td>\n",
              "      <td>2.45</td>\n",
              "      <td>20.5</td>\n",
              "      <td>95.0</td>\n",
              "      <td>1.68</td>\n",
              "      <td>0.61</td>\n",
              "      <td>0.52</td>\n",
              "      <td>1.06</td>\n",
              "      <td>7.70</td>\n",
              "      <td>0.64</td>\n",
              "      <td>1.74</td>\n",
              "      <td>740.0</td>\n",
              "      <td>2</td>\n",
              "    </tr>\n",
              "    <tr>\n",
              "      <th>174</th>\n",
              "      <td>13.40</td>\n",
              "      <td>3.91</td>\n",
              "      <td>2.48</td>\n",
              "      <td>23.0</td>\n",
              "      <td>102.0</td>\n",
              "      <td>1.80</td>\n",
              "      <td>0.75</td>\n",
              "      <td>0.43</td>\n",
              "      <td>1.41</td>\n",
              "      <td>7.30</td>\n",
              "      <td>0.70</td>\n",
              "      <td>1.56</td>\n",
              "      <td>750.0</td>\n",
              "      <td>2</td>\n",
              "    </tr>\n",
              "    <tr>\n",
              "      <th>175</th>\n",
              "      <td>13.27</td>\n",
              "      <td>4.28</td>\n",
              "      <td>2.26</td>\n",
              "      <td>20.0</td>\n",
              "      <td>120.0</td>\n",
              "      <td>1.59</td>\n",
              "      <td>0.69</td>\n",
              "      <td>0.43</td>\n",
              "      <td>1.35</td>\n",
              "      <td>10.20</td>\n",
              "      <td>0.59</td>\n",
              "      <td>1.56</td>\n",
              "      <td>835.0</td>\n",
              "      <td>2</td>\n",
              "    </tr>\n",
              "    <tr>\n",
              "      <th>176</th>\n",
              "      <td>13.17</td>\n",
              "      <td>2.59</td>\n",
              "      <td>2.37</td>\n",
              "      <td>20.0</td>\n",
              "      <td>120.0</td>\n",
              "      <td>1.65</td>\n",
              "      <td>0.68</td>\n",
              "      <td>0.53</td>\n",
              "      <td>1.46</td>\n",
              "      <td>9.30</td>\n",
              "      <td>0.60</td>\n",
              "      <td>1.62</td>\n",
              "      <td>840.0</td>\n",
              "      <td>2</td>\n",
              "    </tr>\n",
              "    <tr>\n",
              "      <th>177</th>\n",
              "      <td>14.13</td>\n",
              "      <td>4.10</td>\n",
              "      <td>2.74</td>\n",
              "      <td>24.5</td>\n",
              "      <td>96.0</td>\n",
              "      <td>2.05</td>\n",
              "      <td>0.76</td>\n",
              "      <td>0.56</td>\n",
              "      <td>1.35</td>\n",
              "      <td>9.20</td>\n",
              "      <td>0.61</td>\n",
              "      <td>1.60</td>\n",
              "      <td>560.0</td>\n",
              "      <td>2</td>\n",
              "    </tr>\n",
              "  </tbody>\n",
              "</table>\n",
              "<p>178 rows × 14 columns</p>\n",
              "</div>"
            ],
            "text/plain": [
              "     alcohol  malic_acid   ash  ...  od280/od315_of_diluted_wines  proline  target\n",
              "0      14.23        1.71  2.43  ...                          3.92   1065.0       0\n",
              "1      13.20        1.78  2.14  ...                          3.40   1050.0       0\n",
              "2      13.16        2.36  2.67  ...                          3.17   1185.0       0\n",
              "3      14.37        1.95  2.50  ...                          3.45   1480.0       0\n",
              "4      13.24        2.59  2.87  ...                          2.93    735.0       0\n",
              "..       ...         ...   ...  ...                           ...      ...     ...\n",
              "173    13.71        5.65  2.45  ...                          1.74    740.0       2\n",
              "174    13.40        3.91  2.48  ...                          1.56    750.0       2\n",
              "175    13.27        4.28  2.26  ...                          1.56    835.0       2\n",
              "176    13.17        2.59  2.37  ...                          1.62    840.0       2\n",
              "177    14.13        4.10  2.74  ...                          1.60    560.0       2\n",
              "\n",
              "[178 rows x 14 columns]"
            ]
          },
          "metadata": {
            "tags": []
          },
          "execution_count": 6
        }
      ]
    },
    {
      "cell_type": "markdown",
      "metadata": {
        "id": "_khIKot8iqu3"
      },
      "source": [
        "### 3. Breast cancer 데이터"
      ]
    },
    {
      "cell_type": "code",
      "metadata": {
        "id": "ffBmBC83iYnz"
      },
      "source": [
        "cancer = load_breast_cancer()"
      ],
      "execution_count": 7,
      "outputs": []
    },
    {
      "cell_type": "code",
      "metadata": {
        "colab": {
          "base_uri": "https://localhost:8080/",
          "height": 473
        },
        "id": "sLSp8I0viqLa",
        "outputId": "d632422e-ec2c-4ea9-81cc-755c5e40b0c9"
      },
      "source": [
        "cancer_df = pd.DataFrame(data = cancer.data, columns = cancer.feature_names)\n",
        "cancer_df['target'] = cancer.target\n",
        "cancer_df"
      ],
      "execution_count": 8,
      "outputs": [
        {
          "output_type": "execute_result",
          "data": {
            "text/html": [
              "<div>\n",
              "<style scoped>\n",
              "    .dataframe tbody tr th:only-of-type {\n",
              "        vertical-align: middle;\n",
              "    }\n",
              "\n",
              "    .dataframe tbody tr th {\n",
              "        vertical-align: top;\n",
              "    }\n",
              "\n",
              "    .dataframe thead th {\n",
              "        text-align: right;\n",
              "    }\n",
              "</style>\n",
              "<table border=\"1\" class=\"dataframe\">\n",
              "  <thead>\n",
              "    <tr style=\"text-align: right;\">\n",
              "      <th></th>\n",
              "      <th>mean radius</th>\n",
              "      <th>mean texture</th>\n",
              "      <th>mean perimeter</th>\n",
              "      <th>mean area</th>\n",
              "      <th>mean smoothness</th>\n",
              "      <th>mean compactness</th>\n",
              "      <th>mean concavity</th>\n",
              "      <th>mean concave points</th>\n",
              "      <th>mean symmetry</th>\n",
              "      <th>mean fractal dimension</th>\n",
              "      <th>radius error</th>\n",
              "      <th>texture error</th>\n",
              "      <th>perimeter error</th>\n",
              "      <th>area error</th>\n",
              "      <th>smoothness error</th>\n",
              "      <th>compactness error</th>\n",
              "      <th>concavity error</th>\n",
              "      <th>concave points error</th>\n",
              "      <th>symmetry error</th>\n",
              "      <th>fractal dimension error</th>\n",
              "      <th>worst radius</th>\n",
              "      <th>worst texture</th>\n",
              "      <th>worst perimeter</th>\n",
              "      <th>worst area</th>\n",
              "      <th>worst smoothness</th>\n",
              "      <th>worst compactness</th>\n",
              "      <th>worst concavity</th>\n",
              "      <th>worst concave points</th>\n",
              "      <th>worst symmetry</th>\n",
              "      <th>worst fractal dimension</th>\n",
              "      <th>target</th>\n",
              "    </tr>\n",
              "  </thead>\n",
              "  <tbody>\n",
              "    <tr>\n",
              "      <th>0</th>\n",
              "      <td>17.99</td>\n",
              "      <td>10.38</td>\n",
              "      <td>122.80</td>\n",
              "      <td>1001.0</td>\n",
              "      <td>0.11840</td>\n",
              "      <td>0.27760</td>\n",
              "      <td>0.30010</td>\n",
              "      <td>0.14710</td>\n",
              "      <td>0.2419</td>\n",
              "      <td>0.07871</td>\n",
              "      <td>1.0950</td>\n",
              "      <td>0.9053</td>\n",
              "      <td>8.589</td>\n",
              "      <td>153.40</td>\n",
              "      <td>0.006399</td>\n",
              "      <td>0.04904</td>\n",
              "      <td>0.05373</td>\n",
              "      <td>0.01587</td>\n",
              "      <td>0.03003</td>\n",
              "      <td>0.006193</td>\n",
              "      <td>25.380</td>\n",
              "      <td>17.33</td>\n",
              "      <td>184.60</td>\n",
              "      <td>2019.0</td>\n",
              "      <td>0.16220</td>\n",
              "      <td>0.66560</td>\n",
              "      <td>0.7119</td>\n",
              "      <td>0.2654</td>\n",
              "      <td>0.4601</td>\n",
              "      <td>0.11890</td>\n",
              "      <td>0</td>\n",
              "    </tr>\n",
              "    <tr>\n",
              "      <th>1</th>\n",
              "      <td>20.57</td>\n",
              "      <td>17.77</td>\n",
              "      <td>132.90</td>\n",
              "      <td>1326.0</td>\n",
              "      <td>0.08474</td>\n",
              "      <td>0.07864</td>\n",
              "      <td>0.08690</td>\n",
              "      <td>0.07017</td>\n",
              "      <td>0.1812</td>\n",
              "      <td>0.05667</td>\n",
              "      <td>0.5435</td>\n",
              "      <td>0.7339</td>\n",
              "      <td>3.398</td>\n",
              "      <td>74.08</td>\n",
              "      <td>0.005225</td>\n",
              "      <td>0.01308</td>\n",
              "      <td>0.01860</td>\n",
              "      <td>0.01340</td>\n",
              "      <td>0.01389</td>\n",
              "      <td>0.003532</td>\n",
              "      <td>24.990</td>\n",
              "      <td>23.41</td>\n",
              "      <td>158.80</td>\n",
              "      <td>1956.0</td>\n",
              "      <td>0.12380</td>\n",
              "      <td>0.18660</td>\n",
              "      <td>0.2416</td>\n",
              "      <td>0.1860</td>\n",
              "      <td>0.2750</td>\n",
              "      <td>0.08902</td>\n",
              "      <td>0</td>\n",
              "    </tr>\n",
              "    <tr>\n",
              "      <th>2</th>\n",
              "      <td>19.69</td>\n",
              "      <td>21.25</td>\n",
              "      <td>130.00</td>\n",
              "      <td>1203.0</td>\n",
              "      <td>0.10960</td>\n",
              "      <td>0.15990</td>\n",
              "      <td>0.19740</td>\n",
              "      <td>0.12790</td>\n",
              "      <td>0.2069</td>\n",
              "      <td>0.05999</td>\n",
              "      <td>0.7456</td>\n",
              "      <td>0.7869</td>\n",
              "      <td>4.585</td>\n",
              "      <td>94.03</td>\n",
              "      <td>0.006150</td>\n",
              "      <td>0.04006</td>\n",
              "      <td>0.03832</td>\n",
              "      <td>0.02058</td>\n",
              "      <td>0.02250</td>\n",
              "      <td>0.004571</td>\n",
              "      <td>23.570</td>\n",
              "      <td>25.53</td>\n",
              "      <td>152.50</td>\n",
              "      <td>1709.0</td>\n",
              "      <td>0.14440</td>\n",
              "      <td>0.42450</td>\n",
              "      <td>0.4504</td>\n",
              "      <td>0.2430</td>\n",
              "      <td>0.3613</td>\n",
              "      <td>0.08758</td>\n",
              "      <td>0</td>\n",
              "    </tr>\n",
              "    <tr>\n",
              "      <th>3</th>\n",
              "      <td>11.42</td>\n",
              "      <td>20.38</td>\n",
              "      <td>77.58</td>\n",
              "      <td>386.1</td>\n",
              "      <td>0.14250</td>\n",
              "      <td>0.28390</td>\n",
              "      <td>0.24140</td>\n",
              "      <td>0.10520</td>\n",
              "      <td>0.2597</td>\n",
              "      <td>0.09744</td>\n",
              "      <td>0.4956</td>\n",
              "      <td>1.1560</td>\n",
              "      <td>3.445</td>\n",
              "      <td>27.23</td>\n",
              "      <td>0.009110</td>\n",
              "      <td>0.07458</td>\n",
              "      <td>0.05661</td>\n",
              "      <td>0.01867</td>\n",
              "      <td>0.05963</td>\n",
              "      <td>0.009208</td>\n",
              "      <td>14.910</td>\n",
              "      <td>26.50</td>\n",
              "      <td>98.87</td>\n",
              "      <td>567.7</td>\n",
              "      <td>0.20980</td>\n",
              "      <td>0.86630</td>\n",
              "      <td>0.6869</td>\n",
              "      <td>0.2575</td>\n",
              "      <td>0.6638</td>\n",
              "      <td>0.17300</td>\n",
              "      <td>0</td>\n",
              "    </tr>\n",
              "    <tr>\n",
              "      <th>4</th>\n",
              "      <td>20.29</td>\n",
              "      <td>14.34</td>\n",
              "      <td>135.10</td>\n",
              "      <td>1297.0</td>\n",
              "      <td>0.10030</td>\n",
              "      <td>0.13280</td>\n",
              "      <td>0.19800</td>\n",
              "      <td>0.10430</td>\n",
              "      <td>0.1809</td>\n",
              "      <td>0.05883</td>\n",
              "      <td>0.7572</td>\n",
              "      <td>0.7813</td>\n",
              "      <td>5.438</td>\n",
              "      <td>94.44</td>\n",
              "      <td>0.011490</td>\n",
              "      <td>0.02461</td>\n",
              "      <td>0.05688</td>\n",
              "      <td>0.01885</td>\n",
              "      <td>0.01756</td>\n",
              "      <td>0.005115</td>\n",
              "      <td>22.540</td>\n",
              "      <td>16.67</td>\n",
              "      <td>152.20</td>\n",
              "      <td>1575.0</td>\n",
              "      <td>0.13740</td>\n",
              "      <td>0.20500</td>\n",
              "      <td>0.4000</td>\n",
              "      <td>0.1625</td>\n",
              "      <td>0.2364</td>\n",
              "      <td>0.07678</td>\n",
              "      <td>0</td>\n",
              "    </tr>\n",
              "    <tr>\n",
              "      <th>...</th>\n",
              "      <td>...</td>\n",
              "      <td>...</td>\n",
              "      <td>...</td>\n",
              "      <td>...</td>\n",
              "      <td>...</td>\n",
              "      <td>...</td>\n",
              "      <td>...</td>\n",
              "      <td>...</td>\n",
              "      <td>...</td>\n",
              "      <td>...</td>\n",
              "      <td>...</td>\n",
              "      <td>...</td>\n",
              "      <td>...</td>\n",
              "      <td>...</td>\n",
              "      <td>...</td>\n",
              "      <td>...</td>\n",
              "      <td>...</td>\n",
              "      <td>...</td>\n",
              "      <td>...</td>\n",
              "      <td>...</td>\n",
              "      <td>...</td>\n",
              "      <td>...</td>\n",
              "      <td>...</td>\n",
              "      <td>...</td>\n",
              "      <td>...</td>\n",
              "      <td>...</td>\n",
              "      <td>...</td>\n",
              "      <td>...</td>\n",
              "      <td>...</td>\n",
              "      <td>...</td>\n",
              "      <td>...</td>\n",
              "    </tr>\n",
              "    <tr>\n",
              "      <th>564</th>\n",
              "      <td>21.56</td>\n",
              "      <td>22.39</td>\n",
              "      <td>142.00</td>\n",
              "      <td>1479.0</td>\n",
              "      <td>0.11100</td>\n",
              "      <td>0.11590</td>\n",
              "      <td>0.24390</td>\n",
              "      <td>0.13890</td>\n",
              "      <td>0.1726</td>\n",
              "      <td>0.05623</td>\n",
              "      <td>1.1760</td>\n",
              "      <td>1.2560</td>\n",
              "      <td>7.673</td>\n",
              "      <td>158.70</td>\n",
              "      <td>0.010300</td>\n",
              "      <td>0.02891</td>\n",
              "      <td>0.05198</td>\n",
              "      <td>0.02454</td>\n",
              "      <td>0.01114</td>\n",
              "      <td>0.004239</td>\n",
              "      <td>25.450</td>\n",
              "      <td>26.40</td>\n",
              "      <td>166.10</td>\n",
              "      <td>2027.0</td>\n",
              "      <td>0.14100</td>\n",
              "      <td>0.21130</td>\n",
              "      <td>0.4107</td>\n",
              "      <td>0.2216</td>\n",
              "      <td>0.2060</td>\n",
              "      <td>0.07115</td>\n",
              "      <td>0</td>\n",
              "    </tr>\n",
              "    <tr>\n",
              "      <th>565</th>\n",
              "      <td>20.13</td>\n",
              "      <td>28.25</td>\n",
              "      <td>131.20</td>\n",
              "      <td>1261.0</td>\n",
              "      <td>0.09780</td>\n",
              "      <td>0.10340</td>\n",
              "      <td>0.14400</td>\n",
              "      <td>0.09791</td>\n",
              "      <td>0.1752</td>\n",
              "      <td>0.05533</td>\n",
              "      <td>0.7655</td>\n",
              "      <td>2.4630</td>\n",
              "      <td>5.203</td>\n",
              "      <td>99.04</td>\n",
              "      <td>0.005769</td>\n",
              "      <td>0.02423</td>\n",
              "      <td>0.03950</td>\n",
              "      <td>0.01678</td>\n",
              "      <td>0.01898</td>\n",
              "      <td>0.002498</td>\n",
              "      <td>23.690</td>\n",
              "      <td>38.25</td>\n",
              "      <td>155.00</td>\n",
              "      <td>1731.0</td>\n",
              "      <td>0.11660</td>\n",
              "      <td>0.19220</td>\n",
              "      <td>0.3215</td>\n",
              "      <td>0.1628</td>\n",
              "      <td>0.2572</td>\n",
              "      <td>0.06637</td>\n",
              "      <td>0</td>\n",
              "    </tr>\n",
              "    <tr>\n",
              "      <th>566</th>\n",
              "      <td>16.60</td>\n",
              "      <td>28.08</td>\n",
              "      <td>108.30</td>\n",
              "      <td>858.1</td>\n",
              "      <td>0.08455</td>\n",
              "      <td>0.10230</td>\n",
              "      <td>0.09251</td>\n",
              "      <td>0.05302</td>\n",
              "      <td>0.1590</td>\n",
              "      <td>0.05648</td>\n",
              "      <td>0.4564</td>\n",
              "      <td>1.0750</td>\n",
              "      <td>3.425</td>\n",
              "      <td>48.55</td>\n",
              "      <td>0.005903</td>\n",
              "      <td>0.03731</td>\n",
              "      <td>0.04730</td>\n",
              "      <td>0.01557</td>\n",
              "      <td>0.01318</td>\n",
              "      <td>0.003892</td>\n",
              "      <td>18.980</td>\n",
              "      <td>34.12</td>\n",
              "      <td>126.70</td>\n",
              "      <td>1124.0</td>\n",
              "      <td>0.11390</td>\n",
              "      <td>0.30940</td>\n",
              "      <td>0.3403</td>\n",
              "      <td>0.1418</td>\n",
              "      <td>0.2218</td>\n",
              "      <td>0.07820</td>\n",
              "      <td>0</td>\n",
              "    </tr>\n",
              "    <tr>\n",
              "      <th>567</th>\n",
              "      <td>20.60</td>\n",
              "      <td>29.33</td>\n",
              "      <td>140.10</td>\n",
              "      <td>1265.0</td>\n",
              "      <td>0.11780</td>\n",
              "      <td>0.27700</td>\n",
              "      <td>0.35140</td>\n",
              "      <td>0.15200</td>\n",
              "      <td>0.2397</td>\n",
              "      <td>0.07016</td>\n",
              "      <td>0.7260</td>\n",
              "      <td>1.5950</td>\n",
              "      <td>5.772</td>\n",
              "      <td>86.22</td>\n",
              "      <td>0.006522</td>\n",
              "      <td>0.06158</td>\n",
              "      <td>0.07117</td>\n",
              "      <td>0.01664</td>\n",
              "      <td>0.02324</td>\n",
              "      <td>0.006185</td>\n",
              "      <td>25.740</td>\n",
              "      <td>39.42</td>\n",
              "      <td>184.60</td>\n",
              "      <td>1821.0</td>\n",
              "      <td>0.16500</td>\n",
              "      <td>0.86810</td>\n",
              "      <td>0.9387</td>\n",
              "      <td>0.2650</td>\n",
              "      <td>0.4087</td>\n",
              "      <td>0.12400</td>\n",
              "      <td>0</td>\n",
              "    </tr>\n",
              "    <tr>\n",
              "      <th>568</th>\n",
              "      <td>7.76</td>\n",
              "      <td>24.54</td>\n",
              "      <td>47.92</td>\n",
              "      <td>181.0</td>\n",
              "      <td>0.05263</td>\n",
              "      <td>0.04362</td>\n",
              "      <td>0.00000</td>\n",
              "      <td>0.00000</td>\n",
              "      <td>0.1587</td>\n",
              "      <td>0.05884</td>\n",
              "      <td>0.3857</td>\n",
              "      <td>1.4280</td>\n",
              "      <td>2.548</td>\n",
              "      <td>19.15</td>\n",
              "      <td>0.007189</td>\n",
              "      <td>0.00466</td>\n",
              "      <td>0.00000</td>\n",
              "      <td>0.00000</td>\n",
              "      <td>0.02676</td>\n",
              "      <td>0.002783</td>\n",
              "      <td>9.456</td>\n",
              "      <td>30.37</td>\n",
              "      <td>59.16</td>\n",
              "      <td>268.6</td>\n",
              "      <td>0.08996</td>\n",
              "      <td>0.06444</td>\n",
              "      <td>0.0000</td>\n",
              "      <td>0.0000</td>\n",
              "      <td>0.2871</td>\n",
              "      <td>0.07039</td>\n",
              "      <td>1</td>\n",
              "    </tr>\n",
              "  </tbody>\n",
              "</table>\n",
              "<p>569 rows × 31 columns</p>\n",
              "</div>"
            ],
            "text/plain": [
              "     mean radius  mean texture  ...  worst fractal dimension  target\n",
              "0          17.99         10.38  ...                  0.11890       0\n",
              "1          20.57         17.77  ...                  0.08902       0\n",
              "2          19.69         21.25  ...                  0.08758       0\n",
              "3          11.42         20.38  ...                  0.17300       0\n",
              "4          20.29         14.34  ...                  0.07678       0\n",
              "..           ...           ...  ...                      ...     ...\n",
              "564        21.56         22.39  ...                  0.07115       0\n",
              "565        20.13         28.25  ...                  0.06637       0\n",
              "566        16.60         28.08  ...                  0.07820       0\n",
              "567        20.60         29.33  ...                  0.12400       0\n",
              "568         7.76         24.54  ...                  0.07039       1\n",
              "\n",
              "[569 rows x 31 columns]"
            ]
          },
          "metadata": {
            "tags": []
          },
          "execution_count": 8
        }
      ]
    },
    {
      "cell_type": "markdown",
      "metadata": {
        "id": "nVOEYTg8jGJP"
      },
      "source": [
        "## 회귀를 위한 데이터"
      ]
    },
    {
      "cell_type": "markdown",
      "metadata": {
        "id": "XIFNH5GwjQA9"
      },
      "source": [
        "### 1. 보스턴 주택 가격 데이터"
      ]
    },
    {
      "cell_type": "code",
      "metadata": {
        "id": "wObgonUTjDOi"
      },
      "source": [
        "boston = load_boston()"
      ],
      "execution_count": 9,
      "outputs": []
    },
    {
      "cell_type": "code",
      "metadata": {
        "colab": {
          "base_uri": "https://localhost:8080/",
          "height": 419
        },
        "id": "z6rFoQ9NjU2m",
        "outputId": "484ce46e-658c-49fa-ff6c-66a8e16b245f"
      },
      "source": [
        "boston_df = pd.DataFrame(data = boston.data, columns = boston.feature_names)\n",
        "boston_df['target'] = boston.target\n",
        "boston_df"
      ],
      "execution_count": 10,
      "outputs": [
        {
          "output_type": "execute_result",
          "data": {
            "text/html": [
              "<div>\n",
              "<style scoped>\n",
              "    .dataframe tbody tr th:only-of-type {\n",
              "        vertical-align: middle;\n",
              "    }\n",
              "\n",
              "    .dataframe tbody tr th {\n",
              "        vertical-align: top;\n",
              "    }\n",
              "\n",
              "    .dataframe thead th {\n",
              "        text-align: right;\n",
              "    }\n",
              "</style>\n",
              "<table border=\"1\" class=\"dataframe\">\n",
              "  <thead>\n",
              "    <tr style=\"text-align: right;\">\n",
              "      <th></th>\n",
              "      <th>CRIM</th>\n",
              "      <th>ZN</th>\n",
              "      <th>INDUS</th>\n",
              "      <th>CHAS</th>\n",
              "      <th>NOX</th>\n",
              "      <th>RM</th>\n",
              "      <th>AGE</th>\n",
              "      <th>DIS</th>\n",
              "      <th>RAD</th>\n",
              "      <th>TAX</th>\n",
              "      <th>PTRATIO</th>\n",
              "      <th>B</th>\n",
              "      <th>LSTAT</th>\n",
              "      <th>target</th>\n",
              "    </tr>\n",
              "  </thead>\n",
              "  <tbody>\n",
              "    <tr>\n",
              "      <th>0</th>\n",
              "      <td>0.00632</td>\n",
              "      <td>18.0</td>\n",
              "      <td>2.31</td>\n",
              "      <td>0.0</td>\n",
              "      <td>0.538</td>\n",
              "      <td>6.575</td>\n",
              "      <td>65.2</td>\n",
              "      <td>4.0900</td>\n",
              "      <td>1.0</td>\n",
              "      <td>296.0</td>\n",
              "      <td>15.3</td>\n",
              "      <td>396.90</td>\n",
              "      <td>4.98</td>\n",
              "      <td>24.0</td>\n",
              "    </tr>\n",
              "    <tr>\n",
              "      <th>1</th>\n",
              "      <td>0.02731</td>\n",
              "      <td>0.0</td>\n",
              "      <td>7.07</td>\n",
              "      <td>0.0</td>\n",
              "      <td>0.469</td>\n",
              "      <td>6.421</td>\n",
              "      <td>78.9</td>\n",
              "      <td>4.9671</td>\n",
              "      <td>2.0</td>\n",
              "      <td>242.0</td>\n",
              "      <td>17.8</td>\n",
              "      <td>396.90</td>\n",
              "      <td>9.14</td>\n",
              "      <td>21.6</td>\n",
              "    </tr>\n",
              "    <tr>\n",
              "      <th>2</th>\n",
              "      <td>0.02729</td>\n",
              "      <td>0.0</td>\n",
              "      <td>7.07</td>\n",
              "      <td>0.0</td>\n",
              "      <td>0.469</td>\n",
              "      <td>7.185</td>\n",
              "      <td>61.1</td>\n",
              "      <td>4.9671</td>\n",
              "      <td>2.0</td>\n",
              "      <td>242.0</td>\n",
              "      <td>17.8</td>\n",
              "      <td>392.83</td>\n",
              "      <td>4.03</td>\n",
              "      <td>34.7</td>\n",
              "    </tr>\n",
              "    <tr>\n",
              "      <th>3</th>\n",
              "      <td>0.03237</td>\n",
              "      <td>0.0</td>\n",
              "      <td>2.18</td>\n",
              "      <td>0.0</td>\n",
              "      <td>0.458</td>\n",
              "      <td>6.998</td>\n",
              "      <td>45.8</td>\n",
              "      <td>6.0622</td>\n",
              "      <td>3.0</td>\n",
              "      <td>222.0</td>\n",
              "      <td>18.7</td>\n",
              "      <td>394.63</td>\n",
              "      <td>2.94</td>\n",
              "      <td>33.4</td>\n",
              "    </tr>\n",
              "    <tr>\n",
              "      <th>4</th>\n",
              "      <td>0.06905</td>\n",
              "      <td>0.0</td>\n",
              "      <td>2.18</td>\n",
              "      <td>0.0</td>\n",
              "      <td>0.458</td>\n",
              "      <td>7.147</td>\n",
              "      <td>54.2</td>\n",
              "      <td>6.0622</td>\n",
              "      <td>3.0</td>\n",
              "      <td>222.0</td>\n",
              "      <td>18.7</td>\n",
              "      <td>396.90</td>\n",
              "      <td>5.33</td>\n",
              "      <td>36.2</td>\n",
              "    </tr>\n",
              "    <tr>\n",
              "      <th>...</th>\n",
              "      <td>...</td>\n",
              "      <td>...</td>\n",
              "      <td>...</td>\n",
              "      <td>...</td>\n",
              "      <td>...</td>\n",
              "      <td>...</td>\n",
              "      <td>...</td>\n",
              "      <td>...</td>\n",
              "      <td>...</td>\n",
              "      <td>...</td>\n",
              "      <td>...</td>\n",
              "      <td>...</td>\n",
              "      <td>...</td>\n",
              "      <td>...</td>\n",
              "    </tr>\n",
              "    <tr>\n",
              "      <th>501</th>\n",
              "      <td>0.06263</td>\n",
              "      <td>0.0</td>\n",
              "      <td>11.93</td>\n",
              "      <td>0.0</td>\n",
              "      <td>0.573</td>\n",
              "      <td>6.593</td>\n",
              "      <td>69.1</td>\n",
              "      <td>2.4786</td>\n",
              "      <td>1.0</td>\n",
              "      <td>273.0</td>\n",
              "      <td>21.0</td>\n",
              "      <td>391.99</td>\n",
              "      <td>9.67</td>\n",
              "      <td>22.4</td>\n",
              "    </tr>\n",
              "    <tr>\n",
              "      <th>502</th>\n",
              "      <td>0.04527</td>\n",
              "      <td>0.0</td>\n",
              "      <td>11.93</td>\n",
              "      <td>0.0</td>\n",
              "      <td>0.573</td>\n",
              "      <td>6.120</td>\n",
              "      <td>76.7</td>\n",
              "      <td>2.2875</td>\n",
              "      <td>1.0</td>\n",
              "      <td>273.0</td>\n",
              "      <td>21.0</td>\n",
              "      <td>396.90</td>\n",
              "      <td>9.08</td>\n",
              "      <td>20.6</td>\n",
              "    </tr>\n",
              "    <tr>\n",
              "      <th>503</th>\n",
              "      <td>0.06076</td>\n",
              "      <td>0.0</td>\n",
              "      <td>11.93</td>\n",
              "      <td>0.0</td>\n",
              "      <td>0.573</td>\n",
              "      <td>6.976</td>\n",
              "      <td>91.0</td>\n",
              "      <td>2.1675</td>\n",
              "      <td>1.0</td>\n",
              "      <td>273.0</td>\n",
              "      <td>21.0</td>\n",
              "      <td>396.90</td>\n",
              "      <td>5.64</td>\n",
              "      <td>23.9</td>\n",
              "    </tr>\n",
              "    <tr>\n",
              "      <th>504</th>\n",
              "      <td>0.10959</td>\n",
              "      <td>0.0</td>\n",
              "      <td>11.93</td>\n",
              "      <td>0.0</td>\n",
              "      <td>0.573</td>\n",
              "      <td>6.794</td>\n",
              "      <td>89.3</td>\n",
              "      <td>2.3889</td>\n",
              "      <td>1.0</td>\n",
              "      <td>273.0</td>\n",
              "      <td>21.0</td>\n",
              "      <td>393.45</td>\n",
              "      <td>6.48</td>\n",
              "      <td>22.0</td>\n",
              "    </tr>\n",
              "    <tr>\n",
              "      <th>505</th>\n",
              "      <td>0.04741</td>\n",
              "      <td>0.0</td>\n",
              "      <td>11.93</td>\n",
              "      <td>0.0</td>\n",
              "      <td>0.573</td>\n",
              "      <td>6.030</td>\n",
              "      <td>80.8</td>\n",
              "      <td>2.5050</td>\n",
              "      <td>1.0</td>\n",
              "      <td>273.0</td>\n",
              "      <td>21.0</td>\n",
              "      <td>396.90</td>\n",
              "      <td>7.88</td>\n",
              "      <td>11.9</td>\n",
              "    </tr>\n",
              "  </tbody>\n",
              "</table>\n",
              "<p>506 rows × 14 columns</p>\n",
              "</div>"
            ],
            "text/plain": [
              "        CRIM    ZN  INDUS  CHAS    NOX  ...    TAX  PTRATIO       B  LSTAT  target\n",
              "0    0.00632  18.0   2.31   0.0  0.538  ...  296.0     15.3  396.90   4.98    24.0\n",
              "1    0.02731   0.0   7.07   0.0  0.469  ...  242.0     17.8  396.90   9.14    21.6\n",
              "2    0.02729   0.0   7.07   0.0  0.469  ...  242.0     17.8  392.83   4.03    34.7\n",
              "3    0.03237   0.0   2.18   0.0  0.458  ...  222.0     18.7  394.63   2.94    33.4\n",
              "4    0.06905   0.0   2.18   0.0  0.458  ...  222.0     18.7  396.90   5.33    36.2\n",
              "..       ...   ...    ...   ...    ...  ...    ...      ...     ...    ...     ...\n",
              "501  0.06263   0.0  11.93   0.0  0.573  ...  273.0     21.0  391.99   9.67    22.4\n",
              "502  0.04527   0.0  11.93   0.0  0.573  ...  273.0     21.0  396.90   9.08    20.6\n",
              "503  0.06076   0.0  11.93   0.0  0.573  ...  273.0     21.0  396.90   5.64    23.9\n",
              "504  0.10959   0.0  11.93   0.0  0.573  ...  273.0     21.0  393.45   6.48    22.0\n",
              "505  0.04741   0.0  11.93   0.0  0.573  ...  273.0     21.0  396.90   7.88    11.9\n",
              "\n",
              "[506 rows x 14 columns]"
            ]
          },
          "metadata": {
            "tags": []
          },
          "execution_count": 10
        }
      ]
    },
    {
      "cell_type": "markdown",
      "metadata": {
        "id": "3bZKp4XejvVK"
      },
      "source": [
        "### 2. 당뇨병 데이터"
      ]
    },
    {
      "cell_type": "code",
      "metadata": {
        "id": "qxD4YGZSjfJ5"
      },
      "source": [
        "diabetes = load_diabetes()"
      ],
      "execution_count": 11,
      "outputs": []
    },
    {
      "cell_type": "code",
      "metadata": {
        "colab": {
          "base_uri": "https://localhost:8080/",
          "height": 419
        },
        "id": "ouXJKtFHj110",
        "outputId": "196480b9-be2c-4097-a769-f747b20c2c67"
      },
      "source": [
        "diabetes_df = pd.DataFrame(data = diabetes.data, columns = diabetes.feature_names)\n",
        "diabetes_df['target'] = diabetes.target\n",
        "diabetes_df"
      ],
      "execution_count": 12,
      "outputs": [
        {
          "output_type": "execute_result",
          "data": {
            "text/html": [
              "<div>\n",
              "<style scoped>\n",
              "    .dataframe tbody tr th:only-of-type {\n",
              "        vertical-align: middle;\n",
              "    }\n",
              "\n",
              "    .dataframe tbody tr th {\n",
              "        vertical-align: top;\n",
              "    }\n",
              "\n",
              "    .dataframe thead th {\n",
              "        text-align: right;\n",
              "    }\n",
              "</style>\n",
              "<table border=\"1\" class=\"dataframe\">\n",
              "  <thead>\n",
              "    <tr style=\"text-align: right;\">\n",
              "      <th></th>\n",
              "      <th>age</th>\n",
              "      <th>sex</th>\n",
              "      <th>bmi</th>\n",
              "      <th>bp</th>\n",
              "      <th>s1</th>\n",
              "      <th>s2</th>\n",
              "      <th>s3</th>\n",
              "      <th>s4</th>\n",
              "      <th>s5</th>\n",
              "      <th>s6</th>\n",
              "      <th>target</th>\n",
              "    </tr>\n",
              "  </thead>\n",
              "  <tbody>\n",
              "    <tr>\n",
              "      <th>0</th>\n",
              "      <td>0.038076</td>\n",
              "      <td>0.050680</td>\n",
              "      <td>0.061696</td>\n",
              "      <td>0.021872</td>\n",
              "      <td>-0.044223</td>\n",
              "      <td>-0.034821</td>\n",
              "      <td>-0.043401</td>\n",
              "      <td>-0.002592</td>\n",
              "      <td>0.019908</td>\n",
              "      <td>-0.017646</td>\n",
              "      <td>151.0</td>\n",
              "    </tr>\n",
              "    <tr>\n",
              "      <th>1</th>\n",
              "      <td>-0.001882</td>\n",
              "      <td>-0.044642</td>\n",
              "      <td>-0.051474</td>\n",
              "      <td>-0.026328</td>\n",
              "      <td>-0.008449</td>\n",
              "      <td>-0.019163</td>\n",
              "      <td>0.074412</td>\n",
              "      <td>-0.039493</td>\n",
              "      <td>-0.068330</td>\n",
              "      <td>-0.092204</td>\n",
              "      <td>75.0</td>\n",
              "    </tr>\n",
              "    <tr>\n",
              "      <th>2</th>\n",
              "      <td>0.085299</td>\n",
              "      <td>0.050680</td>\n",
              "      <td>0.044451</td>\n",
              "      <td>-0.005671</td>\n",
              "      <td>-0.045599</td>\n",
              "      <td>-0.034194</td>\n",
              "      <td>-0.032356</td>\n",
              "      <td>-0.002592</td>\n",
              "      <td>0.002864</td>\n",
              "      <td>-0.025930</td>\n",
              "      <td>141.0</td>\n",
              "    </tr>\n",
              "    <tr>\n",
              "      <th>3</th>\n",
              "      <td>-0.089063</td>\n",
              "      <td>-0.044642</td>\n",
              "      <td>-0.011595</td>\n",
              "      <td>-0.036656</td>\n",
              "      <td>0.012191</td>\n",
              "      <td>0.024991</td>\n",
              "      <td>-0.036038</td>\n",
              "      <td>0.034309</td>\n",
              "      <td>0.022692</td>\n",
              "      <td>-0.009362</td>\n",
              "      <td>206.0</td>\n",
              "    </tr>\n",
              "    <tr>\n",
              "      <th>4</th>\n",
              "      <td>0.005383</td>\n",
              "      <td>-0.044642</td>\n",
              "      <td>-0.036385</td>\n",
              "      <td>0.021872</td>\n",
              "      <td>0.003935</td>\n",
              "      <td>0.015596</td>\n",
              "      <td>0.008142</td>\n",
              "      <td>-0.002592</td>\n",
              "      <td>-0.031991</td>\n",
              "      <td>-0.046641</td>\n",
              "      <td>135.0</td>\n",
              "    </tr>\n",
              "    <tr>\n",
              "      <th>...</th>\n",
              "      <td>...</td>\n",
              "      <td>...</td>\n",
              "      <td>...</td>\n",
              "      <td>...</td>\n",
              "      <td>...</td>\n",
              "      <td>...</td>\n",
              "      <td>...</td>\n",
              "      <td>...</td>\n",
              "      <td>...</td>\n",
              "      <td>...</td>\n",
              "      <td>...</td>\n",
              "    </tr>\n",
              "    <tr>\n",
              "      <th>437</th>\n",
              "      <td>0.041708</td>\n",
              "      <td>0.050680</td>\n",
              "      <td>0.019662</td>\n",
              "      <td>0.059744</td>\n",
              "      <td>-0.005697</td>\n",
              "      <td>-0.002566</td>\n",
              "      <td>-0.028674</td>\n",
              "      <td>-0.002592</td>\n",
              "      <td>0.031193</td>\n",
              "      <td>0.007207</td>\n",
              "      <td>178.0</td>\n",
              "    </tr>\n",
              "    <tr>\n",
              "      <th>438</th>\n",
              "      <td>-0.005515</td>\n",
              "      <td>0.050680</td>\n",
              "      <td>-0.015906</td>\n",
              "      <td>-0.067642</td>\n",
              "      <td>0.049341</td>\n",
              "      <td>0.079165</td>\n",
              "      <td>-0.028674</td>\n",
              "      <td>0.034309</td>\n",
              "      <td>-0.018118</td>\n",
              "      <td>0.044485</td>\n",
              "      <td>104.0</td>\n",
              "    </tr>\n",
              "    <tr>\n",
              "      <th>439</th>\n",
              "      <td>0.041708</td>\n",
              "      <td>0.050680</td>\n",
              "      <td>-0.015906</td>\n",
              "      <td>0.017282</td>\n",
              "      <td>-0.037344</td>\n",
              "      <td>-0.013840</td>\n",
              "      <td>-0.024993</td>\n",
              "      <td>-0.011080</td>\n",
              "      <td>-0.046879</td>\n",
              "      <td>0.015491</td>\n",
              "      <td>132.0</td>\n",
              "    </tr>\n",
              "    <tr>\n",
              "      <th>440</th>\n",
              "      <td>-0.045472</td>\n",
              "      <td>-0.044642</td>\n",
              "      <td>0.039062</td>\n",
              "      <td>0.001215</td>\n",
              "      <td>0.016318</td>\n",
              "      <td>0.015283</td>\n",
              "      <td>-0.028674</td>\n",
              "      <td>0.026560</td>\n",
              "      <td>0.044528</td>\n",
              "      <td>-0.025930</td>\n",
              "      <td>220.0</td>\n",
              "    </tr>\n",
              "    <tr>\n",
              "      <th>441</th>\n",
              "      <td>-0.045472</td>\n",
              "      <td>-0.044642</td>\n",
              "      <td>-0.073030</td>\n",
              "      <td>-0.081414</td>\n",
              "      <td>0.083740</td>\n",
              "      <td>0.027809</td>\n",
              "      <td>0.173816</td>\n",
              "      <td>-0.039493</td>\n",
              "      <td>-0.004220</td>\n",
              "      <td>0.003064</td>\n",
              "      <td>57.0</td>\n",
              "    </tr>\n",
              "  </tbody>\n",
              "</table>\n",
              "<p>442 rows × 11 columns</p>\n",
              "</div>"
            ],
            "text/plain": [
              "          age       sex       bmi  ...        s5        s6  target\n",
              "0    0.038076  0.050680  0.061696  ...  0.019908 -0.017646   151.0\n",
              "1   -0.001882 -0.044642 -0.051474  ... -0.068330 -0.092204    75.0\n",
              "2    0.085299  0.050680  0.044451  ...  0.002864 -0.025930   141.0\n",
              "3   -0.089063 -0.044642 -0.011595  ...  0.022692 -0.009362   206.0\n",
              "4    0.005383 -0.044642 -0.036385  ... -0.031991 -0.046641   135.0\n",
              "..        ...       ...       ...  ...       ...       ...     ...\n",
              "437  0.041708  0.050680  0.019662  ...  0.031193  0.007207   178.0\n",
              "438 -0.005515  0.050680 -0.015906  ... -0.018118  0.044485   104.0\n",
              "439  0.041708  0.050680 -0.015906  ... -0.046879  0.015491   132.0\n",
              "440 -0.045472 -0.044642  0.039062  ...  0.044528 -0.025930   220.0\n",
              "441 -0.045472 -0.044642 -0.073030  ... -0.004220  0.003064    57.0\n",
              "\n",
              "[442 rows x 11 columns]"
            ]
          },
          "metadata": {
            "tags": []
          },
          "execution_count": 12
        }
      ]
    },
    {
      "cell_type": "markdown",
      "metadata": {
        "id": "nc-u1tpJkErY"
      },
      "source": [
        "## 분류 - DecisionTreeClassifier()\n",
        "- DecisionTreeClassifier는 분류를 위한 결정트리 모델\n",
        "- 두개의 배열 X, y를 입력 받음\n",
        "  - X는 [n_samples, n_features] 크기의 데이터 특성 배열\n",
        "  - y는 [n_samples] 크기의 정답 배열"
      ]
    },
    {
      "cell_type": "code",
      "metadata": {
        "colab": {
          "base_uri": "https://localhost:8080/"
        },
        "id": "RnQAVUCsj_Yc",
        "outputId": "8e6e60f1-22c7-4561-e688-ebccb986af44"
      },
      "source": [
        "X = [[0, 0], [1, 1]]\n",
        "y = [0, 1]\n",
        "\n",
        "model = tree.DecisionTreeClassifier()\n",
        "model.fit(X, y)"
      ],
      "execution_count": 13,
      "outputs": [
        {
          "output_type": "execute_result",
          "data": {
            "text/plain": [
              "DecisionTreeClassifier(ccp_alpha=0.0, class_weight=None, criterion='gini',\n",
              "                       max_depth=None, max_features=None, max_leaf_nodes=None,\n",
              "                       min_impurity_decrease=0.0, min_impurity_split=None,\n",
              "                       min_samples_leaf=1, min_samples_split=2,\n",
              "                       min_weight_fraction_leaf=0.0, presort='deprecated',\n",
              "                       random_state=None, splitter='best')"
            ]
          },
          "metadata": {
            "tags": []
          },
          "execution_count": 13
        }
      ]
    },
    {
      "cell_type": "code",
      "metadata": {
        "colab": {
          "base_uri": "https://localhost:8080/"
        },
        "id": "Oywp7cpkkyDC",
        "outputId": "b068971a-2a68-4931-d1e0-f7d784923820"
      },
      "source": [
        "model.predict([[2.,2.]])"
      ],
      "execution_count": 14,
      "outputs": [
        {
          "output_type": "execute_result",
          "data": {
            "text/plain": [
              "array([1])"
            ]
          },
          "metadata": {
            "tags": []
          },
          "execution_count": 14
        }
      ]
    },
    {
      "cell_type": "code",
      "metadata": {
        "colab": {
          "base_uri": "https://localhost:8080/"
        },
        "id": "pg5tSwOSk1Mj",
        "outputId": "06f2e5bc-318f-4918-bc0f-58afd136b79b"
      },
      "source": [
        "# 불확실성을 추정할 수 있는 함수\n",
        "# 출력은 각 클래스에 대한 확률\n",
        "# 확률이기 때문에 predict_proba의 출력은 항상 0과 1 사이의 값이며 두 클래스에 대한 확률의 합은 항상 1입니다.\n",
        "model.predict_proba([[2.,2.]])"
      ],
      "execution_count": 15,
      "outputs": [
        {
          "output_type": "execute_result",
          "data": {
            "text/plain": [
              "array([[0., 1.]])"
            ]
          },
          "metadata": {
            "tags": []
          },
          "execution_count": 15
        }
      ]
    },
    {
      "cell_type": "markdown",
      "metadata": {
        "id": "apnZIG5-mR4Z"
      },
      "source": [
        "## Iris 데이터 학습"
      ]
    },
    {
      "cell_type": "markdown",
      "metadata": {
        "id": "SC2Vxdcomali"
      },
      "source": [
        "#### 1. 전처리 없이 학습"
      ]
    },
    {
      "cell_type": "code",
      "metadata": {
        "id": "7QuvcNeZk8qC"
      },
      "source": [
        "model = DecisionTreeClassifier"
      ],
      "execution_count": 16,
      "outputs": []
    },
    {
      "cell_type": "code",
      "metadata": {
        "id": "coQd1T_Kmlez",
        "colab": {
          "base_uri": "https://localhost:8080/",
          "height": 443
        },
        "outputId": "1e3360c5-29d2-40f1-83ac-6b30cc8ecbd7"
      },
      "source": [
        "\"\"\"\n",
        "교차 검증\n",
        "- k=5일 때, 데이터를 5개의 부분 집합으로 분할한 후, 각 분할마다 하나의 폴드를 테스트용으로 사용하고 나머지 4개의 폴드는 훈련용으로 쓴다. \n",
        "- 이 과정을 반복하여 각 분할마다 정확도를 측정한다.\n",
        "\"\"\"\n",
        "cross_val = cross_val_score(\n",
        "    estimator = model,\n",
        "    X = iris.data,\n",
        "    y = iris.target,\n",
        "    cv = 5, # cross validation\n",
        "    n_jobs = multiprocessing.cpu_count()\n",
        ")"
      ],
      "execution_count": 17,
      "outputs": [
        {
          "output_type": "error",
          "ename": "TypeError",
          "evalue": "ignored",
          "traceback": [
            "\u001b[0;31m---------------------------------------------------------------------------\u001b[0m",
            "\u001b[0;31mEmpty\u001b[0m                                     Traceback (most recent call last)",
            "\u001b[0;32m/usr/local/lib/python3.7/dist-packages/joblib/parallel.py\u001b[0m in \u001b[0;36mdispatch_one_batch\u001b[0;34m(self, iterator)\u001b[0m\n\u001b[1;32m    819\u001b[0m             \u001b[0;32mtry\u001b[0m\u001b[0;34m:\u001b[0m\u001b[0;34m\u001b[0m\u001b[0;34m\u001b[0m\u001b[0m\n\u001b[0;32m--> 820\u001b[0;31m                 \u001b[0mtasks\u001b[0m \u001b[0;34m=\u001b[0m \u001b[0mself\u001b[0m\u001b[0;34m.\u001b[0m\u001b[0m_ready_batches\u001b[0m\u001b[0;34m.\u001b[0m\u001b[0mget\u001b[0m\u001b[0;34m(\u001b[0m\u001b[0mblock\u001b[0m\u001b[0;34m=\u001b[0m\u001b[0;32mFalse\u001b[0m\u001b[0;34m)\u001b[0m\u001b[0;34m\u001b[0m\u001b[0;34m\u001b[0m\u001b[0m\n\u001b[0m\u001b[1;32m    821\u001b[0m             \u001b[0;32mexcept\u001b[0m \u001b[0mqueue\u001b[0m\u001b[0;34m.\u001b[0m\u001b[0mEmpty\u001b[0m\u001b[0;34m:\u001b[0m\u001b[0;34m\u001b[0m\u001b[0;34m\u001b[0m\u001b[0m\n",
            "\u001b[0;32m/usr/lib/python3.7/queue.py\u001b[0m in \u001b[0;36mget\u001b[0;34m(self, block, timeout)\u001b[0m\n\u001b[1;32m    166\u001b[0m                 \u001b[0;32mif\u001b[0m \u001b[0;32mnot\u001b[0m \u001b[0mself\u001b[0m\u001b[0;34m.\u001b[0m\u001b[0m_qsize\u001b[0m\u001b[0;34m(\u001b[0m\u001b[0;34m)\u001b[0m\u001b[0;34m:\u001b[0m\u001b[0;34m\u001b[0m\u001b[0;34m\u001b[0m\u001b[0m\n\u001b[0;32m--> 167\u001b[0;31m                     \u001b[0;32mraise\u001b[0m \u001b[0mEmpty\u001b[0m\u001b[0;34m\u001b[0m\u001b[0;34m\u001b[0m\u001b[0m\n\u001b[0m\u001b[1;32m    168\u001b[0m             \u001b[0;32melif\u001b[0m \u001b[0mtimeout\u001b[0m \u001b[0;32mis\u001b[0m \u001b[0;32mNone\u001b[0m\u001b[0;34m:\u001b[0m\u001b[0;34m\u001b[0m\u001b[0;34m\u001b[0m\u001b[0m\n",
            "\u001b[0;31mEmpty\u001b[0m: ",
            "\nDuring handling of the above exception, another exception occurred:\n",
            "\u001b[0;31mTypeError\u001b[0m                                 Traceback (most recent call last)",
            "\u001b[0;32m<ipython-input-17-a3618f3e38b6>\u001b[0m in \u001b[0;36m<module>\u001b[0;34m()\u001b[0m\n\u001b[1;32m      9\u001b[0m     \u001b[0my\u001b[0m \u001b[0;34m=\u001b[0m \u001b[0miris\u001b[0m\u001b[0;34m.\u001b[0m\u001b[0mtarget\u001b[0m\u001b[0;34m,\u001b[0m\u001b[0;34m\u001b[0m\u001b[0;34m\u001b[0m\u001b[0m\n\u001b[1;32m     10\u001b[0m     \u001b[0mcv\u001b[0m \u001b[0;34m=\u001b[0m \u001b[0;36m5\u001b[0m\u001b[0;34m,\u001b[0m \u001b[0;31m# cross validation\u001b[0m\u001b[0;34m\u001b[0m\u001b[0;34m\u001b[0m\u001b[0m\n\u001b[0;32m---> 11\u001b[0;31m     \u001b[0mn_jobs\u001b[0m \u001b[0;34m=\u001b[0m \u001b[0mmultiprocessing\u001b[0m\u001b[0;34m.\u001b[0m\u001b[0mcpu_count\u001b[0m\u001b[0;34m(\u001b[0m\u001b[0;34m)\u001b[0m\u001b[0;34m\u001b[0m\u001b[0;34m\u001b[0m\u001b[0m\n\u001b[0m\u001b[1;32m     12\u001b[0m )\n",
            "\u001b[0;32m/usr/local/lib/python3.7/dist-packages/sklearn/model_selection/_validation.py\u001b[0m in \u001b[0;36mcross_val_score\u001b[0;34m(estimator, X, y, groups, scoring, cv, n_jobs, verbose, fit_params, pre_dispatch, error_score)\u001b[0m\n\u001b[1;32m    388\u001b[0m                                 \u001b[0mfit_params\u001b[0m\u001b[0;34m=\u001b[0m\u001b[0mfit_params\u001b[0m\u001b[0;34m,\u001b[0m\u001b[0;34m\u001b[0m\u001b[0;34m\u001b[0m\u001b[0m\n\u001b[1;32m    389\u001b[0m                                 \u001b[0mpre_dispatch\u001b[0m\u001b[0;34m=\u001b[0m\u001b[0mpre_dispatch\u001b[0m\u001b[0;34m,\u001b[0m\u001b[0;34m\u001b[0m\u001b[0;34m\u001b[0m\u001b[0m\n\u001b[0;32m--> 390\u001b[0;31m                                 error_score=error_score)\n\u001b[0m\u001b[1;32m    391\u001b[0m     \u001b[0;32mreturn\u001b[0m \u001b[0mcv_results\u001b[0m\u001b[0;34m[\u001b[0m\u001b[0;34m'test_score'\u001b[0m\u001b[0;34m]\u001b[0m\u001b[0;34m\u001b[0m\u001b[0;34m\u001b[0m\u001b[0m\n\u001b[1;32m    392\u001b[0m \u001b[0;34m\u001b[0m\u001b[0m\n",
            "\u001b[0;32m/usr/local/lib/python3.7/dist-packages/sklearn/model_selection/_validation.py\u001b[0m in \u001b[0;36mcross_validate\u001b[0;34m(estimator, X, y, groups, scoring, cv, n_jobs, verbose, fit_params, pre_dispatch, return_train_score, return_estimator, error_score)\u001b[0m\n\u001b[1;32m    234\u001b[0m             \u001b[0mreturn_times\u001b[0m\u001b[0;34m=\u001b[0m\u001b[0;32mTrue\u001b[0m\u001b[0;34m,\u001b[0m \u001b[0mreturn_estimator\u001b[0m\u001b[0;34m=\u001b[0m\u001b[0mreturn_estimator\u001b[0m\u001b[0;34m,\u001b[0m\u001b[0;34m\u001b[0m\u001b[0;34m\u001b[0m\u001b[0m\n\u001b[1;32m    235\u001b[0m             error_score=error_score)\n\u001b[0;32m--> 236\u001b[0;31m         for train, test in cv.split(X, y, groups))\n\u001b[0m\u001b[1;32m    237\u001b[0m \u001b[0;34m\u001b[0m\u001b[0m\n\u001b[1;32m    238\u001b[0m     \u001b[0mzipped_scores\u001b[0m \u001b[0;34m=\u001b[0m \u001b[0mlist\u001b[0m\u001b[0;34m(\u001b[0m\u001b[0mzip\u001b[0m\u001b[0;34m(\u001b[0m\u001b[0;34m*\u001b[0m\u001b[0mscores\u001b[0m\u001b[0;34m)\u001b[0m\u001b[0;34m)\u001b[0m\u001b[0;34m\u001b[0m\u001b[0;34m\u001b[0m\u001b[0m\n",
            "\u001b[0;32m/usr/local/lib/python3.7/dist-packages/joblib/parallel.py\u001b[0m in \u001b[0;36m__call__\u001b[0;34m(self, iterable)\u001b[0m\n\u001b[1;32m   1039\u001b[0m             \u001b[0;31m# remaining jobs.\u001b[0m\u001b[0;34m\u001b[0m\u001b[0;34m\u001b[0m\u001b[0;34m\u001b[0m\u001b[0m\n\u001b[1;32m   1040\u001b[0m             \u001b[0mself\u001b[0m\u001b[0;34m.\u001b[0m\u001b[0m_iterating\u001b[0m \u001b[0;34m=\u001b[0m \u001b[0;32mFalse\u001b[0m\u001b[0;34m\u001b[0m\u001b[0;34m\u001b[0m\u001b[0m\n\u001b[0;32m-> 1041\u001b[0;31m             \u001b[0;32mif\u001b[0m \u001b[0mself\u001b[0m\u001b[0;34m.\u001b[0m\u001b[0mdispatch_one_batch\u001b[0m\u001b[0;34m(\u001b[0m\u001b[0miterator\u001b[0m\u001b[0;34m)\u001b[0m\u001b[0;34m:\u001b[0m\u001b[0;34m\u001b[0m\u001b[0;34m\u001b[0m\u001b[0m\n\u001b[0m\u001b[1;32m   1042\u001b[0m                 \u001b[0mself\u001b[0m\u001b[0;34m.\u001b[0m\u001b[0m_iterating\u001b[0m \u001b[0;34m=\u001b[0m \u001b[0mself\u001b[0m\u001b[0;34m.\u001b[0m\u001b[0m_original_iterator\u001b[0m \u001b[0;32mis\u001b[0m \u001b[0;32mnot\u001b[0m \u001b[0;32mNone\u001b[0m\u001b[0;34m\u001b[0m\u001b[0;34m\u001b[0m\u001b[0m\n\u001b[1;32m   1043\u001b[0m \u001b[0;34m\u001b[0m\u001b[0m\n",
            "\u001b[0;32m/usr/local/lib/python3.7/dist-packages/joblib/parallel.py\u001b[0m in \u001b[0;36mdispatch_one_batch\u001b[0;34m(self, iterator)\u001b[0m\n\u001b[1;32m    829\u001b[0m                 \u001b[0mbig_batch_size\u001b[0m \u001b[0;34m=\u001b[0m \u001b[0mbatch_size\u001b[0m \u001b[0;34m*\u001b[0m \u001b[0mn_jobs\u001b[0m\u001b[0;34m\u001b[0m\u001b[0;34m\u001b[0m\u001b[0m\n\u001b[1;32m    830\u001b[0m \u001b[0;34m\u001b[0m\u001b[0m\n\u001b[0;32m--> 831\u001b[0;31m                 \u001b[0mislice\u001b[0m \u001b[0;34m=\u001b[0m \u001b[0mlist\u001b[0m\u001b[0;34m(\u001b[0m\u001b[0mitertools\u001b[0m\u001b[0;34m.\u001b[0m\u001b[0mislice\u001b[0m\u001b[0;34m(\u001b[0m\u001b[0miterator\u001b[0m\u001b[0;34m,\u001b[0m \u001b[0mbig_batch_size\u001b[0m\u001b[0;34m)\u001b[0m\u001b[0;34m)\u001b[0m\u001b[0;34m\u001b[0m\u001b[0;34m\u001b[0m\u001b[0m\n\u001b[0m\u001b[1;32m    832\u001b[0m                 \u001b[0;32mif\u001b[0m \u001b[0mlen\u001b[0m\u001b[0;34m(\u001b[0m\u001b[0mislice\u001b[0m\u001b[0;34m)\u001b[0m \u001b[0;34m==\u001b[0m \u001b[0;36m0\u001b[0m\u001b[0;34m:\u001b[0m\u001b[0;34m\u001b[0m\u001b[0;34m\u001b[0m\u001b[0m\n\u001b[1;32m    833\u001b[0m                     \u001b[0;32mreturn\u001b[0m \u001b[0;32mFalse\u001b[0m\u001b[0;34m\u001b[0m\u001b[0;34m\u001b[0m\u001b[0m\n",
            "\u001b[0;32m/usr/local/lib/python3.7/dist-packages/sklearn/model_selection/_validation.py\u001b[0m in \u001b[0;36m<genexpr>\u001b[0;34m(.0)\u001b[0m\n\u001b[1;32m    234\u001b[0m             \u001b[0mreturn_times\u001b[0m\u001b[0;34m=\u001b[0m\u001b[0;32mTrue\u001b[0m\u001b[0;34m,\u001b[0m \u001b[0mreturn_estimator\u001b[0m\u001b[0;34m=\u001b[0m\u001b[0mreturn_estimator\u001b[0m\u001b[0;34m,\u001b[0m\u001b[0;34m\u001b[0m\u001b[0;34m\u001b[0m\u001b[0m\n\u001b[1;32m    235\u001b[0m             error_score=error_score)\n\u001b[0;32m--> 236\u001b[0;31m         for train, test in cv.split(X, y, groups))\n\u001b[0m\u001b[1;32m    237\u001b[0m \u001b[0;34m\u001b[0m\u001b[0m\n\u001b[1;32m    238\u001b[0m     \u001b[0mzipped_scores\u001b[0m \u001b[0;34m=\u001b[0m \u001b[0mlist\u001b[0m\u001b[0;34m(\u001b[0m\u001b[0mzip\u001b[0m\u001b[0;34m(\u001b[0m\u001b[0;34m*\u001b[0m\u001b[0mscores\u001b[0m\u001b[0;34m)\u001b[0m\u001b[0;34m)\u001b[0m\u001b[0;34m\u001b[0m\u001b[0;34m\u001b[0m\u001b[0m\n",
            "\u001b[0;32m/usr/local/lib/python3.7/dist-packages/sklearn/base.py\u001b[0m in \u001b[0;36mclone\u001b[0;34m(estimator, safe)\u001b[0m\n\u001b[1;32m     65\u001b[0m                             \u001b[0;34m\"it does not seem to be a scikit-learn estimator \"\u001b[0m\u001b[0;34m\u001b[0m\u001b[0;34m\u001b[0m\u001b[0m\n\u001b[1;32m     66\u001b[0m                             \u001b[0;34m\"as it does not implement a 'get_params' methods.\"\u001b[0m\u001b[0;34m\u001b[0m\u001b[0;34m\u001b[0m\u001b[0m\n\u001b[0;32m---> 67\u001b[0;31m                             % (repr(estimator), type(estimator)))\n\u001b[0m\u001b[1;32m     68\u001b[0m     \u001b[0mklass\u001b[0m \u001b[0;34m=\u001b[0m \u001b[0mestimator\u001b[0m\u001b[0;34m.\u001b[0m\u001b[0m__class__\u001b[0m\u001b[0;34m\u001b[0m\u001b[0;34m\u001b[0m\u001b[0m\n\u001b[1;32m     69\u001b[0m     \u001b[0mnew_object_params\u001b[0m \u001b[0;34m=\u001b[0m \u001b[0mestimator\u001b[0m\u001b[0;34m.\u001b[0m\u001b[0mget_params\u001b[0m\u001b[0;34m(\u001b[0m\u001b[0mdeep\u001b[0m\u001b[0;34m=\u001b[0m\u001b[0;32mFalse\u001b[0m\u001b[0;34m)\u001b[0m\u001b[0;34m\u001b[0m\u001b[0;34m\u001b[0m\u001b[0m\n",
            "\u001b[0;31mTypeError\u001b[0m: Cannot clone object '<class 'sklearn.tree._classes.DecisionTreeClassifier'>' (type <class 'abc.ABCMeta'>): it does not seem to be a scikit-learn estimator as it does not implement a 'get_params' methods."
          ]
        }
      ]
    },
    {
      "cell_type": "code",
      "metadata": {
        "colab": {
          "base_uri": "https://localhost:8080/",
          "height": 181
        },
        "id": "T9vGxffqyIl6",
        "outputId": "560673c1-2c9b-4668-a339-05fcf8e9afa0"
      },
      "source": [
        "# 교차 검증 평균\n",
        "cross_val.mean()"
      ],
      "execution_count": 18,
      "outputs": [
        {
          "output_type": "error",
          "ename": "NameError",
          "evalue": "ignored",
          "traceback": [
            "\u001b[0;31m---------------------------------------------------------------------------\u001b[0m",
            "\u001b[0;31mNameError\u001b[0m                                 Traceback (most recent call last)",
            "\u001b[0;32m<ipython-input-18-3b11547b12a2>\u001b[0m in \u001b[0;36m<module>\u001b[0;34m()\u001b[0m\n\u001b[1;32m      1\u001b[0m \u001b[0;31m# 교차 검증 평균\u001b[0m\u001b[0;34m\u001b[0m\u001b[0;34m\u001b[0m\u001b[0;34m\u001b[0m\u001b[0m\n\u001b[0;32m----> 2\u001b[0;31m \u001b[0mcross_val\u001b[0m\u001b[0;34m.\u001b[0m\u001b[0mmean\u001b[0m\u001b[0;34m(\u001b[0m\u001b[0;34m)\u001b[0m\u001b[0;34m\u001b[0m\u001b[0;34m\u001b[0m\u001b[0m\n\u001b[0m",
            "\u001b[0;31mNameError\u001b[0m: name 'cross_val' is not defined"
          ]
        }
      ]
    },
    {
      "cell_type": "markdown",
      "metadata": {
        "id": "Szf6W1YlmdiP"
      },
      "source": [
        "#### 2. 전처리 후 학습\n",
        "- Decision tree는 규칙을 학습하기 때문에 전처리에 큰 영향을 받지 않는다."
      ]
    },
    {
      "cell_type": "code",
      "metadata": {
        "id": "0he6KD46mdAh"
      },
      "source": [
        "model = make_pipeline(\n",
        "    StandardScaler(),\n",
        "    DecisionTreeClassifier()\n",
        ")"
      ],
      "execution_count": null,
      "outputs": []
    },
    {
      "cell_type": "code",
      "metadata": {
        "id": "DMq4fnI-nZQD",
        "colab": {
          "base_uri": "https://localhost:8080/",
          "height": 443
        },
        "outputId": "8687899d-de68-4dd6-a380-ec0dcf7625ad"
      },
      "source": [
        "cross_val = cross_val_score(\n",
        "    estimator = model,\n",
        "    X = iris.data,\n",
        "    y = iris.target,\n",
        "    cv = 5, # cross validation\n",
        "    n_jobs = multiprocessing.cpu_count()\n",
        ")"
      ],
      "execution_count": 19,
      "outputs": [
        {
          "output_type": "error",
          "ename": "TypeError",
          "evalue": "ignored",
          "traceback": [
            "\u001b[0;31m---------------------------------------------------------------------------\u001b[0m",
            "\u001b[0;31mEmpty\u001b[0m                                     Traceback (most recent call last)",
            "\u001b[0;32m/usr/local/lib/python3.7/dist-packages/joblib/parallel.py\u001b[0m in \u001b[0;36mdispatch_one_batch\u001b[0;34m(self, iterator)\u001b[0m\n\u001b[1;32m    819\u001b[0m             \u001b[0;32mtry\u001b[0m\u001b[0;34m:\u001b[0m\u001b[0;34m\u001b[0m\u001b[0;34m\u001b[0m\u001b[0m\n\u001b[0;32m--> 820\u001b[0;31m                 \u001b[0mtasks\u001b[0m \u001b[0;34m=\u001b[0m \u001b[0mself\u001b[0m\u001b[0;34m.\u001b[0m\u001b[0m_ready_batches\u001b[0m\u001b[0;34m.\u001b[0m\u001b[0mget\u001b[0m\u001b[0;34m(\u001b[0m\u001b[0mblock\u001b[0m\u001b[0;34m=\u001b[0m\u001b[0;32mFalse\u001b[0m\u001b[0;34m)\u001b[0m\u001b[0;34m\u001b[0m\u001b[0;34m\u001b[0m\u001b[0m\n\u001b[0m\u001b[1;32m    821\u001b[0m             \u001b[0;32mexcept\u001b[0m \u001b[0mqueue\u001b[0m\u001b[0;34m.\u001b[0m\u001b[0mEmpty\u001b[0m\u001b[0;34m:\u001b[0m\u001b[0;34m\u001b[0m\u001b[0;34m\u001b[0m\u001b[0m\n",
            "\u001b[0;32m/usr/lib/python3.7/queue.py\u001b[0m in \u001b[0;36mget\u001b[0;34m(self, block, timeout)\u001b[0m\n\u001b[1;32m    166\u001b[0m                 \u001b[0;32mif\u001b[0m \u001b[0;32mnot\u001b[0m \u001b[0mself\u001b[0m\u001b[0;34m.\u001b[0m\u001b[0m_qsize\u001b[0m\u001b[0;34m(\u001b[0m\u001b[0;34m)\u001b[0m\u001b[0;34m:\u001b[0m\u001b[0;34m\u001b[0m\u001b[0;34m\u001b[0m\u001b[0m\n\u001b[0;32m--> 167\u001b[0;31m                     \u001b[0;32mraise\u001b[0m \u001b[0mEmpty\u001b[0m\u001b[0;34m\u001b[0m\u001b[0;34m\u001b[0m\u001b[0m\n\u001b[0m\u001b[1;32m    168\u001b[0m             \u001b[0;32melif\u001b[0m \u001b[0mtimeout\u001b[0m \u001b[0;32mis\u001b[0m \u001b[0;32mNone\u001b[0m\u001b[0;34m:\u001b[0m\u001b[0;34m\u001b[0m\u001b[0;34m\u001b[0m\u001b[0m\n",
            "\u001b[0;31mEmpty\u001b[0m: ",
            "\nDuring handling of the above exception, another exception occurred:\n",
            "\u001b[0;31mTypeError\u001b[0m                                 Traceback (most recent call last)",
            "\u001b[0;32m<ipython-input-19-6a57cbd3db57>\u001b[0m in \u001b[0;36m<module>\u001b[0;34m()\u001b[0m\n\u001b[1;32m      4\u001b[0m     \u001b[0my\u001b[0m \u001b[0;34m=\u001b[0m \u001b[0miris\u001b[0m\u001b[0;34m.\u001b[0m\u001b[0mtarget\u001b[0m\u001b[0;34m,\u001b[0m\u001b[0;34m\u001b[0m\u001b[0;34m\u001b[0m\u001b[0m\n\u001b[1;32m      5\u001b[0m     \u001b[0mcv\u001b[0m \u001b[0;34m=\u001b[0m \u001b[0;36m5\u001b[0m\u001b[0;34m,\u001b[0m \u001b[0;31m# cross validation\u001b[0m\u001b[0;34m\u001b[0m\u001b[0;34m\u001b[0m\u001b[0m\n\u001b[0;32m----> 6\u001b[0;31m     \u001b[0mn_jobs\u001b[0m \u001b[0;34m=\u001b[0m \u001b[0mmultiprocessing\u001b[0m\u001b[0;34m.\u001b[0m\u001b[0mcpu_count\u001b[0m\u001b[0;34m(\u001b[0m\u001b[0;34m)\u001b[0m\u001b[0;34m\u001b[0m\u001b[0;34m\u001b[0m\u001b[0m\n\u001b[0m\u001b[1;32m      7\u001b[0m )\n",
            "\u001b[0;32m/usr/local/lib/python3.7/dist-packages/sklearn/model_selection/_validation.py\u001b[0m in \u001b[0;36mcross_val_score\u001b[0;34m(estimator, X, y, groups, scoring, cv, n_jobs, verbose, fit_params, pre_dispatch, error_score)\u001b[0m\n\u001b[1;32m    388\u001b[0m                                 \u001b[0mfit_params\u001b[0m\u001b[0;34m=\u001b[0m\u001b[0mfit_params\u001b[0m\u001b[0;34m,\u001b[0m\u001b[0;34m\u001b[0m\u001b[0;34m\u001b[0m\u001b[0m\n\u001b[1;32m    389\u001b[0m                                 \u001b[0mpre_dispatch\u001b[0m\u001b[0;34m=\u001b[0m\u001b[0mpre_dispatch\u001b[0m\u001b[0;34m,\u001b[0m\u001b[0;34m\u001b[0m\u001b[0;34m\u001b[0m\u001b[0m\n\u001b[0;32m--> 390\u001b[0;31m                                 error_score=error_score)\n\u001b[0m\u001b[1;32m    391\u001b[0m     \u001b[0;32mreturn\u001b[0m \u001b[0mcv_results\u001b[0m\u001b[0;34m[\u001b[0m\u001b[0;34m'test_score'\u001b[0m\u001b[0;34m]\u001b[0m\u001b[0;34m\u001b[0m\u001b[0;34m\u001b[0m\u001b[0m\n\u001b[1;32m    392\u001b[0m \u001b[0;34m\u001b[0m\u001b[0m\n",
            "\u001b[0;32m/usr/local/lib/python3.7/dist-packages/sklearn/model_selection/_validation.py\u001b[0m in \u001b[0;36mcross_validate\u001b[0;34m(estimator, X, y, groups, scoring, cv, n_jobs, verbose, fit_params, pre_dispatch, return_train_score, return_estimator, error_score)\u001b[0m\n\u001b[1;32m    234\u001b[0m             \u001b[0mreturn_times\u001b[0m\u001b[0;34m=\u001b[0m\u001b[0;32mTrue\u001b[0m\u001b[0;34m,\u001b[0m \u001b[0mreturn_estimator\u001b[0m\u001b[0;34m=\u001b[0m\u001b[0mreturn_estimator\u001b[0m\u001b[0;34m,\u001b[0m\u001b[0;34m\u001b[0m\u001b[0;34m\u001b[0m\u001b[0m\n\u001b[1;32m    235\u001b[0m             error_score=error_score)\n\u001b[0;32m--> 236\u001b[0;31m         for train, test in cv.split(X, y, groups))\n\u001b[0m\u001b[1;32m    237\u001b[0m \u001b[0;34m\u001b[0m\u001b[0m\n\u001b[1;32m    238\u001b[0m     \u001b[0mzipped_scores\u001b[0m \u001b[0;34m=\u001b[0m \u001b[0mlist\u001b[0m\u001b[0;34m(\u001b[0m\u001b[0mzip\u001b[0m\u001b[0;34m(\u001b[0m\u001b[0;34m*\u001b[0m\u001b[0mscores\u001b[0m\u001b[0;34m)\u001b[0m\u001b[0;34m)\u001b[0m\u001b[0;34m\u001b[0m\u001b[0;34m\u001b[0m\u001b[0m\n",
            "\u001b[0;32m/usr/local/lib/python3.7/dist-packages/joblib/parallel.py\u001b[0m in \u001b[0;36m__call__\u001b[0;34m(self, iterable)\u001b[0m\n\u001b[1;32m   1039\u001b[0m             \u001b[0;31m# remaining jobs.\u001b[0m\u001b[0;34m\u001b[0m\u001b[0;34m\u001b[0m\u001b[0;34m\u001b[0m\u001b[0m\n\u001b[1;32m   1040\u001b[0m             \u001b[0mself\u001b[0m\u001b[0;34m.\u001b[0m\u001b[0m_iterating\u001b[0m \u001b[0;34m=\u001b[0m \u001b[0;32mFalse\u001b[0m\u001b[0;34m\u001b[0m\u001b[0;34m\u001b[0m\u001b[0m\n\u001b[0;32m-> 1041\u001b[0;31m             \u001b[0;32mif\u001b[0m \u001b[0mself\u001b[0m\u001b[0;34m.\u001b[0m\u001b[0mdispatch_one_batch\u001b[0m\u001b[0;34m(\u001b[0m\u001b[0miterator\u001b[0m\u001b[0;34m)\u001b[0m\u001b[0;34m:\u001b[0m\u001b[0;34m\u001b[0m\u001b[0;34m\u001b[0m\u001b[0m\n\u001b[0m\u001b[1;32m   1042\u001b[0m                 \u001b[0mself\u001b[0m\u001b[0;34m.\u001b[0m\u001b[0m_iterating\u001b[0m \u001b[0;34m=\u001b[0m \u001b[0mself\u001b[0m\u001b[0;34m.\u001b[0m\u001b[0m_original_iterator\u001b[0m \u001b[0;32mis\u001b[0m \u001b[0;32mnot\u001b[0m \u001b[0;32mNone\u001b[0m\u001b[0;34m\u001b[0m\u001b[0;34m\u001b[0m\u001b[0m\n\u001b[1;32m   1043\u001b[0m \u001b[0;34m\u001b[0m\u001b[0m\n",
            "\u001b[0;32m/usr/local/lib/python3.7/dist-packages/joblib/parallel.py\u001b[0m in \u001b[0;36mdispatch_one_batch\u001b[0;34m(self, iterator)\u001b[0m\n\u001b[1;32m    829\u001b[0m                 \u001b[0mbig_batch_size\u001b[0m \u001b[0;34m=\u001b[0m \u001b[0mbatch_size\u001b[0m \u001b[0;34m*\u001b[0m \u001b[0mn_jobs\u001b[0m\u001b[0;34m\u001b[0m\u001b[0;34m\u001b[0m\u001b[0m\n\u001b[1;32m    830\u001b[0m \u001b[0;34m\u001b[0m\u001b[0m\n\u001b[0;32m--> 831\u001b[0;31m                 \u001b[0mislice\u001b[0m \u001b[0;34m=\u001b[0m \u001b[0mlist\u001b[0m\u001b[0;34m(\u001b[0m\u001b[0mitertools\u001b[0m\u001b[0;34m.\u001b[0m\u001b[0mislice\u001b[0m\u001b[0;34m(\u001b[0m\u001b[0miterator\u001b[0m\u001b[0;34m,\u001b[0m \u001b[0mbig_batch_size\u001b[0m\u001b[0;34m)\u001b[0m\u001b[0;34m)\u001b[0m\u001b[0;34m\u001b[0m\u001b[0;34m\u001b[0m\u001b[0m\n\u001b[0m\u001b[1;32m    832\u001b[0m                 \u001b[0;32mif\u001b[0m \u001b[0mlen\u001b[0m\u001b[0;34m(\u001b[0m\u001b[0mislice\u001b[0m\u001b[0;34m)\u001b[0m \u001b[0;34m==\u001b[0m \u001b[0;36m0\u001b[0m\u001b[0;34m:\u001b[0m\u001b[0;34m\u001b[0m\u001b[0;34m\u001b[0m\u001b[0m\n\u001b[1;32m    833\u001b[0m                     \u001b[0;32mreturn\u001b[0m \u001b[0;32mFalse\u001b[0m\u001b[0;34m\u001b[0m\u001b[0;34m\u001b[0m\u001b[0m\n",
            "\u001b[0;32m/usr/local/lib/python3.7/dist-packages/sklearn/model_selection/_validation.py\u001b[0m in \u001b[0;36m<genexpr>\u001b[0;34m(.0)\u001b[0m\n\u001b[1;32m    234\u001b[0m             \u001b[0mreturn_times\u001b[0m\u001b[0;34m=\u001b[0m\u001b[0;32mTrue\u001b[0m\u001b[0;34m,\u001b[0m \u001b[0mreturn_estimator\u001b[0m\u001b[0;34m=\u001b[0m\u001b[0mreturn_estimator\u001b[0m\u001b[0;34m,\u001b[0m\u001b[0;34m\u001b[0m\u001b[0;34m\u001b[0m\u001b[0m\n\u001b[1;32m    235\u001b[0m             error_score=error_score)\n\u001b[0;32m--> 236\u001b[0;31m         for train, test in cv.split(X, y, groups))\n\u001b[0m\u001b[1;32m    237\u001b[0m \u001b[0;34m\u001b[0m\u001b[0m\n\u001b[1;32m    238\u001b[0m     \u001b[0mzipped_scores\u001b[0m \u001b[0;34m=\u001b[0m \u001b[0mlist\u001b[0m\u001b[0;34m(\u001b[0m\u001b[0mzip\u001b[0m\u001b[0;34m(\u001b[0m\u001b[0;34m*\u001b[0m\u001b[0mscores\u001b[0m\u001b[0;34m)\u001b[0m\u001b[0;34m)\u001b[0m\u001b[0;34m\u001b[0m\u001b[0;34m\u001b[0m\u001b[0m\n",
            "\u001b[0;32m/usr/local/lib/python3.7/dist-packages/sklearn/base.py\u001b[0m in \u001b[0;36mclone\u001b[0;34m(estimator, safe)\u001b[0m\n\u001b[1;32m     65\u001b[0m                             \u001b[0;34m\"it does not seem to be a scikit-learn estimator \"\u001b[0m\u001b[0;34m\u001b[0m\u001b[0;34m\u001b[0m\u001b[0m\n\u001b[1;32m     66\u001b[0m                             \u001b[0;34m\"as it does not implement a 'get_params' methods.\"\u001b[0m\u001b[0;34m\u001b[0m\u001b[0;34m\u001b[0m\u001b[0m\n\u001b[0;32m---> 67\u001b[0;31m                             % (repr(estimator), type(estimator)))\n\u001b[0m\u001b[1;32m     68\u001b[0m     \u001b[0mklass\u001b[0m \u001b[0;34m=\u001b[0m \u001b[0mestimator\u001b[0m\u001b[0;34m.\u001b[0m\u001b[0m__class__\u001b[0m\u001b[0;34m\u001b[0m\u001b[0;34m\u001b[0m\u001b[0m\n\u001b[1;32m     69\u001b[0m     \u001b[0mnew_object_params\u001b[0m \u001b[0;34m=\u001b[0m \u001b[0mestimator\u001b[0m\u001b[0;34m.\u001b[0m\u001b[0mget_params\u001b[0m\u001b[0;34m(\u001b[0m\u001b[0mdeep\u001b[0m\u001b[0;34m=\u001b[0m\u001b[0;32mFalse\u001b[0m\u001b[0;34m)\u001b[0m\u001b[0;34m\u001b[0m\u001b[0;34m\u001b[0m\u001b[0m\n",
            "\u001b[0;31mTypeError\u001b[0m: Cannot clone object '<class 'sklearn.tree._classes.DecisionTreeClassifier'>' (type <class 'abc.ABCMeta'>): it does not seem to be a scikit-learn estimator as it does not implement a 'get_params' methods."
          ]
        }
      ]
    },
    {
      "cell_type": "code",
      "metadata": {
        "id": "MieYP-BIyg_6"
      },
      "source": [
        "cross_val.mean()"
      ],
      "execution_count": null,
      "outputs": []
    },
    {
      "cell_type": "markdown",
      "metadata": {
        "id": "LwtHeZRenzOL"
      },
      "source": [
        "#### 3. 학습된 결정 트리 시각화"
      ]
    },
    {
      "cell_type": "code",
      "metadata": {
        "colab": {
          "base_uri": "https://localhost:8080/"
        },
        "id": "UszthLL2nkPC",
        "outputId": "e6189336-cf49-465e-877e-ac641642da5a"
      },
      "source": [
        "model = DecisionTreeClassifier()\n",
        "model.fit(iris.data, iris.target)"
      ],
      "execution_count": 20,
      "outputs": [
        {
          "output_type": "execute_result",
          "data": {
            "text/plain": [
              "DecisionTreeClassifier(ccp_alpha=0.0, class_weight=None, criterion='gini',\n",
              "                       max_depth=None, max_features=None, max_leaf_nodes=None,\n",
              "                       min_impurity_decrease=0.0, min_impurity_split=None,\n",
              "                       min_samples_leaf=1, min_samples_split=2,\n",
              "                       min_weight_fraction_leaf=0.0, presort='deprecated',\n",
              "                       random_state=None, splitter='best')"
            ]
          },
          "metadata": {
            "tags": []
          },
          "execution_count": 20
        }
      ]
    },
    {
      "cell_type": "markdown",
      "metadata": {
        "id": "rKj8wlMeoAfp"
      },
      "source": [
        "#### 텍스트를 통한 시각화"
      ]
    },
    {
      "cell_type": "code",
      "metadata": {
        "colab": {
          "base_uri": "https://localhost:8080/"
        },
        "id": "B25Yva-dn9Ms",
        "outputId": "a035c8da-8625-484f-e7ad-3a1da27bf30d"
      },
      "source": [
        "r = tree.export_text(\n",
        "    decision_tree = model,\n",
        "    feature_names = iris.feature_names\n",
        ")\n",
        "\n",
        "print(r)"
      ],
      "execution_count": 21,
      "outputs": [
        {
          "output_type": "stream",
          "text": [
            "|--- petal length (cm) <= 2.45\n",
            "|   |--- class: 0\n",
            "|--- petal length (cm) >  2.45\n",
            "|   |--- petal width (cm) <= 1.75\n",
            "|   |   |--- petal length (cm) <= 4.95\n",
            "|   |   |   |--- petal width (cm) <= 1.65\n",
            "|   |   |   |   |--- class: 1\n",
            "|   |   |   |--- petal width (cm) >  1.65\n",
            "|   |   |   |   |--- class: 2\n",
            "|   |   |--- petal length (cm) >  4.95\n",
            "|   |   |   |--- petal width (cm) <= 1.55\n",
            "|   |   |   |   |--- class: 2\n",
            "|   |   |   |--- petal width (cm) >  1.55\n",
            "|   |   |   |   |--- sepal length (cm) <= 6.95\n",
            "|   |   |   |   |   |--- class: 1\n",
            "|   |   |   |   |--- sepal length (cm) >  6.95\n",
            "|   |   |   |   |   |--- class: 2\n",
            "|   |--- petal width (cm) >  1.75\n",
            "|   |   |--- petal length (cm) <= 4.85\n",
            "|   |   |   |--- sepal length (cm) <= 5.95\n",
            "|   |   |   |   |--- class: 1\n",
            "|   |   |   |--- sepal length (cm) >  5.95\n",
            "|   |   |   |   |--- class: 2\n",
            "|   |   |--- petal length (cm) >  4.85\n",
            "|   |   |   |--- class: 2\n",
            "\n"
          ],
          "name": "stdout"
        }
      ]
    },
    {
      "cell_type": "markdown",
      "metadata": {
        "id": "YslLATaNogu6"
      },
      "source": [
        "#### plot_tree를 사용한 시각화"
      ]
    },
    {
      "cell_type": "code",
      "metadata": {
        "colab": {
          "base_uri": "https://localhost:8080/",
          "height": 537
        },
        "id": "qln2ZST7oPs9",
        "outputId": "daddf172-1b3c-4a66-c377-f9a6acf17446"
      },
      "source": [
        "tree.plot_tree(decision_tree = model)"
      ],
      "execution_count": 22,
      "outputs": [
        {
          "output_type": "execute_result",
          "data": {
            "text/plain": [
              "[Text(167.4, 199.32, 'X[2] <= 2.45\\ngini = 0.667\\nsamples = 150\\nvalue = [50, 50, 50]'),\n",
              " Text(141.64615384615385, 163.07999999999998, 'gini = 0.0\\nsamples = 50\\nvalue = [50, 0, 0]'),\n",
              " Text(193.15384615384616, 163.07999999999998, 'X[3] <= 1.75\\ngini = 0.5\\nsamples = 100\\nvalue = [0, 50, 50]'),\n",
              " Text(103.01538461538462, 126.83999999999999, 'X[2] <= 4.95\\ngini = 0.168\\nsamples = 54\\nvalue = [0, 49, 5]'),\n",
              " Text(51.50769230769231, 90.6, 'X[3] <= 1.65\\ngini = 0.041\\nsamples = 48\\nvalue = [0, 47, 1]'),\n",
              " Text(25.753846153846155, 54.359999999999985, 'gini = 0.0\\nsamples = 47\\nvalue = [0, 47, 0]'),\n",
              " Text(77.26153846153846, 54.359999999999985, 'gini = 0.0\\nsamples = 1\\nvalue = [0, 0, 1]'),\n",
              " Text(154.52307692307693, 90.6, 'X[3] <= 1.55\\ngini = 0.444\\nsamples = 6\\nvalue = [0, 2, 4]'),\n",
              " Text(128.76923076923077, 54.359999999999985, 'gini = 0.0\\nsamples = 3\\nvalue = [0, 0, 3]'),\n",
              " Text(180.27692307692308, 54.359999999999985, 'X[0] <= 6.95\\ngini = 0.444\\nsamples = 3\\nvalue = [0, 2, 1]'),\n",
              " Text(154.52307692307693, 18.119999999999976, 'gini = 0.0\\nsamples = 2\\nvalue = [0, 2, 0]'),\n",
              " Text(206.03076923076924, 18.119999999999976, 'gini = 0.0\\nsamples = 1\\nvalue = [0, 0, 1]'),\n",
              " Text(283.2923076923077, 126.83999999999999, 'X[2] <= 4.85\\ngini = 0.043\\nsamples = 46\\nvalue = [0, 1, 45]'),\n",
              " Text(257.53846153846155, 90.6, 'X[0] <= 5.95\\ngini = 0.444\\nsamples = 3\\nvalue = [0, 1, 2]'),\n",
              " Text(231.7846153846154, 54.359999999999985, 'gini = 0.0\\nsamples = 1\\nvalue = [0, 1, 0]'),\n",
              " Text(283.2923076923077, 54.359999999999985, 'gini = 0.0\\nsamples = 2\\nvalue = [0, 0, 2]'),\n",
              " Text(309.04615384615386, 90.6, 'gini = 0.0\\nsamples = 43\\nvalue = [0, 0, 43]')]"
            ]
          },
          "metadata": {
            "tags": []
          },
          "execution_count": 22
        },
        {
          "output_type": "display_data",
          "data": {
            "image/png": "[encoded data removed]",
            "text/plain": [
              "<Figure size 432x288 with 1 Axes>"
            ]
          },
          "metadata": {
            "tags": [],
            "needs_background": "light"
          }
        }
      ]
    },
    {
      "cell_type": "markdown",
      "metadata": {
        "id": "bOifWk25o19Q"
      },
      "source": [
        "#### graphviz를 사용한 시각화"
      ]
    },
    {
      "cell_type": "code",
      "metadata": {
        "colab": {
          "base_uri": "https://localhost:8080/",
          "height": 916
        },
        "id": "5VVtYb2rop70",
        "outputId": "4d68ff3c-da1a-40e0-c595-8ea534c7b259"
      },
      "source": [
        "dot_data = tree.export_graphviz(\n",
        "    decision_tree=model,\n",
        "    feature_names = iris.feature_names,\n",
        "    class_names=iris.target_names,\n",
        "    filled=True,\n",
        "    rounded=True,\n",
        "    special_characters=True\n",
        ")\n",
        "\n",
        "graph = graphviz.Source(dot_data)\n",
        "graph\n",
        "\n",
        "## gini"
      ],
      "execution_count": 23,
      "outputs": [
        {
          "output_type": "execute_result",
          "data": {
            "text/plain": [
              "<graphviz.files.Source at 0x7fc7cc52c310>"
            ],
            "image/svg+xml": "<?xml version=\"1.0\" encoding=\"UTF-8\" standalone=\"no\"?>\n<!DOCTYPE svg PUBLIC \"-//W3C//DTD SVG 1.1//EN\"\n \"http://www.w3.org/Graphics/SVG/1.1/DTD/svg11.dtd\">\n<!-- Generated by graphviz version 2.40.1 (20161225.0304)\n -->\n<!-- Title: Tree Pages: 1 -->\n<svg width=\"909pt\" height=\"671pt\"\n viewBox=\"0.00 0.00 908.50 671.00\" xmlns=\"http://www.w3.org/2000/svg\" xmlns:xlink=\"http://www.w3.org/1999/xlink\">\n<g id=\"graph0\" class=\"graph\" transform=\"scale(1 1) rotate(0) translate(4 667)\">\n<title>Tree</title>\n<polygon fill=\"#ffffff\" stroke=\"transparent\" points=\"-4,4 -4,-667 904.5,-667 904.5,4 -4,4\"/>\n<!-- 0 -->\n<g id=\"node1\" class=\"node\">\n<title>0</title>\n<path fill=\"#ffffff\" stroke=\"#000000\" d=\"M546.5,-663C546.5,-663 403.5,-663 403.5,-663 397.5,-663 391.5,-657 391.5,-651 391.5,-651 391.5,-592 391.5,-592 391.5,-586 397.5,-580 403.5,-580 403.5,-580 546.5,-580 546.5,-580 552.5,-580 558.5,-586 558.5,-592 558.5,-592 558.5,-651 558.5,-651 558.5,-657 552.5,-663 546.5,-663\"/>\n<text text-anchor=\"start\" x=\"399.5\" y=\"-647.8\" font-family=\"Helvetica,sans-Serif\" font-size=\"14.00\" fill=\"#000000\">petal length (cm) ≤ 2.45</text>\n<text text-anchor=\"start\" x=\"437\" y=\"-632.8\" font-family=\"Helvetica,sans-Serif\" font-size=\"14.00\" fill=\"#000000\">gini = 0.667</text>\n<text text-anchor=\"start\" x=\"427\" y=\"-617.8\" font-family=\"Helvetica,sans-Serif\" font-size=\"14.00\" fill=\"#000000\">samples = 150</text>\n<text text-anchor=\"start\" x=\"413\" y=\"-602.8\" font-family=\"Helvetica,sans-Serif\" font-size=\"14.00\" fill=\"#000000\">value = [50, 50, 50]</text>\n<text text-anchor=\"start\" x=\"428\" y=\"-587.8\" font-family=\"Helvetica,sans-Serif\" font-size=\"14.00\" fill=\"#000000\">class = setosa</text>\n</g>\n<!-- 1 -->\n<g id=\"node2\" class=\"node\">\n<title>1</title>\n<path fill=\"#e58139\" stroke=\"#000000\" d=\"M444.5,-536.5C444.5,-536.5 345.5,-536.5 345.5,-536.5 339.5,-536.5 333.5,-530.5 333.5,-524.5 333.5,-524.5 333.5,-480.5 333.5,-480.5 333.5,-474.5 339.5,-468.5 345.5,-468.5 345.5,-468.5 444.5,-468.5 444.5,-468.5 450.5,-468.5 456.5,-474.5 456.5,-480.5 456.5,-480.5 456.5,-524.5 456.5,-524.5 456.5,-530.5 450.5,-536.5 444.5,-536.5\"/>\n<text text-anchor=\"start\" x=\"365.5\" y=\"-521.3\" font-family=\"Helvetica,sans-Serif\" font-size=\"14.00\" fill=\"#000000\">gini = 0.0</text>\n<text text-anchor=\"start\" x=\"351\" y=\"-506.3\" font-family=\"Helvetica,sans-Serif\" font-size=\"14.00\" fill=\"#000000\">samples = 50</text>\n<text text-anchor=\"start\" x=\"341.5\" y=\"-491.3\" font-family=\"Helvetica,sans-Serif\" font-size=\"14.00\" fill=\"#000000\">value = [50, 0, 0]</text>\n<text text-anchor=\"start\" x=\"348\" y=\"-476.3\" font-family=\"Helvetica,sans-Serif\" font-size=\"14.00\" fill=\"#000000\">class = setosa</text>\n</g>\n<!-- 0&#45;&gt;1 -->\n<g id=\"edge1\" class=\"edge\">\n<title>0&#45;&gt;1</title>\n<path fill=\"none\" stroke=\"#000000\" d=\"M447.0199,-579.8796C439.4797,-568.6636 431.3113,-556.5131 423.7309,-545.2372\"/>\n<polygon fill=\"#000000\" stroke=\"#000000\" points=\"426.5527,-543.1612 418.0689,-536.8149 420.7434,-547.0667 426.5527,-543.1612\"/>\n<text text-anchor=\"middle\" x=\"413.2608\" y=\"-557.6482\" font-family=\"Helvetica,sans-Serif\" font-size=\"14.00\" fill=\"#000000\">True</text>\n</g>\n<!-- 2 -->\n<g id=\"node3\" class=\"node\">\n<title>2</title>\n<path fill=\"#ffffff\" stroke=\"#000000\" d=\"M623.5,-544C623.5,-544 486.5,-544 486.5,-544 480.5,-544 474.5,-538 474.5,-532 474.5,-532 474.5,-473 474.5,-473 474.5,-467 480.5,-461 486.5,-461 486.5,-461 623.5,-461 623.5,-461 629.5,-461 635.5,-467 635.5,-473 635.5,-473 635.5,-532 635.5,-532 635.5,-538 629.5,-544 623.5,-544\"/>\n<text text-anchor=\"start\" x=\"482.5\" y=\"-528.8\" font-family=\"Helvetica,sans-Serif\" font-size=\"14.00\" fill=\"#000000\">petal width (cm) ≤ 1.75</text>\n<text text-anchor=\"start\" x=\"525.5\" y=\"-513.8\" font-family=\"Helvetica,sans-Serif\" font-size=\"14.00\" fill=\"#000000\">gini = 0.5</text>\n<text text-anchor=\"start\" x=\"507\" y=\"-498.8\" font-family=\"Helvetica,sans-Serif\" font-size=\"14.00\" fill=\"#000000\">samples = 100</text>\n<text text-anchor=\"start\" x=\"497.5\" y=\"-483.8\" font-family=\"Helvetica,sans-Serif\" font-size=\"14.00\" fill=\"#000000\">value = [0, 50, 50]</text>\n<text text-anchor=\"start\" x=\"499\" y=\"-468.8\" font-family=\"Helvetica,sans-Serif\" font-size=\"14.00\" fill=\"#000000\">class = versicolor</text>\n</g>\n<!-- 0&#45;&gt;2 -->\n<g id=\"edge2\" class=\"edge\">\n<title>0&#45;&gt;2</title>\n<path fill=\"none\" stroke=\"#000000\" d=\"M502.9801,-579.8796C508.8531,-571.1434 515.1073,-561.8404 521.1679,-552.8253\"/>\n<polygon fill=\"#000000\" stroke=\"#000000\" points=\"524.2259,-554.5498 526.9005,-544.2981 518.4166,-550.6444 524.2259,-554.5498\"/>\n<text text-anchor=\"middle\" x=\"531.7085\" y=\"-565.1314\" font-family=\"Helvetica,sans-Serif\" font-size=\"14.00\" fill=\"#000000\">False</text>\n</g>\n<!-- 3 -->\n<g id=\"node4\" class=\"node\">\n<title>3</title>\n<path fill=\"#4de88e\" stroke=\"#000000\" d=\"M508.5,-425C508.5,-425 365.5,-425 365.5,-425 359.5,-425 353.5,-419 353.5,-413 353.5,-413 353.5,-354 353.5,-354 353.5,-348 359.5,-342 365.5,-342 365.5,-342 508.5,-342 508.5,-342 514.5,-342 520.5,-348 520.5,-354 520.5,-354 520.5,-413 520.5,-413 520.5,-419 514.5,-425 508.5,-425\"/>\n<text text-anchor=\"start\" x=\"361.5\" y=\"-409.8\" font-family=\"Helvetica,sans-Serif\" font-size=\"14.00\" fill=\"#000000\">petal length (cm) ≤ 4.95</text>\n<text text-anchor=\"start\" x=\"399\" y=\"-394.8\" font-family=\"Helvetica,sans-Serif\" font-size=\"14.00\" fill=\"#000000\">gini = 0.168</text>\n<text text-anchor=\"start\" x=\"393\" y=\"-379.8\" font-family=\"Helvetica,sans-Serif\" font-size=\"14.00\" fill=\"#000000\">samples = 54</text>\n<text text-anchor=\"start\" x=\"383.5\" y=\"-364.8\" font-family=\"Helvetica,sans-Serif\" font-size=\"14.00\" fill=\"#000000\">value = [0, 49, 5]</text>\n<text text-anchor=\"start\" x=\"381\" y=\"-349.8\" font-family=\"Helvetica,sans-Serif\" font-size=\"14.00\" fill=\"#000000\">class = versicolor</text>\n</g>\n<!-- 2&#45;&gt;3 -->\n<g id=\"edge3\" class=\"edge\">\n<title>2&#45;&gt;3</title>\n<path fill=\"none\" stroke=\"#000000\" d=\"M513.7293,-460.8796C504.6201,-451.6931 494.8892,-441.8798 485.5224,-432.4336\"/>\n<polygon fill=\"#000000\" stroke=\"#000000\" points=\"487.9733,-429.9345 478.4468,-425.2981 483.0027,-434.8634 487.9733,-429.9345\"/>\n</g>\n<!-- 12 -->\n<g id=\"node13\" class=\"node\">\n<title>12</title>\n<path fill=\"#843de6\" stroke=\"#000000\" d=\"M745.5,-425C745.5,-425 602.5,-425 602.5,-425 596.5,-425 590.5,-419 590.5,-413 590.5,-413 590.5,-354 590.5,-354 590.5,-348 596.5,-342 602.5,-342 602.5,-342 745.5,-342 745.5,-342 751.5,-342 757.5,-348 757.5,-354 757.5,-354 757.5,-413 757.5,-413 757.5,-419 751.5,-425 745.5,-425\"/>\n<text text-anchor=\"start\" x=\"598.5\" y=\"-409.8\" font-family=\"Helvetica,sans-Serif\" font-size=\"14.00\" fill=\"#000000\">petal length (cm) ≤ 4.85</text>\n<text text-anchor=\"start\" x=\"636\" y=\"-394.8\" font-family=\"Helvetica,sans-Serif\" font-size=\"14.00\" fill=\"#000000\">gini = 0.043</text>\n<text text-anchor=\"start\" x=\"630\" y=\"-379.8\" font-family=\"Helvetica,sans-Serif\" font-size=\"14.00\" fill=\"#000000\">samples = 46</text>\n<text text-anchor=\"start\" x=\"620.5\" y=\"-364.8\" font-family=\"Helvetica,sans-Serif\" font-size=\"14.00\" fill=\"#000000\">value = [0, 1, 45]</text>\n<text text-anchor=\"start\" x=\"622.5\" y=\"-349.8\" font-family=\"Helvetica,sans-Serif\" font-size=\"14.00\" fill=\"#000000\">class = virginica</text>\n</g>\n<!-- 2&#45;&gt;12 -->\n<g id=\"edge12\" class=\"edge\">\n<title>2&#45;&gt;12</title>\n<path fill=\"none\" stroke=\"#000000\" d=\"M596.6204,-460.8796C605.8069,-451.6931 615.6202,-441.8798 625.0664,-432.4336\"/>\n<polygon fill=\"#000000\" stroke=\"#000000\" points=\"627.6057,-434.8441 632.2019,-425.2981 622.6559,-429.8943 627.6057,-434.8441\"/>\n</g>\n<!-- 4 -->\n<g id=\"node5\" class=\"node\">\n<title>4</title>\n<path fill=\"#3de684\" stroke=\"#000000\" d=\"M274.5,-306C274.5,-306 137.5,-306 137.5,-306 131.5,-306 125.5,-300 125.5,-294 125.5,-294 125.5,-235 125.5,-235 125.5,-229 131.5,-223 137.5,-223 137.5,-223 274.5,-223 274.5,-223 280.5,-223 286.5,-229 286.5,-235 286.5,-235 286.5,-294 286.5,-294 286.5,-300 280.5,-306 274.5,-306\"/>\n<text text-anchor=\"start\" x=\"133.5\" y=\"-290.8\" font-family=\"Helvetica,sans-Serif\" font-size=\"14.00\" fill=\"#000000\">petal width (cm) ≤ 1.65</text>\n<text text-anchor=\"start\" x=\"168\" y=\"-275.8\" font-family=\"Helvetica,sans-Serif\" font-size=\"14.00\" fill=\"#000000\">gini = 0.041</text>\n<text text-anchor=\"start\" x=\"162\" y=\"-260.8\" font-family=\"Helvetica,sans-Serif\" font-size=\"14.00\" fill=\"#000000\">samples = 48</text>\n<text text-anchor=\"start\" x=\"152.5\" y=\"-245.8\" font-family=\"Helvetica,sans-Serif\" font-size=\"14.00\" fill=\"#000000\">value = [0, 47, 1]</text>\n<text text-anchor=\"start\" x=\"150\" y=\"-230.8\" font-family=\"Helvetica,sans-Serif\" font-size=\"14.00\" fill=\"#000000\">class = versicolor</text>\n</g>\n<!-- 3&#45;&gt;4 -->\n<g id=\"edge4\" class=\"edge\">\n<title>3&#45;&gt;4</title>\n<path fill=\"none\" stroke=\"#000000\" d=\"M356.2074,-341.8796C336.6886,-331.8244 315.712,-321.0183 295.8077,-310.7645\"/>\n<polygon fill=\"#000000\" stroke=\"#000000\" points=\"297.2396,-307.5651 286.747,-306.0969 294.0339,-313.788 297.2396,-307.5651\"/>\n</g>\n<!-- 7 -->\n<g id=\"node8\" class=\"node\">\n<title>7</title>\n<path fill=\"#c09cf2\" stroke=\"#000000\" d=\"M505.5,-306C505.5,-306 368.5,-306 368.5,-306 362.5,-306 356.5,-300 356.5,-294 356.5,-294 356.5,-235 356.5,-235 356.5,-229 362.5,-223 368.5,-223 368.5,-223 505.5,-223 505.5,-223 511.5,-223 517.5,-229 517.5,-235 517.5,-235 517.5,-294 517.5,-294 517.5,-300 511.5,-306 505.5,-306\"/>\n<text text-anchor=\"start\" x=\"364.5\" y=\"-290.8\" font-family=\"Helvetica,sans-Serif\" font-size=\"14.00\" fill=\"#000000\">petal width (cm) ≤ 1.55</text>\n<text text-anchor=\"start\" x=\"399\" y=\"-275.8\" font-family=\"Helvetica,sans-Serif\" font-size=\"14.00\" fill=\"#000000\">gini = 0.444</text>\n<text text-anchor=\"start\" x=\"397.5\" y=\"-260.8\" font-family=\"Helvetica,sans-Serif\" font-size=\"14.00\" fill=\"#000000\">samples = 6</text>\n<text text-anchor=\"start\" x=\"387.5\" y=\"-245.8\" font-family=\"Helvetica,sans-Serif\" font-size=\"14.00\" fill=\"#000000\">value = [0, 2, 4]</text>\n<text text-anchor=\"start\" x=\"385.5\" y=\"-230.8\" font-family=\"Helvetica,sans-Serif\" font-size=\"14.00\" fill=\"#000000\">class = virginica</text>\n</g>\n<!-- 3&#45;&gt;7 -->\n<g id=\"edge7\" class=\"edge\">\n<title>3&#45;&gt;7</title>\n<path fill=\"none\" stroke=\"#000000\" d=\"M437,-341.8796C437,-333.6838 437,-324.9891 437,-316.5013\"/>\n<polygon fill=\"#000000\" stroke=\"#000000\" points=\"440.5001,-316.298 437,-306.2981 433.5001,-316.2981 440.5001,-316.298\"/>\n</g>\n<!-- 5 -->\n<g id=\"node6\" class=\"node\">\n<title>5</title>\n<path fill=\"#39e581\" stroke=\"#000000\" d=\"M116,-179.5C116,-179.5 12,-179.5 12,-179.5 6,-179.5 0,-173.5 0,-167.5 0,-167.5 0,-123.5 0,-123.5 0,-117.5 6,-111.5 12,-111.5 12,-111.5 116,-111.5 116,-111.5 122,-111.5 128,-117.5 128,-123.5 128,-123.5 128,-167.5 128,-167.5 128,-173.5 122,-179.5 116,-179.5\"/>\n<text text-anchor=\"start\" x=\"34.5\" y=\"-164.3\" font-family=\"Helvetica,sans-Serif\" font-size=\"14.00\" fill=\"#000000\">gini = 0.0</text>\n<text text-anchor=\"start\" x=\"20\" y=\"-149.3\" font-family=\"Helvetica,sans-Serif\" font-size=\"14.00\" fill=\"#000000\">samples = 47</text>\n<text text-anchor=\"start\" x=\"10.5\" y=\"-134.3\" font-family=\"Helvetica,sans-Serif\" font-size=\"14.00\" fill=\"#000000\">value = [0, 47, 0]</text>\n<text text-anchor=\"start\" x=\"8\" y=\"-119.3\" font-family=\"Helvetica,sans-Serif\" font-size=\"14.00\" fill=\"#000000\">class = versicolor</text>\n</g>\n<!-- 4&#45;&gt;5 -->\n<g id=\"edge5\" class=\"edge\">\n<title>4&#45;&gt;5</title>\n<path fill=\"none\" stroke=\"#000000\" d=\"M156.3353,-222.8796C142.1642,-211.0038 126.743,-198.0804 112.6342,-186.2568\"/>\n<polygon fill=\"#000000\" stroke=\"#000000\" points=\"114.8598,-183.5554 104.9472,-179.8149 110.3637,-188.9206 114.8598,-183.5554\"/>\n</g>\n<!-- 6 -->\n<g id=\"node7\" class=\"node\">\n<title>6</title>\n<path fill=\"#8139e5\" stroke=\"#000000\" d=\"M253.5,-179.5C253.5,-179.5 158.5,-179.5 158.5,-179.5 152.5,-179.5 146.5,-173.5 146.5,-167.5 146.5,-167.5 146.5,-123.5 146.5,-123.5 146.5,-117.5 152.5,-111.5 158.5,-111.5 158.5,-111.5 253.5,-111.5 253.5,-111.5 259.5,-111.5 265.5,-117.5 265.5,-123.5 265.5,-123.5 265.5,-167.5 265.5,-167.5 265.5,-173.5 259.5,-179.5 253.5,-179.5\"/>\n<text text-anchor=\"start\" x=\"176.5\" y=\"-164.3\" font-family=\"Helvetica,sans-Serif\" font-size=\"14.00\" fill=\"#000000\">gini = 0.0</text>\n<text text-anchor=\"start\" x=\"166.5\" y=\"-149.3\" font-family=\"Helvetica,sans-Serif\" font-size=\"14.00\" fill=\"#000000\">samples = 1</text>\n<text text-anchor=\"start\" x=\"156.5\" y=\"-134.3\" font-family=\"Helvetica,sans-Serif\" font-size=\"14.00\" fill=\"#000000\">value = [0, 0, 1]</text>\n<text text-anchor=\"start\" x=\"154.5\" y=\"-119.3\" font-family=\"Helvetica,sans-Serif\" font-size=\"14.00\" fill=\"#000000\">class = virginica</text>\n</g>\n<!-- 4&#45;&gt;6 -->\n<g id=\"edge6\" class=\"edge\">\n<title>4&#45;&gt;6</title>\n<path fill=\"none\" stroke=\"#000000\" d=\"M206,-222.8796C206,-212.2134 206,-200.7021 206,-189.9015\"/>\n<polygon fill=\"#000000\" stroke=\"#000000\" points=\"209.5001,-189.8149 206,-179.8149 202.5001,-189.815 209.5001,-189.8149\"/>\n</g>\n<!-- 8 -->\n<g id=\"node9\" class=\"node\">\n<title>8</title>\n<path fill=\"#8139e5\" stroke=\"#000000\" d=\"M390.5,-179.5C390.5,-179.5 295.5,-179.5 295.5,-179.5 289.5,-179.5 283.5,-173.5 283.5,-167.5 283.5,-167.5 283.5,-123.5 283.5,-123.5 283.5,-117.5 289.5,-111.5 295.5,-111.5 295.5,-111.5 390.5,-111.5 390.5,-111.5 396.5,-111.5 402.5,-117.5 402.5,-123.5 402.5,-123.5 402.5,-167.5 402.5,-167.5 402.5,-173.5 396.5,-179.5 390.5,-179.5\"/>\n<text text-anchor=\"start\" x=\"313.5\" y=\"-164.3\" font-family=\"Helvetica,sans-Serif\" font-size=\"14.00\" fill=\"#000000\">gini = 0.0</text>\n<text text-anchor=\"start\" x=\"303.5\" y=\"-149.3\" font-family=\"Helvetica,sans-Serif\" font-size=\"14.00\" fill=\"#000000\">samples = 3</text>\n<text text-anchor=\"start\" x=\"293.5\" y=\"-134.3\" font-family=\"Helvetica,sans-Serif\" font-size=\"14.00\" fill=\"#000000\">value = [0, 0, 3]</text>\n<text text-anchor=\"start\" x=\"291.5\" y=\"-119.3\" font-family=\"Helvetica,sans-Serif\" font-size=\"14.00\" fill=\"#000000\">class = virginica</text>\n</g>\n<!-- 7&#45;&gt;8 -->\n<g id=\"edge8\" class=\"edge\">\n<title>7&#45;&gt;8</title>\n<path fill=\"none\" stroke=\"#000000\" d=\"M404.1234,-222.8796C395.1768,-211.5536 385.4776,-199.2748 376.4971,-187.9058\"/>\n<polygon fill=\"#000000\" stroke=\"#000000\" points=\"379.051,-185.4926 370.1059,-179.8149 373.558,-189.8316 379.051,-185.4926\"/>\n</g>\n<!-- 9 -->\n<g id=\"node10\" class=\"node\">\n<title>9</title>\n<path fill=\"#9cf2c0\" stroke=\"#000000\" d=\"M579.5,-187C579.5,-187 432.5,-187 432.5,-187 426.5,-187 420.5,-181 420.5,-175 420.5,-175 420.5,-116 420.5,-116 420.5,-110 426.5,-104 432.5,-104 432.5,-104 579.5,-104 579.5,-104 585.5,-104 591.5,-110 591.5,-116 591.5,-116 591.5,-175 591.5,-175 591.5,-181 585.5,-187 579.5,-187\"/>\n<text text-anchor=\"start\" x=\"428.5\" y=\"-171.8\" font-family=\"Helvetica,sans-Serif\" font-size=\"14.00\" fill=\"#000000\">sepal length (cm) ≤ 6.95</text>\n<text text-anchor=\"start\" x=\"468\" y=\"-156.8\" font-family=\"Helvetica,sans-Serif\" font-size=\"14.00\" fill=\"#000000\">gini = 0.444</text>\n<text text-anchor=\"start\" x=\"466.5\" y=\"-141.8\" font-family=\"Helvetica,sans-Serif\" font-size=\"14.00\" fill=\"#000000\">samples = 3</text>\n<text text-anchor=\"start\" x=\"456.5\" y=\"-126.8\" font-family=\"Helvetica,sans-Serif\" font-size=\"14.00\" fill=\"#000000\">value = [0, 2, 1]</text>\n<text text-anchor=\"start\" x=\"450\" y=\"-111.8\" font-family=\"Helvetica,sans-Serif\" font-size=\"14.00\" fill=\"#000000\">class = versicolor</text>\n</g>\n<!-- 7&#45;&gt;9 -->\n<g id=\"edge9\" class=\"edge\">\n<title>7&#45;&gt;9</title>\n<path fill=\"none\" stroke=\"#000000\" d=\"M461.1329,-222.8796C466.1461,-214.2335 471.4813,-205.0322 476.6581,-196.1042\"/>\n<polygon fill=\"#000000\" stroke=\"#000000\" points=\"479.7758,-197.7047 481.7641,-187.2981 473.7202,-194.1934 479.7758,-197.7047\"/>\n</g>\n<!-- 10 -->\n<g id=\"node11\" class=\"node\">\n<title>10</title>\n<path fill=\"#39e581\" stroke=\"#000000\" d=\"M487,-68C487,-68 383,-68 383,-68 377,-68 371,-62 371,-56 371,-56 371,-12 371,-12 371,-6 377,0 383,0 383,0 487,0 487,0 493,0 499,-6 499,-12 499,-12 499,-56 499,-56 499,-62 493,-68 487,-68\"/>\n<text text-anchor=\"start\" x=\"405.5\" y=\"-52.8\" font-family=\"Helvetica,sans-Serif\" font-size=\"14.00\" fill=\"#000000\">gini = 0.0</text>\n<text text-anchor=\"start\" x=\"395.5\" y=\"-37.8\" font-family=\"Helvetica,sans-Serif\" font-size=\"14.00\" fill=\"#000000\">samples = 2</text>\n<text text-anchor=\"start\" x=\"385.5\" y=\"-22.8\" font-family=\"Helvetica,sans-Serif\" font-size=\"14.00\" fill=\"#000000\">value = [0, 2, 0]</text>\n<text text-anchor=\"start\" x=\"379\" y=\"-7.8\" font-family=\"Helvetica,sans-Serif\" font-size=\"14.00\" fill=\"#000000\">class = versicolor</text>\n</g>\n<!-- 9&#45;&gt;10 -->\n<g id=\"edge10\" class=\"edge\">\n<title>9&#45;&gt;10</title>\n<path fill=\"none\" stroke=\"#000000\" d=\"M479.5622,-103.9815C473.944,-95.1585 468.0012,-85.8258 462.3497,-76.9506\"/>\n<polygon fill=\"#000000\" stroke=\"#000000\" points=\"465.1416,-74.8188 456.8181,-68.2637 459.2371,-78.5787 465.1416,-74.8188\"/>\n</g>\n<!-- 11 -->\n<g id=\"node12\" class=\"node\">\n<title>11</title>\n<path fill=\"#8139e5\" stroke=\"#000000\" d=\"M624.5,-68C624.5,-68 529.5,-68 529.5,-68 523.5,-68 517.5,-62 517.5,-56 517.5,-56 517.5,-12 517.5,-12 517.5,-6 523.5,0 529.5,0 529.5,0 624.5,0 624.5,0 630.5,0 636.5,-6 636.5,-12 636.5,-12 636.5,-56 636.5,-56 636.5,-62 630.5,-68 624.5,-68\"/>\n<text text-anchor=\"start\" x=\"547.5\" y=\"-52.8\" font-family=\"Helvetica,sans-Serif\" font-size=\"14.00\" fill=\"#000000\">gini = 0.0</text>\n<text text-anchor=\"start\" x=\"537.5\" y=\"-37.8\" font-family=\"Helvetica,sans-Serif\" font-size=\"14.00\" fill=\"#000000\">samples = 1</text>\n<text text-anchor=\"start\" x=\"527.5\" y=\"-22.8\" font-family=\"Helvetica,sans-Serif\" font-size=\"14.00\" fill=\"#000000\">value = [0, 0, 1]</text>\n<text text-anchor=\"start\" x=\"525.5\" y=\"-7.8\" font-family=\"Helvetica,sans-Serif\" font-size=\"14.00\" fill=\"#000000\">class = virginica</text>\n</g>\n<!-- 9&#45;&gt;11 -->\n<g id=\"edge11\" class=\"edge\">\n<title>9&#45;&gt;11</title>\n<path fill=\"none\" stroke=\"#000000\" d=\"M532.4378,-103.9815C538.056,-95.1585 543.9988,-85.8258 549.6503,-76.9506\"/>\n<polygon fill=\"#000000\" stroke=\"#000000\" points=\"552.7629,-78.5787 555.1819,-68.2637 546.8584,-74.8188 552.7629,-78.5787\"/>\n</g>\n<!-- 13 -->\n<g id=\"node14\" class=\"node\">\n<title>13</title>\n<path fill=\"#c09cf2\" stroke=\"#000000\" d=\"M747.5,-306C747.5,-306 600.5,-306 600.5,-306 594.5,-306 588.5,-300 588.5,-294 588.5,-294 588.5,-235 588.5,-235 588.5,-229 594.5,-223 600.5,-223 600.5,-223 747.5,-223 747.5,-223 753.5,-223 759.5,-229 759.5,-235 759.5,-235 759.5,-294 759.5,-294 759.5,-300 753.5,-306 747.5,-306\"/>\n<text text-anchor=\"start\" x=\"596.5\" y=\"-290.8\" font-family=\"Helvetica,sans-Serif\" font-size=\"14.00\" fill=\"#000000\">sepal length (cm) ≤ 5.95</text>\n<text text-anchor=\"start\" x=\"636\" y=\"-275.8\" font-family=\"Helvetica,sans-Serif\" font-size=\"14.00\" fill=\"#000000\">gini = 0.444</text>\n<text text-anchor=\"start\" x=\"634.5\" y=\"-260.8\" font-family=\"Helvetica,sans-Serif\" font-size=\"14.00\" fill=\"#000000\">samples = 3</text>\n<text text-anchor=\"start\" x=\"624.5\" y=\"-245.8\" font-family=\"Helvetica,sans-Serif\" font-size=\"14.00\" fill=\"#000000\">value = [0, 1, 2]</text>\n<text text-anchor=\"start\" x=\"622.5\" y=\"-230.8\" font-family=\"Helvetica,sans-Serif\" font-size=\"14.00\" fill=\"#000000\">class = virginica</text>\n</g>\n<!-- 12&#45;&gt;13 -->\n<g id=\"edge13\" class=\"edge\">\n<title>12&#45;&gt;13</title>\n<path fill=\"none\" stroke=\"#000000\" d=\"M674,-341.8796C674,-333.6838 674,-324.9891 674,-316.5013\"/>\n<polygon fill=\"#000000\" stroke=\"#000000\" points=\"677.5001,-316.298 674,-306.2981 670.5001,-316.2981 677.5001,-316.298\"/>\n</g>\n<!-- 16 -->\n<g id=\"node17\" class=\"node\">\n<title>16</title>\n<path fill=\"#8139e5\" stroke=\"#000000\" d=\"M888.5,-298.5C888.5,-298.5 789.5,-298.5 789.5,-298.5 783.5,-298.5 777.5,-292.5 777.5,-286.5 777.5,-286.5 777.5,-242.5 777.5,-242.5 777.5,-236.5 783.5,-230.5 789.5,-230.5 789.5,-230.5 888.5,-230.5 888.5,-230.5 894.5,-230.5 900.5,-236.5 900.5,-242.5 900.5,-242.5 900.5,-286.5 900.5,-286.5 900.5,-292.5 894.5,-298.5 888.5,-298.5\"/>\n<text text-anchor=\"start\" x=\"809.5\" y=\"-283.3\" font-family=\"Helvetica,sans-Serif\" font-size=\"14.00\" fill=\"#000000\">gini = 0.0</text>\n<text text-anchor=\"start\" x=\"795\" y=\"-268.3\" font-family=\"Helvetica,sans-Serif\" font-size=\"14.00\" fill=\"#000000\">samples = 43</text>\n<text text-anchor=\"start\" x=\"785.5\" y=\"-253.3\" font-family=\"Helvetica,sans-Serif\" font-size=\"14.00\" fill=\"#000000\">value = [0, 0, 43]</text>\n<text text-anchor=\"start\" x=\"787.5\" y=\"-238.3\" font-family=\"Helvetica,sans-Serif\" font-size=\"14.00\" fill=\"#000000\">class = virginica</text>\n</g>\n<!-- 12&#45;&gt;16 -->\n<g id=\"edge16\" class=\"edge\">\n<title>12&#45;&gt;16</title>\n<path fill=\"none\" stroke=\"#000000\" d=\"M731.709,-341.8796C748.407,-329.8368 766.5987,-316.7167 783.1793,-304.7586\"/>\n<polygon fill=\"#000000\" stroke=\"#000000\" points=\"785.6232,-307.3113 791.6865,-298.623 781.5285,-301.6339 785.6232,-307.3113\"/>\n</g>\n<!-- 14 -->\n<g id=\"node15\" class=\"node\">\n<title>14</title>\n<path fill=\"#39e581\" stroke=\"#000000\" d=\"M726,-179.5C726,-179.5 622,-179.5 622,-179.5 616,-179.5 610,-173.5 610,-167.5 610,-167.5 610,-123.5 610,-123.5 610,-117.5 616,-111.5 622,-111.5 622,-111.5 726,-111.5 726,-111.5 732,-111.5 738,-117.5 738,-123.5 738,-123.5 738,-167.5 738,-167.5 738,-173.5 732,-179.5 726,-179.5\"/>\n<text text-anchor=\"start\" x=\"644.5\" y=\"-164.3\" font-family=\"Helvetica,sans-Serif\" font-size=\"14.00\" fill=\"#000000\">gini = 0.0</text>\n<text text-anchor=\"start\" x=\"634.5\" y=\"-149.3\" font-family=\"Helvetica,sans-Serif\" font-size=\"14.00\" fill=\"#000000\">samples = 1</text>\n<text text-anchor=\"start\" x=\"624.5\" y=\"-134.3\" font-family=\"Helvetica,sans-Serif\" font-size=\"14.00\" fill=\"#000000\">value = [0, 1, 0]</text>\n<text text-anchor=\"start\" x=\"618\" y=\"-119.3\" font-family=\"Helvetica,sans-Serif\" font-size=\"14.00\" fill=\"#000000\">class = versicolor</text>\n</g>\n<!-- 13&#45;&gt;14 -->\n<g id=\"edge14\" class=\"edge\">\n<title>13&#45;&gt;14</title>\n<path fill=\"none\" stroke=\"#000000\" d=\"M674,-222.8796C674,-212.2134 674,-200.7021 674,-189.9015\"/>\n<polygon fill=\"#000000\" stroke=\"#000000\" points=\"677.5001,-189.8149 674,-179.8149 670.5001,-189.815 677.5001,-189.8149\"/>\n</g>\n<!-- 15 -->\n<g id=\"node16\" class=\"node\">\n<title>15</title>\n<path fill=\"#8139e5\" stroke=\"#000000\" d=\"M863.5,-179.5C863.5,-179.5 768.5,-179.5 768.5,-179.5 762.5,-179.5 756.5,-173.5 756.5,-167.5 756.5,-167.5 756.5,-123.5 756.5,-123.5 756.5,-117.5 762.5,-111.5 768.5,-111.5 768.5,-111.5 863.5,-111.5 863.5,-111.5 869.5,-111.5 875.5,-117.5 875.5,-123.5 875.5,-123.5 875.5,-167.5 875.5,-167.5 875.5,-173.5 869.5,-179.5 863.5,-179.5\"/>\n<text text-anchor=\"start\" x=\"786.5\" y=\"-164.3\" font-family=\"Helvetica,sans-Serif\" font-size=\"14.00\" fill=\"#000000\">gini = 0.0</text>\n<text text-anchor=\"start\" x=\"776.5\" y=\"-149.3\" font-family=\"Helvetica,sans-Serif\" font-size=\"14.00\" fill=\"#000000\">samples = 2</text>\n<text text-anchor=\"start\" x=\"766.5\" y=\"-134.3\" font-family=\"Helvetica,sans-Serif\" font-size=\"14.00\" fill=\"#000000\">value = [0, 0, 2]</text>\n<text text-anchor=\"start\" x=\"764.5\" y=\"-119.3\" font-family=\"Helvetica,sans-Serif\" font-size=\"14.00\" fill=\"#000000\">class = virginica</text>\n</g>\n<!-- 13&#45;&gt;15 -->\n<g id=\"edge15\" class=\"edge\">\n<title>13&#45;&gt;15</title>\n<path fill=\"none\" stroke=\"#000000\" d=\"M723.6647,-222.8796C737.8358,-211.0038 753.257,-198.0804 767.3658,-186.2568\"/>\n<polygon fill=\"#000000\" stroke=\"#000000\" points=\"769.6363,-188.9206 775.0528,-179.8149 765.1402,-183.5554 769.6363,-188.9206\"/>\n</g>\n</g>\n</svg>\n"
          },
          "metadata": {
            "tags": []
          },
          "execution_count": 23
        }
      ]
    },
    {
      "cell_type": "markdown",
      "metadata": {
        "id": "G6x4nz2VqQFv"
      },
      "source": [
        "#### 결정 경계 시각화"
      ]
    },
    {
      "cell_type": "code",
      "metadata": {
        "id": "PFMt4pdypT5-"
      },
      "source": [
        "n_classes = 3\n",
        "plot_colors = 'ryb'\n",
        "plot_step = 0.02"
      ],
      "execution_count": 24,
      "outputs": []
    },
    {
      "cell_type": "code",
      "metadata": {
        "colab": {
          "base_uri": "https://localhost:8080/",
          "height": 570
        },
        "id": "eDglLrXvpQ8o",
        "outputId": "0272e485-eccb-4a2a-d0d2-99d9ff7a29a1"
      },
      "source": [
        "plt.figure(figsize=(16, 8))\n",
        "\n",
        "for pairIdx, pair in enumerate([[0, 1], [0, 2], [0, 3],\n",
        "                                [1, 2], [1, 3], [2, 3]]):\n",
        "    X = iris.data[:, pair]\n",
        "    y = iris.target\n",
        "\n",
        "    model = DecisionTreeClassifier()\n",
        "    model.fit(X, y)\n",
        "\n",
        "    plt.subplot(2, 3, pairIdx + 1)\n",
        "\n",
        "    x_min, x_max = X[:, 0].min() - 1, X[:, 0].max() + 1\n",
        "    y_min, y_max = X[:, 1].min() - 1, X[:, 1].max() + 1\n",
        "\n",
        "    xx, yy = np.meshgrid(np.arange(x_min, x_max, plot_step),\n",
        "                         np.arange(y_min, y_max, plot_step))\n",
        "    \n",
        "    plt.tight_layout(h_pad = -0.5, w_pad = 0.5, pad = 2.5)\n",
        "\n",
        "    Z = model.predict(np.c_[xx.ravel(), yy.ravel()])\n",
        "    Z = Z.reshape(xx.shape)\n",
        "    cs = plt.contourf(xx, yy, Z, cmap = plt.cm.RdYlBu)\n",
        "\n",
        "    plt.xlabel(iris.feature_names[pair[0]])\n",
        "    plt.ylabel(iris.feature_names[pair[1]])\n",
        "\n",
        "    for i, color in zip(range(n_classes), plot_colors):\n",
        "        idx = np.where(y==1)\n",
        "        plt.scatter(\n",
        "            X[idx, 0], \n",
        "            X[idx, 1],\n",
        "            c = color,\n",
        "            label = iris.target_names[i],\n",
        "            cmap = plt.cm.RdYlBu,\n",
        "            edgecolor = 'b',\n",
        "            s = 15)\n",
        "\n",
        "    plt.suptitle('Decision surface')\n",
        "    plt.legend(loc = 'lower right', borderpad = 0, handletextpad = 0)\n",
        "    plt.axis('tight')"
      ],
      "execution_count": 25,
      "outputs": [
        {
          "output_type": "display_data",
          "data": {
            "image/png": "[encoded data removed]",
            "text/plain": [
              "<Figure size 1152x576 with 6 Axes>"
            ]
          },
          "metadata": {
            "tags": [],
            "needs_background": "light"
          }
        }
      ]
    },
    {
      "cell_type": "markdown",
      "metadata": {
        "id": "PruI-2ZqzAb3"
      },
      "source": [
        "## Wine 데이터 학습"
      ]
    },
    {
      "cell_type": "markdown",
      "metadata": {
        "id": "SfCqzzO2u1Hm"
      },
      "source": [
        "#### 전처리 없이 학습"
      ]
    },
    {
      "cell_type": "code",
      "metadata": {
        "id": "Tmyd-VRquwOI"
      },
      "source": [
        "model = DecisionTreeClassifier()"
      ],
      "execution_count": 26,
      "outputs": []
    },
    {
      "cell_type": "code",
      "metadata": {
        "id": "j7_whrKftP9O"
      },
      "source": [
        "cross_val = cross_val_score(\n",
        "    estimator = model,\n",
        "    X = wine.data,\n",
        "    y = wine.target,\n",
        "    cv = 5,\n",
        "    n_jobs = multiprocessing.cpu_count()\n",
        ")"
      ],
      "execution_count": 27,
      "outputs": []
    },
    {
      "cell_type": "code",
      "metadata": {
        "colab": {
          "base_uri": "https://localhost:8080/"
        },
        "id": "kjmTvPDru5e4",
        "outputId": "7f6a12cb-2da2-418a-9e08-4e1338bb019d"
      },
      "source": [
        "cross_val"
      ],
      "execution_count": 28,
      "outputs": [
        {
          "output_type": "execute_result",
          "data": {
            "text/plain": [
              "array([0.91666667, 0.77777778, 0.86111111, 0.91428571, 0.85714286])"
            ]
          },
          "metadata": {
            "tags": []
          },
          "execution_count": 28
        }
      ]
    },
    {
      "cell_type": "code",
      "metadata": {
        "colab": {
          "base_uri": "https://localhost:8080/"
        },
        "id": "DLnN0yZzup_T",
        "outputId": "1f15e1f0-f414-4675-ab4b-6dfbc72afb36"
      },
      "source": [
        "cross_val.mean()"
      ],
      "execution_count": 29,
      "outputs": [
        {
          "output_type": "execute_result",
          "data": {
            "text/plain": [
              "0.8653968253968254"
            ]
          },
          "metadata": {
            "tags": []
          },
          "execution_count": 29
        }
      ]
    },
    {
      "cell_type": "markdown",
      "metadata": {
        "id": "ENRMaErsu7DK"
      },
      "source": [
        "#### 전처리 후 학습"
      ]
    },
    {
      "cell_type": "code",
      "metadata": {
        "id": "gcBK7IdvuwEQ"
      },
      "source": [
        "model = make_pipeline(\n",
        "    StandardScaler(),\n",
        "    DecisionTreeClassifier()\n",
        ")"
      ],
      "execution_count": 30,
      "outputs": []
    },
    {
      "cell_type": "code",
      "metadata": {
        "id": "olfXh9q8vCiy"
      },
      "source": [
        "cross_val = cross_val_score(\n",
        "    estimator = model,\n",
        "    X = wine.data,\n",
        "    y = wine.target,\n",
        "    cv = 5,\n",
        "    n_jobs = multiprocessing.cpu_count()\n",
        ")"
      ],
      "execution_count": 31,
      "outputs": []
    },
    {
      "cell_type": "code",
      "metadata": {
        "colab": {
          "base_uri": "https://localhost:8080/"
        },
        "id": "bfYWNva_vEyp",
        "outputId": "e81ca926-aa0a-4f7b-cd51-35e9c68c5637"
      },
      "source": [
        "cross_val"
      ],
      "execution_count": 32,
      "outputs": [
        {
          "output_type": "execute_result",
          "data": {
            "text/plain": [
              "array([0.91666667, 0.88888889, 0.91666667, 0.91428571, 0.85714286])"
            ]
          },
          "metadata": {
            "tags": []
          },
          "execution_count": 32
        }
      ]
    },
    {
      "cell_type": "code",
      "metadata": {
        "colab": {
          "base_uri": "https://localhost:8080/"
        },
        "id": "c1zjknLrvF1b",
        "outputId": "69a60794-e9c5-4b2d-94f4-d8d9f1eabd0c"
      },
      "source": [
        "cross_val.mean()"
      ],
      "execution_count": 33,
      "outputs": [
        {
          "output_type": "execute_result",
          "data": {
            "text/plain": [
              "0.8987301587301586"
            ]
          },
          "metadata": {
            "tags": []
          },
          "execution_count": 33
        }
      ]
    },
    {
      "cell_type": "markdown",
      "metadata": {
        "id": "mcQM1Fj9vKXg"
      },
      "source": [
        "### 학습된 Decision tree 시각화"
      ]
    },
    {
      "cell_type": "code",
      "metadata": {
        "colab": {
          "base_uri": "https://localhost:8080/"
        },
        "id": "o3mBSmXRvHYZ",
        "outputId": "65f3cfd9-b45c-4b81-95c8-5a97413a6bd3"
      },
      "source": [
        "model = DecisionTreeClassifier()\n",
        "model.fit(wine.data, wine.target)"
      ],
      "execution_count": 34,
      "outputs": [
        {
          "output_type": "execute_result",
          "data": {
            "text/plain": [
              "DecisionTreeClassifier(ccp_alpha=0.0, class_weight=None, criterion='gini',\n",
              "                       max_depth=None, max_features=None, max_leaf_nodes=None,\n",
              "                       min_impurity_decrease=0.0, min_impurity_split=None,\n",
              "                       min_samples_leaf=1, min_samples_split=2,\n",
              "                       min_weight_fraction_leaf=0.0, presort='deprecated',\n",
              "                       random_state=None, splitter='best')"
            ]
          },
          "metadata": {
            "tags": []
          },
          "execution_count": 34
        }
      ]
    },
    {
      "cell_type": "markdown",
      "metadata": {
        "id": "OOBGQ0gZvVyg"
      },
      "source": [
        "#### 텍스트를 통한 시각화"
      ]
    },
    {
      "cell_type": "code",
      "metadata": {
        "id": "zUB3tBfivTsn"
      },
      "source": [
        "r = tree.export_text(decision_tree=model, feature_names=wine.feature_names)"
      ],
      "execution_count": 35,
      "outputs": []
    },
    {
      "cell_type": "code",
      "metadata": {
        "colab": {
          "base_uri": "https://localhost:8080/"
        },
        "id": "toqscjTRvdFT",
        "outputId": "2be8cb4f-dc05-4c90-bf76-e43eafb1c236"
      },
      "source": [
        "print(r)"
      ],
      "execution_count": 36,
      "outputs": [
        {
          "output_type": "stream",
          "text": [
            "|--- proline <= 755.00\n",
            "|   |--- od280/od315_of_diluted_wines <= 2.11\n",
            "|   |   |--- hue <= 0.94\n",
            "|   |   |   |--- flavanoids <= 1.58\n",
            "|   |   |   |   |--- class: 2\n",
            "|   |   |   |--- flavanoids >  1.58\n",
            "|   |   |   |   |--- class: 1\n",
            "|   |   |--- hue >  0.94\n",
            "|   |   |   |--- flavanoids <= 0.56\n",
            "|   |   |   |   |--- class: 2\n",
            "|   |   |   |--- flavanoids >  0.56\n",
            "|   |   |   |   |--- class: 1\n",
            "|   |--- od280/od315_of_diluted_wines >  2.11\n",
            "|   |   |--- flavanoids <= 0.80\n",
            "|   |   |   |--- class: 2\n",
            "|   |   |--- flavanoids >  0.80\n",
            "|   |   |   |--- alcohol <= 13.17\n",
            "|   |   |   |   |--- class: 1\n",
            "|   |   |   |--- alcohol >  13.17\n",
            "|   |   |   |   |--- alcohol <= 13.36\n",
            "|   |   |   |   |   |--- class: 0\n",
            "|   |   |   |   |--- alcohol >  13.36\n",
            "|   |   |   |   |   |--- class: 1\n",
            "|--- proline >  755.00\n",
            "|   |--- flavanoids <= 2.17\n",
            "|   |   |--- flavanoids <= 0.90\n",
            "|   |   |   |--- class: 2\n",
            "|   |   |--- flavanoids >  0.90\n",
            "|   |   |   |--- class: 1\n",
            "|   |--- flavanoids >  2.17\n",
            "|   |   |--- magnesium <= 135.50\n",
            "|   |   |   |--- class: 0\n",
            "|   |   |--- magnesium >  135.50\n",
            "|   |   |   |--- class: 1\n",
            "\n"
          ],
          "name": "stdout"
        }
      ]
    },
    {
      "cell_type": "code",
      "metadata": {
        "colab": {
          "base_uri": "https://localhost:8080/",
          "height": 639
        },
        "id": "RUB2JmW4vip-",
        "outputId": "bcd0c4b5-e121-4136-bf9b-273e93b3daf9"
      },
      "source": [
        "tree.plot_tree(model)"
      ],
      "execution_count": 37,
      "outputs": [
        {
          "output_type": "execute_result",
          "data": {
            "text/plain": [
              "[Text(189.42631578947368, 199.32, 'X[12] <= 755.0\\ngini = 0.658\\nsamples = 178\\nvalue = [59, 71, 48]'),\n",
              " Text(114.53684210526316, 163.07999999999998, 'X[11] <= 2.115\\ngini = 0.492\\nsamples = 111\\nvalue = [2, 67, 42]'),\n",
              " Text(70.48421052631579, 126.83999999999999, 'X[10] <= 0.935\\ngini = 0.227\\nsamples = 46\\nvalue = [0, 6, 40]'),\n",
              " Text(35.242105263157896, 90.6, 'X[6] <= 1.58\\ngini = 0.049\\nsamples = 40\\nvalue = [0, 1, 39]'),\n",
              " Text(17.621052631578948, 54.359999999999985, 'gini = 0.0\\nsamples = 39\\nvalue = [0, 0, 39]'),\n",
              " Text(52.863157894736844, 54.359999999999985, 'gini = 0.0\\nsamples = 1\\nvalue = [0, 1, 0]'),\n",
              " Text(105.72631578947369, 90.6, 'X[6] <= 0.565\\ngini = 0.278\\nsamples = 6\\nvalue = [0, 5, 1]'),\n",
              " Text(88.10526315789474, 54.359999999999985, 'gini = 0.0\\nsamples = 1\\nvalue = [0, 0, 1]'),\n",
              " Text(123.34736842105264, 54.359999999999985, 'gini = 0.0\\nsamples = 5\\nvalue = [0, 5, 0]'),\n",
              " Text(158.58947368421053, 126.83999999999999, 'X[6] <= 0.795\\ngini = 0.117\\nsamples = 65\\nvalue = [2, 61, 2]'),\n",
              " Text(140.96842105263158, 90.6, 'gini = 0.0\\nsamples = 2\\nvalue = [0, 0, 2]'),\n",
              " Text(176.21052631578948, 90.6, 'X[0] <= 13.175\\ngini = 0.061\\nsamples = 63\\nvalue = [2, 61, 0]'),\n",
              " Text(158.58947368421053, 54.359999999999985, 'gini = 0.0\\nsamples = 58\\nvalue = [0, 58, 0]'),\n",
              " Text(193.83157894736843, 54.359999999999985, 'X[0] <= 13.365\\ngini = 0.48\\nsamples = 5\\nvalue = [2, 3, 0]'),\n",
              " Text(176.21052631578948, 18.119999999999976, 'gini = 0.0\\nsamples = 2\\nvalue = [2, 0, 0]'),\n",
              " Text(211.45263157894738, 18.119999999999976, 'gini = 0.0\\nsamples = 3\\nvalue = [0, 3, 0]'),\n",
              " Text(264.3157894736842, 163.07999999999998, 'X[6] <= 2.165\\ngini = 0.265\\nsamples = 67\\nvalue = [57, 4, 6]'),\n",
              " Text(229.07368421052632, 126.83999999999999, 'X[6] <= 0.9\\ngini = 0.375\\nsamples = 8\\nvalue = [0, 2, 6]'),\n",
              " Text(211.45263157894738, 90.6, 'gini = 0.0\\nsamples = 6\\nvalue = [0, 0, 6]'),\n",
              " Text(246.69473684210527, 90.6, 'gini = 0.0\\nsamples = 2\\nvalue = [0, 2, 0]'),\n",
              " Text(299.5578947368421, 126.83999999999999, 'X[4] <= 135.5\\ngini = 0.065\\nsamples = 59\\nvalue = [57, 2, 0]'),\n",
              " Text(281.93684210526317, 90.6, 'gini = 0.0\\nsamples = 57\\nvalue = [57, 0, 0]'),\n",
              " Text(317.17894736842106, 90.6, 'gini = 0.0\\nsamples = 2\\nvalue = [0, 2, 0]')]"
            ]
          },
          "metadata": {
            "tags": []
          },
          "execution_count": 37
        },
        {
          "output_type": "display_data",
          "data": {
            "image/png": "[encoded data removed]",
            "text/plain": [
              "<Figure size 432x288 with 1 Axes>"
            ]
          },
          "metadata": {
            "tags": [],
            "needs_background": "light"
          }
        }
      ]
    },
    {
      "cell_type": "code",
      "metadata": {
        "colab": {
          "base_uri": "https://localhost:8080/",
          "height": 936
        },
        "id": "4aBNX8Tovudm",
        "outputId": "68880d46-b5f5-409d-b301-8b3f9f1c61fb"
      },
      "source": [
        "dot_data = tree.export_graphviz(\n",
        "    decision_tree=model,\n",
        "    feature_names=wine.feature_names,\n",
        "    class_names=wine.target_names,\n",
        "    filled=True,\n",
        "    rounded=True,\n",
        "    special_characters=True\n",
        ")\n",
        "\n",
        "graph = graphviz.Source(dot_data)\n",
        "graph"
      ],
      "execution_count": 38,
      "outputs": [
        {
          "output_type": "execute_result",
          "data": {
            "text/plain": [
              "<graphviz.files.Source at 0x7fc7cbfb1e90>"
            ],
            "image/svg+xml": "<?xml version=\"1.0\" encoding=\"UTF-8\" standalone=\"no\"?>\n<!DOCTYPE svg PUBLIC \"-//W3C//DTD SVG 1.1//EN\"\n \"http://www.w3.org/Graphics/SVG/1.1/DTD/svg11.dtd\">\n<!-- Generated by graphviz version 2.40.1 (20161225.0304)\n -->\n<!-- Title: Tree Pages: 1 -->\n<svg width=\"1239pt\" height=\"671pt\"\n viewBox=\"0.00 0.00 1238.50 671.00\" xmlns=\"http://www.w3.org/2000/svg\" xmlns:xlink=\"http://www.w3.org/1999/xlink\">\n<g id=\"graph0\" class=\"graph\" transform=\"scale(1 1) rotate(0) translate(4 667)\">\n<title>Tree</title>\n<polygon fill=\"#ffffff\" stroke=\"transparent\" points=\"-4,4 -4,-667 1234.5,-667 1234.5,4 -4,4\"/>\n<!-- 0 -->\n<g id=\"node1\" class=\"node\">\n<title>0</title>\n<path fill=\"#ebfcf2\" stroke=\"#000000\" d=\"M709.5,-663C709.5,-663 593.5,-663 593.5,-663 587.5,-663 581.5,-657 581.5,-651 581.5,-651 581.5,-592 581.5,-592 581.5,-586 587.5,-580 593.5,-580 593.5,-580 709.5,-580 709.5,-580 715.5,-580 721.5,-586 721.5,-592 721.5,-592 721.5,-651 721.5,-651 721.5,-657 715.5,-663 709.5,-663\"/>\n<text text-anchor=\"start\" x=\"603.5\" y=\"-647.8\" font-family=\"Helvetica,sans-Serif\" font-size=\"14.00\" fill=\"#000000\">proline ≤ 755.0</text>\n<text text-anchor=\"start\" x=\"613.5\" y=\"-632.8\" font-family=\"Helvetica,sans-Serif\" font-size=\"14.00\" fill=\"#000000\">gini = 0.658</text>\n<text text-anchor=\"start\" x=\"603.5\" y=\"-617.8\" font-family=\"Helvetica,sans-Serif\" font-size=\"14.00\" fill=\"#000000\">samples = 178</text>\n<text text-anchor=\"start\" x=\"589.5\" y=\"-602.8\" font-family=\"Helvetica,sans-Serif\" font-size=\"14.00\" fill=\"#000000\">value = [59, 71, 48]</text>\n<text text-anchor=\"start\" x=\"601.5\" y=\"-587.8\" font-family=\"Helvetica,sans-Serif\" font-size=\"14.00\" fill=\"#000000\">class = class_1</text>\n</g>\n<!-- 1 -->\n<g id=\"node2\" class=\"node\">\n<title>1</title>\n<path fill=\"#b7f6d1\" stroke=\"#000000\" d=\"M639.5,-544C639.5,-544 391.5,-544 391.5,-544 385.5,-544 379.5,-538 379.5,-532 379.5,-532 379.5,-473 379.5,-473 379.5,-467 385.5,-461 391.5,-461 391.5,-461 639.5,-461 639.5,-461 645.5,-461 651.5,-467 651.5,-473 651.5,-473 651.5,-532 651.5,-532 651.5,-538 645.5,-544 639.5,-544\"/>\n<text text-anchor=\"start\" x=\"387.5\" y=\"-528.8\" font-family=\"Helvetica,sans-Serif\" font-size=\"14.00\" fill=\"#000000\">od280/od315_of_diluted_wines ≤ 2.115</text>\n<text text-anchor=\"start\" x=\"477.5\" y=\"-513.8\" font-family=\"Helvetica,sans-Serif\" font-size=\"14.00\" fill=\"#000000\">gini = 0.492</text>\n<text text-anchor=\"start\" x=\"467.5\" y=\"-498.8\" font-family=\"Helvetica,sans-Serif\" font-size=\"14.00\" fill=\"#000000\">samples = 111</text>\n<text text-anchor=\"start\" x=\"458\" y=\"-483.8\" font-family=\"Helvetica,sans-Serif\" font-size=\"14.00\" fill=\"#000000\">value = [2, 67, 42]</text>\n<text text-anchor=\"start\" x=\"465.5\" y=\"-468.8\" font-family=\"Helvetica,sans-Serif\" font-size=\"14.00\" fill=\"#000000\">class = class_1</text>\n</g>\n<!-- 0&#45;&gt;1 -->\n<g id=\"edge1\" class=\"edge\">\n<title>0&#45;&gt;1</title>\n<path fill=\"none\" stroke=\"#000000\" d=\"M603.9338,-579.8796C593.3321,-570.6031 581.9998,-560.6874 571.1067,-551.1559\"/>\n<polygon fill=\"#000000\" stroke=\"#000000\" points=\"573.0998,-548.2491 563.2692,-544.2981 568.4902,-553.5172 573.0998,-548.2491\"/>\n<text text-anchor=\"middle\" x=\"564.9322\" y=\"-565.5427\" font-family=\"Helvetica,sans-Serif\" font-size=\"14.00\" fill=\"#000000\">True</text>\n</g>\n<!-- 16 -->\n<g id=\"node17\" class=\"node\">\n<title>16</title>\n<path fill=\"#e99659\" stroke=\"#000000\" d=\"M878.5,-544C878.5,-544 768.5,-544 768.5,-544 762.5,-544 756.5,-538 756.5,-532 756.5,-532 756.5,-473 756.5,-473 756.5,-467 762.5,-461 768.5,-461 768.5,-461 878.5,-461 878.5,-461 884.5,-461 890.5,-467 890.5,-473 890.5,-473 890.5,-532 890.5,-532 890.5,-538 884.5,-544 878.5,-544\"/>\n<text text-anchor=\"start\" x=\"764.5\" y=\"-528.8\" font-family=\"Helvetica,sans-Serif\" font-size=\"14.00\" fill=\"#000000\">flavanoids ≤ 2.165</text>\n<text text-anchor=\"start\" x=\"785.5\" y=\"-513.8\" font-family=\"Helvetica,sans-Serif\" font-size=\"14.00\" fill=\"#000000\">gini = 0.265</text>\n<text text-anchor=\"start\" x=\"779.5\" y=\"-498.8\" font-family=\"Helvetica,sans-Serif\" font-size=\"14.00\" fill=\"#000000\">samples = 67</text>\n<text text-anchor=\"start\" x=\"770\" y=\"-483.8\" font-family=\"Helvetica,sans-Serif\" font-size=\"14.00\" fill=\"#000000\">value = [57, 4, 6]</text>\n<text text-anchor=\"start\" x=\"773.5\" y=\"-468.8\" font-family=\"Helvetica,sans-Serif\" font-size=\"14.00\" fill=\"#000000\">class = class_0</text>\n</g>\n<!-- 0&#45;&gt;16 -->\n<g id=\"edge16\" class=\"edge\">\n<title>0&#45;&gt;16</title>\n<path fill=\"none\" stroke=\"#000000\" d=\"M711.6573,-579.8796C725.667,-570.1868 740.6854,-559.7961 755.025,-549.8752\"/>\n<polygon fill=\"#000000\" stroke=\"#000000\" points=\"757.1444,-552.6649 763.3767,-544.0969 753.1617,-546.9083 757.1444,-552.6649\"/>\n<text text-anchor=\"middle\" x=\"758.8971\" y=\"-564.9923\" font-family=\"Helvetica,sans-Serif\" font-size=\"14.00\" fill=\"#000000\">False</text>\n</g>\n<!-- 2 -->\n<g id=\"node3\" class=\"node\">\n<title>2</title>\n<path fill=\"#9457e9\" stroke=\"#000000\" d=\"M393,-425C393,-425 294,-425 294,-425 288,-425 282,-419 282,-413 282,-413 282,-354 282,-354 282,-348 288,-342 294,-342 294,-342 393,-342 393,-342 399,-342 405,-348 405,-354 405,-354 405,-413 405,-413 405,-419 399,-425 393,-425\"/>\n<text text-anchor=\"start\" x=\"305\" y=\"-409.8\" font-family=\"Helvetica,sans-Serif\" font-size=\"14.00\" fill=\"#000000\">hue ≤ 0.935</text>\n<text text-anchor=\"start\" x=\"305.5\" y=\"-394.8\" font-family=\"Helvetica,sans-Serif\" font-size=\"14.00\" fill=\"#000000\">gini = 0.227</text>\n<text text-anchor=\"start\" x=\"299.5\" y=\"-379.8\" font-family=\"Helvetica,sans-Serif\" font-size=\"14.00\" fill=\"#000000\">samples = 46</text>\n<text text-anchor=\"start\" x=\"290\" y=\"-364.8\" font-family=\"Helvetica,sans-Serif\" font-size=\"14.00\" fill=\"#000000\">value = [0, 6, 40]</text>\n<text text-anchor=\"start\" x=\"293.5\" y=\"-349.8\" font-family=\"Helvetica,sans-Serif\" font-size=\"14.00\" fill=\"#000000\">class = class_2</text>\n</g>\n<!-- 1&#45;&gt;2 -->\n<g id=\"edge2\" class=\"edge\">\n<title>1&#45;&gt;2</title>\n<path fill=\"none\" stroke=\"#000000\" d=\"M455.3427,-460.8796C441.333,-451.1868 426.3146,-440.7961 411.975,-430.8752\"/>\n<polygon fill=\"#000000\" stroke=\"#000000\" points=\"413.8383,-427.9083 403.6233,-425.0969 409.8556,-433.6649 413.8383,-427.9083\"/>\n</g>\n<!-- 9 -->\n<g id=\"node10\" class=\"node\">\n<title>9</title>\n<path fill=\"#46e789\" stroke=\"#000000\" d=\"M570.5,-425C570.5,-425 460.5,-425 460.5,-425 454.5,-425 448.5,-419 448.5,-413 448.5,-413 448.5,-354 448.5,-354 448.5,-348 454.5,-342 460.5,-342 460.5,-342 570.5,-342 570.5,-342 576.5,-342 582.5,-348 582.5,-354 582.5,-354 582.5,-413 582.5,-413 582.5,-419 576.5,-425 570.5,-425\"/>\n<text text-anchor=\"start\" x=\"456.5\" y=\"-409.8\" font-family=\"Helvetica,sans-Serif\" font-size=\"14.00\" fill=\"#000000\">flavanoids ≤ 0.795</text>\n<text text-anchor=\"start\" x=\"477.5\" y=\"-394.8\" font-family=\"Helvetica,sans-Serif\" font-size=\"14.00\" fill=\"#000000\">gini = 0.117</text>\n<text text-anchor=\"start\" x=\"471.5\" y=\"-379.8\" font-family=\"Helvetica,sans-Serif\" font-size=\"14.00\" fill=\"#000000\">samples = 65</text>\n<text text-anchor=\"start\" x=\"462\" y=\"-364.8\" font-family=\"Helvetica,sans-Serif\" font-size=\"14.00\" fill=\"#000000\">value = [2, 61, 2]</text>\n<text text-anchor=\"start\" x=\"465.5\" y=\"-349.8\" font-family=\"Helvetica,sans-Serif\" font-size=\"14.00\" fill=\"#000000\">class = class_1</text>\n</g>\n<!-- 1&#45;&gt;9 -->\n<g id=\"edge9\" class=\"edge\">\n<title>1&#45;&gt;9</title>\n<path fill=\"none\" stroke=\"#000000\" d=\"M515.5,-460.8796C515.5,-452.6838 515.5,-443.9891 515.5,-435.5013\"/>\n<polygon fill=\"#000000\" stroke=\"#000000\" points=\"519.0001,-435.298 515.5,-425.2981 512.0001,-435.2981 519.0001,-435.298\"/>\n</g>\n<!-- 3 -->\n<g id=\"node4\" class=\"node\">\n<title>3</title>\n<path fill=\"#843ee6\" stroke=\"#000000\" d=\"M246.5,-306C246.5,-306 144.5,-306 144.5,-306 138.5,-306 132.5,-300 132.5,-294 132.5,-294 132.5,-235 132.5,-235 132.5,-229 138.5,-223 144.5,-223 144.5,-223 246.5,-223 246.5,-223 252.5,-223 258.5,-229 258.5,-235 258.5,-235 258.5,-294 258.5,-294 258.5,-300 252.5,-306 246.5,-306\"/>\n<text text-anchor=\"start\" x=\"140.5\" y=\"-290.8\" font-family=\"Helvetica,sans-Serif\" font-size=\"14.00\" fill=\"#000000\">flavanoids ≤ 1.58</text>\n<text text-anchor=\"start\" x=\"157.5\" y=\"-275.8\" font-family=\"Helvetica,sans-Serif\" font-size=\"14.00\" fill=\"#000000\">gini = 0.049</text>\n<text text-anchor=\"start\" x=\"151.5\" y=\"-260.8\" font-family=\"Helvetica,sans-Serif\" font-size=\"14.00\" fill=\"#000000\">samples = 40</text>\n<text text-anchor=\"start\" x=\"142\" y=\"-245.8\" font-family=\"Helvetica,sans-Serif\" font-size=\"14.00\" fill=\"#000000\">value = [0, 1, 39]</text>\n<text text-anchor=\"start\" x=\"145.5\" y=\"-230.8\" font-family=\"Helvetica,sans-Serif\" font-size=\"14.00\" fill=\"#000000\">class = class_2</text>\n</g>\n<!-- 2&#45;&gt;3 -->\n<g id=\"edge3\" class=\"edge\">\n<title>2&#45;&gt;3</title>\n<path fill=\"none\" stroke=\"#000000\" d=\"M291.7368,-341.8796C279.9072,-332.368 267.2419,-322.1843 255.1129,-312.432\"/>\n<polygon fill=\"#000000\" stroke=\"#000000\" points=\"257.2204,-309.6355 247.234,-306.0969 252.8341,-315.0908 257.2204,-309.6355\"/>\n</g>\n<!-- 6 -->\n<g id=\"node7\" class=\"node\">\n<title>6</title>\n<path fill=\"#61ea9a\" stroke=\"#000000\" d=\"M398.5,-306C398.5,-306 288.5,-306 288.5,-306 282.5,-306 276.5,-300 276.5,-294 276.5,-294 276.5,-235 276.5,-235 276.5,-229 282.5,-223 288.5,-223 288.5,-223 398.5,-223 398.5,-223 404.5,-223 410.5,-229 410.5,-235 410.5,-235 410.5,-294 410.5,-294 410.5,-300 404.5,-306 398.5,-306\"/>\n<text text-anchor=\"start\" x=\"284.5\" y=\"-290.8\" font-family=\"Helvetica,sans-Serif\" font-size=\"14.00\" fill=\"#000000\">flavanoids ≤ 0.565</text>\n<text text-anchor=\"start\" x=\"305.5\" y=\"-275.8\" font-family=\"Helvetica,sans-Serif\" font-size=\"14.00\" fill=\"#000000\">gini = 0.278</text>\n<text text-anchor=\"start\" x=\"304\" y=\"-260.8\" font-family=\"Helvetica,sans-Serif\" font-size=\"14.00\" fill=\"#000000\">samples = 6</text>\n<text text-anchor=\"start\" x=\"294\" y=\"-245.8\" font-family=\"Helvetica,sans-Serif\" font-size=\"14.00\" fill=\"#000000\">value = [0, 5, 1]</text>\n<text text-anchor=\"start\" x=\"293.5\" y=\"-230.8\" font-family=\"Helvetica,sans-Serif\" font-size=\"14.00\" fill=\"#000000\">class = class_1</text>\n</g>\n<!-- 2&#45;&gt;6 -->\n<g id=\"edge6\" class=\"edge\">\n<title>2&#45;&gt;6</title>\n<path fill=\"none\" stroke=\"#000000\" d=\"M343.5,-341.8796C343.5,-333.6838 343.5,-324.9891 343.5,-316.5013\"/>\n<polygon fill=\"#000000\" stroke=\"#000000\" points=\"347.0001,-316.298 343.5,-306.2981 340.0001,-316.2981 347.0001,-316.298\"/>\n</g>\n<!-- 4 -->\n<g id=\"node5\" class=\"node\">\n<title>4</title>\n<path fill=\"#8139e5\" stroke=\"#000000\" d=\"M111,-179.5C111,-179.5 12,-179.5 12,-179.5 6,-179.5 0,-173.5 0,-167.5 0,-167.5 0,-123.5 0,-123.5 0,-117.5 6,-111.5 12,-111.5 12,-111.5 111,-111.5 111,-111.5 117,-111.5 123,-117.5 123,-123.5 123,-123.5 123,-167.5 123,-167.5 123,-173.5 117,-179.5 111,-179.5\"/>\n<text text-anchor=\"start\" x=\"32\" y=\"-164.3\" font-family=\"Helvetica,sans-Serif\" font-size=\"14.00\" fill=\"#000000\">gini = 0.0</text>\n<text text-anchor=\"start\" x=\"17.5\" y=\"-149.3\" font-family=\"Helvetica,sans-Serif\" font-size=\"14.00\" fill=\"#000000\">samples = 39</text>\n<text text-anchor=\"start\" x=\"8\" y=\"-134.3\" font-family=\"Helvetica,sans-Serif\" font-size=\"14.00\" fill=\"#000000\">value = [0, 0, 39]</text>\n<text text-anchor=\"start\" x=\"11.5\" y=\"-119.3\" font-family=\"Helvetica,sans-Serif\" font-size=\"14.00\" fill=\"#000000\">class = class_2</text>\n</g>\n<!-- 3&#45;&gt;4 -->\n<g id=\"edge4\" class=\"edge\">\n<title>3&#45;&gt;4</title>\n<path fill=\"none\" stroke=\"#000000\" d=\"M148.6333,-222.8796C135.3844,-211.1138 120.9776,-198.3197 107.7644,-186.5855\"/>\n<polygon fill=\"#000000\" stroke=\"#000000\" points=\"109.9416,-183.8381 100.1403,-179.8149 105.2935,-189.0722 109.9416,-183.8381\"/>\n</g>\n<!-- 5 -->\n<g id=\"node6\" class=\"node\">\n<title>5</title>\n<path fill=\"#39e581\" stroke=\"#000000\" d=\"M245.5,-179.5C245.5,-179.5 153.5,-179.5 153.5,-179.5 147.5,-179.5 141.5,-173.5 141.5,-167.5 141.5,-167.5 141.5,-123.5 141.5,-123.5 141.5,-117.5 147.5,-111.5 153.5,-111.5 153.5,-111.5 245.5,-111.5 245.5,-111.5 251.5,-111.5 257.5,-117.5 257.5,-123.5 257.5,-123.5 257.5,-167.5 257.5,-167.5 257.5,-173.5 251.5,-179.5 245.5,-179.5\"/>\n<text text-anchor=\"start\" x=\"170\" y=\"-164.3\" font-family=\"Helvetica,sans-Serif\" font-size=\"14.00\" fill=\"#000000\">gini = 0.0</text>\n<text text-anchor=\"start\" x=\"160\" y=\"-149.3\" font-family=\"Helvetica,sans-Serif\" font-size=\"14.00\" fill=\"#000000\">samples = 1</text>\n<text text-anchor=\"start\" x=\"150\" y=\"-134.3\" font-family=\"Helvetica,sans-Serif\" font-size=\"14.00\" fill=\"#000000\">value = [0, 1, 0]</text>\n<text text-anchor=\"start\" x=\"149.5\" y=\"-119.3\" font-family=\"Helvetica,sans-Serif\" font-size=\"14.00\" fill=\"#000000\">class = class_1</text>\n</g>\n<!-- 3&#45;&gt;5 -->\n<g id=\"edge5\" class=\"edge\">\n<title>3&#45;&gt;5</title>\n<path fill=\"none\" stroke=\"#000000\" d=\"M196.899,-222.8796C197.2575,-212.2134 197.6445,-200.7021 198.0075,-189.9015\"/>\n<polygon fill=\"#000000\" stroke=\"#000000\" points=\"201.5085,-189.9269 198.3466,-179.8149 194.5125,-189.6917 201.5085,-189.9269\"/>\n</g>\n<!-- 7 -->\n<g id=\"node8\" class=\"node\">\n<title>7</title>\n<path fill=\"#8139e5\" stroke=\"#000000\" d=\"M386.5,-179.5C386.5,-179.5 294.5,-179.5 294.5,-179.5 288.5,-179.5 282.5,-173.5 282.5,-167.5 282.5,-167.5 282.5,-123.5 282.5,-123.5 282.5,-117.5 288.5,-111.5 294.5,-111.5 294.5,-111.5 386.5,-111.5 386.5,-111.5 392.5,-111.5 398.5,-117.5 398.5,-123.5 398.5,-123.5 398.5,-167.5 398.5,-167.5 398.5,-173.5 392.5,-179.5 386.5,-179.5\"/>\n<text text-anchor=\"start\" x=\"311\" y=\"-164.3\" font-family=\"Helvetica,sans-Serif\" font-size=\"14.00\" fill=\"#000000\">gini = 0.0</text>\n<text text-anchor=\"start\" x=\"301\" y=\"-149.3\" font-family=\"Helvetica,sans-Serif\" font-size=\"14.00\" fill=\"#000000\">samples = 1</text>\n<text text-anchor=\"start\" x=\"291\" y=\"-134.3\" font-family=\"Helvetica,sans-Serif\" font-size=\"14.00\" fill=\"#000000\">value = [0, 0, 1]</text>\n<text text-anchor=\"start\" x=\"290.5\" y=\"-119.3\" font-family=\"Helvetica,sans-Serif\" font-size=\"14.00\" fill=\"#000000\">class = class_2</text>\n</g>\n<!-- 6&#45;&gt;7 -->\n<g id=\"edge7\" class=\"edge\">\n<title>6&#45;&gt;7</title>\n<path fill=\"none\" stroke=\"#000000\" d=\"M342.4507,-222.8796C342.1818,-212.2134 341.8916,-200.7021 341.6194,-189.9015\"/>\n<polygon fill=\"#000000\" stroke=\"#000000\" points=\"345.1161,-189.7235 341.3651,-179.8149 338.1183,-189.9 345.1161,-189.7235\"/>\n</g>\n<!-- 8 -->\n<g id=\"node9\" class=\"node\">\n<title>8</title>\n<path fill=\"#39e581\" stroke=\"#000000\" d=\"M520.5,-179.5C520.5,-179.5 428.5,-179.5 428.5,-179.5 422.5,-179.5 416.5,-173.5 416.5,-167.5 416.5,-167.5 416.5,-123.5 416.5,-123.5 416.5,-117.5 422.5,-111.5 428.5,-111.5 428.5,-111.5 520.5,-111.5 520.5,-111.5 526.5,-111.5 532.5,-117.5 532.5,-123.5 532.5,-123.5 532.5,-167.5 532.5,-167.5 532.5,-173.5 526.5,-179.5 520.5,-179.5\"/>\n<text text-anchor=\"start\" x=\"445\" y=\"-164.3\" font-family=\"Helvetica,sans-Serif\" font-size=\"14.00\" fill=\"#000000\">gini = 0.0</text>\n<text text-anchor=\"start\" x=\"435\" y=\"-149.3\" font-family=\"Helvetica,sans-Serif\" font-size=\"14.00\" fill=\"#000000\">samples = 5</text>\n<text text-anchor=\"start\" x=\"425\" y=\"-134.3\" font-family=\"Helvetica,sans-Serif\" font-size=\"14.00\" fill=\"#000000\">value = [0, 5, 0]</text>\n<text text-anchor=\"start\" x=\"424.5\" y=\"-119.3\" font-family=\"Helvetica,sans-Serif\" font-size=\"14.00\" fill=\"#000000\">class = class_1</text>\n</g>\n<!-- 6&#45;&gt;8 -->\n<g id=\"edge8\" class=\"edge\">\n<title>6&#45;&gt;8</title>\n<path fill=\"none\" stroke=\"#000000\" d=\"M389.3174,-222.8796C402.2697,-211.1138 416.354,-198.3197 429.2714,-186.5855\"/>\n<polygon fill=\"#000000\" stroke=\"#000000\" points=\"431.6761,-189.1296 436.7247,-179.8149 426.9694,-183.9482 431.6761,-189.1296\"/>\n</g>\n<!-- 10 -->\n<g id=\"node11\" class=\"node\">\n<title>10</title>\n<path fill=\"#8139e5\" stroke=\"#000000\" d=\"M532.5,-298.5C532.5,-298.5 440.5,-298.5 440.5,-298.5 434.5,-298.5 428.5,-292.5 428.5,-286.5 428.5,-286.5 428.5,-242.5 428.5,-242.5 428.5,-236.5 434.5,-230.5 440.5,-230.5 440.5,-230.5 532.5,-230.5 532.5,-230.5 538.5,-230.5 544.5,-236.5 544.5,-242.5 544.5,-242.5 544.5,-286.5 544.5,-286.5 544.5,-292.5 538.5,-298.5 532.5,-298.5\"/>\n<text text-anchor=\"start\" x=\"457\" y=\"-283.3\" font-family=\"Helvetica,sans-Serif\" font-size=\"14.00\" fill=\"#000000\">gini = 0.0</text>\n<text text-anchor=\"start\" x=\"447\" y=\"-268.3\" font-family=\"Helvetica,sans-Serif\" font-size=\"14.00\" fill=\"#000000\">samples = 2</text>\n<text text-anchor=\"start\" x=\"437\" y=\"-253.3\" font-family=\"Helvetica,sans-Serif\" font-size=\"14.00\" fill=\"#000000\">value = [0, 0, 2]</text>\n<text text-anchor=\"start\" x=\"436.5\" y=\"-238.3\" font-family=\"Helvetica,sans-Serif\" font-size=\"14.00\" fill=\"#000000\">class = class_2</text>\n</g>\n<!-- 9&#45;&gt;10 -->\n<g id=\"edge10\" class=\"edge\">\n<title>9&#45;&gt;10</title>\n<path fill=\"none\" stroke=\"#000000\" d=\"M505.3572,-341.8796C502.7311,-331.1034 499.8948,-319.4647 497.2392,-308.5677\"/>\n<polygon fill=\"#000000\" stroke=\"#000000\" points=\"500.6307,-307.7019 494.8625,-298.8149 493.8297,-309.3593 500.6307,-307.7019\"/>\n</g>\n<!-- 11 -->\n<g id=\"node12\" class=\"node\">\n<title>11</title>\n<path fill=\"#3fe685\" stroke=\"#000000\" d=\"M674,-306C674,-306 575,-306 575,-306 569,-306 563,-300 563,-294 563,-294 563,-235 563,-235 563,-229 569,-223 575,-223 575,-223 674,-223 674,-223 680,-223 686,-229 686,-235 686,-235 686,-294 686,-294 686,-300 680,-306 674,-306\"/>\n<text text-anchor=\"start\" x=\"571\" y=\"-290.8\" font-family=\"Helvetica,sans-Serif\" font-size=\"14.00\" fill=\"#000000\">alcohol ≤ 13.175</text>\n<text text-anchor=\"start\" x=\"586.5\" y=\"-275.8\" font-family=\"Helvetica,sans-Serif\" font-size=\"14.00\" fill=\"#000000\">gini = 0.061</text>\n<text text-anchor=\"start\" x=\"580.5\" y=\"-260.8\" font-family=\"Helvetica,sans-Serif\" font-size=\"14.00\" fill=\"#000000\">samples = 63</text>\n<text text-anchor=\"start\" x=\"571\" y=\"-245.8\" font-family=\"Helvetica,sans-Serif\" font-size=\"14.00\" fill=\"#000000\">value = [2, 61, 0]</text>\n<text text-anchor=\"start\" x=\"574.5\" y=\"-230.8\" font-family=\"Helvetica,sans-Serif\" font-size=\"14.00\" fill=\"#000000\">class = class_1</text>\n</g>\n<!-- 9&#45;&gt;11 -->\n<g id=\"edge11\" class=\"edge\">\n<title>9&#45;&gt;11</title>\n<path fill=\"none\" stroke=\"#000000\" d=\"M553.6229,-341.8796C561.9549,-332.7832 570.8498,-323.0722 579.4239,-313.7116\"/>\n<polygon fill=\"#000000\" stroke=\"#000000\" points=\"582.0408,-316.0363 586.2144,-306.2981 576.8789,-311.3081 582.0408,-316.0363\"/>\n</g>\n<!-- 12 -->\n<g id=\"node13\" class=\"node\">\n<title>12</title>\n<path fill=\"#39e581\" stroke=\"#000000\" d=\"M668,-179.5C668,-179.5 569,-179.5 569,-179.5 563,-179.5 557,-173.5 557,-167.5 557,-167.5 557,-123.5 557,-123.5 557,-117.5 563,-111.5 569,-111.5 569,-111.5 668,-111.5 668,-111.5 674,-111.5 680,-117.5 680,-123.5 680,-123.5 680,-167.5 680,-167.5 680,-173.5 674,-179.5 668,-179.5\"/>\n<text text-anchor=\"start\" x=\"589\" y=\"-164.3\" font-family=\"Helvetica,sans-Serif\" font-size=\"14.00\" fill=\"#000000\">gini = 0.0</text>\n<text text-anchor=\"start\" x=\"574.5\" y=\"-149.3\" font-family=\"Helvetica,sans-Serif\" font-size=\"14.00\" fill=\"#000000\">samples = 58</text>\n<text text-anchor=\"start\" x=\"565\" y=\"-134.3\" font-family=\"Helvetica,sans-Serif\" font-size=\"14.00\" fill=\"#000000\">value = [0, 58, 0]</text>\n<text text-anchor=\"start\" x=\"568.5\" y=\"-119.3\" font-family=\"Helvetica,sans-Serif\" font-size=\"14.00\" fill=\"#000000\">class = class_1</text>\n</g>\n<!-- 11&#45;&gt;12 -->\n<g id=\"edge12\" class=\"edge\">\n<title>11&#45;&gt;12</title>\n<path fill=\"none\" stroke=\"#000000\" d=\"M622.4015,-222.8796C621.8637,-212.2134 621.2833,-200.7021 620.7387,-189.9015\"/>\n<polygon fill=\"#000000\" stroke=\"#000000\" points=\"624.2294,-189.626 620.2302,-179.8149 617.2383,-189.9785 624.2294,-189.626\"/>\n</g>\n<!-- 13 -->\n<g id=\"node14\" class=\"node\">\n<title>13</title>\n<path fill=\"#bdf6d5\" stroke=\"#000000\" d=\"M809,-187C809,-187 710,-187 710,-187 704,-187 698,-181 698,-175 698,-175 698,-116 698,-116 698,-110 704,-104 710,-104 710,-104 809,-104 809,-104 815,-104 821,-110 821,-116 821,-116 821,-175 821,-175 821,-181 815,-187 809,-187\"/>\n<text text-anchor=\"start\" x=\"706\" y=\"-171.8\" font-family=\"Helvetica,sans-Serif\" font-size=\"14.00\" fill=\"#000000\">alcohol ≤ 13.365</text>\n<text text-anchor=\"start\" x=\"726\" y=\"-156.8\" font-family=\"Helvetica,sans-Serif\" font-size=\"14.00\" fill=\"#000000\">gini = 0.48</text>\n<text text-anchor=\"start\" x=\"720\" y=\"-141.8\" font-family=\"Helvetica,sans-Serif\" font-size=\"14.00\" fill=\"#000000\">samples = 5</text>\n<text text-anchor=\"start\" x=\"710\" y=\"-126.8\" font-family=\"Helvetica,sans-Serif\" font-size=\"14.00\" fill=\"#000000\">value = [2, 3, 0]</text>\n<text text-anchor=\"start\" x=\"709.5\" y=\"-111.8\" font-family=\"Helvetica,sans-Serif\" font-size=\"14.00\" fill=\"#000000\">class = class_1</text>\n</g>\n<!-- 11&#45;&gt;13 -->\n<g id=\"edge13\" class=\"edge\">\n<title>11&#45;&gt;13</title>\n<path fill=\"none\" stroke=\"#000000\" d=\"M671.7164,-222.8796C682.2402,-213.6031 693.4891,-203.6874 704.3021,-194.1559\"/>\n<polygon fill=\"#000000\" stroke=\"#000000\" points=\"706.8948,-196.5362 712.082,-187.2981 702.266,-191.2851 706.8948,-196.5362\"/>\n</g>\n<!-- 14 -->\n<g id=\"node15\" class=\"node\">\n<title>14</title>\n<path fill=\"#e58139\" stroke=\"#000000\" d=\"M738.5,-68C738.5,-68 646.5,-68 646.5,-68 640.5,-68 634.5,-62 634.5,-56 634.5,-56 634.5,-12 634.5,-12 634.5,-6 640.5,0 646.5,0 646.5,0 738.5,0 738.5,0 744.5,0 750.5,-6 750.5,-12 750.5,-12 750.5,-56 750.5,-56 750.5,-62 744.5,-68 738.5,-68\"/>\n<text text-anchor=\"start\" x=\"663\" y=\"-52.8\" font-family=\"Helvetica,sans-Serif\" font-size=\"14.00\" fill=\"#000000\">gini = 0.0</text>\n<text text-anchor=\"start\" x=\"653\" y=\"-37.8\" font-family=\"Helvetica,sans-Serif\" font-size=\"14.00\" fill=\"#000000\">samples = 2</text>\n<text text-anchor=\"start\" x=\"643\" y=\"-22.8\" font-family=\"Helvetica,sans-Serif\" font-size=\"14.00\" fill=\"#000000\">value = [2, 0, 0]</text>\n<text text-anchor=\"start\" x=\"642.5\" y=\"-7.8\" font-family=\"Helvetica,sans-Serif\" font-size=\"14.00\" fill=\"#000000\">class = class_0</text>\n</g>\n<!-- 13&#45;&gt;14 -->\n<g id=\"edge14\" class=\"edge\">\n<title>13&#45;&gt;14</title>\n<path fill=\"none\" stroke=\"#000000\" d=\"M734.5517,-103.9815C729.2499,-95.1585 723.6419,-85.8258 718.3089,-76.9506\"/>\n<polygon fill=\"#000000\" stroke=\"#000000\" points=\"721.2396,-75.0325 713.0889,-68.2637 715.2395,-78.638 721.2396,-75.0325\"/>\n</g>\n<!-- 15 -->\n<g id=\"node16\" class=\"node\">\n<title>15</title>\n<path fill=\"#39e581\" stroke=\"#000000\" d=\"M872.5,-68C872.5,-68 780.5,-68 780.5,-68 774.5,-68 768.5,-62 768.5,-56 768.5,-56 768.5,-12 768.5,-12 768.5,-6 774.5,0 780.5,0 780.5,0 872.5,0 872.5,0 878.5,0 884.5,-6 884.5,-12 884.5,-12 884.5,-56 884.5,-56 884.5,-62 878.5,-68 872.5,-68\"/>\n<text text-anchor=\"start\" x=\"797\" y=\"-52.8\" font-family=\"Helvetica,sans-Serif\" font-size=\"14.00\" fill=\"#000000\">gini = 0.0</text>\n<text text-anchor=\"start\" x=\"787\" y=\"-37.8\" font-family=\"Helvetica,sans-Serif\" font-size=\"14.00\" fill=\"#000000\">samples = 3</text>\n<text text-anchor=\"start\" x=\"777\" y=\"-22.8\" font-family=\"Helvetica,sans-Serif\" font-size=\"14.00\" fill=\"#000000\">value = [0, 3, 0]</text>\n<text text-anchor=\"start\" x=\"776.5\" y=\"-7.8\" font-family=\"Helvetica,sans-Serif\" font-size=\"14.00\" fill=\"#000000\">class = class_1</text>\n</g>\n<!-- 13&#45;&gt;15 -->\n<g id=\"edge15\" class=\"edge\">\n<title>13&#45;&gt;15</title>\n<path fill=\"none\" stroke=\"#000000\" d=\"M784.4483,-103.9815C789.7501,-95.1585 795.3581,-85.8258 800.6911,-76.9506\"/>\n<polygon fill=\"#000000\" stroke=\"#000000\" points=\"803.7605,-78.638 805.9111,-68.2637 797.7604,-75.0325 803.7605,-78.638\"/>\n</g>\n<!-- 17 -->\n<g id=\"node18\" class=\"node\">\n<title>17</title>\n<path fill=\"#ab7bee\" stroke=\"#000000\" d=\"M870.5,-425C870.5,-425 776.5,-425 776.5,-425 770.5,-425 764.5,-419 764.5,-413 764.5,-413 764.5,-354 764.5,-354 764.5,-348 770.5,-342 776.5,-342 776.5,-342 870.5,-342 870.5,-342 876.5,-342 882.5,-348 882.5,-354 882.5,-354 882.5,-413 882.5,-413 882.5,-419 876.5,-425 870.5,-425\"/>\n<text text-anchor=\"start\" x=\"772.5\" y=\"-409.8\" font-family=\"Helvetica,sans-Serif\" font-size=\"14.00\" fill=\"#000000\">flavanoids ≤ 0.9</text>\n<text text-anchor=\"start\" x=\"785.5\" y=\"-394.8\" font-family=\"Helvetica,sans-Serif\" font-size=\"14.00\" fill=\"#000000\">gini = 0.375</text>\n<text text-anchor=\"start\" x=\"784\" y=\"-379.8\" font-family=\"Helvetica,sans-Serif\" font-size=\"14.00\" fill=\"#000000\">samples = 8</text>\n<text text-anchor=\"start\" x=\"774\" y=\"-364.8\" font-family=\"Helvetica,sans-Serif\" font-size=\"14.00\" fill=\"#000000\">value = [0, 2, 6]</text>\n<text text-anchor=\"start\" x=\"773.5\" y=\"-349.8\" font-family=\"Helvetica,sans-Serif\" font-size=\"14.00\" fill=\"#000000\">class = class_2</text>\n</g>\n<!-- 16&#45;&gt;17 -->\n<g id=\"edge17\" class=\"edge\">\n<title>16&#45;&gt;17</title>\n<path fill=\"none\" stroke=\"#000000\" d=\"M823.5,-460.8796C823.5,-452.6838 823.5,-443.9891 823.5,-435.5013\"/>\n<polygon fill=\"#000000\" stroke=\"#000000\" points=\"827.0001,-435.298 823.5,-425.2981 820.0001,-435.2981 827.0001,-435.298\"/>\n</g>\n<!-- 20 -->\n<g id=\"node21\" class=\"node\">\n<title>20</title>\n<path fill=\"#e68540\" stroke=\"#000000\" d=\"M1094.5,-425C1094.5,-425 974.5,-425 974.5,-425 968.5,-425 962.5,-419 962.5,-413 962.5,-413 962.5,-354 962.5,-354 962.5,-348 968.5,-342 974.5,-342 974.5,-342 1094.5,-342 1094.5,-342 1100.5,-342 1106.5,-348 1106.5,-354 1106.5,-354 1106.5,-413 1106.5,-413 1106.5,-419 1100.5,-425 1094.5,-425\"/>\n<text text-anchor=\"start\" x=\"970.5\" y=\"-409.8\" font-family=\"Helvetica,sans-Serif\" font-size=\"14.00\" fill=\"#000000\">magnesium ≤ 135.5</text>\n<text text-anchor=\"start\" x=\"996.5\" y=\"-394.8\" font-family=\"Helvetica,sans-Serif\" font-size=\"14.00\" fill=\"#000000\">gini = 0.065</text>\n<text text-anchor=\"start\" x=\"990.5\" y=\"-379.8\" font-family=\"Helvetica,sans-Serif\" font-size=\"14.00\" fill=\"#000000\">samples = 59</text>\n<text text-anchor=\"start\" x=\"981\" y=\"-364.8\" font-family=\"Helvetica,sans-Serif\" font-size=\"14.00\" fill=\"#000000\">value = [57, 2, 0]</text>\n<text text-anchor=\"start\" x=\"984.5\" y=\"-349.8\" font-family=\"Helvetica,sans-Serif\" font-size=\"14.00\" fill=\"#000000\">class = class_0</text>\n</g>\n<!-- 16&#45;&gt;20 -->\n<g id=\"edge20\" class=\"edge\">\n<title>16&#45;&gt;20</title>\n<path fill=\"none\" stroke=\"#000000\" d=\"M890.5516,-464.6841C910.5077,-453.4293 932.59,-440.9753 953.3431,-429.271\"/>\n<polygon fill=\"#000000\" stroke=\"#000000\" points=\"955.1549,-432.2674 962.1458,-424.3064 951.7162,-426.1703 955.1549,-432.2674\"/>\n</g>\n<!-- 18 -->\n<g id=\"node19\" class=\"node\">\n<title>18</title>\n<path fill=\"#8139e5\" stroke=\"#000000\" d=\"M808.5,-298.5C808.5,-298.5 716.5,-298.5 716.5,-298.5 710.5,-298.5 704.5,-292.5 704.5,-286.5 704.5,-286.5 704.5,-242.5 704.5,-242.5 704.5,-236.5 710.5,-230.5 716.5,-230.5 716.5,-230.5 808.5,-230.5 808.5,-230.5 814.5,-230.5 820.5,-236.5 820.5,-242.5 820.5,-242.5 820.5,-286.5 820.5,-286.5 820.5,-292.5 814.5,-298.5 808.5,-298.5\"/>\n<text text-anchor=\"start\" x=\"733\" y=\"-283.3\" font-family=\"Helvetica,sans-Serif\" font-size=\"14.00\" fill=\"#000000\">gini = 0.0</text>\n<text text-anchor=\"start\" x=\"723\" y=\"-268.3\" font-family=\"Helvetica,sans-Serif\" font-size=\"14.00\" fill=\"#000000\">samples = 6</text>\n<text text-anchor=\"start\" x=\"713\" y=\"-253.3\" font-family=\"Helvetica,sans-Serif\" font-size=\"14.00\" fill=\"#000000\">value = [0, 0, 6]</text>\n<text text-anchor=\"start\" x=\"712.5\" y=\"-238.3\" font-family=\"Helvetica,sans-Serif\" font-size=\"14.00\" fill=\"#000000\">class = class_2</text>\n</g>\n<!-- 17&#45;&gt;18 -->\n<g id=\"edge18\" class=\"edge\">\n<title>17&#45;&gt;18</title>\n<path fill=\"none\" stroke=\"#000000\" d=\"M802.1652,-341.8796C796.5285,-330.8835 790.4315,-318.9893 784.7478,-307.9015\"/>\n<polygon fill=\"#000000\" stroke=\"#000000\" points=\"787.7663,-306.1173 780.09,-298.8149 781.5371,-309.3105 787.7663,-306.1173\"/>\n</g>\n<!-- 19 -->\n<g id=\"node20\" class=\"node\">\n<title>19</title>\n<path fill=\"#39e581\" stroke=\"#000000\" d=\"M942.5,-298.5C942.5,-298.5 850.5,-298.5 850.5,-298.5 844.5,-298.5 838.5,-292.5 838.5,-286.5 838.5,-286.5 838.5,-242.5 838.5,-242.5 838.5,-236.5 844.5,-230.5 850.5,-230.5 850.5,-230.5 942.5,-230.5 942.5,-230.5 948.5,-230.5 954.5,-236.5 954.5,-242.5 954.5,-242.5 954.5,-286.5 954.5,-286.5 954.5,-292.5 948.5,-298.5 942.5,-298.5\"/>\n<text text-anchor=\"start\" x=\"867\" y=\"-283.3\" font-family=\"Helvetica,sans-Serif\" font-size=\"14.00\" fill=\"#000000\">gini = 0.0</text>\n<text text-anchor=\"start\" x=\"857\" y=\"-268.3\" font-family=\"Helvetica,sans-Serif\" font-size=\"14.00\" fill=\"#000000\">samples = 2</text>\n<text text-anchor=\"start\" x=\"847\" y=\"-253.3\" font-family=\"Helvetica,sans-Serif\" font-size=\"14.00\" fill=\"#000000\">value = [0, 2, 0]</text>\n<text text-anchor=\"start\" x=\"846.5\" y=\"-238.3\" font-family=\"Helvetica,sans-Serif\" font-size=\"14.00\" fill=\"#000000\">class = class_1</text>\n</g>\n<!-- 17&#45;&gt;19 -->\n<g id=\"edge19\" class=\"edge\">\n<title>17&#45;&gt;19</title>\n<path fill=\"none\" stroke=\"#000000\" d=\"M849.0319,-341.8796C855.8448,-330.7735 863.2198,-318.7513 870.0794,-307.5691\"/>\n<polygon fill=\"#000000\" stroke=\"#000000\" points=\"873.204,-309.1691 875.4497,-298.8149 867.2372,-305.5087 873.204,-309.1691\"/>\n</g>\n<!-- 21 -->\n<g id=\"node22\" class=\"node\">\n<title>21</title>\n<path fill=\"#e58139\" stroke=\"#000000\" d=\"M1084,-298.5C1084,-298.5 985,-298.5 985,-298.5 979,-298.5 973,-292.5 973,-286.5 973,-286.5 973,-242.5 973,-242.5 973,-236.5 979,-230.5 985,-230.5 985,-230.5 1084,-230.5 1084,-230.5 1090,-230.5 1096,-236.5 1096,-242.5 1096,-242.5 1096,-286.5 1096,-286.5 1096,-292.5 1090,-298.5 1084,-298.5\"/>\n<text text-anchor=\"start\" x=\"1005\" y=\"-283.3\" font-family=\"Helvetica,sans-Serif\" font-size=\"14.00\" fill=\"#000000\">gini = 0.0</text>\n<text text-anchor=\"start\" x=\"990.5\" y=\"-268.3\" font-family=\"Helvetica,sans-Serif\" font-size=\"14.00\" fill=\"#000000\">samples = 57</text>\n<text text-anchor=\"start\" x=\"981\" y=\"-253.3\" font-family=\"Helvetica,sans-Serif\" font-size=\"14.00\" fill=\"#000000\">value = [57, 0, 0]</text>\n<text text-anchor=\"start\" x=\"984.5\" y=\"-238.3\" font-family=\"Helvetica,sans-Serif\" font-size=\"14.00\" fill=\"#000000\">class = class_0</text>\n</g>\n<!-- 20&#45;&gt;21 -->\n<g id=\"edge21\" class=\"edge\">\n<title>20&#45;&gt;21</title>\n<path fill=\"none\" stroke=\"#000000\" d=\"M1034.5,-341.8796C1034.5,-331.2134 1034.5,-319.7021 1034.5,-308.9015\"/>\n<polygon fill=\"#000000\" stroke=\"#000000\" points=\"1038.0001,-308.8149 1034.5,-298.8149 1031.0001,-308.815 1038.0001,-308.8149\"/>\n</g>\n<!-- 22 -->\n<g id=\"node23\" class=\"node\">\n<title>22</title>\n<path fill=\"#39e581\" stroke=\"#000000\" d=\"M1218.5,-298.5C1218.5,-298.5 1126.5,-298.5 1126.5,-298.5 1120.5,-298.5 1114.5,-292.5 1114.5,-286.5 1114.5,-286.5 1114.5,-242.5 1114.5,-242.5 1114.5,-236.5 1120.5,-230.5 1126.5,-230.5 1126.5,-230.5 1218.5,-230.5 1218.5,-230.5 1224.5,-230.5 1230.5,-236.5 1230.5,-242.5 1230.5,-242.5 1230.5,-286.5 1230.5,-286.5 1230.5,-292.5 1224.5,-298.5 1218.5,-298.5\"/>\n<text text-anchor=\"start\" x=\"1143\" y=\"-283.3\" font-family=\"Helvetica,sans-Serif\" font-size=\"14.00\" fill=\"#000000\">gini = 0.0</text>\n<text text-anchor=\"start\" x=\"1133\" y=\"-268.3\" font-family=\"Helvetica,sans-Serif\" font-size=\"14.00\" fill=\"#000000\">samples = 2</text>\n<text text-anchor=\"start\" x=\"1123\" y=\"-253.3\" font-family=\"Helvetica,sans-Serif\" font-size=\"14.00\" fill=\"#000000\">value = [0, 2, 0]</text>\n<text text-anchor=\"start\" x=\"1122.5\" y=\"-238.3\" font-family=\"Helvetica,sans-Serif\" font-size=\"14.00\" fill=\"#000000\">class = class_1</text>\n</g>\n<!-- 20&#45;&gt;22 -->\n<g id=\"edge22\" class=\"edge\">\n<title>20&#45;&gt;22</title>\n<path fill=\"none\" stroke=\"#000000\" d=\"M1082.7657,-341.8796C1096.4101,-330.1138 1111.2469,-317.3197 1124.8546,-305.5855\"/>\n<polygon fill=\"#000000\" stroke=\"#000000\" points=\"1127.4187,-307.9961 1132.7062,-298.8149 1122.8473,-302.6948 1127.4187,-307.9961\"/>\n</g>\n</g>\n</svg>\n"
          },
          "metadata": {
            "tags": []
          },
          "execution_count": 38
        }
      ]
    },
    {
      "cell_type": "markdown",
      "metadata": {
        "id": "x1k_umWxx6ou"
      },
      "source": [
        "### 시각화"
      ]
    },
    {
      "cell_type": "code",
      "metadata": {
        "id": "k-chqU-HwBp6"
      },
      "source": [
        "n_classes = 3\n",
        "plot_colors = 'ryb'\n",
        "plot_step = 0.02"
      ],
      "execution_count": 39,
      "outputs": []
    },
    {
      "cell_type": "markdown",
      "metadata": {
        "id": "laZ0SS1-yGVP"
      },
      "source": [
        "#### 결정 경계 시각화"
      ]
    },
    {
      "cell_type": "code",
      "metadata": {
        "colab": {
          "base_uri": "https://localhost:8080/",
          "height": 570
        },
        "id": "M_1rlE8byCiB",
        "outputId": "f5f81af3-e417-445e-e13a-5ad9a547a6ba"
      },
      "source": [
        "plt.figure(figsize=(16, 8))\n",
        "\n",
        "for pairIdx, pair in enumerate([[0, 1], [0, 2], [0, 3],\n",
        "                                [1, 2], [1, 3], [2, 3]]):\n",
        "    X = wine.data[:, pair]\n",
        "    y = wine.target\n",
        "\n",
        "    model = DecisionTreeClassifier()\n",
        "    model.fit(X, y)\n",
        "\n",
        "    plt.subplot(2, 3, pairIdx + 1)\n",
        "\n",
        "    x_min, x_max = X[:, 0].min() - 1, X[:, 0].max() + 1\n",
        "    y_min, y_max = X[:, 1].min() - 1, X[:, 1].max() + 1\n",
        "\n",
        "    xx, yy = np.meshgrid(np.arange(x_min, x_max, plot_step),\n",
        "                         np.arange(y_min, y_max, plot_step))\n",
        "    \n",
        "    plt.tight_layout(h_pad = -0.5, w_pad = 0.5, pad = 2.5)\n",
        "\n",
        "    Z = model.predict(np.c_[xx.ravel(), yy.ravel()])\n",
        "    Z = Z.reshape(xx.shape)\n",
        "    cs = plt.contourf(xx, yy, Z, cmap = plt.cm.RdYlBu)\n",
        "\n",
        "    plt.xlabel(wine.feature_names[pair[0]])\n",
        "    plt.ylabel(wine.feature_names[pair[1]])\n",
        "\n",
        "    for i, color in zip(range(n_classes), plot_colors):\n",
        "        idx = np.where(y==1)\n",
        "        plt.scatter(\n",
        "            X[idx, 0], \n",
        "            X[idx, 1],\n",
        "            c = color,\n",
        "            label = wine.target_names[i],\n",
        "            cmap = plt.cm.RdYlBu,\n",
        "            edgecolor = 'b',\n",
        "            s = 15)\n",
        "\n",
        "    plt.suptitle('Decision surface')\n",
        "    plt.legend(loc = 'lower right', borderpad = 0, handletextpad = 0)\n",
        "    plt.axis('tight')"
      ],
      "execution_count": 40,
      "outputs": [
        {
          "output_type": "display_data",
          "data": {
            "image/png": "[encoded data removed]",
            "text/plain": [
              "<Figure size 1152x576 with 6 Axes>"
            ]
          },
          "metadata": {
            "tags": [],
            "needs_background": "light"
          }
        }
      ]
    },
    {
      "cell_type": "markdown",
      "metadata": {
        "id": "RMcKIQMWyXch"
      },
      "source": [
        "#### 하이퍼파라미터를 변경해 보면서 결정 경계의 변화 확인"
      ]
    },
    {
      "cell_type": "code",
      "metadata": {
        "colab": {
          "base_uri": "https://localhost:8080/",
          "height": 570
        },
        "id": "q2ka5POYyOZd",
        "outputId": "6888788a-4abe-480b-8ced-b24c25eb3765"
      },
      "source": [
        "plt.figure(figsize=(16, 8))\n",
        "\n",
        "for pairIdx, pair in enumerate([[0, 1], [0, 2], [0, 3],\n",
        "                                [1, 2], [1, 3], [2, 3]]):\n",
        "    X = wine.data[:, pair]\n",
        "    y = wine.target\n",
        "\n",
        "    model = DecisionTreeClassifier(max_depth=2)\n",
        "    model.fit(X, y)\n",
        "\n",
        "    plt.subplot(2, 3, pairIdx + 1)\n",
        "\n",
        "    x_min, x_max = X[:, 0].min() - 1, X[:, 0].max() + 1\n",
        "    y_min, y_max = X[:, 1].min() - 1, X[:, 1].max() + 1\n",
        "\n",
        "    xx, yy = np.meshgrid(np.arange(x_min, x_max, plot_step),\n",
        "                         np.arange(y_min, y_max, plot_step))\n",
        "    \n",
        "    plt.tight_layout(h_pad = -0.5, w_pad = 0.5, pad = 2.5)\n",
        "\n",
        "    Z = model.predict(np.c_[xx.ravel(), yy.ravel()])\n",
        "    Z = Z.reshape(xx.shape)\n",
        "    cs = plt.contourf(xx, yy, Z, cmap = plt.cm.RdYlBu)\n",
        "\n",
        "    plt.xlabel(wine.feature_names[pair[0]])\n",
        "    plt.ylabel(wine.feature_names[pair[1]])\n",
        "\n",
        "    for i, color in zip(range(n_classes), plot_colors):\n",
        "        idx = np.where(y==1)\n",
        "        plt.scatter(\n",
        "            X[idx, 0], \n",
        "            X[idx, 1],\n",
        "            c = color,\n",
        "            label = wine.target_names[i],\n",
        "            cmap = plt.cm.RdYlBu,\n",
        "            edgecolor = 'b',\n",
        "            s = 15)\n",
        "\n",
        "    plt.suptitle('Decision surface')\n",
        "    plt.legend(loc = 'lower right', borderpad = 0, handletextpad = 0)\n",
        "    plt.axis('tight')"
      ],
      "execution_count": 41,
      "outputs": [
        {
          "output_type": "display_data",
          "data": {
            "image/png": "[encoded data removed]",
            "text/plain": [
              "<Figure size 1152x576 with 6 Axes>"
            ]
          },
          "metadata": {
            "tags": [],
            "needs_background": "light"
          }
        }
      ]
    },
    {
      "cell_type": "markdown",
      "metadata": {
        "id": "dLE4dQ1Yy5e-"
      },
      "source": [
        "### Breast cancer 데이터 학습"
      ]
    },
    {
      "cell_type": "markdown",
      "metadata": {
        "id": "UaFO1fs7zXqP"
      },
      "source": [
        "#### 전처리 없이 학습"
      ]
    },
    {
      "cell_type": "code",
      "metadata": {
        "id": "YZDyGfF4yhFB"
      },
      "source": [
        "model = DecisionTreeClassifier()"
      ],
      "execution_count": 42,
      "outputs": []
    },
    {
      "cell_type": "code",
      "metadata": {
        "id": "6etUe8nBzGMn"
      },
      "source": [
        "cross_val = cross_val_score(\n",
        "    estimator = model,\n",
        "    X = cancer.data,\n",
        "    y = cancer.target,\n",
        "    cv = 5,\n",
        "    n_jobs = multiprocessing.cpu_count()\n",
        ")"
      ],
      "execution_count": 43,
      "outputs": []
    },
    {
      "cell_type": "code",
      "metadata": {
        "colab": {
          "base_uri": "https://localhost:8080/"
        },
        "id": "GgaS2MzGzTLe",
        "outputId": "4ee770b1-1868-46a5-d95a-c1acc53f24ff"
      },
      "source": [
        "cross_val"
      ],
      "execution_count": 44,
      "outputs": [
        {
          "output_type": "execute_result",
          "data": {
            "text/plain": [
              "array([0.9122807 , 0.92982456, 0.92982456, 0.92105263, 0.89380531])"
            ]
          },
          "metadata": {
            "tags": []
          },
          "execution_count": 44
        }
      ]
    },
    {
      "cell_type": "code",
      "metadata": {
        "colab": {
          "base_uri": "https://localhost:8080/"
        },
        "id": "HhjpYEl4zUZw",
        "outputId": "9752cf26-2768-4419-9246-57d5d816263a"
      },
      "source": [
        "cross_val.mean()"
      ],
      "execution_count": 45,
      "outputs": [
        {
          "output_type": "execute_result",
          "data": {
            "text/plain": [
              "0.9173575531749728"
            ]
          },
          "metadata": {
            "tags": []
          },
          "execution_count": 45
        }
      ]
    },
    {
      "cell_type": "markdown",
      "metadata": {
        "id": "ujcqykh4zadY"
      },
      "source": [
        "#### 전처리 후 학습"
      ]
    },
    {
      "cell_type": "code",
      "metadata": {
        "id": "0RR1iT_EzV3R"
      },
      "source": [
        "model = make_pipeline(\n",
        "    StandardScaler(),\n",
        "    DecisionTreeClassifier()\n",
        ")"
      ],
      "execution_count": 46,
      "outputs": []
    },
    {
      "cell_type": "code",
      "metadata": {
        "id": "L-aOnoP6zgku"
      },
      "source": [
        "cross_val = cross_val_score(\n",
        "    estimator = model,\n",
        "    X = cancer.data,\n",
        "    y = cancer.target,\n",
        "    cv = 5,\n",
        "    n_jobs = multiprocessing.cpu_count()\n",
        ")"
      ],
      "execution_count": 47,
      "outputs": []
    },
    {
      "cell_type": "code",
      "metadata": {
        "colab": {
          "base_uri": "https://localhost:8080/"
        },
        "id": "Biz0PWrKziQJ",
        "outputId": "6d74b61f-b9c3-45e0-82ed-aa9a73cdf2ee"
      },
      "source": [
        "cross_val"
      ],
      "execution_count": 48,
      "outputs": [
        {
          "output_type": "execute_result",
          "data": {
            "text/plain": [
              "array([0.90350877, 0.90350877, 0.92105263, 0.93859649, 0.90265487])"
            ]
          },
          "metadata": {
            "tags": []
          },
          "execution_count": 48
        }
      ]
    },
    {
      "cell_type": "code",
      "metadata": {
        "colab": {
          "base_uri": "https://localhost:8080/"
        },
        "id": "OJVfa9GBzjs8",
        "outputId": "96de3513-de06-4031-b819-33008b420970"
      },
      "source": [
        "cross_val.mean()"
      ],
      "execution_count": 49,
      "outputs": [
        {
          "output_type": "execute_result",
          "data": {
            "text/plain": [
              "0.9138643067846608"
            ]
          },
          "metadata": {
            "tags": []
          },
          "execution_count": 49
        }
      ]
    },
    {
      "cell_type": "markdown",
      "metadata": {
        "id": "mBUoGcBWz6YH"
      },
      "source": [
        "### 학습된 Decision tree 시각화"
      ]
    },
    {
      "cell_type": "code",
      "metadata": {
        "colab": {
          "base_uri": "https://localhost:8080/"
        },
        "id": "BDaJJf4Szk6w",
        "outputId": "2ea2c91f-6d83-4955-c210-393830546e4e"
      },
      "source": [
        "model = DecisionTreeClassifier()\n",
        "model.fit(cancer.data, cancer.target)"
      ],
      "execution_count": 50,
      "outputs": [
        {
          "output_type": "execute_result",
          "data": {
            "text/plain": [
              "DecisionTreeClassifier(ccp_alpha=0.0, class_weight=None, criterion='gini',\n",
              "                       max_depth=None, max_features=None, max_leaf_nodes=None,\n",
              "                       min_impurity_decrease=0.0, min_impurity_split=None,\n",
              "                       min_samples_leaf=1, min_samples_split=2,\n",
              "                       min_weight_fraction_leaf=0.0, presort='deprecated',\n",
              "                       random_state=None, splitter='best')"
            ]
          },
          "metadata": {
            "tags": []
          },
          "execution_count": 50
        }
      ]
    },
    {
      "cell_type": "markdown",
      "metadata": {
        "id": "0NQ3xiVQ0J7B"
      },
      "source": [
        "#### 텍스트를 통한 시각화"
      ]
    },
    {
      "cell_type": "code",
      "metadata": {
        "colab": {
          "base_uri": "https://localhost:8080/"
        },
        "id": "jy-c9ueW0gr0",
        "outputId": "d5a39b0e-7512-4e6c-ed33-e9419ecb3edd"
      },
      "source": [
        "cancer.feature_names"
      ],
      "execution_count": 51,
      "outputs": [
        {
          "output_type": "execute_result",
          "data": {
            "text/plain": [
              "array(['mean radius', 'mean texture', 'mean perimeter', 'mean area',\n",
              "       'mean smoothness', 'mean compactness', 'mean concavity',\n",
              "       'mean concave points', 'mean symmetry', 'mean fractal dimension',\n",
              "       'radius error', 'texture error', 'perimeter error', 'area error',\n",
              "       'smoothness error', 'compactness error', 'concavity error',\n",
              "       'concave points error', 'symmetry error',\n",
              "       'fractal dimension error', 'worst radius', 'worst texture',\n",
              "       'worst perimeter', 'worst area', 'worst smoothness',\n",
              "       'worst compactness', 'worst concavity', 'worst concave points',\n",
              "       'worst symmetry', 'worst fractal dimension'], dtype='<U23')"
            ]
          },
          "metadata": {
            "tags": []
          },
          "execution_count": 51
        }
      ]
    },
    {
      "cell_type": "code",
      "metadata": {
        "colab": {
          "base_uri": "https://localhost:8080/"
        },
        "id": "rxaeekPn0FKp",
        "outputId": "4cec3e5a-64de-4720-ca3b-a19958c4d34b"
      },
      "source": [
        "r = tree.export_text(decision_tree=model)\n",
        "print(r)"
      ],
      "execution_count": 52,
      "outputs": [
        {
          "output_type": "stream",
          "text": [
            "|--- feature_20 <= 16.80\n",
            "|   |--- feature_27 <= 0.14\n",
            "|   |   |--- feature_28 <= 0.16\n",
            "|   |   |   |--- class: 0\n",
            "|   |   |--- feature_28 >  0.16\n",
            "|   |   |   |--- feature_13 <= 38.60\n",
            "|   |   |   |   |--- feature_14 <= 0.00\n",
            "|   |   |   |   |   |--- feature_26 <= 0.19\n",
            "|   |   |   |   |   |   |--- class: 1\n",
            "|   |   |   |   |   |--- feature_26 >  0.19\n",
            "|   |   |   |   |   |   |--- class: 0\n",
            "|   |   |   |   |--- feature_14 >  0.00\n",
            "|   |   |   |   |   |--- feature_21 <= 33.27\n",
            "|   |   |   |   |   |   |--- class: 1\n",
            "|   |   |   |   |   |--- feature_21 >  33.27\n",
            "|   |   |   |   |   |   |--- feature_21 <= 33.56\n",
            "|   |   |   |   |   |   |   |--- class: 0\n",
            "|   |   |   |   |   |   |--- feature_21 >  33.56\n",
            "|   |   |   |   |   |   |   |--- class: 1\n",
            "|   |   |   |--- feature_13 >  38.60\n",
            "|   |   |   |   |--- feature_13 <= 39.15\n",
            "|   |   |   |   |   |--- class: 0\n",
            "|   |   |   |   |--- feature_13 >  39.15\n",
            "|   |   |   |   |   |--- feature_15 <= 0.01\n",
            "|   |   |   |   |   |   |--- class: 0\n",
            "|   |   |   |   |   |--- feature_15 >  0.01\n",
            "|   |   |   |   |   |   |--- class: 1\n",
            "|   |--- feature_27 >  0.14\n",
            "|   |   |--- feature_21 <= 25.67\n",
            "|   |   |   |--- feature_23 <= 810.30\n",
            "|   |   |   |   |--- feature_4 <= 0.12\n",
            "|   |   |   |   |   |--- class: 1\n",
            "|   |   |   |   |--- feature_4 >  0.12\n",
            "|   |   |   |   |   |--- class: 0\n",
            "|   |   |   |--- feature_23 >  810.30\n",
            "|   |   |   |   |--- feature_2 <= 92.79\n",
            "|   |   |   |   |   |--- class: 0\n",
            "|   |   |   |   |--- feature_2 >  92.79\n",
            "|   |   |   |   |   |--- class: 1\n",
            "|   |   |--- feature_21 >  25.67\n",
            "|   |   |   |--- feature_6 <= 0.10\n",
            "|   |   |   |   |--- feature_21 <= 28.55\n",
            "|   |   |   |   |   |--- class: 1\n",
            "|   |   |   |   |--- feature_21 >  28.55\n",
            "|   |   |   |   |   |--- class: 0\n",
            "|   |   |   |--- feature_6 >  0.10\n",
            "|   |   |   |   |--- class: 0\n",
            "|--- feature_20 >  16.80\n",
            "|   |--- feature_21 <= 19.91\n",
            "|   |   |--- feature_7 <= 0.07\n",
            "|   |   |   |--- class: 1\n",
            "|   |   |--- feature_7 >  0.07\n",
            "|   |   |   |--- class: 0\n",
            "|   |--- feature_21 >  19.91\n",
            "|   |   |--- feature_24 <= 0.09\n",
            "|   |   |   |--- class: 1\n",
            "|   |   |--- feature_24 >  0.09\n",
            "|   |   |   |--- feature_26 <= 0.18\n",
            "|   |   |   |   |--- feature_17 <= 0.01\n",
            "|   |   |   |   |   |--- class: 0\n",
            "|   |   |   |   |--- feature_17 >  0.01\n",
            "|   |   |   |   |   |--- class: 1\n",
            "|   |   |   |--- feature_26 >  0.18\n",
            "|   |   |   |   |--- class: 0\n",
            "\n"
          ],
          "name": "stdout"
        }
      ]
    },
    {
      "cell_type": "markdown",
      "metadata": {
        "id": "Z7sQZOkj0Mfy"
      },
      "source": [
        "#### plot_tree를 사용한 시각화"
      ]
    },
    {
      "cell_type": "code",
      "metadata": {
        "colab": {
          "base_uri": "https://localhost:8080/",
          "height": 979
        },
        "id": "Y8AUPTeW0O3I",
        "outputId": "8594fe4a-9b8b-4b73-fa1e-bf6791b630bf"
      },
      "source": [
        "tree.plot_tree(model)"
      ],
      "execution_count": 53,
      "outputs": [
        {
          "output_type": "execute_result",
          "data": {
            "text/plain": [
              "[Text(204.01875, 203.85, 'X[20] <= 16.795\\ngini = 0.468\\nsamples = 569\\nvalue = [212, 357]'),\n",
              " Text(125.55000000000001, 176.67000000000002, 'X[27] <= 0.136\\ngini = 0.159\\nsamples = 379\\nvalue = [33, 346]'),\n",
              " Text(57.54375, 149.49, 'X[28] <= 0.157\\ngini = 0.03\\nsamples = 333\\nvalue = [5, 328]'),\n",
              " Text(47.081250000000004, 122.31, 'gini = 0.0\\nsamples = 1\\nvalue = [1, 0]'),\n",
              " Text(68.00625000000001, 122.31, 'X[13] <= 38.605\\ngini = 0.024\\nsamples = 332\\nvalue = [4, 328]'),\n",
              " Text(41.85, 95.13, 'X[14] <= 0.003\\ngini = 0.012\\nsamples = 319\\nvalue = [2, 317]'),\n",
              " Text(20.925, 67.94999999999999, 'X[26] <= 0.195\\ngini = 0.245\\nsamples = 7\\nvalue = [1, 6]'),\n",
              " Text(10.4625, 40.77000000000001, 'gini = 0.0\\nsamples = 6\\nvalue = [0, 6]'),\n",
              " Text(31.387500000000003, 40.77000000000001, 'gini = 0.0\\nsamples = 1\\nvalue = [1, 0]'),\n",
              " Text(62.775000000000006, 67.94999999999999, 'X[21] <= 33.27\\ngini = 0.006\\nsamples = 312\\nvalue = [1, 311]'),\n",
              " Text(52.3125, 40.77000000000001, 'gini = 0.0\\nsamples = 292\\nvalue = [0, 292]'),\n",
              " Text(73.2375, 40.77000000000001, 'X[21] <= 33.56\\ngini = 0.095\\nsamples = 20\\nvalue = [1, 19]'),\n",
              " Text(62.775000000000006, 13.590000000000003, 'gini = 0.0\\nsamples = 1\\nvalue = [1, 0]'),\n",
              " Text(83.7, 13.590000000000003, 'gini = 0.0\\nsamples = 19\\nvalue = [0, 19]'),\n",
              " Text(94.16250000000001, 95.13, 'X[13] <= 39.15\\ngini = 0.26\\nsamples = 13\\nvalue = [2, 11]'),\n",
              " Text(83.7, 67.94999999999999, 'gini = 0.0\\nsamples = 1\\nvalue = [1, 0]'),\n",
              " Text(104.625, 67.94999999999999, 'X[15] <= 0.012\\ngini = 0.153\\nsamples = 12\\nvalue = [1, 11]'),\n",
              " Text(94.16250000000001, 40.77000000000001, 'gini = 0.0\\nsamples = 1\\nvalue = [1, 0]'),\n",
              " Text(115.0875, 40.77000000000001, 'gini = 0.0\\nsamples = 11\\nvalue = [0, 11]'),\n",
              " Text(193.55625, 149.49, 'X[21] <= 25.67\\ngini = 0.476\\nsamples = 46\\nvalue = [28, 18]'),\n",
              " Text(156.9375, 122.31, 'X[23] <= 810.3\\ngini = 0.332\\nsamples = 19\\nvalue = [4, 15]'),\n",
              " Text(136.01250000000002, 95.13, 'X[4] <= 0.123\\ngini = 0.124\\nsamples = 15\\nvalue = [1, 14]'),\n",
              " Text(125.55000000000001, 67.94999999999999, 'gini = 0.0\\nsamples = 14\\nvalue = [0, 14]'),\n",
              " Text(146.475, 67.94999999999999, 'gini = 0.0\\nsamples = 1\\nvalue = [1, 0]'),\n",
              " Text(177.8625, 95.13, 'X[2] <= 92.79\\ngini = 0.375\\nsamples = 4\\nvalue = [3, 1]'),\n",
              " Text(167.4, 67.94999999999999, 'gini = 0.0\\nsamples = 3\\nvalue = [3, 0]'),\n",
              " Text(188.32500000000002, 67.94999999999999, 'gini = 0.0\\nsamples = 1\\nvalue = [0, 1]'),\n",
              " Text(230.175, 122.31, 'X[6] <= 0.097\\ngini = 0.198\\nsamples = 27\\nvalue = [24, 3]'),\n",
              " Text(219.7125, 95.13, 'X[21] <= 28.545\\ngini = 0.5\\nsamples = 6\\nvalue = [3, 3]'),\n",
              " Text(209.25, 67.94999999999999, 'gini = 0.0\\nsamples = 3\\nvalue = [0, 3]'),\n",
              " Text(230.175, 67.94999999999999, 'gini = 0.0\\nsamples = 3\\nvalue = [3, 0]'),\n",
              " Text(240.63750000000002, 95.13, 'gini = 0.0\\nsamples = 21\\nvalue = [21, 0]'),\n",
              " Text(282.4875, 176.67000000000002, 'X[21] <= 19.91\\ngini = 0.109\\nsamples = 190\\nvalue = [179, 11]'),\n",
              " Text(261.5625, 149.49, 'X[7] <= 0.071\\ngini = 0.498\\nsamples = 17\\nvalue = [8, 9]'),\n",
              " Text(251.10000000000002, 122.31, 'gini = 0.0\\nsamples = 9\\nvalue = [0, 9]'),\n",
              " Text(272.02500000000003, 122.31, 'gini = 0.0\\nsamples = 8\\nvalue = [8, 0]'),\n",
              " Text(303.4125, 149.49, 'X[24] <= 0.088\\ngini = 0.023\\nsamples = 173\\nvalue = [171, 2]'),\n",
              " Text(292.95, 122.31, 'gini = 0.0\\nsamples = 1\\nvalue = [0, 1]'),\n",
              " Text(313.875, 122.31, 'X[26] <= 0.18\\ngini = 0.012\\nsamples = 172\\nvalue = [171, 1]'),\n",
              " Text(303.4125, 95.13, 'X[17] <= 0.01\\ngini = 0.375\\nsamples = 4\\nvalue = [3, 1]'),\n",
              " Text(292.95, 67.94999999999999, 'gini = 0.0\\nsamples = 3\\nvalue = [3, 0]'),\n",
              " Text(313.875, 67.94999999999999, 'gini = 0.0\\nsamples = 1\\nvalue = [0, 1]'),\n",
              " Text(324.33750000000003, 95.13, 'gini = 0.0\\nsamples = 168\\nvalue = [168, 0]')]"
            ]
          },
          "metadata": {
            "tags": []
          },
          "execution_count": 53
        },
        {
          "output_type": "display_data",
          "data": {
            "image/png": "[encoded data removed]",
            "text/plain": [
              "<Figure size 432x288 with 1 Axes>"
            ]
          },
          "metadata": {
            "tags": [],
            "needs_background": "light"
          }
        }
      ]
    },
    {
      "cell_type": "markdown",
      "metadata": {
        "id": "QhrDBAB00P5U"
      },
      "source": [
        "#### graphviz를 사용한 시각화"
      ]
    },
    {
      "cell_type": "code",
      "metadata": {
        "colab": {
          "base_uri": "https://localhost:8080/",
          "height": 1000
        },
        "id": "WgfmR8LM0TuX",
        "outputId": "2dc98b29-3f2c-4fbf-c695-27eefe40ec5d"
      },
      "source": [
        "dot_data = tree.export_graphviz(\n",
        "    decision_tree=model,\n",
        "    feature_names=cancer.feature_names,\n",
        "    class_names=cancer.target_names,\n",
        "    filled=True,\n",
        "    rounded=True,\n",
        "    special_characters=True\n",
        ")\n",
        "\n",
        "graphviz.Source(dot_data)"
      ],
      "execution_count": 54,
      "outputs": [
        {
          "output_type": "execute_result",
          "data": {
            "text/plain": [
              "<graphviz.files.Source at 0x7fc7ccd76e10>"
            ],
            "image/svg+xml": "<?xml version=\"1.0\" encoding=\"UTF-8\" standalone=\"no\"?>\n<!DOCTYPE svg PUBLIC \"-//W3C//DTD SVG 1.1//EN\"\n \"http://www.w3.org/Graphics/SVG/1.1/DTD/svg11.dtd\">\n<!-- Generated by graphviz version 2.40.1 (20161225.0304)\n -->\n<!-- Title: Tree Pages: 1 -->\n<svg width=\"2138pt\" height=\"909pt\"\n viewBox=\"0.00 0.00 2137.50 909.00\" xmlns=\"http://www.w3.org/2000/svg\" xmlns:xlink=\"http://www.w3.org/1999/xlink\">\n<g id=\"graph0\" class=\"graph\" transform=\"scale(1 1) rotate(0) translate(4 905)\">\n<title>Tree</title>\n<polygon fill=\"#ffffff\" stroke=\"transparent\" points=\"-4,4 -4,-905 2133.5,-905 2133.5,4 -4,4\"/>\n<!-- 0 -->\n<g id=\"node1\" class=\"node\">\n<title>0</title>\n<path fill=\"#afd7f4\" stroke=\"#000000\" d=\"M1507.5,-901C1507.5,-901 1376.5,-901 1376.5,-901 1370.5,-901 1364.5,-895 1364.5,-889 1364.5,-889 1364.5,-830 1364.5,-830 1364.5,-824 1370.5,-818 1376.5,-818 1376.5,-818 1507.5,-818 1507.5,-818 1513.5,-818 1519.5,-824 1519.5,-830 1519.5,-830 1519.5,-889 1519.5,-889 1519.5,-895 1513.5,-901 1507.5,-901\"/>\n<text text-anchor=\"start\" x=\"1372.5\" y=\"-885.8\" font-family=\"Helvetica,sans-Serif\" font-size=\"14.00\" fill=\"#000000\">worst radius ≤ 16.795</text>\n<text text-anchor=\"start\" x=\"1404\" y=\"-870.8\" font-family=\"Helvetica,sans-Serif\" font-size=\"14.00\" fill=\"#000000\">gini = 0.468</text>\n<text text-anchor=\"start\" x=\"1394\" y=\"-855.8\" font-family=\"Helvetica,sans-Serif\" font-size=\"14.00\" fill=\"#000000\">samples = 569</text>\n<text text-anchor=\"start\" x=\"1384\" y=\"-840.8\" font-family=\"Helvetica,sans-Serif\" font-size=\"14.00\" fill=\"#000000\">value = [212, 357]</text>\n<text text-anchor=\"start\" x=\"1395\" y=\"-825.8\" font-family=\"Helvetica,sans-Serif\" font-size=\"14.00\" fill=\"#000000\">class = benign</text>\n</g>\n<!-- 1 -->\n<g id=\"node2\" class=\"node\">\n<title>1</title>\n<path fill=\"#4ca6e7\" stroke=\"#000000\" d=\"M1368.5,-782C1368.5,-782 1187.5,-782 1187.5,-782 1181.5,-782 1175.5,-776 1175.5,-770 1175.5,-770 1175.5,-711 1175.5,-711 1175.5,-705 1181.5,-699 1187.5,-699 1187.5,-699 1368.5,-699 1368.5,-699 1374.5,-699 1380.5,-705 1380.5,-711 1380.5,-711 1380.5,-770 1380.5,-770 1380.5,-776 1374.5,-782 1368.5,-782\"/>\n<text text-anchor=\"start\" x=\"1183.5\" y=\"-766.8\" font-family=\"Helvetica,sans-Serif\" font-size=\"14.00\" fill=\"#000000\">worst concave points ≤ 0.136</text>\n<text text-anchor=\"start\" x=\"1240\" y=\"-751.8\" font-family=\"Helvetica,sans-Serif\" font-size=\"14.00\" fill=\"#000000\">gini = 0.159</text>\n<text text-anchor=\"start\" x=\"1230\" y=\"-736.8\" font-family=\"Helvetica,sans-Serif\" font-size=\"14.00\" fill=\"#000000\">samples = 379</text>\n<text text-anchor=\"start\" x=\"1224\" y=\"-721.8\" font-family=\"Helvetica,sans-Serif\" font-size=\"14.00\" fill=\"#000000\">value = [33, 346]</text>\n<text text-anchor=\"start\" x=\"1231\" y=\"-706.8\" font-family=\"Helvetica,sans-Serif\" font-size=\"14.00\" fill=\"#000000\">class = benign</text>\n</g>\n<!-- 0&#45;&gt;1 -->\n<g id=\"edge1\" class=\"edge\">\n<title>0&#45;&gt;1</title>\n<path fill=\"none\" stroke=\"#000000\" d=\"M1384.6408,-817.8796C1371.4075,-808.2774 1357.2303,-797.9903 1343.6736,-788.1534\"/>\n<polygon fill=\"#000000\" stroke=\"#000000\" points=\"1345.4762,-785.1371 1335.3269,-782.0969 1341.3651,-790.8027 1345.4762,-785.1371\"/>\n<text text-anchor=\"middle\" x=\"1339.2528\" y=\"-803.0867\" font-family=\"Helvetica,sans-Serif\" font-size=\"14.00\" fill=\"#000000\">True</text>\n</g>\n<!-- 32 -->\n<g id=\"node33\" class=\"node\">\n<title>32</title>\n<path fill=\"#e78945\" stroke=\"#000000\" d=\"M1639.5,-782C1639.5,-782 1512.5,-782 1512.5,-782 1506.5,-782 1500.5,-776 1500.5,-770 1500.5,-770 1500.5,-711 1500.5,-711 1500.5,-705 1506.5,-699 1512.5,-699 1512.5,-699 1639.5,-699 1639.5,-699 1645.5,-699 1651.5,-705 1651.5,-711 1651.5,-711 1651.5,-770 1651.5,-770 1651.5,-776 1645.5,-782 1639.5,-782\"/>\n<text text-anchor=\"start\" x=\"1508.5\" y=\"-766.8\" font-family=\"Helvetica,sans-Serif\" font-size=\"14.00\" fill=\"#000000\">worst texture ≤ 19.91</text>\n<text text-anchor=\"start\" x=\"1538\" y=\"-751.8\" font-family=\"Helvetica,sans-Serif\" font-size=\"14.00\" fill=\"#000000\">gini = 0.109</text>\n<text text-anchor=\"start\" x=\"1528\" y=\"-736.8\" font-family=\"Helvetica,sans-Serif\" font-size=\"14.00\" fill=\"#000000\">samples = 190</text>\n<text text-anchor=\"start\" x=\"1522\" y=\"-721.8\" font-family=\"Helvetica,sans-Serif\" font-size=\"14.00\" fill=\"#000000\">value = [179, 11]</text>\n<text text-anchor=\"start\" x=\"1519.5\" y=\"-706.8\" font-family=\"Helvetica,sans-Serif\" font-size=\"14.00\" fill=\"#000000\">class = malignant</text>\n</g>\n<!-- 0&#45;&gt;32 -->\n<g id=\"edge32\" class=\"edge\">\n<title>0&#45;&gt;32</title>\n<path fill=\"none\" stroke=\"#000000\" d=\"M1488.8667,-817.8796C1499.3125,-808.6031 1510.4781,-798.6874 1521.211,-789.1559\"/>\n<polygon fill=\"#000000\" stroke=\"#000000\" points=\"1523.7801,-791.5553 1528.9333,-782.2981 1519.132,-786.3213 1523.7801,-791.5553\"/>\n<text text-anchor=\"middle\" x=\"1527.4536\" y=\"-803.5542\" font-family=\"Helvetica,sans-Serif\" font-size=\"14.00\" fill=\"#000000\">False</text>\n</g>\n<!-- 2 -->\n<g id=\"node3\" class=\"node\">\n<title>2</title>\n<path fill=\"#3c9ee5\" stroke=\"#000000\" d=\"M689,-663C689,-663 543,-663 543,-663 537,-663 531,-657 531,-651 531,-651 531,-592 531,-592 531,-586 537,-580 543,-580 543,-580 689,-580 689,-580 695,-580 701,-586 701,-592 701,-592 701,-651 701,-651 701,-657 695,-663 689,-663\"/>\n<text text-anchor=\"start\" x=\"539\" y=\"-647.8\" font-family=\"Helvetica,sans-Serif\" font-size=\"14.00\" fill=\"#000000\">worst symmetry ≤ 0.157</text>\n<text text-anchor=\"start\" x=\"582.5\" y=\"-632.8\" font-family=\"Helvetica,sans-Serif\" font-size=\"14.00\" fill=\"#000000\">gini = 0.03</text>\n<text text-anchor=\"start\" x=\"568\" y=\"-617.8\" font-family=\"Helvetica,sans-Serif\" font-size=\"14.00\" fill=\"#000000\">samples = 333</text>\n<text text-anchor=\"start\" x=\"566\" y=\"-602.8\" font-family=\"Helvetica,sans-Serif\" font-size=\"14.00\" fill=\"#000000\">value = [5, 328]</text>\n<text text-anchor=\"start\" x=\"569\" y=\"-587.8\" font-family=\"Helvetica,sans-Serif\" font-size=\"14.00\" fill=\"#000000\">class = benign</text>\n</g>\n<!-- 1&#45;&gt;2 -->\n<g id=\"edge2\" class=\"edge\">\n<title>1&#45;&gt;2</title>\n<path fill=\"none\" stroke=\"#000000\" d=\"M1175.2888,-722.0368C1048.4755,-699.2411 834.4973,-660.7767 711.2308,-638.6185\"/>\n<polygon fill=\"#000000\" stroke=\"#000000\" points=\"711.5153,-635.1136 701.0538,-636.7891 710.2768,-642.0032 711.5153,-635.1136\"/>\n</g>\n<!-- 19 -->\n<g id=\"node20\" class=\"node\">\n<title>19</title>\n<path fill=\"#f6d2b8\" stroke=\"#000000\" d=\"M1341.5,-663C1341.5,-663 1214.5,-663 1214.5,-663 1208.5,-663 1202.5,-657 1202.5,-651 1202.5,-651 1202.5,-592 1202.5,-592 1202.5,-586 1208.5,-580 1214.5,-580 1214.5,-580 1341.5,-580 1341.5,-580 1347.5,-580 1353.5,-586 1353.5,-592 1353.5,-592 1353.5,-651 1353.5,-651 1353.5,-657 1347.5,-663 1341.5,-663\"/>\n<text text-anchor=\"start\" x=\"1210.5\" y=\"-647.8\" font-family=\"Helvetica,sans-Serif\" font-size=\"14.00\" fill=\"#000000\">worst texture ≤ 25.67</text>\n<text text-anchor=\"start\" x=\"1240\" y=\"-632.8\" font-family=\"Helvetica,sans-Serif\" font-size=\"14.00\" fill=\"#000000\">gini = 0.476</text>\n<text text-anchor=\"start\" x=\"1234\" y=\"-617.8\" font-family=\"Helvetica,sans-Serif\" font-size=\"14.00\" fill=\"#000000\">samples = 46</text>\n<text text-anchor=\"start\" x=\"1228\" y=\"-602.8\" font-family=\"Helvetica,sans-Serif\" font-size=\"14.00\" fill=\"#000000\">value = [28, 18]</text>\n<text text-anchor=\"start\" x=\"1221.5\" y=\"-587.8\" font-family=\"Helvetica,sans-Serif\" font-size=\"14.00\" fill=\"#000000\">class = malignant</text>\n</g>\n<!-- 1&#45;&gt;19 -->\n<g id=\"edge19\" class=\"edge\">\n<title>1&#45;&gt;19</title>\n<path fill=\"none\" stroke=\"#000000\" d=\"M1278,-698.8796C1278,-690.6838 1278,-681.9891 1278,-673.5013\"/>\n<polygon fill=\"#000000\" stroke=\"#000000\" points=\"1281.5001,-673.298 1278,-663.2981 1274.5001,-673.2981 1281.5001,-673.298\"/>\n</g>\n<!-- 3 -->\n<g id=\"node4\" class=\"node\">\n<title>3</title>\n<path fill=\"#e58139\" stroke=\"#000000\" d=\"M515.5,-536.5C515.5,-536.5 410.5,-536.5 410.5,-536.5 404.5,-536.5 398.5,-530.5 398.5,-524.5 398.5,-524.5 398.5,-480.5 398.5,-480.5 398.5,-474.5 404.5,-468.5 410.5,-468.5 410.5,-468.5 515.5,-468.5 515.5,-468.5 521.5,-468.5 527.5,-474.5 527.5,-480.5 527.5,-480.5 527.5,-524.5 527.5,-524.5 527.5,-530.5 521.5,-536.5 515.5,-536.5\"/>\n<text text-anchor=\"start\" x=\"433.5\" y=\"-521.3\" font-family=\"Helvetica,sans-Serif\" font-size=\"14.00\" fill=\"#000000\">gini = 0.0</text>\n<text text-anchor=\"start\" x=\"423.5\" y=\"-506.3\" font-family=\"Helvetica,sans-Serif\" font-size=\"14.00\" fill=\"#000000\">samples = 1</text>\n<text text-anchor=\"start\" x=\"421.5\" y=\"-491.3\" font-family=\"Helvetica,sans-Serif\" font-size=\"14.00\" fill=\"#000000\">value = [1, 0]</text>\n<text text-anchor=\"start\" x=\"406.5\" y=\"-476.3\" font-family=\"Helvetica,sans-Serif\" font-size=\"14.00\" fill=\"#000000\">class = malignant</text>\n</g>\n<!-- 2&#45;&gt;3 -->\n<g id=\"edge3\" class=\"edge\">\n<title>2&#45;&gt;3</title>\n<path fill=\"none\" stroke=\"#000000\" d=\"M562.488,-579.8796C547.2192,-568.0038 530.6034,-555.0804 515.4016,-543.2568\"/>\n<polygon fill=\"#000000\" stroke=\"#000000\" points=\"517.1616,-540.1916 507.1192,-536.8149 512.8639,-545.7171 517.1616,-540.1916\"/>\n</g>\n<!-- 4 -->\n<g id=\"node5\" class=\"node\">\n<title>4</title>\n<path fill=\"#3b9ee5\" stroke=\"#000000\" d=\"M674,-544C674,-544 558,-544 558,-544 552,-544 546,-538 546,-532 546,-532 546,-473 546,-473 546,-467 552,-461 558,-461 558,-461 674,-461 674,-461 680,-461 686,-467 686,-473 686,-473 686,-532 686,-532 686,-538 680,-544 674,-544\"/>\n<text text-anchor=\"start\" x=\"554\" y=\"-528.8\" font-family=\"Helvetica,sans-Serif\" font-size=\"14.00\" fill=\"#000000\">area error ≤ 38.605</text>\n<text text-anchor=\"start\" x=\"578\" y=\"-513.8\" font-family=\"Helvetica,sans-Serif\" font-size=\"14.00\" fill=\"#000000\">gini = 0.024</text>\n<text text-anchor=\"start\" x=\"568\" y=\"-498.8\" font-family=\"Helvetica,sans-Serif\" font-size=\"14.00\" fill=\"#000000\">samples = 332</text>\n<text text-anchor=\"start\" x=\"566\" y=\"-483.8\" font-family=\"Helvetica,sans-Serif\" font-size=\"14.00\" fill=\"#000000\">value = [4, 328]</text>\n<text text-anchor=\"start\" x=\"569\" y=\"-468.8\" font-family=\"Helvetica,sans-Serif\" font-size=\"14.00\" fill=\"#000000\">class = benign</text>\n</g>\n<!-- 2&#45;&gt;4 -->\n<g id=\"edge4\" class=\"edge\">\n<title>2&#45;&gt;4</title>\n<path fill=\"none\" stroke=\"#000000\" d=\"M616,-579.8796C616,-571.6838 616,-562.9891 616,-554.5013\"/>\n<polygon fill=\"#000000\" stroke=\"#000000\" points=\"619.5001,-554.298 616,-544.2981 612.5001,-554.2981 619.5001,-554.298\"/>\n</g>\n<!-- 5 -->\n<g id=\"node6\" class=\"node\">\n<title>5</title>\n<path fill=\"#3a9ee5\" stroke=\"#000000\" d=\"M440,-425C440,-425 282,-425 282,-425 276,-425 270,-419 270,-413 270,-413 270,-354 270,-354 270,-348 276,-342 282,-342 282,-342 440,-342 440,-342 446,-342 452,-348 452,-354 452,-354 452,-413 452,-413 452,-419 446,-425 440,-425\"/>\n<text text-anchor=\"start\" x=\"278\" y=\"-409.8\" font-family=\"Helvetica,sans-Serif\" font-size=\"14.00\" fill=\"#000000\">smoothness error ≤ 0.003</text>\n<text text-anchor=\"start\" x=\"323\" y=\"-394.8\" font-family=\"Helvetica,sans-Serif\" font-size=\"14.00\" fill=\"#000000\">gini = 0.012</text>\n<text text-anchor=\"start\" x=\"313\" y=\"-379.8\" font-family=\"Helvetica,sans-Serif\" font-size=\"14.00\" fill=\"#000000\">samples = 319</text>\n<text text-anchor=\"start\" x=\"311\" y=\"-364.8\" font-family=\"Helvetica,sans-Serif\" font-size=\"14.00\" fill=\"#000000\">value = [2, 317]</text>\n<text text-anchor=\"start\" x=\"314\" y=\"-349.8\" font-family=\"Helvetica,sans-Serif\" font-size=\"14.00\" fill=\"#000000\">class = benign</text>\n</g>\n<!-- 4&#45;&gt;5 -->\n<g id=\"edge5\" class=\"edge\">\n<title>4&#45;&gt;5</title>\n<path fill=\"none\" stroke=\"#000000\" d=\"M545.883,-465.8164C542.5508,-464.1708 539.244,-462.5579 536,-461 512.0962,-449.5204 486.0892,-437.6666 461.6134,-426.7874\"/>\n<polygon fill=\"#000000\" stroke=\"#000000\" points=\"462.8761,-423.5187 452.3154,-422.6684 460.0408,-429.9189 462.8761,-423.5187\"/>\n</g>\n<!-- 14 -->\n<g id=\"node15\" class=\"node\">\n<title>14</title>\n<path fill=\"#5dafea\" stroke=\"#000000\" d=\"M669.5,-425C669.5,-425 562.5,-425 562.5,-425 556.5,-425 550.5,-419 550.5,-413 550.5,-413 550.5,-354 550.5,-354 550.5,-348 556.5,-342 562.5,-342 562.5,-342 669.5,-342 669.5,-342 675.5,-342 681.5,-348 681.5,-354 681.5,-354 681.5,-413 681.5,-413 681.5,-419 675.5,-425 669.5,-425\"/>\n<text text-anchor=\"start\" x=\"558.5\" y=\"-409.8\" font-family=\"Helvetica,sans-Serif\" font-size=\"14.00\" fill=\"#000000\">area error ≤ 39.15</text>\n<text text-anchor=\"start\" x=\"582.5\" y=\"-394.8\" font-family=\"Helvetica,sans-Serif\" font-size=\"14.00\" fill=\"#000000\">gini = 0.26</text>\n<text text-anchor=\"start\" x=\"572\" y=\"-379.8\" font-family=\"Helvetica,sans-Serif\" font-size=\"14.00\" fill=\"#000000\">samples = 13</text>\n<text text-anchor=\"start\" x=\"570.5\" y=\"-364.8\" font-family=\"Helvetica,sans-Serif\" font-size=\"14.00\" fill=\"#000000\">value = [2, 11]</text>\n<text text-anchor=\"start\" x=\"569\" y=\"-349.8\" font-family=\"Helvetica,sans-Serif\" font-size=\"14.00\" fill=\"#000000\">class = benign</text>\n</g>\n<!-- 4&#45;&gt;14 -->\n<g id=\"edge14\" class=\"edge\">\n<title>4&#45;&gt;14</title>\n<path fill=\"none\" stroke=\"#000000\" d=\"M616,-460.8796C616,-452.6838 616,-443.9891 616,-435.5013\"/>\n<polygon fill=\"#000000\" stroke=\"#000000\" points=\"619.5001,-435.298 616,-425.2981 612.5001,-435.2981 619.5001,-435.298\"/>\n</g>\n<!-- 6 -->\n<g id=\"node7\" class=\"node\">\n<title>6</title>\n<path fill=\"#5aade9\" stroke=\"#000000\" d=\"M255,-306C255,-306 111,-306 111,-306 105,-306 99,-300 99,-294 99,-294 99,-235 99,-235 99,-229 105,-223 111,-223 111,-223 255,-223 255,-223 261,-223 267,-229 267,-235 267,-235 267,-294 267,-294 267,-300 261,-306 255,-306\"/>\n<text text-anchor=\"start\" x=\"107\" y=\"-290.8\" font-family=\"Helvetica,sans-Serif\" font-size=\"14.00\" fill=\"#000000\">worst concavity ≤ 0.195</text>\n<text text-anchor=\"start\" x=\"145\" y=\"-275.8\" font-family=\"Helvetica,sans-Serif\" font-size=\"14.00\" fill=\"#000000\">gini = 0.245</text>\n<text text-anchor=\"start\" x=\"143.5\" y=\"-260.8\" font-family=\"Helvetica,sans-Serif\" font-size=\"14.00\" fill=\"#000000\">samples = 7</text>\n<text text-anchor=\"start\" x=\"141.5\" y=\"-245.8\" font-family=\"Helvetica,sans-Serif\" font-size=\"14.00\" fill=\"#000000\">value = [1, 6]</text>\n<text text-anchor=\"start\" x=\"136\" y=\"-230.8\" font-family=\"Helvetica,sans-Serif\" font-size=\"14.00\" fill=\"#000000\">class = benign</text>\n</g>\n<!-- 5&#45;&gt;6 -->\n<g id=\"edge6\" class=\"edge\">\n<title>5&#45;&gt;6</title>\n<path fill=\"none\" stroke=\"#000000\" d=\"M298.7442,-341.8796C284.2458,-332.1868 268.7035,-321.7961 253.8637,-311.8752\"/>\n<polygon fill=\"#000000\" stroke=\"#000000\" points=\"255.4792,-308.7451 245.2206,-306.0969 251.5887,-314.5644 255.4792,-308.7451\"/>\n</g>\n<!-- 9 -->\n<g id=\"node10\" class=\"node\">\n<title>9</title>\n<path fill=\"#3a9de5\" stroke=\"#000000\" d=\"M424.5,-306C424.5,-306 297.5,-306 297.5,-306 291.5,-306 285.5,-300 285.5,-294 285.5,-294 285.5,-235 285.5,-235 285.5,-229 291.5,-223 297.5,-223 297.5,-223 424.5,-223 424.5,-223 430.5,-223 436.5,-229 436.5,-235 436.5,-235 436.5,-294 436.5,-294 436.5,-300 430.5,-306 424.5,-306\"/>\n<text text-anchor=\"start\" x=\"293.5\" y=\"-290.8\" font-family=\"Helvetica,sans-Serif\" font-size=\"14.00\" fill=\"#000000\">worst texture ≤ 33.27</text>\n<text text-anchor=\"start\" x=\"323\" y=\"-275.8\" font-family=\"Helvetica,sans-Serif\" font-size=\"14.00\" fill=\"#000000\">gini = 0.006</text>\n<text text-anchor=\"start\" x=\"313\" y=\"-260.8\" font-family=\"Helvetica,sans-Serif\" font-size=\"14.00\" fill=\"#000000\">samples = 312</text>\n<text text-anchor=\"start\" x=\"311\" y=\"-245.8\" font-family=\"Helvetica,sans-Serif\" font-size=\"14.00\" fill=\"#000000\">value = [1, 311]</text>\n<text text-anchor=\"start\" x=\"314\" y=\"-230.8\" font-family=\"Helvetica,sans-Serif\" font-size=\"14.00\" fill=\"#000000\">class = benign</text>\n</g>\n<!-- 5&#45;&gt;9 -->\n<g id=\"edge9\" class=\"edge\">\n<title>5&#45;&gt;9</title>\n<path fill=\"none\" stroke=\"#000000\" d=\"M361,-341.8796C361,-333.6838 361,-324.9891 361,-316.5013\"/>\n<polygon fill=\"#000000\" stroke=\"#000000\" points=\"364.5001,-316.298 361,-306.2981 357.5001,-316.2981 364.5001,-316.298\"/>\n</g>\n<!-- 7 -->\n<g id=\"node8\" class=\"node\">\n<title>7</title>\n<path fill=\"#399de5\" stroke=\"#000000\" d=\"M98,-179.5C98,-179.5 12,-179.5 12,-179.5 6,-179.5 0,-173.5 0,-167.5 0,-167.5 0,-123.5 0,-123.5 0,-117.5 6,-111.5 12,-111.5 12,-111.5 98,-111.5 98,-111.5 104,-111.5 110,-117.5 110,-123.5 110,-123.5 110,-167.5 110,-167.5 110,-173.5 104,-179.5 98,-179.5\"/>\n<text text-anchor=\"start\" x=\"25.5\" y=\"-164.3\" font-family=\"Helvetica,sans-Serif\" font-size=\"14.00\" fill=\"#000000\">gini = 0.0</text>\n<text text-anchor=\"start\" x=\"15.5\" y=\"-149.3\" font-family=\"Helvetica,sans-Serif\" font-size=\"14.00\" fill=\"#000000\">samples = 6</text>\n<text text-anchor=\"start\" x=\"13.5\" y=\"-134.3\" font-family=\"Helvetica,sans-Serif\" font-size=\"14.00\" fill=\"#000000\">value = [0, 6]</text>\n<text text-anchor=\"start\" x=\"8\" y=\"-119.3\" font-family=\"Helvetica,sans-Serif\" font-size=\"14.00\" fill=\"#000000\">class = benign</text>\n</g>\n<!-- 6&#45;&gt;7 -->\n<g id=\"edge7\" class=\"edge\">\n<title>6&#45;&gt;7</title>\n<path fill=\"none\" stroke=\"#000000\" d=\"M138.2318,-222.8796C125.6944,-211.2237 112.0716,-198.5587 99.547,-186.9148\"/>\n<polygon fill=\"#000000\" stroke=\"#000000\" points=\"101.6172,-184.0605 91.9102,-179.8149 96.8509,-189.1872 101.6172,-184.0605\"/>\n</g>\n<!-- 8 -->\n<g id=\"node9\" class=\"node\">\n<title>8</title>\n<path fill=\"#e58139\" stroke=\"#000000\" d=\"M245.5,-179.5C245.5,-179.5 140.5,-179.5 140.5,-179.5 134.5,-179.5 128.5,-173.5 128.5,-167.5 128.5,-167.5 128.5,-123.5 128.5,-123.5 128.5,-117.5 134.5,-111.5 140.5,-111.5 140.5,-111.5 245.5,-111.5 245.5,-111.5 251.5,-111.5 257.5,-117.5 257.5,-123.5 257.5,-123.5 257.5,-167.5 257.5,-167.5 257.5,-173.5 251.5,-179.5 245.5,-179.5\"/>\n<text text-anchor=\"start\" x=\"163.5\" y=\"-164.3\" font-family=\"Helvetica,sans-Serif\" font-size=\"14.00\" fill=\"#000000\">gini = 0.0</text>\n<text text-anchor=\"start\" x=\"153.5\" y=\"-149.3\" font-family=\"Helvetica,sans-Serif\" font-size=\"14.00\" fill=\"#000000\">samples = 1</text>\n<text text-anchor=\"start\" x=\"151.5\" y=\"-134.3\" font-family=\"Helvetica,sans-Serif\" font-size=\"14.00\" fill=\"#000000\">value = [1, 0]</text>\n<text text-anchor=\"start\" x=\"136.5\" y=\"-119.3\" font-family=\"Helvetica,sans-Serif\" font-size=\"14.00\" fill=\"#000000\">class = malignant</text>\n</g>\n<!-- 6&#45;&gt;8 -->\n<g id=\"edge8\" class=\"edge\">\n<title>6&#45;&gt;8</title>\n<path fill=\"none\" stroke=\"#000000\" d=\"M186.4975,-222.8796C187.3938,-212.2134 188.3612,-200.7021 189.2688,-189.9015\"/>\n<polygon fill=\"#000000\" stroke=\"#000000\" points=\"192.7666,-190.0729 190.1164,-179.8149 185.7912,-189.4867 192.7666,-190.0729\"/>\n</g>\n<!-- 10 -->\n<g id=\"node11\" class=\"node\">\n<title>10</title>\n<path fill=\"#399de5\" stroke=\"#000000\" d=\"M398,-179.5C398,-179.5 306,-179.5 306,-179.5 300,-179.5 294,-173.5 294,-167.5 294,-167.5 294,-123.5 294,-123.5 294,-117.5 300,-111.5 306,-111.5 306,-111.5 398,-111.5 398,-111.5 404,-111.5 410,-117.5 410,-123.5 410,-123.5 410,-167.5 410,-167.5 410,-173.5 404,-179.5 398,-179.5\"/>\n<text text-anchor=\"start\" x=\"322.5\" y=\"-164.3\" font-family=\"Helvetica,sans-Serif\" font-size=\"14.00\" fill=\"#000000\">gini = 0.0</text>\n<text text-anchor=\"start\" x=\"304\" y=\"-149.3\" font-family=\"Helvetica,sans-Serif\" font-size=\"14.00\" fill=\"#000000\">samples = 292</text>\n<text text-anchor=\"start\" x=\"302\" y=\"-134.3\" font-family=\"Helvetica,sans-Serif\" font-size=\"14.00\" fill=\"#000000\">value = [0, 292]</text>\n<text text-anchor=\"start\" x=\"305\" y=\"-119.3\" font-family=\"Helvetica,sans-Serif\" font-size=\"14.00\" fill=\"#000000\">class = benign</text>\n</g>\n<!-- 9&#45;&gt;10 -->\n<g id=\"edge10\" class=\"edge\">\n<title>9&#45;&gt;10</title>\n<path fill=\"none\" stroke=\"#000000\" d=\"M357.8522,-222.8796C357.0455,-212.2134 356.1749,-200.7021 355.3581,-189.9015\"/>\n<polygon fill=\"#000000\" stroke=\"#000000\" points=\"358.8395,-189.5225 354.5952,-179.8149 351.8595,-190.0504 358.8395,-189.5225\"/>\n</g>\n<!-- 11 -->\n<g id=\"node12\" class=\"node\">\n<title>11</title>\n<path fill=\"#43a2e6\" stroke=\"#000000\" d=\"M567.5,-187C567.5,-187 440.5,-187 440.5,-187 434.5,-187 428.5,-181 428.5,-175 428.5,-175 428.5,-116 428.5,-116 428.5,-110 434.5,-104 440.5,-104 440.5,-104 567.5,-104 567.5,-104 573.5,-104 579.5,-110 579.5,-116 579.5,-116 579.5,-175 579.5,-175 579.5,-181 573.5,-187 567.5,-187\"/>\n<text text-anchor=\"start\" x=\"436.5\" y=\"-171.8\" font-family=\"Helvetica,sans-Serif\" font-size=\"14.00\" fill=\"#000000\">worst texture ≤ 33.56</text>\n<text text-anchor=\"start\" x=\"466\" y=\"-156.8\" font-family=\"Helvetica,sans-Serif\" font-size=\"14.00\" fill=\"#000000\">gini = 0.095</text>\n<text text-anchor=\"start\" x=\"460\" y=\"-141.8\" font-family=\"Helvetica,sans-Serif\" font-size=\"14.00\" fill=\"#000000\">samples = 20</text>\n<text text-anchor=\"start\" x=\"458.5\" y=\"-126.8\" font-family=\"Helvetica,sans-Serif\" font-size=\"14.00\" fill=\"#000000\">value = [1, 19]</text>\n<text text-anchor=\"start\" x=\"457\" y=\"-111.8\" font-family=\"Helvetica,sans-Serif\" font-size=\"14.00\" fill=\"#000000\">class = benign</text>\n</g>\n<!-- 9&#45;&gt;11 -->\n<g id=\"edge11\" class=\"edge\">\n<title>9&#45;&gt;11</title>\n<path fill=\"none\" stroke=\"#000000\" d=\"M411.0145,-222.8796C422.2701,-213.513 434.3088,-203.4948 445.8646,-193.8784\"/>\n<polygon fill=\"#000000\" stroke=\"#000000\" points=\"448.3242,-196.385 453.7721,-187.2981 443.8466,-191.0043 448.3242,-196.385\"/>\n</g>\n<!-- 12 -->\n<g id=\"node13\" class=\"node\">\n<title>12</title>\n<path fill=\"#e58139\" stroke=\"#000000\" d=\"M487.5,-68C487.5,-68 382.5,-68 382.5,-68 376.5,-68 370.5,-62 370.5,-56 370.5,-56 370.5,-12 370.5,-12 370.5,-6 376.5,0 382.5,0 382.5,0 487.5,0 487.5,0 493.5,0 499.5,-6 499.5,-12 499.5,-12 499.5,-56 499.5,-56 499.5,-62 493.5,-68 487.5,-68\"/>\n<text text-anchor=\"start\" x=\"405.5\" y=\"-52.8\" font-family=\"Helvetica,sans-Serif\" font-size=\"14.00\" fill=\"#000000\">gini = 0.0</text>\n<text text-anchor=\"start\" x=\"395.5\" y=\"-37.8\" font-family=\"Helvetica,sans-Serif\" font-size=\"14.00\" fill=\"#000000\">samples = 1</text>\n<text text-anchor=\"start\" x=\"393.5\" y=\"-22.8\" font-family=\"Helvetica,sans-Serif\" font-size=\"14.00\" fill=\"#000000\">value = [1, 0]</text>\n<text text-anchor=\"start\" x=\"378.5\" y=\"-7.8\" font-family=\"Helvetica,sans-Serif\" font-size=\"14.00\" fill=\"#000000\">class = malignant</text>\n</g>\n<!-- 11&#45;&gt;12 -->\n<g id=\"edge12\" class=\"edge\">\n<title>11&#45;&gt;12</title>\n<path fill=\"none\" stroke=\"#000000\" d=\"M478.3069,-103.9815C472.8469,-95.1585 467.0716,-85.8258 461.5793,-76.9506\"/>\n<polygon fill=\"#000000\" stroke=\"#000000\" points=\"464.442,-74.9254 456.2035,-68.2637 458.4896,-78.609 464.442,-74.9254\"/>\n</g>\n<!-- 13 -->\n<g id=\"node14\" class=\"node\">\n<title>13</title>\n<path fill=\"#399de5\" stroke=\"#000000\" d=\"M616,-68C616,-68 530,-68 530,-68 524,-68 518,-62 518,-56 518,-56 518,-12 518,-12 518,-6 524,0 530,0 530,0 616,0 616,0 622,0 628,-6 628,-12 628,-12 628,-56 628,-56 628,-62 622,-68 616,-68\"/>\n<text text-anchor=\"start\" x=\"543.5\" y=\"-52.8\" font-family=\"Helvetica,sans-Serif\" font-size=\"14.00\" fill=\"#000000\">gini = 0.0</text>\n<text text-anchor=\"start\" x=\"529\" y=\"-37.8\" font-family=\"Helvetica,sans-Serif\" font-size=\"14.00\" fill=\"#000000\">samples = 19</text>\n<text text-anchor=\"start\" x=\"527.5\" y=\"-22.8\" font-family=\"Helvetica,sans-Serif\" font-size=\"14.00\" fill=\"#000000\">value = [0, 19]</text>\n<text text-anchor=\"start\" x=\"526\" y=\"-7.8\" font-family=\"Helvetica,sans-Serif\" font-size=\"14.00\" fill=\"#000000\">class = benign</text>\n</g>\n<!-- 11&#45;&gt;13 -->\n<g id=\"edge13\" class=\"edge\">\n<title>11&#45;&gt;13</title>\n<path fill=\"none\" stroke=\"#000000\" d=\"M529.6931,-103.9815C535.1531,-95.1585 540.9284,-85.8258 546.4207,-76.9506\"/>\n<polygon fill=\"#000000\" stroke=\"#000000\" points=\"549.5104,-78.609 551.7965,-68.2637 543.558,-74.9254 549.5104,-78.609\"/>\n</g>\n<!-- 15 -->\n<g id=\"node16\" class=\"node\">\n<title>15</title>\n<path fill=\"#e58139\" stroke=\"#000000\" d=\"M571.5,-298.5C571.5,-298.5 466.5,-298.5 466.5,-298.5 460.5,-298.5 454.5,-292.5 454.5,-286.5 454.5,-286.5 454.5,-242.5 454.5,-242.5 454.5,-236.5 460.5,-230.5 466.5,-230.5 466.5,-230.5 571.5,-230.5 571.5,-230.5 577.5,-230.5 583.5,-236.5 583.5,-242.5 583.5,-242.5 583.5,-286.5 583.5,-286.5 583.5,-292.5 577.5,-298.5 571.5,-298.5\"/>\n<text text-anchor=\"start\" x=\"489.5\" y=\"-283.3\" font-family=\"Helvetica,sans-Serif\" font-size=\"14.00\" fill=\"#000000\">gini = 0.0</text>\n<text text-anchor=\"start\" x=\"479.5\" y=\"-268.3\" font-family=\"Helvetica,sans-Serif\" font-size=\"14.00\" fill=\"#000000\">samples = 1</text>\n<text text-anchor=\"start\" x=\"477.5\" y=\"-253.3\" font-family=\"Helvetica,sans-Serif\" font-size=\"14.00\" fill=\"#000000\">value = [1, 0]</text>\n<text text-anchor=\"start\" x=\"462.5\" y=\"-238.3\" font-family=\"Helvetica,sans-Serif\" font-size=\"14.00\" fill=\"#000000\">class = malignant</text>\n</g>\n<!-- 14&#45;&gt;15 -->\n<g id=\"edge15\" class=\"edge\">\n<title>14&#45;&gt;15</title>\n<path fill=\"none\" stroke=\"#000000\" d=\"M582.0741,-341.8796C572.7524,-330.4436 562.6388,-318.0363 553.2964,-306.575\"/>\n<polygon fill=\"#000000\" stroke=\"#000000\" points=\"556.0021,-304.3548 546.971,-298.8149 550.5763,-308.7775 556.0021,-304.3548\"/>\n</g>\n<!-- 16 -->\n<g id=\"node17\" class=\"node\">\n<title>16</title>\n<path fill=\"#4ba6e7\" stroke=\"#000000\" d=\"M778.5,-306C778.5,-306 613.5,-306 613.5,-306 607.5,-306 601.5,-300 601.5,-294 601.5,-294 601.5,-235 601.5,-235 601.5,-229 607.5,-223 613.5,-223 613.5,-223 778.5,-223 778.5,-223 784.5,-223 790.5,-229 790.5,-235 790.5,-235 790.5,-294 790.5,-294 790.5,-300 784.5,-306 778.5,-306\"/>\n<text text-anchor=\"start\" x=\"609.5\" y=\"-290.8\" font-family=\"Helvetica,sans-Serif\" font-size=\"14.00\" fill=\"#000000\">compactness error ≤ 0.012</text>\n<text text-anchor=\"start\" x=\"658\" y=\"-275.8\" font-family=\"Helvetica,sans-Serif\" font-size=\"14.00\" fill=\"#000000\">gini = 0.153</text>\n<text text-anchor=\"start\" x=\"652\" y=\"-260.8\" font-family=\"Helvetica,sans-Serif\" font-size=\"14.00\" fill=\"#000000\">samples = 12</text>\n<text text-anchor=\"start\" x=\"650.5\" y=\"-245.8\" font-family=\"Helvetica,sans-Serif\" font-size=\"14.00\" fill=\"#000000\">value = [1, 11]</text>\n<text text-anchor=\"start\" x=\"649\" y=\"-230.8\" font-family=\"Helvetica,sans-Serif\" font-size=\"14.00\" fill=\"#000000\">class = benign</text>\n</g>\n<!-- 14&#45;&gt;16 -->\n<g id=\"edge16\" class=\"edge\">\n<title>14&#45;&gt;16</title>\n<path fill=\"none\" stroke=\"#000000\" d=\"M643.9801,-341.8796C649.8531,-333.1434 656.1073,-323.8404 662.1679,-314.8253\"/>\n<polygon fill=\"#000000\" stroke=\"#000000\" points=\"665.2259,-316.5498 667.9005,-306.2981 659.4166,-312.6444 665.2259,-316.5498\"/>\n</g>\n<!-- 17 -->\n<g id=\"node18\" class=\"node\">\n<title>17</title>\n<path fill=\"#e58139\" stroke=\"#000000\" d=\"M731.5,-179.5C731.5,-179.5 626.5,-179.5 626.5,-179.5 620.5,-179.5 614.5,-173.5 614.5,-167.5 614.5,-167.5 614.5,-123.5 614.5,-123.5 614.5,-117.5 620.5,-111.5 626.5,-111.5 626.5,-111.5 731.5,-111.5 731.5,-111.5 737.5,-111.5 743.5,-117.5 743.5,-123.5 743.5,-123.5 743.5,-167.5 743.5,-167.5 743.5,-173.5 737.5,-179.5 731.5,-179.5\"/>\n<text text-anchor=\"start\" x=\"649.5\" y=\"-164.3\" font-family=\"Helvetica,sans-Serif\" font-size=\"14.00\" fill=\"#000000\">gini = 0.0</text>\n<text text-anchor=\"start\" x=\"639.5\" y=\"-149.3\" font-family=\"Helvetica,sans-Serif\" font-size=\"14.00\" fill=\"#000000\">samples = 1</text>\n<text text-anchor=\"start\" x=\"637.5\" y=\"-134.3\" font-family=\"Helvetica,sans-Serif\" font-size=\"14.00\" fill=\"#000000\">value = [1, 0]</text>\n<text text-anchor=\"start\" x=\"622.5\" y=\"-119.3\" font-family=\"Helvetica,sans-Serif\" font-size=\"14.00\" fill=\"#000000\">class = malignant</text>\n</g>\n<!-- 16&#45;&gt;17 -->\n<g id=\"edge17\" class=\"edge\">\n<title>16&#45;&gt;17</title>\n<path fill=\"none\" stroke=\"#000000\" d=\"M690.0542,-222.8796C688.5305,-212.2134 686.886,-200.7021 685.3431,-189.9015\"/>\n<polygon fill=\"#000000\" stroke=\"#000000\" points=\"688.7813,-189.2194 683.9021,-179.8149 681.8516,-190.2094 688.7813,-189.2194\"/>\n</g>\n<!-- 18 -->\n<g id=\"node19\" class=\"node\">\n<title>18</title>\n<path fill=\"#399de5\" stroke=\"#000000\" d=\"M860,-179.5C860,-179.5 774,-179.5 774,-179.5 768,-179.5 762,-173.5 762,-167.5 762,-167.5 762,-123.5 762,-123.5 762,-117.5 768,-111.5 774,-111.5 774,-111.5 860,-111.5 860,-111.5 866,-111.5 872,-117.5 872,-123.5 872,-123.5 872,-167.5 872,-167.5 872,-173.5 866,-179.5 860,-179.5\"/>\n<text text-anchor=\"start\" x=\"787.5\" y=\"-164.3\" font-family=\"Helvetica,sans-Serif\" font-size=\"14.00\" fill=\"#000000\">gini = 0.0</text>\n<text text-anchor=\"start\" x=\"773\" y=\"-149.3\" font-family=\"Helvetica,sans-Serif\" font-size=\"14.00\" fill=\"#000000\">samples = 11</text>\n<text text-anchor=\"start\" x=\"771.5\" y=\"-134.3\" font-family=\"Helvetica,sans-Serif\" font-size=\"14.00\" fill=\"#000000\">value = [0, 11]</text>\n<text text-anchor=\"start\" x=\"770\" y=\"-119.3\" font-family=\"Helvetica,sans-Serif\" font-size=\"14.00\" fill=\"#000000\">class = benign</text>\n</g>\n<!-- 16&#45;&gt;18 -->\n<g id=\"edge18\" class=\"edge\">\n<title>16&#45;&gt;18</title>\n<path fill=\"none\" stroke=\"#000000\" d=\"M738.3199,-222.8796C750.1717,-211.2237 763.0495,-198.5587 774.8891,-186.9148\"/>\n<polygon fill=\"#000000\" stroke=\"#000000\" points=\"777.4327,-189.3223 782.1083,-179.8149 772.5244,-184.3314 777.4327,-189.3223\"/>\n</g>\n<!-- 20 -->\n<g id=\"node21\" class=\"node\">\n<title>20</title>\n<path fill=\"#6eb7ec\" stroke=\"#000000\" d=\"M1263,-544C1263,-544 1151,-544 1151,-544 1145,-544 1139,-538 1139,-532 1139,-532 1139,-473 1139,-473 1139,-467 1145,-461 1151,-461 1151,-461 1263,-461 1263,-461 1269,-461 1275,-467 1275,-473 1275,-473 1275,-532 1275,-532 1275,-538 1269,-544 1263,-544\"/>\n<text text-anchor=\"start\" x=\"1147\" y=\"-528.8\" font-family=\"Helvetica,sans-Serif\" font-size=\"14.00\" fill=\"#000000\">worst area ≤ 810.3</text>\n<text text-anchor=\"start\" x=\"1169\" y=\"-513.8\" font-family=\"Helvetica,sans-Serif\" font-size=\"14.00\" fill=\"#000000\">gini = 0.332</text>\n<text text-anchor=\"start\" x=\"1163\" y=\"-498.8\" font-family=\"Helvetica,sans-Serif\" font-size=\"14.00\" fill=\"#000000\">samples = 19</text>\n<text text-anchor=\"start\" x=\"1161.5\" y=\"-483.8\" font-family=\"Helvetica,sans-Serif\" font-size=\"14.00\" fill=\"#000000\">value = [4, 15]</text>\n<text text-anchor=\"start\" x=\"1160\" y=\"-468.8\" font-family=\"Helvetica,sans-Serif\" font-size=\"14.00\" fill=\"#000000\">class = benign</text>\n</g>\n<!-- 19&#45;&gt;20 -->\n<g id=\"edge20\" class=\"edge\">\n<title>19&#45;&gt;20</title>\n<path fill=\"none\" stroke=\"#000000\" d=\"M1253.1676,-579.8796C1248.0091,-571.2335 1242.5192,-562.0322 1237.1924,-553.1042\"/>\n<polygon fill=\"#000000\" stroke=\"#000000\" points=\"1240.0678,-551.0924 1231.9383,-544.2981 1234.0564,-554.679 1240.0678,-551.0924\"/>\n</g>\n<!-- 27 -->\n<g id=\"node28\" class=\"node\">\n<title>27</title>\n<path fill=\"#e89152\" stroke=\"#000000\" d=\"M1461,-544C1461,-544 1315,-544 1315,-544 1309,-544 1303,-538 1303,-532 1303,-532 1303,-473 1303,-473 1303,-467 1309,-461 1315,-461 1315,-461 1461,-461 1461,-461 1467,-461 1473,-467 1473,-473 1473,-473 1473,-532 1473,-532 1473,-538 1467,-544 1461,-544\"/>\n<text text-anchor=\"start\" x=\"1311\" y=\"-528.8\" font-family=\"Helvetica,sans-Serif\" font-size=\"14.00\" fill=\"#000000\">mean concavity ≤ 0.097</text>\n<text text-anchor=\"start\" x=\"1350\" y=\"-513.8\" font-family=\"Helvetica,sans-Serif\" font-size=\"14.00\" fill=\"#000000\">gini = 0.198</text>\n<text text-anchor=\"start\" x=\"1344\" y=\"-498.8\" font-family=\"Helvetica,sans-Serif\" font-size=\"14.00\" fill=\"#000000\">samples = 27</text>\n<text text-anchor=\"start\" x=\"1342.5\" y=\"-483.8\" font-family=\"Helvetica,sans-Serif\" font-size=\"14.00\" fill=\"#000000\">value = [24, 3]</text>\n<text text-anchor=\"start\" x=\"1331.5\" y=\"-468.8\" font-family=\"Helvetica,sans-Serif\" font-size=\"14.00\" fill=\"#000000\">class = malignant</text>\n</g>\n<!-- 19&#45;&gt;27 -->\n<g id=\"edge27\" class=\"edge\">\n<title>19&#45;&gt;27</title>\n<path fill=\"none\" stroke=\"#000000\" d=\"M1316.4727,-579.8796C1324.8811,-570.7832 1333.8576,-561.0722 1342.5103,-551.7116\"/>\n<polygon fill=\"#000000\" stroke=\"#000000\" points=\"1345.1453,-554.0172 1349.3631,-544.2981 1340.005,-549.2656 1345.1453,-554.0172\"/>\n</g>\n<!-- 21 -->\n<g id=\"node22\" class=\"node\">\n<title>21</title>\n<path fill=\"#47a4e7\" stroke=\"#000000\" d=\"M1084,-425C1084,-425 920,-425 920,-425 914,-425 908,-419 908,-413 908,-413 908,-354 908,-354 908,-348 914,-342 920,-342 920,-342 1084,-342 1084,-342 1090,-342 1096,-348 1096,-354 1096,-354 1096,-413 1096,-413 1096,-419 1090,-425 1084,-425\"/>\n<text text-anchor=\"start\" x=\"916\" y=\"-409.8\" font-family=\"Helvetica,sans-Serif\" font-size=\"14.00\" fill=\"#000000\">mean smoothness ≤ 0.123</text>\n<text text-anchor=\"start\" x=\"964\" y=\"-394.8\" font-family=\"Helvetica,sans-Serif\" font-size=\"14.00\" fill=\"#000000\">gini = 0.124</text>\n<text text-anchor=\"start\" x=\"958\" y=\"-379.8\" font-family=\"Helvetica,sans-Serif\" font-size=\"14.00\" fill=\"#000000\">samples = 15</text>\n<text text-anchor=\"start\" x=\"956.5\" y=\"-364.8\" font-family=\"Helvetica,sans-Serif\" font-size=\"14.00\" fill=\"#000000\">value = [1, 14]</text>\n<text text-anchor=\"start\" x=\"955\" y=\"-349.8\" font-family=\"Helvetica,sans-Serif\" font-size=\"14.00\" fill=\"#000000\">class = benign</text>\n</g>\n<!-- 20&#45;&gt;21 -->\n<g id=\"edge21\" class=\"edge\">\n<title>20&#45;&gt;21</title>\n<path fill=\"none\" stroke=\"#000000\" d=\"M1138.738,-462.8747C1120.7396,-452.4269 1101.1499,-441.0553 1082.5691,-430.2694\"/>\n<polygon fill=\"#000000\" stroke=\"#000000\" points=\"1084.2329,-427.1883 1073.8273,-425.1949 1080.7186,-433.2422 1084.2329,-427.1883\"/>\n</g>\n<!-- 24 -->\n<g id=\"node25\" class=\"node\">\n<title>24</title>\n<path fill=\"#eeab7b\" stroke=\"#000000\" d=\"M1280,-425C1280,-425 1134,-425 1134,-425 1128,-425 1122,-419 1122,-413 1122,-413 1122,-354 1122,-354 1122,-348 1128,-342 1134,-342 1134,-342 1280,-342 1280,-342 1286,-342 1292,-348 1292,-354 1292,-354 1292,-413 1292,-413 1292,-419 1286,-425 1280,-425\"/>\n<text text-anchor=\"start\" x=\"1130\" y=\"-409.8\" font-family=\"Helvetica,sans-Serif\" font-size=\"14.00\" fill=\"#000000\">mean perimeter ≤ 92.79</text>\n<text text-anchor=\"start\" x=\"1169\" y=\"-394.8\" font-family=\"Helvetica,sans-Serif\" font-size=\"14.00\" fill=\"#000000\">gini = 0.375</text>\n<text text-anchor=\"start\" x=\"1167.5\" y=\"-379.8\" font-family=\"Helvetica,sans-Serif\" font-size=\"14.00\" fill=\"#000000\">samples = 4</text>\n<text text-anchor=\"start\" x=\"1165.5\" y=\"-364.8\" font-family=\"Helvetica,sans-Serif\" font-size=\"14.00\" fill=\"#000000\">value = [3, 1]</text>\n<text text-anchor=\"start\" x=\"1150.5\" y=\"-349.8\" font-family=\"Helvetica,sans-Serif\" font-size=\"14.00\" fill=\"#000000\">class = malignant</text>\n</g>\n<!-- 20&#45;&gt;24 -->\n<g id=\"edge24\" class=\"edge\">\n<title>20&#45;&gt;24</title>\n<path fill=\"none\" stroke=\"#000000\" d=\"M1207,-460.8796C1207,-452.6838 1207,-443.9891 1207,-435.5013\"/>\n<polygon fill=\"#000000\" stroke=\"#000000\" points=\"1210.5001,-435.298 1207,-425.2981 1203.5001,-435.2981 1210.5001,-435.298\"/>\n</g>\n<!-- 22 -->\n<g id=\"node23\" class=\"node\">\n<title>22</title>\n<path fill=\"#399de5\" stroke=\"#000000\" d=\"M907,-298.5C907,-298.5 821,-298.5 821,-298.5 815,-298.5 809,-292.5 809,-286.5 809,-286.5 809,-242.5 809,-242.5 809,-236.5 815,-230.5 821,-230.5 821,-230.5 907,-230.5 907,-230.5 913,-230.5 919,-236.5 919,-242.5 919,-242.5 919,-286.5 919,-286.5 919,-292.5 913,-298.5 907,-298.5\"/>\n<text text-anchor=\"start\" x=\"834.5\" y=\"-283.3\" font-family=\"Helvetica,sans-Serif\" font-size=\"14.00\" fill=\"#000000\">gini = 0.0</text>\n<text text-anchor=\"start\" x=\"820\" y=\"-268.3\" font-family=\"Helvetica,sans-Serif\" font-size=\"14.00\" fill=\"#000000\">samples = 14</text>\n<text text-anchor=\"start\" x=\"818.5\" y=\"-253.3\" font-family=\"Helvetica,sans-Serif\" font-size=\"14.00\" fill=\"#000000\">value = [0, 14]</text>\n<text text-anchor=\"start\" x=\"817\" y=\"-238.3\" font-family=\"Helvetica,sans-Serif\" font-size=\"14.00\" fill=\"#000000\">class = benign</text>\n</g>\n<!-- 21&#45;&gt;22 -->\n<g id=\"edge22\" class=\"edge\">\n<title>21&#45;&gt;22</title>\n<path fill=\"none\" stroke=\"#000000\" d=\"M953.7343,-341.8796C940.0899,-330.1138 925.2531,-317.3197 911.6454,-305.5855\"/>\n<polygon fill=\"#000000\" stroke=\"#000000\" points=\"913.6527,-302.6948 903.7938,-298.8149 909.0813,-307.9961 913.6527,-302.6948\"/>\n</g>\n<!-- 23 -->\n<g id=\"node24\" class=\"node\">\n<title>23</title>\n<path fill=\"#e58139\" stroke=\"#000000\" d=\"M1054.5,-298.5C1054.5,-298.5 949.5,-298.5 949.5,-298.5 943.5,-298.5 937.5,-292.5 937.5,-286.5 937.5,-286.5 937.5,-242.5 937.5,-242.5 937.5,-236.5 943.5,-230.5 949.5,-230.5 949.5,-230.5 1054.5,-230.5 1054.5,-230.5 1060.5,-230.5 1066.5,-236.5 1066.5,-242.5 1066.5,-242.5 1066.5,-286.5 1066.5,-286.5 1066.5,-292.5 1060.5,-298.5 1054.5,-298.5\"/>\n<text text-anchor=\"start\" x=\"972.5\" y=\"-283.3\" font-family=\"Helvetica,sans-Serif\" font-size=\"14.00\" fill=\"#000000\">gini = 0.0</text>\n<text text-anchor=\"start\" x=\"962.5\" y=\"-268.3\" font-family=\"Helvetica,sans-Serif\" font-size=\"14.00\" fill=\"#000000\">samples = 1</text>\n<text text-anchor=\"start\" x=\"960.5\" y=\"-253.3\" font-family=\"Helvetica,sans-Serif\" font-size=\"14.00\" fill=\"#000000\">value = [1, 0]</text>\n<text text-anchor=\"start\" x=\"945.5\" y=\"-238.3\" font-family=\"Helvetica,sans-Serif\" font-size=\"14.00\" fill=\"#000000\">class = malignant</text>\n</g>\n<!-- 21&#45;&gt;23 -->\n<g id=\"edge23\" class=\"edge\">\n<title>21&#45;&gt;23</title>\n<path fill=\"none\" stroke=\"#000000\" d=\"M1002,-341.8796C1002,-331.2134 1002,-319.7021 1002,-308.9015\"/>\n<polygon fill=\"#000000\" stroke=\"#000000\" points=\"1005.5001,-308.8149 1002,-298.8149 998.5001,-308.815 1005.5001,-308.8149\"/>\n</g>\n<!-- 25 -->\n<g id=\"node26\" class=\"node\">\n<title>25</title>\n<path fill=\"#e58139\" stroke=\"#000000\" d=\"M1201.5,-298.5C1201.5,-298.5 1096.5,-298.5 1096.5,-298.5 1090.5,-298.5 1084.5,-292.5 1084.5,-286.5 1084.5,-286.5 1084.5,-242.5 1084.5,-242.5 1084.5,-236.5 1090.5,-230.5 1096.5,-230.5 1096.5,-230.5 1201.5,-230.5 1201.5,-230.5 1207.5,-230.5 1213.5,-236.5 1213.5,-242.5 1213.5,-242.5 1213.5,-286.5 1213.5,-286.5 1213.5,-292.5 1207.5,-298.5 1201.5,-298.5\"/>\n<text text-anchor=\"start\" x=\"1119.5\" y=\"-283.3\" font-family=\"Helvetica,sans-Serif\" font-size=\"14.00\" fill=\"#000000\">gini = 0.0</text>\n<text text-anchor=\"start\" x=\"1109.5\" y=\"-268.3\" font-family=\"Helvetica,sans-Serif\" font-size=\"14.00\" fill=\"#000000\">samples = 3</text>\n<text text-anchor=\"start\" x=\"1107.5\" y=\"-253.3\" font-family=\"Helvetica,sans-Serif\" font-size=\"14.00\" fill=\"#000000\">value = [3, 0]</text>\n<text text-anchor=\"start\" x=\"1092.5\" y=\"-238.3\" font-family=\"Helvetica,sans-Serif\" font-size=\"14.00\" fill=\"#000000\">class = malignant</text>\n</g>\n<!-- 24&#45;&gt;25 -->\n<g id=\"edge25\" class=\"edge\">\n<title>24&#45;&gt;25</title>\n<path fill=\"none\" stroke=\"#000000\" d=\"M1186.7144,-341.8796C1181.355,-330.8835 1175.5578,-318.9893 1170.1537,-307.9015\"/>\n<polygon fill=\"#000000\" stroke=\"#000000\" points=\"1173.2524,-306.2706 1165.7249,-298.8149 1166.96,-309.3375 1173.2524,-306.2706\"/>\n</g>\n<!-- 26 -->\n<g id=\"node27\" class=\"node\">\n<title>26</title>\n<path fill=\"#399de5\" stroke=\"#000000\" d=\"M1330,-298.5C1330,-298.5 1244,-298.5 1244,-298.5 1238,-298.5 1232,-292.5 1232,-286.5 1232,-286.5 1232,-242.5 1232,-242.5 1232,-236.5 1238,-230.5 1244,-230.5 1244,-230.5 1330,-230.5 1330,-230.5 1336,-230.5 1342,-236.5 1342,-242.5 1342,-242.5 1342,-286.5 1342,-286.5 1342,-292.5 1336,-298.5 1330,-298.5\"/>\n<text text-anchor=\"start\" x=\"1257.5\" y=\"-283.3\" font-family=\"Helvetica,sans-Serif\" font-size=\"14.00\" fill=\"#000000\">gini = 0.0</text>\n<text text-anchor=\"start\" x=\"1247.5\" y=\"-268.3\" font-family=\"Helvetica,sans-Serif\" font-size=\"14.00\" fill=\"#000000\">samples = 1</text>\n<text text-anchor=\"start\" x=\"1245.5\" y=\"-253.3\" font-family=\"Helvetica,sans-Serif\" font-size=\"14.00\" fill=\"#000000\">value = [0, 1]</text>\n<text text-anchor=\"start\" x=\"1240\" y=\"-238.3\" font-family=\"Helvetica,sans-Serif\" font-size=\"14.00\" fill=\"#000000\">class = benign</text>\n</g>\n<!-- 24&#45;&gt;26 -->\n<g id=\"edge26\" class=\"edge\">\n<title>24&#45;&gt;26</title>\n<path fill=\"none\" stroke=\"#000000\" d=\"M1234.9801,-341.8796C1242.5203,-330.6636 1250.6887,-318.5131 1258.2691,-307.2372\"/>\n<polygon fill=\"#000000\" stroke=\"#000000\" points=\"1261.2566,-309.0667 1263.9311,-298.8149 1255.4473,-305.1612 1261.2566,-309.0667\"/>\n</g>\n<!-- 28 -->\n<g id=\"node29\" class=\"node\">\n<title>28</title>\n<path fill=\"#ffffff\" stroke=\"#000000\" d=\"M1466.5,-425C1466.5,-425 1331.5,-425 1331.5,-425 1325.5,-425 1319.5,-419 1319.5,-413 1319.5,-413 1319.5,-354 1319.5,-354 1319.5,-348 1325.5,-342 1331.5,-342 1331.5,-342 1466.5,-342 1466.5,-342 1472.5,-342 1478.5,-348 1478.5,-354 1478.5,-354 1478.5,-413 1478.5,-413 1478.5,-419 1472.5,-425 1466.5,-425\"/>\n<text text-anchor=\"start\" x=\"1327.5\" y=\"-409.8\" font-family=\"Helvetica,sans-Serif\" font-size=\"14.00\" fill=\"#000000\">worst texture ≤ 28.545</text>\n<text text-anchor=\"start\" x=\"1369.5\" y=\"-394.8\" font-family=\"Helvetica,sans-Serif\" font-size=\"14.00\" fill=\"#000000\">gini = 0.5</text>\n<text text-anchor=\"start\" x=\"1359.5\" y=\"-379.8\" font-family=\"Helvetica,sans-Serif\" font-size=\"14.00\" fill=\"#000000\">samples = 6</text>\n<text text-anchor=\"start\" x=\"1357.5\" y=\"-364.8\" font-family=\"Helvetica,sans-Serif\" font-size=\"14.00\" fill=\"#000000\">value = [3, 3]</text>\n<text text-anchor=\"start\" x=\"1342.5\" y=\"-349.8\" font-family=\"Helvetica,sans-Serif\" font-size=\"14.00\" fill=\"#000000\">class = malignant</text>\n</g>\n<!-- 27&#45;&gt;28 -->\n<g id=\"edge28\" class=\"edge\">\n<title>27&#45;&gt;28</title>\n<path fill=\"none\" stroke=\"#000000\" d=\"M1391.8473,-460.8796C1392.6049,-452.6838 1393.4086,-443.9891 1394.1932,-435.5013\"/>\n<polygon fill=\"#000000\" stroke=\"#000000\" points=\"1397.7009,-435.5778 1395.1363,-425.2981 1390.7306,-434.9334 1397.7009,-435.5778\"/>\n</g>\n<!-- 31 -->\n<g id=\"node32\" class=\"node\">\n<title>31</title>\n<path fill=\"#e58139\" stroke=\"#000000\" d=\"M1613.5,-417.5C1613.5,-417.5 1508.5,-417.5 1508.5,-417.5 1502.5,-417.5 1496.5,-411.5 1496.5,-405.5 1496.5,-405.5 1496.5,-361.5 1496.5,-361.5 1496.5,-355.5 1502.5,-349.5 1508.5,-349.5 1508.5,-349.5 1613.5,-349.5 1613.5,-349.5 1619.5,-349.5 1625.5,-355.5 1625.5,-361.5 1625.5,-361.5 1625.5,-405.5 1625.5,-405.5 1625.5,-411.5 1619.5,-417.5 1613.5,-417.5\"/>\n<text text-anchor=\"start\" x=\"1531.5\" y=\"-402.3\" font-family=\"Helvetica,sans-Serif\" font-size=\"14.00\" fill=\"#000000\">gini = 0.0</text>\n<text text-anchor=\"start\" x=\"1517\" y=\"-387.3\" font-family=\"Helvetica,sans-Serif\" font-size=\"14.00\" fill=\"#000000\">samples = 21</text>\n<text text-anchor=\"start\" x=\"1515.5\" y=\"-372.3\" font-family=\"Helvetica,sans-Serif\" font-size=\"14.00\" fill=\"#000000\">value = [21, 0]</text>\n<text text-anchor=\"start\" x=\"1504.5\" y=\"-357.3\" font-family=\"Helvetica,sans-Serif\" font-size=\"14.00\" fill=\"#000000\">class = malignant</text>\n</g>\n<!-- 27&#45;&gt;31 -->\n<g id=\"edge31\" class=\"edge\">\n<title>27&#45;&gt;31</title>\n<path fill=\"none\" stroke=\"#000000\" d=\"M1448.507,-460.8796C1466.1752,-448.7263 1485.4385,-435.4759 1502.9509,-423.4297\"/>\n<polygon fill=\"#000000\" stroke=\"#000000\" points=\"1505.1371,-426.1741 1511.3926,-417.623 1501.1699,-420.4067 1505.1371,-426.1741\"/>\n</g>\n<!-- 29 -->\n<g id=\"node30\" class=\"node\">\n<title>29</title>\n<path fill=\"#399de5\" stroke=\"#000000\" d=\"M1458,-298.5C1458,-298.5 1372,-298.5 1372,-298.5 1366,-298.5 1360,-292.5 1360,-286.5 1360,-286.5 1360,-242.5 1360,-242.5 1360,-236.5 1366,-230.5 1372,-230.5 1372,-230.5 1458,-230.5 1458,-230.5 1464,-230.5 1470,-236.5 1470,-242.5 1470,-242.5 1470,-286.5 1470,-286.5 1470,-292.5 1464,-298.5 1458,-298.5\"/>\n<text text-anchor=\"start\" x=\"1385.5\" y=\"-283.3\" font-family=\"Helvetica,sans-Serif\" font-size=\"14.00\" fill=\"#000000\">gini = 0.0</text>\n<text text-anchor=\"start\" x=\"1375.5\" y=\"-268.3\" font-family=\"Helvetica,sans-Serif\" font-size=\"14.00\" fill=\"#000000\">samples = 3</text>\n<text text-anchor=\"start\" x=\"1373.5\" y=\"-253.3\" font-family=\"Helvetica,sans-Serif\" font-size=\"14.00\" fill=\"#000000\">value = [0, 3]</text>\n<text text-anchor=\"start\" x=\"1368\" y=\"-238.3\" font-family=\"Helvetica,sans-Serif\" font-size=\"14.00\" fill=\"#000000\">class = benign</text>\n</g>\n<!-- 28&#45;&gt;29 -->\n<g id=\"edge29\" class=\"edge\">\n<title>28&#45;&gt;29</title>\n<path fill=\"none\" stroke=\"#000000\" d=\"M1404.596,-341.8796C1406.0301,-331.2134 1407.5779,-319.7021 1409.03,-308.9015\"/>\n<polygon fill=\"#000000\" stroke=\"#000000\" points=\"1412.5224,-309.1922 1410.3862,-298.8149 1405.5848,-308.2593 1412.5224,-309.1922\"/>\n</g>\n<!-- 30 -->\n<g id=\"node31\" class=\"node\">\n<title>30</title>\n<path fill=\"#e58139\" stroke=\"#000000\" d=\"M1605.5,-298.5C1605.5,-298.5 1500.5,-298.5 1500.5,-298.5 1494.5,-298.5 1488.5,-292.5 1488.5,-286.5 1488.5,-286.5 1488.5,-242.5 1488.5,-242.5 1488.5,-236.5 1494.5,-230.5 1500.5,-230.5 1500.5,-230.5 1605.5,-230.5 1605.5,-230.5 1611.5,-230.5 1617.5,-236.5 1617.5,-242.5 1617.5,-242.5 1617.5,-286.5 1617.5,-286.5 1617.5,-292.5 1611.5,-298.5 1605.5,-298.5\"/>\n<text text-anchor=\"start\" x=\"1523.5\" y=\"-283.3\" font-family=\"Helvetica,sans-Serif\" font-size=\"14.00\" fill=\"#000000\">gini = 0.0</text>\n<text text-anchor=\"start\" x=\"1513.5\" y=\"-268.3\" font-family=\"Helvetica,sans-Serif\" font-size=\"14.00\" fill=\"#000000\">samples = 3</text>\n<text text-anchor=\"start\" x=\"1511.5\" y=\"-253.3\" font-family=\"Helvetica,sans-Serif\" font-size=\"14.00\" fill=\"#000000\">value = [3, 0]</text>\n<text text-anchor=\"start\" x=\"1496.5\" y=\"-238.3\" font-family=\"Helvetica,sans-Serif\" font-size=\"14.00\" fill=\"#000000\">class = malignant</text>\n</g>\n<!-- 28&#45;&gt;30 -->\n<g id=\"edge30\" class=\"edge\">\n<title>28&#45;&gt;30</title>\n<path fill=\"none\" stroke=\"#000000\" d=\"M1452.8617,-341.8796C1468.2304,-330.0038 1484.9547,-317.0804 1500.2559,-305.2568\"/>\n<polygon fill=\"#000000\" stroke=\"#000000\" points=\"1502.8196,-307.699 1508.5924,-298.8149 1498.5395,-302.1599 1502.8196,-307.699\"/>\n</g>\n<!-- 33 -->\n<g id=\"node34\" class=\"node\">\n<title>33</title>\n<path fill=\"#e9f4fc\" stroke=\"#000000\" d=\"M1667.5,-663C1667.5,-663 1484.5,-663 1484.5,-663 1478.5,-663 1472.5,-657 1472.5,-651 1472.5,-651 1472.5,-592 1472.5,-592 1472.5,-586 1478.5,-580 1484.5,-580 1484.5,-580 1667.5,-580 1667.5,-580 1673.5,-580 1679.5,-586 1679.5,-592 1679.5,-592 1679.5,-651 1679.5,-651 1679.5,-657 1673.5,-663 1667.5,-663\"/>\n<text text-anchor=\"start\" x=\"1480.5\" y=\"-647.8\" font-family=\"Helvetica,sans-Serif\" font-size=\"14.00\" fill=\"#000000\">mean concave points ≤ 0.071</text>\n<text text-anchor=\"start\" x=\"1538\" y=\"-632.8\" font-family=\"Helvetica,sans-Serif\" font-size=\"14.00\" fill=\"#000000\">gini = 0.498</text>\n<text text-anchor=\"start\" x=\"1532\" y=\"-617.8\" font-family=\"Helvetica,sans-Serif\" font-size=\"14.00\" fill=\"#000000\">samples = 17</text>\n<text text-anchor=\"start\" x=\"1534.5\" y=\"-602.8\" font-family=\"Helvetica,sans-Serif\" font-size=\"14.00\" fill=\"#000000\">value = [8, 9]</text>\n<text text-anchor=\"start\" x=\"1529\" y=\"-587.8\" font-family=\"Helvetica,sans-Serif\" font-size=\"14.00\" fill=\"#000000\">class = benign</text>\n</g>\n<!-- 32&#45;&gt;33 -->\n<g id=\"edge33\" class=\"edge\">\n<title>32&#45;&gt;33</title>\n<path fill=\"none\" stroke=\"#000000\" d=\"M1576,-698.8796C1576,-690.6838 1576,-681.9891 1576,-673.5013\"/>\n<polygon fill=\"#000000\" stroke=\"#000000\" points=\"1579.5001,-673.298 1576,-663.2981 1572.5001,-673.2981 1579.5001,-673.298\"/>\n</g>\n<!-- 36 -->\n<g id=\"node37\" class=\"node\">\n<title>36</title>\n<path fill=\"#e5823b\" stroke=\"#000000\" d=\"M1903,-663C1903,-663 1741,-663 1741,-663 1735,-663 1729,-657 1729,-651 1729,-651 1729,-592 1729,-592 1729,-586 1735,-580 1741,-580 1741,-580 1903,-580 1903,-580 1909,-580 1915,-586 1915,-592 1915,-592 1915,-651 1915,-651 1915,-657 1909,-663 1903,-663\"/>\n<text text-anchor=\"start\" x=\"1737\" y=\"-647.8\" font-family=\"Helvetica,sans-Serif\" font-size=\"14.00\" fill=\"#000000\">worst smoothness ≤ 0.088</text>\n<text text-anchor=\"start\" x=\"1784\" y=\"-632.8\" font-family=\"Helvetica,sans-Serif\" font-size=\"14.00\" fill=\"#000000\">gini = 0.023</text>\n<text text-anchor=\"start\" x=\"1774\" y=\"-617.8\" font-family=\"Helvetica,sans-Serif\" font-size=\"14.00\" fill=\"#000000\">samples = 173</text>\n<text text-anchor=\"start\" x=\"1772\" y=\"-602.8\" font-family=\"Helvetica,sans-Serif\" font-size=\"14.00\" fill=\"#000000\">value = [171, 2]</text>\n<text text-anchor=\"start\" x=\"1765.5\" y=\"-587.8\" font-family=\"Helvetica,sans-Serif\" font-size=\"14.00\" fill=\"#000000\">class = malignant</text>\n</g>\n<!-- 32&#45;&gt;36 -->\n<g id=\"edge36\" class=\"edge\">\n<title>32&#45;&gt;36</title>\n<path fill=\"none\" stroke=\"#000000\" d=\"M1651.8154,-703.8251C1675.5788,-692.3298 1702.1118,-679.4947 1727.0247,-667.4433\"/>\n<polygon fill=\"#000000\" stroke=\"#000000\" points=\"1728.6438,-670.5482 1736.1217,-663.0428 1725.5955,-664.2467 1728.6438,-670.5482\"/>\n</g>\n<!-- 34 -->\n<g id=\"node35\" class=\"node\">\n<title>34</title>\n<path fill=\"#399de5\" stroke=\"#000000\" d=\"M1589,-536.5C1589,-536.5 1503,-536.5 1503,-536.5 1497,-536.5 1491,-530.5 1491,-524.5 1491,-524.5 1491,-480.5 1491,-480.5 1491,-474.5 1497,-468.5 1503,-468.5 1503,-468.5 1589,-468.5 1589,-468.5 1595,-468.5 1601,-474.5 1601,-480.5 1601,-480.5 1601,-524.5 1601,-524.5 1601,-530.5 1595,-536.5 1589,-536.5\"/>\n<text text-anchor=\"start\" x=\"1516.5\" y=\"-521.3\" font-family=\"Helvetica,sans-Serif\" font-size=\"14.00\" fill=\"#000000\">gini = 0.0</text>\n<text text-anchor=\"start\" x=\"1506.5\" y=\"-506.3\" font-family=\"Helvetica,sans-Serif\" font-size=\"14.00\" fill=\"#000000\">samples = 9</text>\n<text text-anchor=\"start\" x=\"1504.5\" y=\"-491.3\" font-family=\"Helvetica,sans-Serif\" font-size=\"14.00\" fill=\"#000000\">value = [0, 9]</text>\n<text text-anchor=\"start\" x=\"1499\" y=\"-476.3\" font-family=\"Helvetica,sans-Serif\" font-size=\"14.00\" fill=\"#000000\">class = benign</text>\n</g>\n<!-- 33&#45;&gt;34 -->\n<g id=\"edge34\" class=\"edge\">\n<title>33&#45;&gt;34</title>\n<path fill=\"none\" stroke=\"#000000\" d=\"M1565.5075,-579.8796C1562.7908,-569.1034 1559.8566,-557.4647 1557.1095,-546.5677\"/>\n<polygon fill=\"#000000\" stroke=\"#000000\" points=\"1560.4892,-545.6559 1554.6508,-536.8149 1553.7016,-547.3672 1560.4892,-545.6559\"/>\n</g>\n<!-- 35 -->\n<g id=\"node36\" class=\"node\">\n<title>35</title>\n<path fill=\"#e58139\" stroke=\"#000000\" d=\"M1736.5,-536.5C1736.5,-536.5 1631.5,-536.5 1631.5,-536.5 1625.5,-536.5 1619.5,-530.5 1619.5,-524.5 1619.5,-524.5 1619.5,-480.5 1619.5,-480.5 1619.5,-474.5 1625.5,-468.5 1631.5,-468.5 1631.5,-468.5 1736.5,-468.5 1736.5,-468.5 1742.5,-468.5 1748.5,-474.5 1748.5,-480.5 1748.5,-480.5 1748.5,-524.5 1748.5,-524.5 1748.5,-530.5 1742.5,-536.5 1736.5,-536.5\"/>\n<text text-anchor=\"start\" x=\"1654.5\" y=\"-521.3\" font-family=\"Helvetica,sans-Serif\" font-size=\"14.00\" fill=\"#000000\">gini = 0.0</text>\n<text text-anchor=\"start\" x=\"1644.5\" y=\"-506.3\" font-family=\"Helvetica,sans-Serif\" font-size=\"14.00\" fill=\"#000000\">samples = 8</text>\n<text text-anchor=\"start\" x=\"1642.5\" y=\"-491.3\" font-family=\"Helvetica,sans-Serif\" font-size=\"14.00\" fill=\"#000000\">value = [8, 0]</text>\n<text text-anchor=\"start\" x=\"1627.5\" y=\"-476.3\" font-family=\"Helvetica,sans-Serif\" font-size=\"14.00\" fill=\"#000000\">class = malignant</text>\n</g>\n<!-- 33&#45;&gt;35 -->\n<g id=\"edge35\" class=\"edge\">\n<title>33&#45;&gt;35</title>\n<path fill=\"none\" stroke=\"#000000\" d=\"M1613.7732,-579.8796C1624.2518,-568.3337 1635.6291,-555.7976 1646.1141,-544.2446\"/>\n<polygon fill=\"#000000\" stroke=\"#000000\" points=\"1648.7282,-546.5722 1652.857,-536.8149 1643.5447,-541.8678 1648.7282,-546.5722\"/>\n</g>\n<!-- 37 -->\n<g id=\"node38\" class=\"node\">\n<title>37</title>\n<path fill=\"#399de5\" stroke=\"#000000\" d=\"M1865,-536.5C1865,-536.5 1779,-536.5 1779,-536.5 1773,-536.5 1767,-530.5 1767,-524.5 1767,-524.5 1767,-480.5 1767,-480.5 1767,-474.5 1773,-468.5 1779,-468.5 1779,-468.5 1865,-468.5 1865,-468.5 1871,-468.5 1877,-474.5 1877,-480.5 1877,-480.5 1877,-524.5 1877,-524.5 1877,-530.5 1871,-536.5 1865,-536.5\"/>\n<text text-anchor=\"start\" x=\"1792.5\" y=\"-521.3\" font-family=\"Helvetica,sans-Serif\" font-size=\"14.00\" fill=\"#000000\">gini = 0.0</text>\n<text text-anchor=\"start\" x=\"1782.5\" y=\"-506.3\" font-family=\"Helvetica,sans-Serif\" font-size=\"14.00\" fill=\"#000000\">samples = 1</text>\n<text text-anchor=\"start\" x=\"1780.5\" y=\"-491.3\" font-family=\"Helvetica,sans-Serif\" font-size=\"14.00\" fill=\"#000000\">value = [0, 1]</text>\n<text text-anchor=\"start\" x=\"1775\" y=\"-476.3\" font-family=\"Helvetica,sans-Serif\" font-size=\"14.00\" fill=\"#000000\">class = benign</text>\n</g>\n<!-- 36&#45;&gt;37 -->\n<g id=\"edge37\" class=\"edge\">\n<title>36&#45;&gt;37</title>\n<path fill=\"none\" stroke=\"#000000\" d=\"M1822,-579.8796C1822,-569.2134 1822,-557.7021 1822,-546.9015\"/>\n<polygon fill=\"#000000\" stroke=\"#000000\" points=\"1825.5001,-546.8149 1822,-536.8149 1818.5001,-546.815 1825.5001,-546.8149\"/>\n</g>\n<!-- 38 -->\n<g id=\"node39\" class=\"node\">\n<title>38</title>\n<path fill=\"#e5823a\" stroke=\"#000000\" d=\"M2043,-544C2043,-544 1907,-544 1907,-544 1901,-544 1895,-538 1895,-532 1895,-532 1895,-473 1895,-473 1895,-467 1901,-461 1907,-461 1907,-461 2043,-461 2043,-461 2049,-461 2055,-467 2055,-473 2055,-473 2055,-532 2055,-532 2055,-538 2049,-544 2043,-544\"/>\n<text text-anchor=\"start\" x=\"1903\" y=\"-528.8\" font-family=\"Helvetica,sans-Serif\" font-size=\"14.00\" fill=\"#000000\">worst concavity ≤ 0.18</text>\n<text text-anchor=\"start\" x=\"1937\" y=\"-513.8\" font-family=\"Helvetica,sans-Serif\" font-size=\"14.00\" fill=\"#000000\">gini = 0.012</text>\n<text text-anchor=\"start\" x=\"1927\" y=\"-498.8\" font-family=\"Helvetica,sans-Serif\" font-size=\"14.00\" fill=\"#000000\">samples = 172</text>\n<text text-anchor=\"start\" x=\"1925\" y=\"-483.8\" font-family=\"Helvetica,sans-Serif\" font-size=\"14.00\" fill=\"#000000\">value = [171, 1]</text>\n<text text-anchor=\"start\" x=\"1918.5\" y=\"-468.8\" font-family=\"Helvetica,sans-Serif\" font-size=\"14.00\" fill=\"#000000\">class = malignant</text>\n</g>\n<!-- 36&#45;&gt;38 -->\n<g id=\"edge38\" class=\"edge\">\n<title>36&#45;&gt;38</title>\n<path fill=\"none\" stroke=\"#000000\" d=\"M1875.512,-579.8796C1887.7412,-570.368 1900.8344,-560.1843 1913.3732,-550.432\"/>\n<polygon fill=\"#000000\" stroke=\"#000000\" points=\"1915.7735,-552.9991 1921.5182,-544.0969 1911.4759,-547.4736 1915.7735,-552.9991\"/>\n</g>\n<!-- 39 -->\n<g id=\"node40\" class=\"node\">\n<title>39</title>\n<path fill=\"#eeab7b\" stroke=\"#000000\" d=\"M1970,-425C1970,-425 1802,-425 1802,-425 1796,-425 1790,-419 1790,-413 1790,-413 1790,-354 1790,-354 1790,-348 1796,-342 1802,-342 1802,-342 1970,-342 1970,-342 1976,-342 1982,-348 1982,-354 1982,-354 1982,-413 1982,-413 1982,-419 1976,-425 1970,-425\"/>\n<text text-anchor=\"start\" x=\"1798\" y=\"-409.8\" font-family=\"Helvetica,sans-Serif\" font-size=\"14.00\" fill=\"#000000\">concave points error ≤ 0.01</text>\n<text text-anchor=\"start\" x=\"1848\" y=\"-394.8\" font-family=\"Helvetica,sans-Serif\" font-size=\"14.00\" fill=\"#000000\">gini = 0.375</text>\n<text text-anchor=\"start\" x=\"1846.5\" y=\"-379.8\" font-family=\"Helvetica,sans-Serif\" font-size=\"14.00\" fill=\"#000000\">samples = 4</text>\n<text text-anchor=\"start\" x=\"1844.5\" y=\"-364.8\" font-family=\"Helvetica,sans-Serif\" font-size=\"14.00\" fill=\"#000000\">value = [3, 1]</text>\n<text text-anchor=\"start\" x=\"1829.5\" y=\"-349.8\" font-family=\"Helvetica,sans-Serif\" font-size=\"14.00\" fill=\"#000000\">class = malignant</text>\n</g>\n<!-- 38&#45;&gt;39 -->\n<g id=\"edge39\" class=\"edge\">\n<title>38&#45;&gt;39</title>\n<path fill=\"none\" stroke=\"#000000\" d=\"M1943.8721,-460.8796C1937.271,-452.0534 1930.2371,-442.6485 1923.4298,-433.5466\"/>\n<polygon fill=\"#000000\" stroke=\"#000000\" points=\"1926.0528,-431.2099 1917.2607,-425.2981 1920.4472,-435.4024 1926.0528,-431.2099\"/>\n</g>\n<!-- 42 -->\n<g id=\"node43\" class=\"node\">\n<title>42</title>\n<path fill=\"#e58139\" stroke=\"#000000\" d=\"M2117.5,-417.5C2117.5,-417.5 2012.5,-417.5 2012.5,-417.5 2006.5,-417.5 2000.5,-411.5 2000.5,-405.5 2000.5,-405.5 2000.5,-361.5 2000.5,-361.5 2000.5,-355.5 2006.5,-349.5 2012.5,-349.5 2012.5,-349.5 2117.5,-349.5 2117.5,-349.5 2123.5,-349.5 2129.5,-355.5 2129.5,-361.5 2129.5,-361.5 2129.5,-405.5 2129.5,-405.5 2129.5,-411.5 2123.5,-417.5 2117.5,-417.5\"/>\n<text text-anchor=\"start\" x=\"2035.5\" y=\"-402.3\" font-family=\"Helvetica,sans-Serif\" font-size=\"14.00\" fill=\"#000000\">gini = 0.0</text>\n<text text-anchor=\"start\" x=\"2017\" y=\"-387.3\" font-family=\"Helvetica,sans-Serif\" font-size=\"14.00\" fill=\"#000000\">samples = 168</text>\n<text text-anchor=\"start\" x=\"2015\" y=\"-372.3\" font-family=\"Helvetica,sans-Serif\" font-size=\"14.00\" fill=\"#000000\">value = [168, 0]</text>\n<text text-anchor=\"start\" x=\"2008.5\" y=\"-357.3\" font-family=\"Helvetica,sans-Serif\" font-size=\"14.00\" fill=\"#000000\">class = malignant</text>\n</g>\n<!-- 38&#45;&gt;42 -->\n<g id=\"edge42\" class=\"edge\">\n<title>38&#45;&gt;42</title>\n<path fill=\"none\" stroke=\"#000000\" d=\"M2006.4776,-460.8796C2015.0435,-449.5536 2024.33,-437.2748 2032.9283,-425.9058\"/>\n<polygon fill=\"#000000\" stroke=\"#000000\" points=\"2035.8069,-427.902 2039.0475,-417.8149 2030.2238,-423.6795 2035.8069,-427.902\"/>\n</g>\n<!-- 40 -->\n<g id=\"node41\" class=\"node\">\n<title>40</title>\n<path fill=\"#e58139\" stroke=\"#000000\" d=\"M1869.5,-298.5C1869.5,-298.5 1764.5,-298.5 1764.5,-298.5 1758.5,-298.5 1752.5,-292.5 1752.5,-286.5 1752.5,-286.5 1752.5,-242.5 1752.5,-242.5 1752.5,-236.5 1758.5,-230.5 1764.5,-230.5 1764.5,-230.5 1869.5,-230.5 1869.5,-230.5 1875.5,-230.5 1881.5,-236.5 1881.5,-242.5 1881.5,-242.5 1881.5,-286.5 1881.5,-286.5 1881.5,-292.5 1875.5,-298.5 1869.5,-298.5\"/>\n<text text-anchor=\"start\" x=\"1787.5\" y=\"-283.3\" font-family=\"Helvetica,sans-Serif\" font-size=\"14.00\" fill=\"#000000\">gini = 0.0</text>\n<text text-anchor=\"start\" x=\"1777.5\" y=\"-268.3\" font-family=\"Helvetica,sans-Serif\" font-size=\"14.00\" fill=\"#000000\">samples = 3</text>\n<text text-anchor=\"start\" x=\"1775.5\" y=\"-253.3\" font-family=\"Helvetica,sans-Serif\" font-size=\"14.00\" fill=\"#000000\">value = [3, 0]</text>\n<text text-anchor=\"start\" x=\"1760.5\" y=\"-238.3\" font-family=\"Helvetica,sans-Serif\" font-size=\"14.00\" fill=\"#000000\">class = malignant</text>\n</g>\n<!-- 39&#45;&gt;40 -->\n<g id=\"edge40\" class=\"edge\">\n<title>39&#45;&gt;40</title>\n<path fill=\"none\" stroke=\"#000000\" d=\"M1861.8671,-341.8796C1855.4275,-330.7735 1848.4566,-318.7513 1841.9729,-307.5691\"/>\n<polygon fill=\"#000000\" stroke=\"#000000\" points=\"1844.9409,-305.7102 1836.8969,-298.8149 1838.8852,-309.2215 1844.9409,-305.7102\"/>\n</g>\n<!-- 41 -->\n<g id=\"node42\" class=\"node\">\n<title>41</title>\n<path fill=\"#399de5\" stroke=\"#000000\" d=\"M1998,-298.5C1998,-298.5 1912,-298.5 1912,-298.5 1906,-298.5 1900,-292.5 1900,-286.5 1900,-286.5 1900,-242.5 1900,-242.5 1900,-236.5 1906,-230.5 1912,-230.5 1912,-230.5 1998,-230.5 1998,-230.5 2004,-230.5 2010,-236.5 2010,-242.5 2010,-242.5 2010,-286.5 2010,-286.5 2010,-292.5 2004,-298.5 1998,-298.5\"/>\n<text text-anchor=\"start\" x=\"1925.5\" y=\"-283.3\" font-family=\"Helvetica,sans-Serif\" font-size=\"14.00\" fill=\"#000000\">gini = 0.0</text>\n<text text-anchor=\"start\" x=\"1915.5\" y=\"-268.3\" font-family=\"Helvetica,sans-Serif\" font-size=\"14.00\" fill=\"#000000\">samples = 1</text>\n<text text-anchor=\"start\" x=\"1913.5\" y=\"-253.3\" font-family=\"Helvetica,sans-Serif\" font-size=\"14.00\" fill=\"#000000\">value = [0, 1]</text>\n<text text-anchor=\"start\" x=\"1908\" y=\"-238.3\" font-family=\"Helvetica,sans-Serif\" font-size=\"14.00\" fill=\"#000000\">class = benign</text>\n</g>\n<!-- 39&#45;&gt;41 -->\n<g id=\"edge41\" class=\"edge\">\n<title>39&#45;&gt;41</title>\n<path fill=\"none\" stroke=\"#000000\" d=\"M1910.1329,-341.8796C1916.5725,-330.7735 1923.5434,-318.7513 1930.0271,-307.5691\"/>\n<polygon fill=\"#000000\" stroke=\"#000000\" points=\"1933.1148,-309.2215 1935.1031,-298.8149 1927.0591,-305.7102 1933.1148,-309.2215\"/>\n</g>\n</g>\n</svg>\n"
          },
          "metadata": {
            "tags": []
          },
          "execution_count": 54
        }
      ]
    },
    {
      "cell_type": "markdown",
      "metadata": {
        "id": "LSkcwKRM1piN"
      },
      "source": [
        "### 시각화"
      ]
    },
    {
      "cell_type": "code",
      "metadata": {
        "id": "8j2PjLUe1H8a"
      },
      "source": [
        "n_classes = 2\n",
        "plot_colors = 'ryb'\n",
        "plot_step = 0.02"
      ],
      "execution_count": 60,
      "outputs": []
    },
    {
      "cell_type": "markdown",
      "metadata": {
        "id": "IhTSBpIc1tWw"
      },
      "source": [
        "#### 결정 경계 시각화"
      ]
    },
    {
      "cell_type": "code",
      "metadata": {
        "colab": {
          "base_uri": "https://localhost:8080/",
          "height": 326
        },
        "id": "Imawtfr_1tEe",
        "outputId": "5cccf2b9-98d9-40a0-8361-ba8894dfd6a6"
      },
      "source": [
        "plt.figure(figsize=(16, 8))\n",
        "\n",
        "for pairIdx, pair in enumerate([[0, 1], [0, 2], [0, 3]]):\n",
        "    X = cancer.data[:, pair]\n",
        "    y = cancer.target\n",
        "\n",
        "    model = DecisionTreeClassifier()\n",
        "    model.fit(X, y)\n",
        "\n",
        "    plt.subplot(2, 3, pairIdx + 1)\n",
        "\n",
        "    x_min, x_max = X[:, 0].min() - 1, X[:, 0].max() + 1\n",
        "    y_min, y_max = X[:, 1].min() - 1, X[:, 1].max() + 1\n",
        "\n",
        "    xx, yy = np.meshgrid(np.arange(x_min, x_max, plot_step),\n",
        "                         np.arange(y_min, y_max, plot_step))\n",
        "    \n",
        "    plt.tight_layout(h_pad = -0.5, w_pad = 0.5, pad = 2.5)\n",
        "\n",
        "    Z = model.predict(np.c_[xx.ravel(), yy.ravel()])\n",
        "    Z = Z.reshape(xx.shape)\n",
        "    cs = plt.contourf(xx, yy, Z, cmap = plt.cm.RdYlBu)\n",
        "\n",
        "    plt.xlabel(cancer.feature_names[pair[0]])\n",
        "    plt.ylabel(cancer.feature_names[pair[1]])\n",
        "\n",
        "    for i, color in zip(range(n_classes), plot_colors):\n",
        "        idx = np.where(y==1)\n",
        "        plt.scatter(\n",
        "            X[idx, 0], \n",
        "            X[idx, 1],\n",
        "            c = color,\n",
        "            label = cancer.target_names[i],\n",
        "            cmap = plt.cm.RdYlBu,\n",
        "            edgecolor = 'b',\n",
        "            s = 15)\n",
        "\n",
        "    plt.suptitle('Decision surface')\n",
        "    plt.legend(loc = 'lower right', borderpad = 0, handletextpad = 0)\n",
        "    plt.axis('tight')"
      ],
      "execution_count": 61,
      "outputs": [
        {
          "output_type": "display_data",
          "data": {
            "image/png": "[encoded data removed]",
            "text/plain": [
              "<Figure size 1152x576 with 3 Axes>"
            ]
          },
          "metadata": {
            "tags": [],
            "needs_background": "light"
          }
        }
      ]
    },
    {
      "cell_type": "markdown",
      "metadata": {
        "id": "QoOf75m62J9L"
      },
      "source": [
        "#### 하이퍼파라미터를 변경해 보면서 결정 경계의 변화 확인"
      ]
    },
    {
      "cell_type": "code",
      "metadata": {
        "colab": {
          "base_uri": "https://localhost:8080/",
          "height": 326
        },
        "id": "FVs2gMaG156f",
        "outputId": "dbcbb9bf-d640-4ea0-b163-00f79e9cdb2f"
      },
      "source": [
        "plt.figure(figsize=(16, 8))\n",
        "\n",
        "for pairIdx, pair in enumerate([[0, 1], [0, 2], [0, 3]]):\n",
        "    X = cancer.data[:, pair]\n",
        "    y = cancer.target\n",
        "\n",
        "    model = DecisionTreeClassifier(max_depth=2)\n",
        "    model.fit(X, y)\n",
        "\n",
        "    plt.subplot(2, 3, pairIdx + 1)\n",
        "\n",
        "    x_min, x_max = X[:, 0].min() - 1, X[:, 0].max() + 1\n",
        "    y_min, y_max = X[:, 1].min() - 1, X[:, 1].max() + 1\n",
        "\n",
        "    xx, yy = np.meshgrid(np.arange(x_min, x_max, plot_step),\n",
        "                         np.arange(y_min, y_max, plot_step))\n",
        "    \n",
        "    plt.tight_layout(h_pad = -0.5, w_pad = 0.5, pad = 2.5)\n",
        "\n",
        "    Z = model.predict(np.c_[xx.ravel(), yy.ravel()])\n",
        "    Z = Z.reshape(xx.shape)\n",
        "    cs = plt.contourf(xx, yy, Z, cmap = plt.cm.RdYlBu)\n",
        "\n",
        "    plt.xlabel(cancer.feature_names[pair[0]])\n",
        "    plt.ylabel(cancer.feature_names[pair[1]])\n",
        "\n",
        "    for i, color in zip(range(n_classes), plot_colors):\n",
        "        idx = np.where(y==1)\n",
        "        plt.scatter(\n",
        "            X[idx, 0], \n",
        "            X[idx, 1],\n",
        "            c = color,\n",
        "            label = cancer.target_names[i],\n",
        "            cmap = plt.cm.RdYlBu,\n",
        "            edgecolor = 'b',\n",
        "            s = 15)\n",
        "\n",
        "    plt.suptitle('Decision surface')\n",
        "    plt.legend(loc = 'lower right', borderpad = 0, handletextpad = 0)\n",
        "    plt.axis('tight')"
      ],
      "execution_count": 62,
      "outputs": [
        {
          "output_type": "display_data",
          "data": {
            "image/png": "[encoded data removed]",
            "text/plain": [
              "<Figure size 1152x576 with 3 Axes>"
            ]
          },
          "metadata": {
            "tags": [],
            "needs_background": "light"
          }
        }
      ]
    },
    {
      "cell_type": "markdown",
      "metadata": {
        "id": "ws63P7wj3UEZ"
      },
      "source": [
        "## 회귀 - DecisionTreeRegressor()"
      ]
    },
    {
      "cell_type": "markdown",
      "metadata": {
        "id": "xyUm16Nx3a3r"
      },
      "source": [
        "### 보스턴 주택 가격 데이터 학습"
      ]
    },
    {
      "cell_type": "markdown",
      "metadata": {
        "id": "RPmMd4Y13ev6"
      },
      "source": [
        "#### 교차 검증"
      ]
    },
    {
      "cell_type": "markdown",
      "metadata": {
        "id": "nueGbvtJ3gk7"
      },
      "source": [
        "#### 전처리 없이 학습"
      ]
    },
    {
      "cell_type": "code",
      "metadata": {
        "id": "KigrR_Ac3LNQ"
      },
      "source": [
        "model = DecisionTreeRegressor()"
      ],
      "execution_count": 63,
      "outputs": []
    },
    {
      "cell_type": "code",
      "metadata": {
        "id": "XaaP4spO3TF0"
      },
      "source": [
        "cross_val = cross_val_score(\n",
        "    estimator = model,\n",
        "    X = boston.data,\n",
        "    y = boston.target,\n",
        "    cv = 5,\n",
        "    n_jobs = multiprocessing.cpu_count()\n",
        ")"
      ],
      "execution_count": 64,
      "outputs": []
    },
    {
      "cell_type": "code",
      "metadata": {
        "colab": {
          "base_uri": "https://localhost:8080/"
        },
        "id": "dGrv7HTW3zch",
        "outputId": "c02fceb1-1a61-4e27-da98-692006755460"
      },
      "source": [
        "cross_val"
      ],
      "execution_count": 65,
      "outputs": [
        {
          "output_type": "execute_result",
          "data": {
            "text/plain": [
              "array([ 0.61096522,  0.59144561,  0.62116295,  0.38164311, -1.46481742])"
            ]
          },
          "metadata": {
            "tags": []
          },
          "execution_count": 65
        }
      ]
    },
    {
      "cell_type": "code",
      "metadata": {
        "colab": {
          "base_uri": "https://localhost:8080/"
        },
        "id": "dWh3S2Ii30KO",
        "outputId": "fb3b0d3e-ecc8-4911-9582-0ad270451bb7"
      },
      "source": [
        "cross_val.mean()"
      ],
      "execution_count": 66,
      "outputs": [
        {
          "output_type": "execute_result",
          "data": {
            "text/plain": [
              "0.14807989255060877"
            ]
          },
          "metadata": {
            "tags": []
          },
          "execution_count": 66
        }
      ]
    },
    {
      "cell_type": "markdown",
      "metadata": {
        "id": "Cn1oPqr5358R"
      },
      "source": [
        "#### 전처리 후 학습"
      ]
    },
    {
      "cell_type": "code",
      "metadata": {
        "id": "ocriOEy733do"
      },
      "source": [
        "model = make_pipeline(\n",
        "    StandardScaler(),\n",
        "    DecisionTreeRegressor()\n",
        ")"
      ],
      "execution_count": 67,
      "outputs": []
    },
    {
      "cell_type": "code",
      "metadata": {
        "id": "UCzJLUnD4AeH"
      },
      "source": [
        "cross_val = cross_val_score(\n",
        "    estimator = model,\n",
        "    X = boston.data,\n",
        "    y = boston.target,\n",
        "    cv = 5,\n",
        "    n_jobs = multiprocessing.cpu_count()\n",
        ")"
      ],
      "execution_count": 68,
      "outputs": []
    },
    {
      "cell_type": "code",
      "metadata": {
        "colab": {
          "base_uri": "https://localhost:8080/"
        },
        "id": "-LZ0p-cQ4BLz",
        "outputId": "263af116-840a-43a3-a2c4-c42b3e965915"
      },
      "source": [
        "cross_val"
      ],
      "execution_count": 69,
      "outputs": [
        {
          "output_type": "execute_result",
          "data": {
            "text/plain": [
              "array([ 0.60632375,  0.65356827,  0.62522906,  0.42347676, -1.76982744])"
            ]
          },
          "metadata": {
            "tags": []
          },
          "execution_count": 69
        }
      ]
    },
    {
      "cell_type": "code",
      "metadata": {
        "colab": {
          "base_uri": "https://localhost:8080/"
        },
        "id": "hpTawSRT4B_X",
        "outputId": "17fe9330-7c69-47cd-f0ff-2ec917a6634c"
      },
      "source": [
        "cross_val.mean()"
      ],
      "execution_count": 70,
      "outputs": [
        {
          "output_type": "execute_result",
          "data": {
            "text/plain": [
              "0.10775407999539591"
            ]
          },
          "metadata": {
            "tags": []
          },
          "execution_count": 70
        }
      ]
    },
    {
      "cell_type": "markdown",
      "metadata": {
        "id": "3l6y-skU4djc"
      },
      "source": [
        "### 학습된 Decision tree 시각화"
      ]
    },
    {
      "cell_type": "code",
      "metadata": {
        "colab": {
          "base_uri": "https://localhost:8080/"
        },
        "id": "uiGgcj6L4DrY",
        "outputId": "b5c08de9-998c-4899-c5d0-47257fcf4d3b"
      },
      "source": [
        "model = DecisionTreeRegressor()\n",
        "model.fit(boston.data, boston.target)"
      ],
      "execution_count": 71,
      "outputs": [
        {
          "output_type": "execute_result",
          "data": {
            "text/plain": [
              "DecisionTreeRegressor(ccp_alpha=0.0, criterion='mse', max_depth=None,\n",
              "                      max_features=None, max_leaf_nodes=None,\n",
              "                      min_impurity_decrease=0.0, min_impurity_split=None,\n",
              "                      min_samples_leaf=1, min_samples_split=2,\n",
              "                      min_weight_fraction_leaf=0.0, presort='deprecated',\n",
              "                      random_state=None, splitter='best')"
            ]
          },
          "metadata": {
            "tags": []
          },
          "execution_count": 71
        }
      ]
    },
    {
      "cell_type": "code",
      "metadata": {
        "colab": {
          "base_uri": "https://localhost:8080/"
        },
        "id": "Lg94YgHM4lPN",
        "outputId": "efe6fc31-9dea-4e26-f56f-db945c17a6c7"
      },
      "source": [
        "r = tree.export_text(decision_tree=model)\n",
        "print(r)"
      ],
      "execution_count": 75,
      "outputs": [
        {
          "output_type": "stream",
          "text": [
            "|--- feature_5 <= 6.94\n",
            "|   |--- feature_12 <= 14.40\n",
            "|   |   |--- feature_7 <= 1.38\n",
            "|   |   |   |--- feature_0 <= 10.59\n",
            "|   |   |   |   |--- value: [50.00]\n",
            "|   |   |   |--- feature_0 >  10.59\n",
            "|   |   |   |   |--- value: [27.90]\n",
            "|   |   |--- feature_7 >  1.38\n",
            "|   |   |   |--- feature_5 <= 6.54\n",
            "|   |   |   |   |--- feature_12 <= 7.57\n",
            "|   |   |   |   |   |--- feature_9 <= 222.50\n",
            "|   |   |   |   |   |   |--- value: [28.70]\n",
            "|   |   |   |   |   |--- feature_9 >  222.50\n",
            "|   |   |   |   |   |   |--- feature_2 <= 5.48\n",
            "|   |   |   |   |   |   |   |--- feature_10 <= 19.95\n",
            "|   |   |   |   |   |   |   |   |--- feature_11 <= 393.33\n",
            "|   |   |   |   |   |   |   |   |   |--- feature_2 <= 3.90\n",
            "|   |   |   |   |   |   |   |   |   |   |--- feature_6 <= 26.05\n",
            "|   |   |   |   |   |   |   |   |   |   |   |--- truncated branch of depth 2\n",
            "|   |   |   |   |   |   |   |   |   |   |--- feature_6 >  26.05\n",
            "|   |   |   |   |   |   |   |   |   |   |   |--- value: [21.90]\n",
            "|   |   |   |   |   |   |   |   |   |--- feature_2 >  3.90\n",
            "|   |   |   |   |   |   |   |   |   |   |--- feature_6 <= 23.10\n",
            "|   |   |   |   |   |   |   |   |   |   |   |--- value: [23.70]\n",
            "|   |   |   |   |   |   |   |   |   |   |--- feature_6 >  23.10\n",
            "|   |   |   |   |   |   |   |   |   |   |   |--- truncated branch of depth 3\n",
            "|   |   |   |   |   |   |   |   |--- feature_11 >  393.33\n",
            "|   |   |   |   |   |   |   |   |   |--- feature_10 <= 19.35\n",
            "|   |   |   |   |   |   |   |   |   |   |--- feature_6 <= 31.75\n",
            "|   |   |   |   |   |   |   |   |   |   |   |--- truncated branch of depth 2\n",
            "|   |   |   |   |   |   |   |   |   |   |--- feature_6 >  31.75\n",
            "|   |   |   |   |   |   |   |   |   |   |   |--- truncated branch of depth 4\n",
            "|   |   |   |   |   |   |   |   |   |--- feature_10 >  19.35\n",
            "|   |   |   |   |   |   |   |   |   |   |--- feature_5 <= 6.47\n",
            "|   |   |   |   |   |   |   |   |   |   |   |--- value: [22.20]\n",
            "|   |   |   |   |   |   |   |   |   |   |--- feature_5 >  6.47\n",
            "|   |   |   |   |   |   |   |   |   |   |   |--- value: [22.90]\n",
            "|   |   |   |   |   |   |   |--- feature_10 >  19.95\n",
            "|   |   |   |   |   |   |   |   |--- feature_11 <= 389.55\n",
            "|   |   |   |   |   |   |   |   |   |--- feature_0 <= 0.07\n",
            "|   |   |   |   |   |   |   |   |   |   |--- value: [20.70]\n",
            "|   |   |   |   |   |   |   |   |   |--- feature_0 >  0.07\n",
            "|   |   |   |   |   |   |   |   |   |   |--- value: [20.60]\n",
            "|   |   |   |   |   |   |   |   |--- feature_11 >  389.55\n",
            "|   |   |   |   |   |   |   |   |   |--- value: [22.20]\n",
            "|   |   |   |   |   |   |--- feature_2 >  5.48\n",
            "|   |   |   |   |   |   |   |--- feature_1 <= 34.00\n",
            "|   |   |   |   |   |   |   |   |--- feature_11 <= 359.51\n",
            "|   |   |   |   |   |   |   |   |   |--- feature_6 <= 96.30\n",
            "|   |   |   |   |   |   |   |   |   |   |--- feature_11 <= 346.81\n",
            "|   |   |   |   |   |   |   |   |   |   |   |--- value: [27.00]\n",
            "|   |   |   |   |   |   |   |   |   |   |--- feature_11 >  346.81\n",
            "|   |   |   |   |   |   |   |   |   |   |   |--- value: [27.50]\n",
            "|   |   |   |   |   |   |   |   |   |--- feature_6 >  96.30\n",
            "|   |   |   |   |   |   |   |   |   |   |--- value: [24.30]\n",
            "|   |   |   |   |   |   |   |   |--- feature_11 >  359.51\n",
            "|   |   |   |   |   |   |   |   |   |--- feature_5 <= 6.15\n",
            "|   |   |   |   |   |   |   |   |   |   |--- feature_11 <= 393.90\n",
            "|   |   |   |   |   |   |   |   |   |   |   |--- truncated branch of depth 2\n",
            "|   |   |   |   |   |   |   |   |   |   |--- feature_11 >  393.90\n",
            "|   |   |   |   |   |   |   |   |   |   |   |--- value: [22.10]\n",
            "|   |   |   |   |   |   |   |   |   |--- feature_5 >  6.15\n",
            "|   |   |   |   |   |   |   |   |   |   |--- feature_9 <= 278.50\n",
            "|   |   |   |   |   |   |   |   |   |   |   |--- truncated branch of depth 4\n",
            "|   |   |   |   |   |   |   |   |   |   |--- feature_9 >  278.50\n",
            "|   |   |   |   |   |   |   |   |   |   |   |--- truncated branch of depth 5\n",
            "|   |   |   |   |   |   |   |--- feature_1 >  34.00\n",
            "|   |   |   |   |   |   |   |   |--- value: [29.10]\n",
            "|   |   |   |   |--- feature_12 >  7.57\n",
            "|   |   |   |   |   |--- feature_9 <= 208.00\n",
            "|   |   |   |   |   |   |--- feature_6 <= 69.25\n",
            "|   |   |   |   |   |   |   |--- feature_5 <= 6.15\n",
            "|   |   |   |   |   |   |   |   |--- value: [36.20]\n",
            "|   |   |   |   |   |   |   |--- feature_5 >  6.15\n",
            "|   |   |   |   |   |   |   |   |--- value: [29.60]\n",
            "|   |   |   |   |   |   |--- feature_6 >  69.25\n",
            "|   |   |   |   |   |   |   |--- feature_8 <= 2.50\n",
            "|   |   |   |   |   |   |   |   |--- feature_7 <= 2.23\n",
            "|   |   |   |   |   |   |   |   |   |--- value: [20.30]\n",
            "|   |   |   |   |   |   |   |   |--- feature_7 >  2.23\n",
            "|   |   |   |   |   |   |   |   |   |--- value: [22.00]\n",
            "|   |   |   |   |   |   |   |--- feature_8 >  2.50\n",
            "|   |   |   |   |   |   |   |   |--- value: [26.40]\n",
            "|   |   |   |   |   |--- feature_9 >  208.00\n",
            "|   |   |   |   |   |   |--- feature_5 <= 6.08\n",
            "|   |   |   |   |   |   |   |--- feature_6 <= 69.10\n",
            "|   |   |   |   |   |   |   |   |--- feature_7 <= 4.46\n",
            "|   |   |   |   |   |   |   |   |   |--- feature_5 <= 5.21\n",
            "|   |   |   |   |   |   |   |   |   |   |--- value: [16.10]\n",
            "|   |   |   |   |   |   |   |   |   |--- feature_5 >  5.21\n",
            "|   |   |   |   |   |   |   |   |   |   |--- feature_10 <= 17.60\n",
            "|   |   |   |   |   |   |   |   |   |   |   |--- truncated branch of depth 4\n",
            "|   |   |   |   |   |   |   |   |   |   |--- feature_10 >  17.60\n",
            "|   |   |   |   |   |   |   |   |   |   |   |--- truncated branch of depth 7\n",
            "|   |   |   |   |   |   |   |   |--- feature_7 >  4.46\n",
            "|   |   |   |   |   |   |   |   |   |--- feature_5 <= 5.76\n",
            "|   |   |   |   |   |   |   |   |   |   |--- feature_9 <= 294.00\n",
            "|   |   |   |   |   |   |   |   |   |   |   |--- truncated branch of depth 2\n",
            "|   |   |   |   |   |   |   |   |   |   |--- feature_9 >  294.00\n",
            "|   |   |   |   |   |   |   |   |   |   |   |--- truncated branch of depth 3\n",
            "|   |   |   |   |   |   |   |   |   |--- feature_5 >  5.76\n",
            "|   |   |   |   |   |   |   |   |   |   |--- feature_2 <= 5.41\n",
            "|   |   |   |   |   |   |   |   |   |   |   |--- truncated branch of depth 7\n",
            "|   |   |   |   |   |   |   |   |   |   |--- feature_2 >  5.41\n",
            "|   |   |   |   |   |   |   |   |   |   |   |--- truncated branch of depth 7\n",
            "|   |   |   |   |   |   |   |--- feature_6 >  69.10\n",
            "|   |   |   |   |   |   |   |   |--- feature_5 <= 6.03\n",
            "|   |   |   |   |   |   |   |   |   |--- feature_4 <= 0.60\n",
            "|   |   |   |   |   |   |   |   |   |   |--- feature_7 <= 2.62\n",
            "|   |   |   |   |   |   |   |   |   |   |   |--- truncated branch of depth 2\n",
            "|   |   |   |   |   |   |   |   |   |   |--- feature_7 >  2.62\n",
            "|   |   |   |   |   |   |   |   |   |   |   |--- truncated branch of depth 6\n",
            "|   |   |   |   |   |   |   |   |   |--- feature_4 >  0.60\n",
            "|   |   |   |   |   |   |   |   |   |   |--- feature_3 <= 0.50\n",
            "|   |   |   |   |   |   |   |   |   |   |   |--- truncated branch of depth 6\n",
            "|   |   |   |   |   |   |   |   |   |   |--- feature_3 >  0.50\n",
            "|   |   |   |   |   |   |   |   |   |   |   |--- value: [15.30]\n",
            "|   |   |   |   |   |   |   |   |--- feature_5 >  6.03\n",
            "|   |   |   |   |   |   |   |   |   |--- feature_2 <= 10.04\n",
            "|   |   |   |   |   |   |   |   |   |   |--- value: [14.50]\n",
            "|   |   |   |   |   |   |   |   |   |--- feature_2 >  10.04\n",
            "|   |   |   |   |   |   |   |   |   |   |--- value: [11.90]\n",
            "|   |   |   |   |   |   |--- feature_5 >  6.08\n",
            "|   |   |   |   |   |   |   |--- feature_12 <= 9.98\n",
            "|   |   |   |   |   |   |   |   |--- feature_0 <= 0.05\n",
            "|   |   |   |   |   |   |   |   |   |--- feature_2 <= 2.07\n",
            "|   |   |   |   |   |   |   |   |   |   |--- value: [16.50]\n",
            "|   |   |   |   |   |   |   |   |   |--- feature_2 >  2.07\n",
            "|   |   |   |   |   |   |   |   |   |   |--- feature_5 <= 6.23\n",
            "|   |   |   |   |   |   |   |   |   |   |   |--- truncated branch of depth 3\n",
            "|   |   |   |   |   |   |   |   |   |   |--- feature_5 >  6.23\n",
            "|   |   |   |   |   |   |   |   |   |   |   |--- truncated branch of depth 4\n",
            "|   |   |   |   |   |   |   |   |--- feature_0 >  0.05\n",
            "|   |   |   |   |   |   |   |   |   |--- feature_6 <= 33.60\n",
            "|   |   |   |   |   |   |   |   |   |   |--- feature_5 <= 6.25\n",
            "|   |   |   |   |   |   |   |   |   |   |   |--- value: [23.90]\n",
            "|   |   |   |   |   |   |   |   |   |   |--- feature_5 >  6.25\n",
            "|   |   |   |   |   |   |   |   |   |   |   |--- truncated branch of depth 2\n",
            "|   |   |   |   |   |   |   |   |   |--- feature_6 >  33.60\n",
            "|   |   |   |   |   |   |   |   |   |   |--- feature_12 <= 9.10\n",
            "|   |   |   |   |   |   |   |   |   |   |   |--- truncated branch of depth 5\n",
            "|   |   |   |   |   |   |   |   |   |   |--- feature_12 >  9.10\n",
            "|   |   |   |   |   |   |   |   |   |   |   |--- truncated branch of depth 4\n",
            "|   |   |   |   |   |   |   |--- feature_12 >  9.98\n",
            "|   |   |   |   |   |   |   |   |--- feature_11 <= 197.52\n",
            "|   |   |   |   |   |   |   |   |   |--- feature_4 <= 0.55\n",
            "|   |   |   |   |   |   |   |   |   |   |--- value: [18.60]\n",
            "|   |   |   |   |   |   |   |   |   |--- feature_4 >  0.55\n",
            "|   |   |   |   |   |   |   |   |   |   |--- value: [16.10]\n",
            "|   |   |   |   |   |   |   |   |--- feature_11 >  197.52\n",
            "|   |   |   |   |   |   |   |   |   |--- feature_10 <= 20.55\n",
            "|   |   |   |   |   |   |   |   |   |   |--- feature_5 <= 6.32\n",
            "|   |   |   |   |   |   |   |   |   |   |   |--- truncated branch of depth 9\n",
            "|   |   |   |   |   |   |   |   |   |   |--- feature_5 >  6.32\n",
            "|   |   |   |   |   |   |   |   |   |   |   |--- truncated branch of depth 6\n",
            "|   |   |   |   |   |   |   |   |   |--- feature_10 >  20.55\n",
            "|   |   |   |   |   |   |   |   |   |   |--- feature_7 <= 3.62\n",
            "|   |   |   |   |   |   |   |   |   |   |   |--- truncated branch of depth 6\n",
            "|   |   |   |   |   |   |   |   |   |   |--- feature_7 >  3.62\n",
            "|   |   |   |   |   |   |   |   |   |   |   |--- truncated branch of depth 2\n",
            "|   |   |   |--- feature_5 >  6.54\n",
            "|   |   |   |   |--- feature_9 <= 269.00\n",
            "|   |   |   |   |   |--- feature_10 <= 17.85\n",
            "|   |   |   |   |   |   |--- feature_11 <= 393.41\n",
            "|   |   |   |   |   |   |   |--- feature_11 <= 392.41\n",
            "|   |   |   |   |   |   |   |   |--- feature_6 <= 27.45\n",
            "|   |   |   |   |   |   |   |   |   |--- value: [29.10]\n",
            "|   |   |   |   |   |   |   |   |--- feature_6 >  27.45\n",
            "|   |   |   |   |   |   |   |   |   |--- value: [30.10]\n",
            "|   |   |   |   |   |   |   |--- feature_11 >  392.41\n",
            "|   |   |   |   |   |   |   |   |--- feature_9 <= 260.50\n",
            "|   |   |   |   |   |   |   |   |   |--- value: [31.60]\n",
            "|   |   |   |   |   |   |   |   |--- feature_9 >  260.50\n",
            "|   |   |   |   |   |   |   |   |   |--- value: [31.10]\n",
            "|   |   |   |   |   |   |--- feature_11 >  393.41\n",
            "|   |   |   |   |   |   |   |--- feature_10 <= 16.25\n",
            "|   |   |   |   |   |   |   |   |--- value: [35.10]\n",
            "|   |   |   |   |   |   |   |--- feature_10 >  16.25\n",
            "|   |   |   |   |   |   |   |   |--- feature_11 <= 395.18\n",
            "|   |   |   |   |   |   |   |   |   |--- value: [33.10]\n",
            "|   |   |   |   |   |   |   |   |--- feature_11 >  395.18\n",
            "|   |   |   |   |   |   |   |   |   |--- feature_12 <= 3.25\n",
            "|   |   |   |   |   |   |   |   |   |   |--- value: [32.00]\n",
            "|   |   |   |   |   |   |   |   |   |--- feature_12 >  3.25\n",
            "|   |   |   |   |   |   |   |   |   |   |--- feature_9 <= 223.50\n",
            "|   |   |   |   |   |   |   |   |   |   |   |--- value: [32.50]\n",
            "|   |   |   |   |   |   |   |   |   |   |--- feature_9 >  223.50\n",
            "|   |   |   |   |   |   |   |   |   |   |   |--- value: [32.40]\n",
            "|   |   |   |   |   |--- feature_10 >  17.85\n",
            "|   |   |   |   |   |   |--- feature_0 <= 0.03\n",
            "|   |   |   |   |   |   |   |--- value: [30.80]\n",
            "|   |   |   |   |   |   |--- feature_0 >  0.03\n",
            "|   |   |   |   |   |   |   |--- feature_11 <= 392.83\n",
            "|   |   |   |   |   |   |   |   |--- value: [26.60]\n",
            "|   |   |   |   |   |   |   |--- feature_11 >  392.83\n",
            "|   |   |   |   |   |   |   |   |--- feature_6 <= 25.65\n",
            "|   |   |   |   |   |   |   |   |   |--- value: [27.90]\n",
            "|   |   |   |   |   |   |   |   |--- feature_6 >  25.65\n",
            "|   |   |   |   |   |   |   |   |   |--- feature_7 <= 3.28\n",
            "|   |   |   |   |   |   |   |   |   |   |--- value: [28.20]\n",
            "|   |   |   |   |   |   |   |   |   |--- feature_7 >  3.28\n",
            "|   |   |   |   |   |   |   |   |   |   |--- feature_4 <= 0.44\n",
            "|   |   |   |   |   |   |   |   |   |   |   |--- value: [28.50]\n",
            "|   |   |   |   |   |   |   |   |   |   |--- feature_4 >  0.44\n",
            "|   |   |   |   |   |   |   |   |   |   |   |--- value: [28.40]\n",
            "|   |   |   |   |--- feature_9 >  269.00\n",
            "|   |   |   |   |   |--- feature_4 <= 0.53\n",
            "|   |   |   |   |   |   |--- feature_4 <= 0.44\n",
            "|   |   |   |   |   |   |   |--- feature_6 <= 35.20\n",
            "|   |   |   |   |   |   |   |   |--- feature_10 <= 18.00\n",
            "|   |   |   |   |   |   |   |   |   |--- feature_9 <= 286.50\n",
            "|   |   |   |   |   |   |   |   |   |   |--- value: [24.50]\n",
            "|   |   |   |   |   |   |   |   |   |--- feature_9 >  286.50\n",
            "|   |   |   |   |   |   |   |   |   |   |--- value: [24.80]\n",
            "|   |   |   |   |   |   |   |   |--- feature_10 >  18.00\n",
            "|   |   |   |   |   |   |   |   |   |--- feature_10 <= 19.05\n",
            "|   |   |   |   |   |   |   |   |   |   |--- value: [28.00]\n",
            "|   |   |   |   |   |   |   |   |   |--- feature_10 >  19.05\n",
            "|   |   |   |   |   |   |   |   |   |   |--- feature_2 <= 3.56\n",
            "|   |   |   |   |   |   |   |   |   |   |   |--- value: [26.60]\n",
            "|   |   |   |   |   |   |   |   |   |   |--- feature_2 >  3.56\n",
            "|   |   |   |   |   |   |   |   |   |   |   |--- value: [26.20]\n",
            "|   |   |   |   |   |   |   |--- feature_6 >  35.20\n",
            "|   |   |   |   |   |   |   |   |--- feature_12 <= 8.43\n",
            "|   |   |   |   |   |   |   |   |   |--- feature_4 <= 0.41\n",
            "|   |   |   |   |   |   |   |   |   |   |--- value: [24.80]\n",
            "|   |   |   |   |   |   |   |   |   |--- feature_4 >  0.41\n",
            "|   |   |   |   |   |   |   |   |   |   |--- feature_10 <= 17.45\n",
            "|   |   |   |   |   |   |   |   |   |   |   |--- value: [23.30]\n",
            "|   |   |   |   |   |   |   |   |   |   |--- feature_10 >  17.45\n",
            "|   |   |   |   |   |   |   |   |   |   |   |--- truncated branch of depth 2\n",
            "|   |   |   |   |   |   |   |   |--- feature_12 >  8.43\n",
            "|   |   |   |   |   |   |   |   |   |--- value: [22.00]\n",
            "|   |   |   |   |   |   |--- feature_4 >  0.44\n",
            "|   |   |   |   |   |   |   |--- feature_12 <= 7.05\n",
            "|   |   |   |   |   |   |   |   |--- feature_9 <= 301.50\n",
            "|   |   |   |   |   |   |   |   |   |--- feature_9 <= 292.50\n",
            "|   |   |   |   |   |   |   |   |   |   |--- feature_8 <= 3.00\n",
            "|   |   |   |   |   |   |   |   |   |   |   |--- value: [28.40]\n",
            "|   |   |   |   |   |   |   |   |   |   |--- feature_8 >  3.00\n",
            "|   |   |   |   |   |   |   |   |   |   |   |--- value: [28.60]\n",
            "|   |   |   |   |   |   |   |   |   |--- feature_9 >  292.50\n",
            "|   |   |   |   |   |   |   |   |   |   |--- feature_11 <= 391.11\n",
            "|   |   |   |   |   |   |   |   |   |   |   |--- value: [29.40]\n",
            "|   |   |   |   |   |   |   |   |   |   |--- feature_11 >  391.11\n",
            "|   |   |   |   |   |   |   |   |   |   |   |--- value: [29.90]\n",
            "|   |   |   |   |   |   |   |   |--- feature_9 >  301.50\n",
            "|   |   |   |   |   |   |   |   |   |--- feature_7 <= 4.18\n",
            "|   |   |   |   |   |   |   |   |   |   |--- feature_6 <= 31.25\n",
            "|   |   |   |   |   |   |   |   |   |   |   |--- value: [31.50]\n",
            "|   |   |   |   |   |   |   |   |   |   |--- feature_6 >  31.25\n",
            "|   |   |   |   |   |   |   |   |   |   |   |--- value: [32.00]\n",
            "|   |   |   |   |   |   |   |   |   |--- feature_7 >  4.18\n",
            "|   |   |   |   |   |   |   |   |   |   |--- feature_11 <= 385.40\n",
            "|   |   |   |   |   |   |   |   |   |   |   |--- value: [29.80]\n",
            "|   |   |   |   |   |   |   |   |   |   |--- feature_11 >  385.40\n",
            "|   |   |   |   |   |   |   |   |   |   |   |--- truncated branch of depth 2\n",
            "|   |   |   |   |   |   |   |--- feature_12 >  7.05\n",
            "|   |   |   |   |   |   |   |   |--- feature_7 <= 3.90\n",
            "|   |   |   |   |   |   |   |   |   |--- feature_5 <= 6.73\n",
            "|   |   |   |   |   |   |   |   |   |   |--- feature_12 <= 7.83\n",
            "|   |   |   |   |   |   |   |   |   |   |   |--- value: [30.10]\n",
            "|   |   |   |   |   |   |   |   |   |   |--- feature_12 >  7.83\n",
            "|   |   |   |   |   |   |   |   |   |   |   |--- value: [29.00]\n",
            "|   |   |   |   |   |   |   |   |   |--- feature_5 >  6.73\n",
            "|   |   |   |   |   |   |   |   |   |   |--- feature_0 <= 0.13\n",
            "|   |   |   |   |   |   |   |   |   |   |   |--- value: [26.50]\n",
            "|   |   |   |   |   |   |   |   |   |   |--- feature_0 >  0.13\n",
            "|   |   |   |   |   |   |   |   |   |   |   |--- value: [27.50]\n",
            "|   |   |   |   |   |   |   |   |--- feature_7 >  3.90\n",
            "|   |   |   |   |   |   |   |   |   |--- feature_5 <= 6.59\n",
            "|   |   |   |   |   |   |   |   |   |   |--- value: [27.10]\n",
            "|   |   |   |   |   |   |   |   |   |--- feature_5 >  6.59\n",
            "|   |   |   |   |   |   |   |   |   |   |--- feature_8 <= 6.50\n",
            "|   |   |   |   |   |   |   |   |   |   |   |--- value: [23.90]\n",
            "|   |   |   |   |   |   |   |   |   |   |--- feature_8 >  6.50\n",
            "|   |   |   |   |   |   |   |   |   |   |   |--- truncated branch of depth 2\n",
            "|   |   |   |   |   |--- feature_4 >  0.53\n",
            "|   |   |   |   |   |   |--- feature_10 <= 17.10\n",
            "|   |   |   |   |   |   |   |--- feature_11 <= 394.84\n",
            "|   |   |   |   |   |   |   |   |--- value: [28.70]\n",
            "|   |   |   |   |   |   |   |--- feature_11 >  394.84\n",
            "|   |   |   |   |   |   |   |   |--- value: [24.00]\n",
            "|   |   |   |   |   |   |--- feature_10 >  17.10\n",
            "|   |   |   |   |   |   |   |--- feature_10 <= 20.60\n",
            "|   |   |   |   |   |   |   |   |--- feature_7 <= 3.32\n",
            "|   |   |   |   |   |   |   |   |   |--- value: [22.80]\n",
            "|   |   |   |   |   |   |   |   |--- feature_7 >  3.32\n",
            "|   |   |   |   |   |   |   |   |   |--- feature_7 <= 3.47\n",
            "|   |   |   |   |   |   |   |   |   |   |--- value: [23.70]\n",
            "|   |   |   |   |   |   |   |   |   |--- feature_7 >  3.47\n",
            "|   |   |   |   |   |   |   |   |   |   |--- value: [23.80]\n",
            "|   |   |   |   |   |   |   |--- feature_10 >  20.60\n",
            "|   |   |   |   |   |   |   |   |--- feature_0 <= 0.56\n",
            "|   |   |   |   |   |   |   |   |   |--- feature_11 <= 392.72\n",
            "|   |   |   |   |   |   |   |   |   |   |--- value: [22.40]\n",
            "|   |   |   |   |   |   |   |   |   |--- feature_11 >  392.72\n",
            "|   |   |   |   |   |   |   |   |   |   |--- value: [22.00]\n",
            "|   |   |   |   |   |   |   |   |--- feature_0 >  0.56\n",
            "|   |   |   |   |   |   |   |   |   |--- value: [21.00]\n",
            "|   |--- feature_12 >  14.40\n",
            "|   |   |--- feature_0 <= 6.99\n",
            "|   |   |   |--- feature_4 <= 0.53\n",
            "|   |   |   |   |--- feature_7 <= 5.57\n",
            "|   |   |   |   |   |--- feature_6 <= 88.55\n",
            "|   |   |   |   |   |   |--- feature_11 <= 385.38\n",
            "|   |   |   |   |   |   |   |--- feature_7 <= 3.91\n",
            "|   |   |   |   |   |   |   |   |--- value: [23.70]\n",
            "|   |   |   |   |   |   |   |--- feature_7 >  3.91\n",
            "|   |   |   |   |   |   |   |   |--- value: [24.40]\n",
            "|   |   |   |   |   |   |--- feature_11 >  385.38\n",
            "|   |   |   |   |   |   |   |--- feature_10 <= 15.90\n",
            "|   |   |   |   |   |   |   |   |--- value: [21.70]\n",
            "|   |   |   |   |   |   |   |--- feature_10 >  15.90\n",
            "|   |   |   |   |   |   |   |   |--- feature_10 <= 17.60\n",
            "|   |   |   |   |   |   |   |   |   |--- value: [23.10]\n",
            "|   |   |   |   |   |   |   |   |--- feature_10 >  17.60\n",
            "|   |   |   |   |   |   |   |   |   |--- feature_3 <= 0.50\n",
            "|   |   |   |   |   |   |   |   |   |   |--- value: [22.50]\n",
            "|   |   |   |   |   |   |   |   |   |--- feature_3 >  0.50\n",
            "|   |   |   |   |   |   |   |   |   |   |--- value: [22.40]\n",
            "|   |   |   |   |   |--- feature_6 >  88.55\n",
            "|   |   |   |   |   |   |--- feature_5 <= 5.91\n",
            "|   |   |   |   |   |   |   |--- feature_6 <= 98.35\n",
            "|   |   |   |   |   |   |   |   |--- feature_9 <= 330.50\n",
            "|   |   |   |   |   |   |   |   |   |--- value: [19.30]\n",
            "|   |   |   |   |   |   |   |   |--- feature_9 >  330.50\n",
            "|   |   |   |   |   |   |   |   |   |--- value: [19.50]\n",
            "|   |   |   |   |   |   |   |--- feature_6 >  98.35\n",
            "|   |   |   |   |   |   |   |   |--- value: [20.00]\n",
            "|   |   |   |   |   |   |--- feature_5 >  5.91\n",
            "|   |   |   |   |   |   |   |--- feature_4 <= 0.51\n",
            "|   |   |   |   |   |   |   |   |--- value: [21.70]\n",
            "|   |   |   |   |   |   |   |--- feature_4 >  0.51\n",
            "|   |   |   |   |   |   |   |   |--- value: [19.40]\n",
            "|   |   |   |   |--- feature_7 >  5.57\n",
            "|   |   |   |   |   |--- feature_0 <= 0.16\n",
            "|   |   |   |   |   |   |--- feature_0 <= 0.14\n",
            "|   |   |   |   |   |   |   |--- feature_5 <= 5.84\n",
            "|   |   |   |   |   |   |   |   |--- value: [20.30]\n",
            "|   |   |   |   |   |   |   |--- feature_5 >  5.84\n",
            "|   |   |   |   |   |   |   |   |--- value: [18.90]\n",
            "|   |   |   |   |   |   |--- feature_0 >  0.14\n",
            "|   |   |   |   |   |   |   |--- value: [27.10]\n",
            "|   |   |   |   |   |--- feature_0 >  0.16\n",
            "|   |   |   |   |   |   |--- feature_6 <= 89.65\n",
            "|   |   |   |   |   |   |   |--- feature_7 <= 5.89\n",
            "|   |   |   |   |   |   |   |   |--- value: [16.60]\n",
            "|   |   |   |   |   |   |   |--- feature_7 >  5.89\n",
            "|   |   |   |   |   |   |   |   |--- feature_12 <= 16.65\n",
            "|   |   |   |   |   |   |   |   |   |--- value: [19.40]\n",
            "|   |   |   |   |   |   |   |   |--- feature_12 >  16.65\n",
            "|   |   |   |   |   |   |   |   |   |--- feature_9 <= 320.50\n",
            "|   |   |   |   |   |   |   |   |   |   |--- value: [18.90]\n",
            "|   |   |   |   |   |   |   |   |   |--- feature_9 >  320.50\n",
            "|   |   |   |   |   |   |   |   |   |   |--- value: [18.50]\n",
            "|   |   |   |   |   |   |--- feature_6 >  89.65\n",
            "|   |   |   |   |   |   |   |--- feature_0 <= 0.22\n",
            "|   |   |   |   |   |   |   |   |--- feature_0 <= 0.19\n",
            "|   |   |   |   |   |   |   |   |   |--- value: [16.00]\n",
            "|   |   |   |   |   |   |   |   |--- feature_0 >  0.19\n",
            "|   |   |   |   |   |   |   |   |   |--- value: [16.50]\n",
            "|   |   |   |   |   |   |   |--- feature_0 >  0.22\n",
            "|   |   |   |   |   |   |   |   |--- feature_12 <= 25.63\n",
            "|   |   |   |   |   |   |   |   |   |--- value: [15.00]\n",
            "|   |   |   |   |   |   |   |   |--- feature_12 >  25.63\n",
            "|   |   |   |   |   |   |   |   |   |--- value: [14.40]\n",
            "|   |   |   |--- feature_4 >  0.53\n",
            "|   |   |   |   |--- feature_12 <= 18.89\n",
            "|   |   |   |   |   |--- feature_6 <= 85.20\n",
            "|   |   |   |   |   |   |--- feature_12 <= 15.24\n",
            "|   |   |   |   |   |   |   |--- feature_8 <= 15.00\n",
            "|   |   |   |   |   |   |   |   |--- feature_9 <= 397.00\n",
            "|   |   |   |   |   |   |   |   |   |--- value: [17.50]\n",
            "|   |   |   |   |   |   |   |   |--- feature_9 >  397.00\n",
            "|   |   |   |   |   |   |   |   |   |--- value: [15.60]\n",
            "|   |   |   |   |   |   |   |--- feature_8 >  15.00\n",
            "|   |   |   |   |   |   |   |   |--- feature_0 <= 6.25\n",
            "|   |   |   |   |   |   |   |   |   |--- value: [19.10]\n",
            "|   |   |   |   |   |   |   |   |--- feature_0 >  6.25\n",
            "|   |   |   |   |   |   |   |   |   |--- value: [20.00]\n",
            "|   |   |   |   |   |   |--- feature_12 >  15.24\n",
            "|   |   |   |   |   |   |   |--- feature_7 <= 2.84\n",
            "|   |   |   |   |   |   |   |   |--- feature_4 <= 0.57\n",
            "|   |   |   |   |   |   |   |   |   |--- value: [20.40]\n",
            "|   |   |   |   |   |   |   |   |--- feature_4 >  0.57\n",
            "|   |   |   |   |   |   |   |   |   |--- feature_11 <= 385.84\n",
            "|   |   |   |   |   |   |   |   |   |   |--- value: [23.20]\n",
            "|   |   |   |   |   |   |   |   |   |--- feature_11 >  385.84\n",
            "|   |   |   |   |   |   |   |   |   |   |--- value: [23.10]\n",
            "|   |   |   |   |   |   |   |--- feature_7 >  2.84\n",
            "|   |   |   |   |   |   |   |   |--- feature_12 <= 17.74\n",
            "|   |   |   |   |   |   |   |   |   |--- feature_11 <= 209.45\n",
            "|   |   |   |   |   |   |   |   |   |   |--- value: [19.00]\n",
            "|   |   |   |   |   |   |   |   |   |--- feature_11 >  209.45\n",
            "|   |   |   |   |   |   |   |   |   |   |--- feature_5 <= 5.97\n",
            "|   |   |   |   |   |   |   |   |   |   |   |--- value: [19.80]\n",
            "|   |   |   |   |   |   |   |   |   |   |--- feature_5 >  5.97\n",
            "|   |   |   |   |   |   |   |   |   |   |   |--- value: [19.90]\n",
            "|   |   |   |   |   |   |   |   |--- feature_12 >  17.74\n",
            "|   |   |   |   |   |   |   |   |   |--- value: [17.80]\n",
            "|   |   |   |   |   |--- feature_6 >  85.20\n",
            "|   |   |   |   |   |   |--- feature_9 <= 291.50\n",
            "|   |   |   |   |   |   |   |--- feature_5 <= 5.92\n",
            "|   |   |   |   |   |   |   |   |--- value: [18.80]\n",
            "|   |   |   |   |   |   |   |--- feature_5 >  5.92\n",
            "|   |   |   |   |   |   |   |   |--- feature_0 <= 0.10\n",
            "|   |   |   |   |   |   |   |   |   |--- value: [20.50]\n",
            "|   |   |   |   |   |   |   |   |--- feature_0 >  0.10\n",
            "|   |   |   |   |   |   |   |   |   |--- feature_7 <= 2.44\n",
            "|   |   |   |   |   |   |   |   |   |   |--- value: [21.40]\n",
            "|   |   |   |   |   |   |   |   |   |--- feature_7 >  2.44\n",
            "|   |   |   |   |   |   |   |   |   |   |--- value: [21.50]\n",
            "|   |   |   |   |   |   |--- feature_9 >  291.50\n",
            "|   |   |   |   |   |   |   |--- feature_12 <= 17.10\n",
            "|   |   |   |   |   |   |   |   |--- feature_5 <= 5.67\n",
            "|   |   |   |   |   |   |   |   |   |--- feature_7 <= 1.63\n",
            "|   |   |   |   |   |   |   |   |   |   |--- value: [15.60]\n",
            "|   |   |   |   |   |   |   |   |   |--- feature_7 >  1.63\n",
            "|   |   |   |   |   |   |   |   |   |   |--- feature_5 <= 5.44\n",
            "|   |   |   |   |   |   |   |   |   |   |   |--- value: [13.10]\n",
            "|   |   |   |   |   |   |   |   |   |   |--- feature_5 >  5.44\n",
            "|   |   |   |   |   |   |   |   |   |   |   |--- value: [13.90]\n",
            "|   |   |   |   |   |   |   |   |--- feature_5 >  5.67\n",
            "|   |   |   |   |   |   |   |   |   |--- feature_6 <= 88.05\n",
            "|   |   |   |   |   |   |   |   |   |   |--- value: [14.30]\n",
            "|   |   |   |   |   |   |   |   |   |--- feature_6 >  88.05\n",
            "|   |   |   |   |   |   |   |   |   |   |--- feature_7 <= 2.58\n",
            "|   |   |   |   |   |   |   |   |   |   |   |--- truncated branch of depth 7\n",
            "|   |   |   |   |   |   |   |   |   |   |--- feature_7 >  2.58\n",
            "|   |   |   |   |   |   |   |   |   |   |   |--- truncated branch of depth 3\n",
            "|   |   |   |   |   |   |   |--- feature_12 >  17.10\n",
            "|   |   |   |   |   |   |   |   |--- feature_7 <= 1.80\n",
            "|   |   |   |   |   |   |   |   |   |--- feature_7 <= 1.73\n",
            "|   |   |   |   |   |   |   |   |   |   |--- value: [17.80]\n",
            "|   |   |   |   |   |   |   |   |   |--- feature_7 >  1.73\n",
            "|   |   |   |   |   |   |   |   |   |   |--- value: [16.20]\n",
            "|   |   |   |   |   |   |   |   |--- feature_7 >  1.80\n",
            "|   |   |   |   |   |   |   |   |   |--- feature_12 <= 18.52\n",
            "|   |   |   |   |   |   |   |   |   |   |--- feature_12 <= 18.06\n",
            "|   |   |   |   |   |   |   |   |   |   |   |--- truncated branch of depth 6\n",
            "|   |   |   |   |   |   |   |   |   |   |--- feature_12 >  18.06\n",
            "|   |   |   |   |   |   |   |   |   |   |   |--- truncated branch of depth 3\n",
            "|   |   |   |   |   |   |   |   |   |--- feature_12 >  18.52\n",
            "|   |   |   |   |   |   |   |   |   |   |--- feature_12 <= 18.70\n",
            "|   |   |   |   |   |   |   |   |   |   |   |--- value: [16.70]\n",
            "|   |   |   |   |   |   |   |   |   |   |--- feature_12 >  18.70\n",
            "|   |   |   |   |   |   |   |   |   |   |   |--- value: [15.20]\n",
            "|   |   |   |   |--- feature_12 >  18.89\n",
            "|   |   |   |   |   |--- feature_2 <= 26.69\n",
            "|   |   |   |   |   |   |--- feature_6 <= 77.45\n",
            "|   |   |   |   |   |   |   |--- value: [19.70]\n",
            "|   |   |   |   |   |   |--- feature_6 >  77.45\n",
            "|   |   |   |   |   |   |   |--- feature_2 <= 23.77\n",
            "|   |   |   |   |   |   |   |   |--- feature_6 <= 95.85\n",
            "|   |   |   |   |   |   |   |   |   |--- feature_7 <= 2.56\n",
            "|   |   |   |   |   |   |   |   |   |   |--- feature_11 <= 372.53\n",
            "|   |   |   |   |   |   |   |   |   |   |   |--- truncated branch of depth 3\n",
            "|   |   |   |   |   |   |   |   |   |   |--- feature_11 >  372.53\n",
            "|   |   |   |   |   |   |   |   |   |   |   |--- truncated branch of depth 2\n",
            "|   |   |   |   |   |   |   |   |   |--- feature_7 >  2.56\n",
            "|   |   |   |   |   |   |   |   |   |   |--- feature_12 <= 25.15\n",
            "|   |   |   |   |   |   |   |   |   |   |   |--- value: [12.70]\n",
            "|   |   |   |   |   |   |   |   |   |   |--- feature_12 >  25.15\n",
            "|   |   |   |   |   |   |   |   |   |   |   |--- value: [13.20]\n",
            "|   |   |   |   |   |   |   |   |--- feature_6 >  95.85\n",
            "|   |   |   |   |   |   |   |   |   |--- feature_6 <= 99.10\n",
            "|   |   |   |   |   |   |   |   |   |   |--- feature_11 <= 394.47\n",
            "|   |   |   |   |   |   |   |   |   |   |   |--- truncated branch of depth 3\n",
            "|   |   |   |   |   |   |   |   |   |   |--- feature_11 >  394.47\n",
            "|   |   |   |   |   |   |   |   |   |   |   |--- truncated branch of depth 2\n",
            "|   |   |   |   |   |   |   |   |   |--- feature_6 >  99.10\n",
            "|   |   |   |   |   |   |   |   |   |   |--- feature_0 <= 3.71\n",
            "|   |   |   |   |   |   |   |   |   |   |   |--- truncated branch of depth 3\n",
            "|   |   |   |   |   |   |   |   |   |   |--- feature_0 >  3.71\n",
            "|   |   |   |   |   |   |   |   |   |   |   |--- value: [15.60]\n",
            "|   |   |   |   |   |   |   |--- feature_2 >  23.77\n",
            "|   |   |   |   |   |   |   |   |--- feature_6 <= 96.30\n",
            "|   |   |   |   |   |   |   |   |   |--- value: [15.70]\n",
            "|   |   |   |   |   |   |   |   |--- feature_6 >  96.30\n",
            "|   |   |   |   |   |   |   |   |   |--- value: [17.30]\n",
            "|   |   |   |   |   |--- feature_2 >  26.69\n",
            "|   |   |   |   |   |   |--- feature_0 <= 0.20\n",
            "|   |   |   |   |   |   |   |--- value: [7.00]\n",
            "|   |   |   |   |   |   |--- feature_0 >  0.20\n",
            "|   |   |   |   |   |   |   |--- value: [8.10]\n",
            "|   |   |--- feature_0 >  6.99\n",
            "|   |   |   |--- feature_4 <= 0.61\n",
            "|   |   |   |   |--- feature_5 <= 6.84\n",
            "|   |   |   |   |   |--- feature_0 <= 12.66\n",
            "|   |   |   |   |   |   |--- feature_11 <= 52.99\n",
            "|   |   |   |   |   |   |   |--- feature_5 <= 5.70\n",
            "|   |   |   |   |   |   |   |   |--- value: [11.70]\n",
            "|   |   |   |   |   |   |   |--- feature_5 >  5.70\n",
            "|   |   |   |   |   |   |   |   |--- value: [10.20]\n",
            "|   |   |   |   |   |   |--- feature_11 >  52.99\n",
            "|   |   |   |   |   |   |   |--- feature_12 <= 23.05\n",
            "|   |   |   |   |   |   |   |   |--- feature_6 <= 90.20\n",
            "|   |   |   |   |   |   |   |   |   |--- value: [14.50]\n",
            "|   |   |   |   |   |   |   |   |--- feature_6 >  90.20\n",
            "|   |   |   |   |   |   |   |   |   |--- feature_5 <= 6.13\n",
            "|   |   |   |   |   |   |   |   |   |   |--- value: [13.80]\n",
            "|   |   |   |   |   |   |   |   |   |--- feature_5 >  6.13\n",
            "|   |   |   |   |   |   |   |   |   |   |--- value: [14.10]\n",
            "|   |   |   |   |   |   |   |--- feature_12 >  23.05\n",
            "|   |   |   |   |   |   |   |   |--- value: [17.20]\n",
            "|   |   |   |   |   |--- feature_0 >  12.66\n",
            "|   |   |   |   |   |   |--- feature_6 <= 85.50\n",
            "|   |   |   |   |   |   |   |--- feature_12 <= 16.44\n",
            "|   |   |   |   |   |   |   |   |--- value: [20.10]\n",
            "|   |   |   |   |   |   |   |--- feature_12 >  16.44\n",
            "|   |   |   |   |   |   |   |   |--- value: [19.10]\n",
            "|   |   |   |   |   |   |--- feature_6 >  85.50\n",
            "|   |   |   |   |   |   |   |--- feature_11 <= 123.01\n",
            "|   |   |   |   |   |   |   |   |--- feature_0 <= 16.43\n",
            "|   |   |   |   |   |   |   |   |   |--- value: [17.20]\n",
            "|   |   |   |   |   |   |   |   |--- feature_0 >  16.43\n",
            "|   |   |   |   |   |   |   |   |   |--- value: [17.90]\n",
            "|   |   |   |   |   |   |   |--- feature_11 >  123.01\n",
            "|   |   |   |   |   |   |   |   |--- value: [16.30]\n",
            "|   |   |   |   |--- feature_5 >  6.84\n",
            "|   |   |   |   |   |--- value: [27.50]\n",
            "|   |   |   |--- feature_4 >  0.61\n",
            "|   |   |   |   |--- feature_12 <= 19.65\n",
            "|   |   |   |   |   |--- feature_0 <= 12.22\n",
            "|   |   |   |   |   |   |--- feature_4 <= 0.75\n",
            "|   |   |   |   |   |   |   |--- feature_12 <= 19.41\n",
            "|   |   |   |   |   |   |   |   |--- feature_6 <= 99.40\n",
            "|   |   |   |   |   |   |   |   |   |--- feature_4 <= 0.73\n",
            "|   |   |   |   |   |   |   |   |   |   |--- feature_6 <= 97.50\n",
            "|   |   |   |   |   |   |   |   |   |   |   |--- truncated branch of depth 4\n",
            "|   |   |   |   |   |   |   |   |   |   |--- feature_6 >  97.50\n",
            "|   |   |   |   |   |   |   |   |   |   |   |--- truncated branch of depth 3\n",
            "|   |   |   |   |   |   |   |   |   |--- feature_4 >  0.73\n",
            "|   |   |   |   |   |   |   |   |   |   |--- value: [12.60]\n",
            "|   |   |   |   |   |   |   |   |--- feature_6 >  99.40\n",
            "|   |   |   |   |   |   |   |   |   |--- feature_0 <= 10.53\n",
            "|   |   |   |   |   |   |   |   |   |   |--- value: [15.40]\n",
            "|   |   |   |   |   |   |   |   |   |--- feature_0 >  10.53\n",
            "|   |   |   |   |   |   |   |   |   |   |--- value: [16.70]\n",
            "|   |   |   |   |   |   |   |--- feature_12 >  19.41\n",
            "|   |   |   |   |   |   |   |   |--- value: [17.10]\n",
            "|   |   |   |   |   |   |--- feature_4 >  0.75\n",
            "|   |   |   |   |   |   |   |--- value: [17.80]\n",
            "|   |   |   |   |   |--- feature_0 >  12.22\n",
            "|   |   |   |   |   |   |--- feature_0 <= 14.17\n",
            "|   |   |   |   |   |   |   |--- feature_12 <= 15.76\n",
            "|   |   |   |   |   |   |   |   |--- value: [11.70]\n",
            "|   |   |   |   |   |   |   |--- feature_12 >  15.76\n",
            "|   |   |   |   |   |   |   |   |--- value: [12.70]\n",
            "|   |   |   |   |   |   |--- feature_0 >  14.17\n",
            "|   |   |   |   |   |   |   |--- feature_7 <= 1.93\n",
            "|   |   |   |   |   |   |   |   |--- value: [10.90]\n",
            "|   |   |   |   |   |   |   |--- feature_7 >  1.93\n",
            "|   |   |   |   |   |   |   |   |--- value: [9.60]\n",
            "|   |   |   |   |--- feature_12 >  19.65\n",
            "|   |   |   |   |   |--- feature_4 <= 0.68\n",
            "|   |   |   |   |   |   |--- feature_12 <= 22.51\n",
            "|   |   |   |   |   |   |   |--- feature_5 <= 6.67\n",
            "|   |   |   |   |   |   |   |   |--- feature_7 <= 1.45\n",
            "|   |   |   |   |   |   |   |   |   |--- value: [10.20]\n",
            "|   |   |   |   |   |   |   |   |--- feature_7 >  1.45\n",
            "|   |   |   |   |   |   |   |   |   |--- value: [10.90]\n",
            "|   |   |   |   |   |   |   |--- feature_5 >  6.67\n",
            "|   |   |   |   |   |   |   |   |--- value: [13.30]\n",
            "|   |   |   |   |   |   |--- feature_12 >  22.51\n",
            "|   |   |   |   |   |   |   |--- feature_4 <= 0.66\n",
            "|   |   |   |   |   |   |   |   |--- feature_5 <= 5.70\n",
            "|   |   |   |   |   |   |   |   |   |--- feature_5 <= 4.72\n",
            "|   |   |   |   |   |   |   |   |   |   |--- value: [11.90]\n",
            "|   |   |   |   |   |   |   |   |   |--- feature_5 >  4.72\n",
            "|   |   |   |   |   |   |   |   |   |   |--- value: [12.00]\n",
            "|   |   |   |   |   |   |   |   |--- feature_5 >  5.70\n",
            "|   |   |   |   |   |   |   |   |   |--- value: [13.40]\n",
            "|   |   |   |   |   |   |   |--- feature_4 >  0.66\n",
            "|   |   |   |   |   |   |   |   |--- feature_7 <= 1.37\n",
            "|   |   |   |   |   |   |   |   |   |--- feature_12 <= 29.01\n",
            "|   |   |   |   |   |   |   |   |   |   |--- value: [13.90]\n",
            "|   |   |   |   |   |   |   |   |   |--- feature_12 >  29.01\n",
            "|   |   |   |   |   |   |   |   |   |   |--- value: [13.80]\n",
            "|   |   |   |   |   |   |   |   |--- feature_7 >  1.37\n",
            "|   |   |   |   |   |   |   |   |   |--- value: [13.10]\n",
            "|   |   |   |   |   |--- feature_4 >  0.68\n",
            "|   |   |   |   |   |   |--- feature_0 <= 13.24\n",
            "|   |   |   |   |   |   |   |--- feature_12 <= 25.74\n",
            "|   |   |   |   |   |   |   |   |--- feature_4 <= 0.73\n",
            "|   |   |   |   |   |   |   |   |   |--- feature_6 <= 99.45\n",
            "|   |   |   |   |   |   |   |   |   |   |--- feature_11 <= 54.59\n",
            "|   |   |   |   |   |   |   |   |   |   |   |--- value: [8.40]\n",
            "|   |   |   |   |   |   |   |   |   |   |--- feature_11 >  54.59\n",
            "|   |   |   |   |   |   |   |   |   |   |   |--- truncated branch of depth 4\n",
            "|   |   |   |   |   |   |   |   |   |--- feature_6 >  99.45\n",
            "|   |   |   |   |   |   |   |   |   |   |--- feature_5 <= 5.53\n",
            "|   |   |   |   |   |   |   |   |   |   |   |--- value: [12.30]\n",
            "|   |   |   |   |   |   |   |   |   |   |--- feature_5 >  5.53\n",
            "|   |   |   |   |   |   |   |   |   |   |   |--- truncated branch of depth 2\n",
            "|   |   |   |   |   |   |   |   |--- feature_4 >  0.73\n",
            "|   |   |   |   |   |   |   |   |   |--- feature_12 <= 23.53\n",
            "|   |   |   |   |   |   |   |   |   |   |--- feature_11 <= 253.37\n",
            "|   |   |   |   |   |   |   |   |   |   |   |--- value: [13.40]\n",
            "|   |   |   |   |   |   |   |   |   |   |--- feature_11 >  253.37\n",
            "|   |   |   |   |   |   |   |   |   |   |   |--- value: [12.80]\n",
            "|   |   |   |   |   |   |   |   |   |--- feature_12 >  23.53\n",
            "|   |   |   |   |   |   |   |   |   |   |--- feature_12 <= 23.89\n",
            "|   |   |   |   |   |   |   |   |   |   |   |--- value: [10.80]\n",
            "|   |   |   |   |   |   |   |   |   |   |--- feature_12 >  23.89\n",
            "|   |   |   |   |   |   |   |   |   |   |   |--- value: [11.80]\n",
            "|   |   |   |   |   |   |   |--- feature_12 >  25.74\n",
            "|   |   |   |   |   |   |   |   |--- feature_5 <= 6.32\n",
            "|   |   |   |   |   |   |   |   |   |--- value: [6.30]\n",
            "|   |   |   |   |   |   |   |   |--- feature_5 >  6.32\n",
            "|   |   |   |   |   |   |   |   |   |--- value: [7.50]\n",
            "|   |   |   |   |   |   |--- feature_0 >  13.24\n",
            "|   |   |   |   |   |   |   |--- feature_7 <= 1.59\n",
            "|   |   |   |   |   |   |   |   |--- feature_5 <= 4.83\n",
            "|   |   |   |   |   |   |   |   |   |--- feature_5 <= 4.51\n",
            "|   |   |   |   |   |   |   |   |   |   |--- value: [8.80]\n",
            "|   |   |   |   |   |   |   |   |   |--- feature_5 >  4.51\n",
            "|   |   |   |   |   |   |   |   |   |   |--- value: [10.50]\n",
            "|   |   |   |   |   |   |   |   |--- feature_5 >  4.83\n",
            "|   |   |   |   |   |   |   |   |   |--- feature_0 <= 23.82\n",
            "|   |   |   |   |   |   |   |   |   |   |--- feature_5 <= 5.14\n",
            "|   |   |   |   |   |   |   |   |   |   |   |--- value: [7.40]\n",
            "|   |   |   |   |   |   |   |   |   |   |--- feature_5 >  5.14\n",
            "|   |   |   |   |   |   |   |   |   |   |   |--- value: [7.20]\n",
            "|   |   |   |   |   |   |   |   |   |--- feature_0 >  23.82\n",
            "|   |   |   |   |   |   |   |   |   |   |--- feature_7 <= 1.54\n",
            "|   |   |   |   |   |   |   |   |   |   |   |--- value: [5.00]\n",
            "|   |   |   |   |   |   |   |   |   |   |--- feature_7 >  1.54\n",
            "|   |   |   |   |   |   |   |   |   |   |   |--- value: [5.60]\n",
            "|   |   |   |   |   |   |   |--- feature_7 >  1.59\n",
            "|   |   |   |   |   |   |   |   |--- feature_11 <= 107.81\n",
            "|   |   |   |   |   |   |   |   |   |--- feature_11 <= 21.85\n",
            "|   |   |   |   |   |   |   |   |   |   |--- feature_6 <= 97.70\n",
            "|   |   |   |   |   |   |   |   |   |   |   |--- value: [8.30]\n",
            "|   |   |   |   |   |   |   |   |   |   |--- feature_6 >  97.70\n",
            "|   |   |   |   |   |   |   |   |   |   |   |--- truncated branch of depth 2\n",
            "|   |   |   |   |   |   |   |   |   |--- feature_11 >  21.85\n",
            "|   |   |   |   |   |   |   |   |   |   |--- feature_6 <= 93.95\n",
            "|   |   |   |   |   |   |   |   |   |   |   |--- value: [8.40]\n",
            "|   |   |   |   |   |   |   |   |   |   |--- feature_6 >  93.95\n",
            "|   |   |   |   |   |   |   |   |   |   |   |--- truncated branch of depth 2\n",
            "|   |   |   |   |   |   |   |   |--- feature_11 >  107.81\n",
            "|   |   |   |   |   |   |   |   |   |--- feature_12 <= 20.94\n",
            "|   |   |   |   |   |   |   |   |   |   |--- value: [8.30]\n",
            "|   |   |   |   |   |   |   |   |   |--- feature_12 >  20.94\n",
            "|   |   |   |   |   |   |   |   |   |   |--- feature_0 <= 33.73\n",
            "|   |   |   |   |   |   |   |   |   |   |   |--- truncated branch of depth 3\n",
            "|   |   |   |   |   |   |   |   |   |   |--- feature_0 >  33.73\n",
            "|   |   |   |   |   |   |   |   |   |   |   |--- value: [8.50]\n",
            "|--- feature_5 >  6.94\n",
            "|   |--- feature_5 <= 7.44\n",
            "|   |   |--- feature_0 <= 7.39\n",
            "|   |   |   |--- feature_7 <= 1.89\n",
            "|   |   |   |   |--- feature_2 <= 18.84\n",
            "|   |   |   |   |   |--- value: [50.00]\n",
            "|   |   |   |   |--- feature_2 >  18.84\n",
            "|   |   |   |   |   |--- value: [41.30]\n",
            "|   |   |   |--- feature_7 >  1.89\n",
            "|   |   |   |   |--- feature_4 <= 0.49\n",
            "|   |   |   |   |   |--- feature_6 <= 11.95\n",
            "|   |   |   |   |   |   |--- feature_11 <= 378.83\n",
            "|   |   |   |   |   |   |   |--- value: [29.00]\n",
            "|   |   |   |   |   |   |--- feature_11 >  378.83\n",
            "|   |   |   |   |   |   |   |--- value: [29.60]\n",
            "|   |   |   |   |   |--- feature_6 >  11.95\n",
            "|   |   |   |   |   |   |--- feature_12 <= 5.44\n",
            "|   |   |   |   |   |   |   |--- feature_0 <= 0.05\n",
            "|   |   |   |   |   |   |   |   |--- feature_12 <= 4.50\n",
            "|   |   |   |   |   |   |   |   |   |--- feature_2 <= 2.57\n",
            "|   |   |   |   |   |   |   |   |   |   |--- feature_7 <= 7.48\n",
            "|   |   |   |   |   |   |   |   |   |   |   |--- truncated branch of depth 2\n",
            "|   |   |   |   |   |   |   |   |   |   |--- feature_7 >  7.48\n",
            "|   |   |   |   |   |   |   |   |   |   |   |--- value: [32.90]\n",
            "|   |   |   |   |   |   |   |   |   |--- feature_2 >  2.57\n",
            "|   |   |   |   |   |   |   |   |   |   |--- feature_5 <= 7.10\n",
            "|   |   |   |   |   |   |   |   |   |   |   |--- value: [34.90]\n",
            "|   |   |   |   |   |   |   |   |   |   |--- feature_5 >  7.10\n",
            "|   |   |   |   |   |   |   |   |   |   |   |--- value: [34.70]\n",
            "|   |   |   |   |   |   |   |   |--- feature_12 >  4.50\n",
            "|   |   |   |   |   |   |   |   |   |--- feature_11 <= 396.41\n",
            "|   |   |   |   |   |   |   |   |   |   |--- value: [35.40]\n",
            "|   |   |   |   |   |   |   |   |   |--- feature_11 >  396.41\n",
            "|   |   |   |   |   |   |   |   |   |   |--- value: [34.90]\n",
            "|   |   |   |   |   |   |   |--- feature_0 >  0.05\n",
            "|   |   |   |   |   |   |   |   |--- feature_2 <= 5.52\n",
            "|   |   |   |   |   |   |   |   |   |--- feature_12 <= 5.36\n",
            "|   |   |   |   |   |   |   |   |   |   |--- feature_7 <= 5.59\n",
            "|   |   |   |   |   |   |   |   |   |   |   |--- truncated branch of depth 3\n",
            "|   |   |   |   |   |   |   |   |   |   |--- feature_7 >  5.59\n",
            "|   |   |   |   |   |   |   |   |   |   |   |--- truncated branch of depth 3\n",
            "|   |   |   |   |   |   |   |   |   |--- feature_12 >  5.36\n",
            "|   |   |   |   |   |   |   |   |   |   |--- value: [34.90]\n",
            "|   |   |   |   |   |   |   |   |--- feature_2 >  5.52\n",
            "|   |   |   |   |   |   |   |   |   |--- value: [33.10]\n",
            "|   |   |   |   |   |   |--- feature_12 >  5.44\n",
            "|   |   |   |   |   |   |   |--- feature_6 <= 37.45\n",
            "|   |   |   |   |   |   |   |   |--- feature_10 <= 13.95\n",
            "|   |   |   |   |   |   |   |   |   |--- value: [30.30]\n",
            "|   |   |   |   |   |   |   |   |--- feature_10 >  13.95\n",
            "|   |   |   |   |   |   |   |   |   |--- value: [32.20]\n",
            "|   |   |   |   |   |   |   |--- feature_6 >  37.45\n",
            "|   |   |   |   |   |   |   |   |--- feature_6 <= 45.05\n",
            "|   |   |   |   |   |   |   |   |   |--- feature_2 <= 1.85\n",
            "|   |   |   |   |   |   |   |   |   |   |--- value: [34.60]\n",
            "|   |   |   |   |   |   |   |   |   |--- feature_2 >  1.85\n",
            "|   |   |   |   |   |   |   |   |   |   |--- value: [36.10]\n",
            "|   |   |   |   |   |   |   |   |--- feature_6 >  45.05\n",
            "|   |   |   |   |   |   |   |   |   |--- feature_7 <= 5.91\n",
            "|   |   |   |   |   |   |   |   |   |   |--- feature_9 <= 238.00\n",
            "|   |   |   |   |   |   |   |   |   |   |   |--- value: [33.40]\n",
            "|   |   |   |   |   |   |   |   |   |   |--- feature_9 >  238.00\n",
            "|   |   |   |   |   |   |   |   |   |   |   |--- value: [33.20]\n",
            "|   |   |   |   |   |   |   |   |   |--- feature_7 >  5.91\n",
            "|   |   |   |   |   |   |   |   |   |   |--- feature_4 <= 0.43\n",
            "|   |   |   |   |   |   |   |   |   |   |   |--- value: [33.00]\n",
            "|   |   |   |   |   |   |   |   |   |   |--- feature_4 >  0.43\n",
            "|   |   |   |   |   |   |   |   |   |   |   |--- value: [32.70]\n",
            "|   |   |   |   |--- feature_4 >  0.49\n",
            "|   |   |   |   |   |--- feature_5 <= 7.12\n",
            "|   |   |   |   |   |   |--- feature_4 <= 0.59\n",
            "|   |   |   |   |   |   |   |--- feature_0 <= 0.05\n",
            "|   |   |   |   |   |   |   |   |--- value: [28.70]\n",
            "|   |   |   |   |   |   |   |--- feature_0 >  0.05\n",
            "|   |   |   |   |   |   |   |   |--- feature_3 <= 0.50\n",
            "|   |   |   |   |   |   |   |   |   |--- feature_6 <= 81.65\n",
            "|   |   |   |   |   |   |   |   |   |   |--- value: [25.00]\n",
            "|   |   |   |   |   |   |   |   |   |--- feature_6 >  81.65\n",
            "|   |   |   |   |   |   |   |   |   |   |--- feature_8 <= 1.50\n",
            "|   |   |   |   |   |   |   |   |   |   |   |--- value: [23.90]\n",
            "|   |   |   |   |   |   |   |   |   |   |--- feature_8 >  1.50\n",
            "|   |   |   |   |   |   |   |   |   |   |   |--- value: [23.60]\n",
            "|   |   |   |   |   |   |   |   |--- feature_3 >  0.50\n",
            "|   |   |   |   |   |   |   |   |   |--- value: [26.70]\n",
            "|   |   |   |   |   |   |--- feature_4 >  0.59\n",
            "|   |   |   |   |   |   |   |--- feature_5 <= 7.00\n",
            "|   |   |   |   |   |   |   |   |--- value: [29.80]\n",
            "|   |   |   |   |   |   |   |--- feature_5 >  7.00\n",
            "|   |   |   |   |   |   |   |   |--- value: [30.70]\n",
            "|   |   |   |   |   |--- feature_5 >  7.12\n",
            "|   |   |   |   |   |   |--- feature_7 <= 2.00\n",
            "|   |   |   |   |   |   |   |--- feature_6 <= 95.80\n",
            "|   |   |   |   |   |   |   |   |--- value: [36.50]\n",
            "|   |   |   |   |   |   |   |--- feature_6 >  95.80\n",
            "|   |   |   |   |   |   |   |   |--- value: [36.00]\n",
            "|   |   |   |   |   |   |--- feature_7 >  2.00\n",
            "|   |   |   |   |   |   |   |--- feature_5 <= 7.27\n",
            "|   |   |   |   |   |   |   |   |--- feature_9 <= 285.50\n",
            "|   |   |   |   |   |   |   |   |   |--- value: [33.80]\n",
            "|   |   |   |   |   |   |   |   |--- feature_9 >  285.50\n",
            "|   |   |   |   |   |   |   |   |   |--- value: [31.60]\n",
            "|   |   |   |   |   |   |   |--- feature_5 >  7.27\n",
            "|   |   |   |   |   |   |   |   |--- feature_6 <= 85.70\n",
            "|   |   |   |   |   |   |   |   |   |--- feature_11 <= 383.11\n",
            "|   |   |   |   |   |   |   |   |   |   |--- value: [31.70]\n",
            "|   |   |   |   |   |   |   |   |   |--- feature_11 >  383.11\n",
            "|   |   |   |   |   |   |   |   |   |   |--- value: [31.50]\n",
            "|   |   |   |   |   |   |   |   |--- feature_6 >  85.70\n",
            "|   |   |   |   |   |   |   |   |   |--- value: [31.00]\n",
            "|   |   |--- feature_0 >  7.39\n",
            "|   |   |   |--- feature_5 <= 7.14\n",
            "|   |   |   |   |--- value: [10.40]\n",
            "|   |   |   |--- feature_5 >  7.14\n",
            "|   |   |   |   |--- feature_6 <= 98.60\n",
            "|   |   |   |   |   |--- value: [15.00]\n",
            "|   |   |   |   |--- feature_6 >  98.60\n",
            "|   |   |   |   |   |--- value: [17.80]\n",
            "|   |--- feature_5 >  7.44\n",
            "|   |   |--- feature_5 <= 8.75\n",
            "|   |   |   |--- feature_10 <= 14.80\n",
            "|   |   |   |   |--- feature_5 <= 7.71\n",
            "|   |   |   |   |   |--- feature_11 <= 381.40\n",
            "|   |   |   |   |   |   |--- value: [50.00]\n",
            "|   |   |   |   |   |--- feature_11 >  381.40\n",
            "|   |   |   |   |   |   |--- feature_12 <= 3.13\n",
            "|   |   |   |   |   |   |   |--- value: [42.30]\n",
            "|   |   |   |   |   |   |--- feature_12 >  3.13\n",
            "|   |   |   |   |   |   |   |--- feature_11 <= 389.33\n",
            "|   |   |   |   |   |   |   |   |--- value: [43.10]\n",
            "|   |   |   |   |   |   |   |--- feature_11 >  389.33\n",
            "|   |   |   |   |   |   |   |   |--- value: [43.50]\n",
            "|   |   |   |   |--- feature_5 >  7.71\n",
            "|   |   |   |   |   |--- feature_12 <= 3.75\n",
            "|   |   |   |   |   |   |--- value: [50.00]\n",
            "|   |   |   |   |   |--- feature_12 >  3.75\n",
            "|   |   |   |   |   |   |--- feature_0 <= 0.55\n",
            "|   |   |   |   |   |   |   |--- feature_5 <= 8.13\n",
            "|   |   |   |   |   |   |   |   |--- value: [48.50]\n",
            "|   |   |   |   |   |   |   |--- feature_5 >  8.13\n",
            "|   |   |   |   |   |   |   |   |--- value: [48.80]\n",
            "|   |   |   |   |   |   |--- feature_0 >  0.55\n",
            "|   |   |   |   |   |   |   |--- value: [50.00]\n",
            "|   |   |   |--- feature_10 >  14.80\n",
            "|   |   |   |   |--- feature_11 <= 385.48\n",
            "|   |   |   |   |   |--- feature_0 <= 0.32\n",
            "|   |   |   |   |   |   |--- feature_7 <= 3.13\n",
            "|   |   |   |   |   |   |   |--- value: [44.80]\n",
            "|   |   |   |   |   |   |--- feature_7 >  3.13\n",
            "|   |   |   |   |   |   |   |--- feature_3 <= 0.50\n",
            "|   |   |   |   |   |   |   |   |--- value: [46.70]\n",
            "|   |   |   |   |   |   |   |--- feature_3 >  0.50\n",
            "|   |   |   |   |   |   |   |   |--- value: [46.00]\n",
            "|   |   |   |   |   |--- feature_0 >  0.32\n",
            "|   |   |   |   |   |   |--- feature_0 <= 0.43\n",
            "|   |   |   |   |   |   |   |--- value: [48.30]\n",
            "|   |   |   |   |   |   |--- feature_0 >  0.43\n",
            "|   |   |   |   |   |   |   |--- value: [50.00]\n",
            "|   |   |   |   |--- feature_11 >  385.48\n",
            "|   |   |   |   |   |--- feature_0 <= 0.06\n",
            "|   |   |   |   |   |   |--- feature_4 <= 0.47\n",
            "|   |   |   |   |   |   |   |--- feature_7 <= 5.52\n",
            "|   |   |   |   |   |   |   |   |--- value: [45.40]\n",
            "|   |   |   |   |   |   |   |--- feature_7 >  5.52\n",
            "|   |   |   |   |   |   |   |   |--- value: [44.00]\n",
            "|   |   |   |   |   |   |--- feature_4 >  0.47\n",
            "|   |   |   |   |   |   |   |--- value: [50.00]\n",
            "|   |   |   |   |   |--- feature_0 >  0.06\n",
            "|   |   |   |   |   |   |--- feature_6 <= 44.35\n",
            "|   |   |   |   |   |   |   |--- feature_8 <= 4.50\n",
            "|   |   |   |   |   |   |   |   |--- value: [43.80]\n",
            "|   |   |   |   |   |   |   |--- feature_8 >  4.50\n",
            "|   |   |   |   |   |   |   |   |--- value: [42.80]\n",
            "|   |   |   |   |   |   |--- feature_6 >  44.35\n",
            "|   |   |   |   |   |   |   |--- feature_6 <= 62.55\n",
            "|   |   |   |   |   |   |   |   |--- value: [35.20]\n",
            "|   |   |   |   |   |   |   |--- feature_6 >  62.55\n",
            "|   |   |   |   |   |   |   |   |--- feature_4 <= 0.51\n",
            "|   |   |   |   |   |   |   |   |   |--- feature_10 <= 17.60\n",
            "|   |   |   |   |   |   |   |   |   |   |--- value: [37.60]\n",
            "|   |   |   |   |   |   |   |   |   |--- feature_10 >  17.60\n",
            "|   |   |   |   |   |   |   |   |   |   |--- feature_7 <= 3.12\n",
            "|   |   |   |   |   |   |   |   |   |   |   |--- value: [39.80]\n",
            "|   |   |   |   |   |   |   |   |   |   |--- feature_7 >  3.12\n",
            "|   |   |   |   |   |   |   |   |   |   |   |--- value: [38.70]\n",
            "|   |   |   |   |   |   |   |   |--- feature_4 >  0.51\n",
            "|   |   |   |   |   |   |   |   |   |--- value: [41.70]\n",
            "|   |   |--- feature_5 >  8.75\n",
            "|   |   |   |--- value: [21.90]\n",
            "\n"
          ],
          "name": "stdout"
        }
      ]
    },
    {
      "cell_type": "code",
      "metadata": {
        "id": "6qVvyvHb4rvB"
      },
      "source": [
        ""
      ],
      "execution_count": null,
      "outputs": []
    }
  ]
}