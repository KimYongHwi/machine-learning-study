{
  "nbformat": 4,
  "nbformat_minor": 0,
  "metadata": {
    "colab": {
      "name": "4. 문서 분류(Document Classification).ipynb",
      "provenance": [],
      "collapsed_sections": [],
      "authorship_tag": "ABX9TyPVE4OxJxbCNBgwVTib3fFv",
      "include_colab_link": true
    },
    "kernelspec": {
      "name": "python3",
      "display_name": "Python 3"
    },
    "language_info": {
      "name": "python"
    }
  },
  "cells": [
    {
      "cell_type": "markdown",
      "metadata": {
        "id": "view-in-github",
        "colab_type": "text"
      },
      "source": [
        "<a href=\"https://colab.research.google.com/github/KimYongHwi/machine-learning-study/blob/main/natural_language_processing/4_%EB%AC%B8%EC%84%9C_%EB%B6%84%EB%A5%98(Document_Classification).ipynb\" target=\"_parent\"><img src=\"https://colab.research.google.com/assets/colab-badge.svg\" alt=\"Open In Colab\"/></a>"
      ]
    },
    {
      "cell_type": "markdown",
      "metadata": {
        "id": "zFeQmgonwjEg"
      },
      "source": [
        "### 문서 분류(Document Classification)\n",
        "- 문서 분류에 필요한 데이터는 sklearn이 제공하는 20개의 주제를 가지는 뉴스그룹 데이터를 사용\n",
        "- 텍스트는 CounterVectorizer를 거쳐 DTM(Document Term Matrix)으로 변환\n",
        "- DTM은 문서에 등장하는 단어들을 빈도 수 별로 표현한 행렬"
      ]
    },
    {
      "cell_type": "code",
      "metadata": {
        "id": "HN10JtI-6mh3",
        "colab": {
          "base_uri": "https://localhost:8080/"
        },
        "outputId": "dba1c210-5b47-4c1f-c5b5-45bfe7bc9257"
      },
      "source": [
        "from sklearn.datasets import fetch_20newsgroups\n",
        "from sklearn.feature_extraction.text import CountVectorizer\n",
        "from sklearn.model_selection import train_test_split\n",
        "\n",
        "news = fetch_20newsgroups()\n",
        "\n",
        "x = news.data\n",
        "y = news.target\n",
        "\n",
        "cv = CountVectorizer()\n",
        "x = cv.fit_transform(x)\n",
        "\n",
        "x_train, x_test, y_train, y_test = train_test_split(x, y, test_size=0.3)\n",
        "print(x_train.shape, y_train.shape, x_test.shape, y_test.shape)"
      ],
      "execution_count": 2,
      "outputs": [
        {
          "output_type": "stream",
          "text": [
            "Downloading 20news dataset. This may take a few minutes.\n",
            "Downloading dataset from https://ndownloader.figshare.com/files/5975967 (14 MB)\n"
          ],
          "name": "stderr"
        },
        {
          "output_type": "stream",
          "text": [
            "(7919, 130107) (7919,) (3395, 130107) (3395,)\n"
          ],
          "name": "stdout"
        }
      ]
    },
    {
      "cell_type": "code",
      "metadata": {
        "colab": {
          "base_uri": "https://localhost:8080/"
        },
        "id": "xbVljLd_xit-",
        "outputId": "07e51261-5aeb-459f-8ff5-89773dd73237"
      },
      "source": [
        "print(x_train[0])"
      ],
      "execution_count": 3,
      "outputs": [
        {
          "output_type": "stream",
          "text": [
            "  (0, 56979)\t1\n",
            "  (0, 50527)\t2\n",
            "  (0, 85354)\t1\n",
            "  (0, 111322)\t1\n",
            "  (0, 123984)\t1\n",
            "  (0, 68532)\t1\n",
            "  (0, 87620)\t1\n",
            "  (0, 95162)\t1\n",
            "  (0, 64095)\t1\n",
            "  (0, 90379)\t1\n",
            "  (0, 89362)\t2\n",
            "  (0, 76032)\t1\n",
            "  (0, 65798)\t1\n",
            "  (0, 90774)\t5\n",
            "  (0, 114579)\t2\n",
            "  (0, 80638)\t1\n",
            "  (0, 104813)\t1\n",
            "  (0, 114455)\t11\n",
            "  (0, 90686)\t1\n",
            "  (0, 68766)\t2\n",
            "  (0, 115475)\t5\n",
            "  (0, 32311)\t2\n",
            "  (0, 123796)\t2\n",
            "  (0, 99822)\t1\n",
            "  (0, 66608)\t5\n",
            "  :\t:\n",
            "  (0, 76843)\t1\n",
            "  (0, 68085)\t1\n",
            "  (0, 109530)\t2\n",
            "  (0, 28595)\t2\n",
            "  (0, 83370)\t1\n",
            "  (0, 36954)\t1\n",
            "  (0, 85512)\t1\n",
            "  (0, 86612)\t2\n",
            "  (0, 75714)\t1\n",
            "  (0, 28259)\t1\n",
            "  (0, 72537)\t1\n",
            "  (0, 103051)\t1\n",
            "  (0, 73864)\t3\n",
            "  (0, 89987)\t1\n",
            "  (0, 93293)\t1\n",
            "  (0, 40305)\t1\n",
            "  (0, 46560)\t1\n",
            "  (0, 83875)\t1\n",
            "  (0, 56507)\t1\n",
            "  (0, 56406)\t1\n",
            "  (0, 37017)\t1\n",
            "  (0, 49654)\t1\n",
            "  (0, 93009)\t1\n",
            "  (0, 52693)\t1\n",
            "  (0, 58740)\t1\n"
          ],
          "name": "stdout"
        }
      ]
    },
    {
      "cell_type": "markdown",
      "metadata": {
        "id": "_0vj5xwmx2_L"
      },
      "source": [
        "### sklearn을 이용한 문서 분류"
      ]
    },
    {
      "cell_type": "code",
      "metadata": {
        "id": "cIbHEtkFxyuR"
      },
      "source": [
        "from sklearn.metrics import accuracy_score"
      ],
      "execution_count": 4,
      "outputs": []
    },
    {
      "cell_type": "markdown",
      "metadata": {
        "id": "2zjVhALgyqCy"
      },
      "source": [
        "#### 로지스틱 회귀 (Logistic Regressioin)\n",
        "- 로지스틱 회귀는 이름에 회귀라는 단어가 들어가지만, 가능한 클래스가 2개인 이진분류를 위한 모델이다.\n",
        "- 로지스틱 회귀의 예측 함수 정의\n",
        "$$ S(x) = \\frac{1}{1+e^x} $$\n",
        "$$ \\hat{y} = S(w_0 + w_1 x_1 + w_2 x_2 + \\cdots + w_p x_p) $$\n",
        "\n",
        "- S: 시그모이드 함수\n",
        "- 로지스틱 회귀 모델은 선형 회귀 모델에 시그모이드 함수를 적용\n",
        "- 로지스틱 회귀의 학습 목표는 다음과 같은 목적 함수를 최소화 하는 파라미터 `w`를 찾는것\n",
        "$$ BinaryCrossEntropy =-\\frac{1}{N}\\sum_{i=1}^Ny_ilog(\\hat{y})+(1−y_i)log(1−\\hat{y}_i). $$\n",
        "- 로지스틱 회귀는 특성상 다중 분류에는 적합하지 않음"
      ]
    },
    {
      "cell_type": "code",
      "metadata": {
        "colab": {
          "base_uri": "https://localhost:8080/"
        },
        "id": "Sww3ZPnpypXN",
        "outputId": "8cd0eaaf-1446-46c0-9941-7c3e0654fa19"
      },
      "source": [
        "from sklearn.linear_model import LogisticRegression\n",
        "LR = LogisticRegression()\n",
        "LR.fit(x_train, y_train)\n",
        "pred = LR.predict(x_test)\n",
        "acc = accuracy_score(pred, y_test)\n",
        "print(acc)"
      ],
      "execution_count": 5,
      "outputs": [
        {
          "output_type": "stream",
          "text": [
            "0.869219440353461\n"
          ],
          "name": "stdout"
        },
        {
          "output_type": "stream",
          "text": [
            "/usr/local/lib/python3.7/dist-packages/sklearn/linear_model/_logistic.py:940: ConvergenceWarning: lbfgs failed to converge (status=1):\n",
            "STOP: TOTAL NO. of ITERATIONS REACHED LIMIT.\n",
            "\n",
            "Increase the number of iterations (max_iter) or scale the data as shown in:\n",
            "    https://scikit-learn.org/stable/modules/preprocessing.html\n",
            "Please also refer to the documentation for alternative solver options:\n",
            "    https://scikit-learn.org/stable/modules/linear_model.html#logistic-regression\n",
            "  extra_warning_msg=_LOGISTIC_SOLVER_CONVERGENCE_MSG)\n"
          ],
          "name": "stderr"
        }
      ]
    },
    {
      "cell_type": "markdown",
      "metadata": {
        "id": "9j3cxrVH30Q7"
      },
      "source": [
        "### 서포트 벡터 머신(Support Vector Machines)\n",
        "- 회귀, 분류, 이상치 탐지 등에 사용되는 지도학습 방법\n",
        "- 클래스 사이의 경계에 위치한 데이터 포인터를 서포트 벡터라고 한다\n",
        "- 각 서포트 벡터가 클래스 사이의 결정 경계를 구분하는데 얼마나 중요한지를 학습\n",
        "- 각 서포트 벡터 사이의 마진이 가장 큰 방향으로 학습\n",
        "- 서포트 벡터까지의 거리와 서포트 벡터의 중요도를 기반으로 예측을 수행"
      ]
    },
    {
      "cell_type": "code",
      "metadata": {
        "id": "3GyUG2zl3zim",
        "colab": {
          "base_uri": "https://localhost:8080/"
        },
        "outputId": "17490e37-e08e-4377-e0e1-2ac336b4b0f4"
      },
      "source": [
        "from sklearn import svm\n",
        "\n",
        "SVM = svm.SVC(kernel='linear')\n",
        "SVM.fit(x_train, y_train)\n",
        "pred = SVM.predict(x_test)\n",
        "acc = accuracy_score(pred, y_test)\n",
        "print(acc)"
      ],
      "execution_count": 7,
      "outputs": [
        {
          "output_type": "stream",
          "text": [
            "0.822680412371134\n"
          ],
          "name": "stdout"
        }
      ]
    },
    {
      "cell_type": "markdown",
      "metadata": {
        "id": "OU2KdiKqaqPV"
      },
      "source": [
        "### 나이브 베이즈 분류기 (Naive Bayes Classification)\n",
        "- 베이즈 정리를 적용한 확률적 분류 알고리즘\n",
        "- 모든 특성들이 독립임을 가정 (naive 가정)\n",
        "- 입력 특성에 따라 3개의 분류기 존재\n",
        "  - 가우시안 나이브 베이즈 분류기\n",
        "  - 베르누이 나이브 베이즈 분류기\n",
        "  - 다항 나이브 베이즈 분류기"
      ]
    },
    {
      "cell_type": "code",
      "metadata": {
        "colab": {
          "base_uri": "https://localhost:8080/"
        },
        "id": "yBN6gNK1ZOpJ",
        "outputId": "3687572a-9831-4e6d-d51a-6ab98f5587b9"
      },
      "source": [
        "from sklearn.naive_bayes import MultinomialNB\n",
        "\n",
        "NB = MultinomialNB()\n",
        "NB.fit(x_train, y_train)\n",
        "pred = NB.predict(x_test)\n",
        "acc = accuracy_score(pred, y_test)\n",
        "print(acc)"
      ],
      "execution_count": 8,
      "outputs": [
        {
          "output_type": "stream",
          "text": [
            "0.8150220913107511\n"
          ],
          "name": "stdout"
        }
      ]
    },
    {
      "cell_type": "markdown",
      "metadata": {
        "id": "ACFCA83fbYyD"
      },
      "source": [
        "- tf-idf를 이용한 정확도 향상"
      ]
    },
    {
      "cell_type": "code",
      "metadata": {
        "colab": {
          "base_uri": "https://localhost:8080/"
        },
        "id": "XDDhitQIbWdh",
        "outputId": "adbec01e-e87d-4273-ce36-74b9f8ed7480"
      },
      "source": [
        "from sklearn.feature_extraction.text import TfidfTransformer\n",
        "\n",
        "tfidf = TfidfTransformer()\n",
        "x_train_tf = tfidf.fit_transform(x_train)\n",
        "x_test_tf = tfidf.fit_transform(x_test)\n",
        "\n",
        "NB.fit(x_train_tf, y_train)\n",
        "pred = NB.predict(x_test_tf)\n",
        "acc = accuracy_score(pred, y_test)\n",
        "print(acc)"
      ],
      "execution_count": 9,
      "outputs": [
        {
          "output_type": "stream",
          "text": [
            "0.8215022091310751\n"
          ],
          "name": "stdout"
        }
      ]
    },
    {
      "cell_type": "markdown",
      "metadata": {
        "id": "xqjaUqcVb4yL"
      },
      "source": [
        "### 결정 트리 (Decision Tree)\n",
        "- 분류와 회귀에 사용되는 지도학습\n",
        "- 데이터 특성으로부터 추론된 결정 규칙을 통해 값을 예측\n",
        "- **if-then-else** 결정 규칙을 통해 데이터 학습\n",
        "- 트리 깊이가 깊을수록 복랍한 모델"
      ]
    },
    {
      "cell_type": "code",
      "metadata": {
        "colab": {
          "base_uri": "https://localhost:8080/"
        },
        "id": "VReaBQC8b2QA",
        "outputId": "f0e0e31a-36dd-457a-f788-1238b2c27d68"
      },
      "source": [
        "from sklearn.tree import DecisionTreeClassifier\n",
        "\n",
        "DT = DecisionTreeClassifier()\n",
        "DT.fit(x_train, y_train)\n",
        "pred = DT.predict(x_test)\n",
        "acc = accuracy_score(pred, y_test)\n",
        "print(acc)"
      ],
      "execution_count": 10,
      "outputs": [
        {
          "output_type": "stream",
          "text": [
            "0.6385861561119293\n"
          ],
          "name": "stdout"
        }
      ]
    },
    {
      "cell_type": "markdown",
      "metadata": {
        "id": "QC0Ma2m9cmVx"
      },
      "source": [
        "### XGBoost\n",
        "- 트리 기반의 앙상블 기법\n",
        "- 분류에 있어서 다른 알고맂ㅁ보다 좋은 예측 성능을 보여줌\n",
        "- XGBoost는 GBM 기반이지만, GBM의 단점인 느린 수행 시간과 과적합 규제 부재 등의 문제를 해결\n",
        "- 병렬 CPU 환경에서 빠르게 학습 가능"
      ]
    },
    {
      "cell_type": "code",
      "metadata": {
        "colab": {
          "base_uri": "https://localhost:8080/"
        },
        "id": "cwyC-myscjzk",
        "outputId": "85f34b53-cdd2-4855-83e0-505c1e3c66e3"
      },
      "source": [
        "from xgboost import XGBClassifier\n",
        "\n",
        "xgb = XGBClassifier(n_estimators=30, learning_rate=0.05, max_depth=3)\n",
        "xgb.fit(x_train, y_train)\n",
        "pred = xgb.predict(x_test)\n",
        "acc = accuracy_score(pred, y_test)\n",
        "print(acc)"
      ],
      "execution_count": 11,
      "outputs": [
        {
          "output_type": "stream",
          "text": [
            "0.7045655375552283\n"
          ],
          "name": "stdout"
        }
      ]
    },
    {
      "cell_type": "markdown",
      "metadata": {
        "id": "_hQVQR0BdYLU"
      },
      "source": [
        "#### 교차 검증\n",
        "- 일반 검증은 학습 데이터가 테스트 데이터로 사용되지 않음\n",
        "- 교차 검증은 데이터를 n개의 집합으로 나누어 정확도를 계산해 학습 데이터로 사용된 데이터도 테스트 데이터로 사용\n",
        "- 교차 검증을 사용하면 일반 검증보다 모델의 일반화가 잘 되어 있는지 평가 가능\n",
        "- 앞서 구성한 나이브 베이즈 모델 교차 검증\n",
        "- 교차 검증을 통해 일반 검증보다 좀 더 일반화된 모델 생성 가능\n",
        "- 교차 검증은 일반 검증에 비해 n번 검증을 해 비용이 더 많이 소요"
      ]
    },
    {
      "cell_type": "code",
      "metadata": {
        "colab": {
          "base_uri": "https://localhost:8080/"
        },
        "id": "tDIlXer7dWyR",
        "outputId": "7d0889fe-17a8-4cf3-e634-2f675f36763f"
      },
      "source": [
        "from sklearn.model_selection import cross_val_score\n",
        "\n",
        "scores = cross_val_score(NB, x, y, cv=5)\n",
        "print(scores, scores.mean())"
      ],
      "execution_count": 13,
      "outputs": [
        {
          "output_type": "stream",
          "text": [
            "[0.83870968 0.83826779 0.82368537 0.83031374 0.83642794] 0.833480903927519\n"
          ],
          "name": "stdout"
        }
      ]
    },
    {
      "cell_type": "markdown",
      "metadata": {
        "id": "CGLzGMczemFJ"
      },
      "source": [
        "### 정밀도와 재현률\n",
        "- 정밀도(precision)는 양성 클래스(정답)으로 예측한 샘플이 양성 클래스일 확률을 의미\n",
        "- 모델이 얼마나 양성 클래스를 잘 예측하는지를 나타냄\n",
        "- 재현률(recall)은 양성 클래스인 샘플에서 모델이 양성 클래스로 예측한 샘플 비율을 의미하며, 모델이 얼마나 실제 상황을 재현하는지를 나타냄\n",
        "- 정밀도와 재현율의 가중조화평균인 F1-score라는 지표는 정확도에 비해 더 효과적인 모델 분석 지표로 알려져 있음\n",
        "- 직접 계산할 수도 있으나, sklearn은 이를 편리하게 계산해주는 메소드를 제공\n",
        "- 다중 클래스 분류 문제에서 정밀도와 재현률을 계산할 때는 클래스간의 지표를 어떻게 합칠지 지정해야한다.\n",
        "  - None: 클래스간 지표를 합치지 말고 그대로 출력\n",
        "  - micro: 정밀도와 재현률이 같음, 이로 인해 f1-score도 정밀도, 재현률과 동일\n",
        "  - macro: 클래스간 지표를 단순 평균한 값\n",
        "  - weighted: 클래스간 지표를 가중 평균한 값"
      ]
    },
    {
      "cell_type": "code",
      "metadata": {
        "colab": {
          "base_uri": "https://localhost:8080/"
        },
        "id": "EtAWS4dBeZd3",
        "outputId": "5e4f4456-5c93-405f-ac35-a66d26cefa89"
      },
      "source": [
        "from sklearn.metrics import precision_score, recall_score, f1_score\n",
        "\n",
        "precision = precision_score(pred, y_test, average='micro')\n",
        "recall = recall_score(pred, y_test, average='micro')\n",
        "f1 = f1_score(pred, y_test, average='micro')\n",
        "\n",
        "print(precision, recall, f1)"
      ],
      "execution_count": 16,
      "outputs": [
        {
          "output_type": "stream",
          "text": [
            "0.7045655375552283 0.7045655375552283 0.7045655375552283\n"
          ],
          "name": "stdout"
        }
      ]
    },
    {
      "cell_type": "code",
      "metadata": {
        "colab": {
          "base_uri": "https://localhost:8080/"
        },
        "id": "a_VfO5KrgKWT",
        "outputId": "fcf51afa-ddb5-4b70-f693-73c7087e6c97"
      },
      "source": [
        "precision = precision_score(pred, y_test, average='macro')\n",
        "recall = recall_score(pred, y_test, average='macro')\n",
        "f1 = f1_score(pred, y_test, average='macro')\n",
        "\n",
        "print(precision, recall, f1)"
      ],
      "execution_count": 18,
      "outputs": [
        {
          "output_type": "stream",
          "text": [
            "0.6987839350504479 0.7390096719076894 0.7130538273738849\n"
          ],
          "name": "stdout"
        }
      ]
    },
    {
      "cell_type": "markdown",
      "metadata": {
        "id": "ZGeR6v6Cgm3Y"
      },
      "source": [
        "### 그리드 검색을 이용한 파라미터 최적화\n",
        "- 그리드 검색을 사용하면 분류기에 사용하는 파라미터 최적화 가능\n",
        "- 그리드 검색을 통해 앞서 구성한 나이브 베이즈 모델의 `alpha` 파라미터를 최적화 시키는 예제\n",
        "- `estimator`: 사용 모델 객체\n",
        "- `param_grid`: 사용 객체:지정 파라미터 리스트로 구성된 딕셔너리\n",
        "- `scoring`: 최적화하고자 하는 성능 지표\n",
        "- `cv`: 교차 검증 분할 개수"
      ]
    },
    {
      "cell_type": "code",
      "metadata": {
        "colab": {
          "base_uri": "https://localhost:8080/"
        },
        "id": "tJZnqaACgjmF",
        "outputId": "6d11faee-af32-469c-b6e2-affb3d4d6cc1"
      },
      "source": [
        "from sklearn.model_selection import GridSearchCV\n",
        "\n",
        "GS = GridSearchCV(estimator=NB, param_grid={'alpha': [0.001, 0.01, 0.1, 1]}, scoring='accuracy', cv=10)\n",
        "GS.fit(x, y)\n",
        "\n",
        "print(GS.best_score_)\n",
        "print(GS.best_params_)\n"
      ],
      "execution_count": 19,
      "outputs": [
        {
          "output_type": "stream",
          "text": [
            "0.8897820965842167\n",
            "{'alpha': 0.001}\n"
          ],
          "name": "stdout"
        }
      ]
    },
    {
      "cell_type": "code",
      "metadata": {
        "id": "TZItZKslhtiJ"
      },
      "source": [
        ""
      ],
      "execution_count": null,
      "outputs": []
    }
  ]
}