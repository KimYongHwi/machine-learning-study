{
  "nbformat": 4,
  "nbformat_minor": 0,
  "metadata": {
    "accelerator": "GPU",
    "colab": {
      "name": "9. 합성곱 신경망(Convolution Neural Network).ipynb",
      "provenance": [],
      "authorship_tag": "ABX9TyNU0+ZXQfc6YZ0sevNjmvqb",
      "include_colab_link": true
    },
    "kernelspec": {
      "display_name": "Python 3",
      "name": "python3"
    },
    "language_info": {
      "name": "python"
    }
  },
  "cells": [
    {
      "cell_type": "markdown",
      "metadata": {
        "id": "view-in-github",
        "colab_type": "text"
      },
      "source": [
        "<a href=\"https://colab.research.google.com/github/KimYongHwi/machine-learning-study/blob/main/natural_language_processing/9_%ED%95%A9%EC%84%B1%EA%B3%B1_%EC%8B%A0%EA%B2%BD%EB%A7%9D(Convolution_Neural_Network).ipynb\" target=\"_parent\"><img src=\"https://colab.research.google.com/assets/colab-badge.svg\" alt=\"Open In Colab\"/></a>"
      ]
    },
    {
      "cell_type": "markdown",
      "metadata": {
        "id": "_kjHqvjolr0r"
      },
      "source": [
        "### 합성곱 신경망(Convolution Neural Network)\n",
        "\n",
        "- 이미지 인식, 음성 인식 등에 자주 사용되는데,  \n",
        "  특히, 이미지 인식 분야에서 거의 모든 딥러닝 기술에 사용\n",
        "\n",
        "<br>\n",
        "\n",
        "### 컨볼루션 신경망의 등장\n",
        "- 1989년 얀 르쿤(Yann LeCun) 교수의 논문에서 발표\n",
        "  - 필기체 인식에서 의미가 있었지만 범용화하는데에는 무리\n",
        "- 1998년, \"Gradient-Based Learning Applied to Document Recognition\"이라는 논문에서 LeNet-5 제시\n",
        "\n",
        "- 합성곱 층(convolution layer), 풀링 층(pooling layer) 소개\n",
        "  <br>\n",
        "\n",
        "  <img src=\"https://miro.medium.com/max/4308/1*1TI1aGBZ4dybR6__DI9dzA.png\">\n",
        "  \n",
        "  <center>[LeNet-5 구조]</center>\n",
        "\n",
        "  <sub>출처: https://medium.com/@pechyonkin/key-deep-learning-architectures-lenet-5-6fc3c59e6f4</sub>\n",
        "\n",
        "### 컨볼루션 신경망 구조 예시\n",
        "\n",
        "<img src=\"https://www.oreilly.com/library/view/neural-network-projects/9781789138900/assets/c38754ca-f2ea-425a-b7a6-1fe0f2f5074e.png\" width=\"600\">\n",
        "\n",
        "<sub>출처: https://www.oreilly.com/library/view/neural-network-projects/9781789138900/8e87ad66-6de3-4275-81a4-62b54436bf16.xhtml</sub>\n",
        "\n"
      ]
    },
    {
      "cell_type": "markdown",
      "metadata": {
        "id": "L5BaOVvql5F3"
      },
      "source": [
        "### 합성곱 연산\n",
        "- 필터(filter) 연산\n",
        "  - 입력 데이터에 필터를 통한 어떠한 연산을 진행\n",
        "  - **필터에 대응하는 원소끼리 곱하고, 그 합을 구함**\n",
        "  - 연산이 완료된 결과 데이터를 **특징 맵(feature map)**이라 부름\n",
        "\n",
        "- 필터(filter)\n",
        "  - 커널(kernel)이라고도 칭함\n",
        "  - 흔히 사진 어플에서 사용하는 '이미지 필터'와 비슷한 개념\n",
        "  - 필터의 사이즈는 \"거의 항상 홀수\"\n",
        "    - 짝수이면 패딩이 비대칭이 되어버림\n",
        "    - 왼쪽, 오른쪽을 다르게 주어야함\n",
        "    - 중심위치가 존재, 즉 구별된 하나의 픽셀(중심 픽셀)이 존재\n",
        "  - 필터의 학습 파라미터 개수는 입력 데이터의 크기와 상관없이 일정  \n",
        "    따라서, 과적합을 방지할 수 있음\n",
        "\n",
        "- 연산 시각화\n",
        "  <img src=\"https://www.researchgate.net/profile/Ihab_S_Mohamed/publication/324165524/figure/fig3/AS:611103423860736@1522709818959/An-example-of-convolution-operation-in-2D-2.png\" width=\"500\">\n",
        "\n",
        "  <sub>출처: https://www.researchgate.net/figure/An-example-of-convolution-operation-in-2D-2_fig3_324165524</sub>\n",
        "\n",
        "\n",
        "- 일반적으로, 합성곱 연산을 한 후의 데이터 사이즈는  \n",
        "  ### $\\quad (n-f+1) \\times (n-f+1)$\n",
        "    $n$: 입력 데이터의 크기  \n",
        "    $f$: 필터(커널)의 크기\n",
        "\n",
        "\n",
        "  <img src=\"https://miro.medium.com/max/1400/1*Fw-ehcNBR9byHtho-Rxbtw.gif\" width=\"400\">\n",
        "\n",
        "  <sub>출처: https://towardsdatascience.com/intuitively-understanding-convolutions-for-deep-learning-1f6f42faee1</sub>\n",
        "  \n",
        "  위 예에서 입력 데이터 크기($n$)는 5, 필터의 크기($k$)는 3이므로  \n",
        "  출력 데이터의 크기는 $(5 - 3 + 1) = 3$\n"
      ]
    },
    {
      "cell_type": "markdown",
      "metadata": {
        "id": "Gog5Cf2GZubp"
      },
      "source": [
        "### 패딩\n",
        "- 입력 데이터의 주변을 특정 값으로 채우는 기법\n",
        "  - 주로 0으로 많이 채움\n",
        "\n",
        "  <img src=\"http://deeplearning.net/software/theano_versions/dev/_images/arbitrary_padding_no_strides.gif\" width=\"300\">\n",
        "\n",
        "- 출력 데이터의 크기\n",
        "  ### $\\quad (n+2p-f+1) \\times (n+2p-f+1)$\n",
        "\n",
        "  위 그림에서, 입력 데이터의 크기($n$)는 5, 필터의 크기($f$)는 4, 패딩값($p$)은 2이므로    \n",
        "  출력 데이터의 크기는 ($5 + 2\\times 2 - 4 + 1) = 6$\n",
        "\n",
        "### 'valid' 와 'same'\n",
        "- 'valid'\n",
        "  - 패딩을 주지 않음\n",
        "  - padding=0 (0으로 채워진 테두리가 아니라 패딩을 주지 않는다는 의미)\n",
        "\n",
        "- 'same'\n",
        "  - 패딩을 주어 입력 이미지의 크기와 연산 후의 이미지 크기를 같게함\n",
        "  - 만약, 필터(커널)의 크기가 $k$ 이면,  \n",
        "    패딩의 크기는 $p = \\frac{k-1}{2}$ (단, <u>stride=1)</u>\n",
        "\n",
        "### 스트라이드\n",
        "- 필터를 적용하는 간격을 의미\n"
      ]
    },
    {
      "cell_type": "markdown",
      "metadata": {
        "id": "68xzT7qtZ7LZ"
      },
      "source": [
        "### 출력 데이터의 크기\n",
        "\n",
        "### $\\qquad OH = \\frac{H + 2P - FH}{S} + 1 $ \n",
        "### $\\qquad OW = \\frac{W + 2P - FW}{S} + 1 $ \n",
        "\n",
        "- 입력 크기 : $(H, W)$\n",
        "- 필터 크기 : $(FH, FW)$\n",
        "- 출력 크기 : $(OH, OW)$\n",
        "- 패딩, 스트라이드 : $P, S$\n",
        "\n",
        "- (주의) \n",
        "  - 위 식의 값에서 $\\frac{H + 2P - FH}{S}$ 또는 $\\frac{W + 2P - FW}{S}$가 정수로 나누어 떨어지는 값이어야 함\n",
        "  - 만약, 정수로 나누어 떨어지지 않으면  \n",
        "    패딩, 스트라이드값을 조정하여 정수로 나누어 떨어지게 해야함\n"
      ]
    },
    {
      "cell_type": "markdown",
      "metadata": {
        "id": "JI8-GjuHaDST"
      },
      "source": [
        "### 풀링(Pooling)\n",
        "\n",
        "- 필터(커널) 사이즈 내에서 특정 값을 추출하는 과정\n",
        "\n",
        "### 맥스 풀링(Max Pooling)\n",
        "- 가장 많이 사용되는 방법\n",
        "\n",
        "- 출력 데이터의 사이즈 계산은 컨볼루션 연산과 동일\n",
        "### $\\quad OH = \\frac{H + 2P - FH}{S} + 1 $ \n",
        "### $\\quad OW = \\frac{W + 2P - FW}{S} + 1 $ \n",
        "\n",
        "- 일반적으로 stride=2, kernel_size=2 를 통해  \n",
        "  **특징맵의 크기를 <u>절반으로 줄이는 역할</u>**\n",
        "- 모델이 물체의 주요한 특징을 학습할 수 있도록 해주며,  \n",
        "  컨볼루션 신경망이 이동 불변성 특성을 가지게 해줌\n",
        "  - 예를 들어, 아래의 그림에서 초록색 사각형 안에 있는  \n",
        "    2와 8의 위치를 바꾼다해도 맥스 풀링 연산은 8을 추출\n",
        "- 모델의 파라미터 개수를 줄여주고, 연산 속도를 빠르게 해줌\n",
        "\n",
        "  <br>\n",
        "\n",
        "  <img src=\"https://cs231n.github.io/assets/cnn/maxpool.jpeg\" width=\"600\">\n",
        "\n",
        "  <sub>출처: https://cs231n.github.io/convolutional-networks/</sub>"
      ]
    },
    {
      "cell_type": "markdown",
      "metadata": {
        "id": "gIdcO7sxaMH7"
      },
      "source": [
        "### Conv1D \n",
        "\n",
        "- 텍스트 분류나 시계열 예측 같은 간단한 문제, 오디오 생성, 기계 번역 등의 문제에서 좋은 성능\n",
        "- 타임스텝의 순서에 민감하지 X\n",
        "\n",
        "- 2D Convolution\n",
        "  - 지역적 특징을 인식\n",
        "\n",
        "- 1D Convolution\n",
        "  - 문맥을 인식\n",
        "\n",
        "  <sub>출처: https://missinglink.ai/guides/keras/keras-conv1d-working-1d-convolutional-neural-networks-keras/</sub>"
      ]
    },
    {
      "cell_type": "markdown",
      "metadata": {
        "id": "pdwfRSCDaVRD"
      },
      "source": [
        "### Conv1D Layer\n",
        "- 입력: `(batch_size, timesteps, channels)`\n",
        "- 출력: `(batch_size, timesteps, filters)`\n",
        "- 필터의 사이즈가 커져도 모델이 급격히 증가하지 않기 때문에 다양한 크기를 사용할 수 있음\n",
        "- 데이터의 품질이 좋으면 굳이 크기를 달리하여 여러 개를 사용하지 않아도 될 수도 있음"
      ]
    },
    {
      "cell_type": "markdown",
      "metadata": {
        "id": "JE8EP3q5aZrj"
      },
      "source": [
        "### MaxPooling1D Layer\n",
        "- 다운 샘플링 효과\n",
        "- 단지 1차원형태로 바뀐 것 뿐\n",
        "\n",
        "### GlovalMaxPooling Layer\n",
        "- 배치차원을 제외하고 2차원 형태를 1차원 형태로 바꾸어주는 레이어\n",
        "- Flatten layer로 대신 사용가능"
      ]
    },
    {
      "cell_type": "code",
      "metadata": {
        "id": "Pj4kMDlaljLt"
      },
      "source": [
        "from tensorflow.keras.datasets import imdb\n",
        "from tensorflow.keras.preprocessing.sequence import pad_sequences\n",
        "from tensorflow.keras.models import Sequential\n",
        "from tensorflow.keras.optimizers import RMSprop\n",
        "from tensorflow.keras.layers import Dense, Embedding, Conv1D, MaxPooling1D, GlobalMaxPool1D"
      ],
      "execution_count": null,
      "outputs": []
    },
    {
      "cell_type": "markdown",
      "metadata": {
        "id": "pfX_k-iuyAq-"
      },
      "source": [
        "### IMDB"
      ]
    },
    {
      "cell_type": "code",
      "metadata": {
        "colab": {
          "base_uri": "https://localhost:8080/"
        },
        "id": "sXuaNs8tcYCh",
        "outputId": "4e8951a8-98c1-4ec5-c163-97616047747f"
      },
      "source": [
        "num_words = 10000\n",
        "max_len = 500\n",
        "batch_size = 32\n",
        "\n",
        "(input_train, y_train), (input_test, y_test) = imdb.load_data(num_words=num_words)\n",
        "print(input_train[0])\n",
        "print(y_train[0])\n",
        "print(input_train.shape)\n",
        "print(y_train.shape)"
      ],
      "execution_count": null,
      "outputs": [
        {
          "name": "stdout",
          "output_type": "stream",
          "text": [
            "Downloading data from https://storage.googleapis.com/tensorflow/tf-keras-datasets/imdb.npz\n",
            "17465344/17464789 [==============================] - 0s 0us/step\n",
            "17473536/17464789 [==============================] - 0s 0us/step\n",
            "[1, 14, 22, 16, 43, 530, 973, 1622, 1385, 65, 458, 4468, 66, 3941, 4, 173, 36, 256, 5, 25, 100, 43, 838, 112, 50, 670, 2, 9, 35, 480, 284, 5, 150, 4, 172, 112, 167, 2, 336, 385, 39, 4, 172, 4536, 1111, 17, 546, 38, 13, 447, 4, 192, 50, 16, 6, 147, 2025, 19, 14, 22, 4, 1920, 4613, 469, 4, 22, 71, 87, 12, 16, 43, 530, 38, 76, 15, 13, 1247, 4, 22, 17, 515, 17, 12, 16, 626, 18, 2, 5, 62, 386, 12, 8, 316, 8, 106, 5, 4, 2223, 5244, 16, 480, 66, 3785, 33, 4, 130, 12, 16, 38, 619, 5, 25, 124, 51, 36, 135, 48, 25, 1415, 33, 6, 22, 12, 215, 28, 77, 52, 5, 14, 407, 16, 82, 2, 8, 4, 107, 117, 5952, 15, 256, 4, 2, 7, 3766, 5, 723, 36, 71, 43, 530, 476, 26, 400, 317, 46, 7, 4, 2, 1029, 13, 104, 88, 4, 381, 15, 297, 98, 32, 2071, 56, 26, 141, 6, 194, 7486, 18, 4, 226, 22, 21, 134, 476, 26, 480, 5, 144, 30, 5535, 18, 51, 36, 28, 224, 92, 25, 104, 4, 226, 65, 16, 38, 1334, 88, 12, 16, 283, 5, 16, 4472, 113, 103, 32, 15, 16, 5345, 19, 178, 32]\n",
            "1\n",
            "(25000,)\n",
            "(25000,)\n"
          ]
        }
      ]
    },
    {
      "cell_type": "code",
      "metadata": {
        "colab": {
          "base_uri": "https://localhost:8080/"
        },
        "id": "YsuF-_iHpc9R",
        "outputId": "5af5f7bb-0d5e-47c0-8a7b-d689b68efe68"
      },
      "source": [
        "pad_x_train = pad_sequences(input_train, maxlen=max_len)\n",
        "pad_x_test = pad_sequences(input_test, maxlen=max_len)\n",
        "\n",
        "print(pad_x_train.shape)\n",
        "print(pad_x_test.shape)"
      ],
      "execution_count": null,
      "outputs": [
        {
          "name": "stdout",
          "output_type": "stream",
          "text": [
            "(25000, 500)\n",
            "(25000, 500)\n"
          ]
        }
      ]
    },
    {
      "cell_type": "code",
      "metadata": {
        "id": "wbQzOBEupsND"
      },
      "source": [
        "def build_model():\n",
        "    model = Sequential()\n",
        "\n",
        "    model.add(Embedding(input_dim=num_words, output_dim=32, input_length=max_len))\n",
        "    model.add(Conv1D(32, 7, activation='relu'))\n",
        "    model.add(MaxPooling1D(7))\n",
        "    model.add(Conv1D(32, 5, activation='relu'))\n",
        "    model.add(MaxPooling1D(5))\n",
        "    model.add(GlobalMaxPool1D())\n",
        "    model.add(Dense(1, activation='sigmoid'))\n",
        "\n",
        "    model.compile(\n",
        "        optimizer=RMSprop(learning_rate=1e-4),\n",
        "        loss='binary_crossentropy',\n",
        "        metrics=['accuracy']\n",
        "    )\n",
        "\n",
        "    return model"
      ],
      "execution_count": null,
      "outputs": []
    },
    {
      "cell_type": "code",
      "metadata": {
        "colab": {
          "base_uri": "https://localhost:8080/"
        },
        "id": "6kUGidzIqXI_",
        "outputId": "b60e1899-e5ea-4cd0-a130-84cc599d2061"
      },
      "source": [
        "model = build_model()\n",
        "model.summary()"
      ],
      "execution_count": 8,
      "outputs": [
        {
          "output_type": "stream",
          "text": [
            "Model: \"sequential_1\"\n",
            "_________________________________________________________________\n",
            "Layer (type)                 Output Shape              Param #   \n",
            "=================================================================\n",
            "embedding_1 (Embedding)      (None, 500, 32)           320000    \n",
            "_________________________________________________________________\n",
            "conv1d_2 (Conv1D)            (None, 494, 32)           7200      \n",
            "_________________________________________________________________\n",
            "max_pooling1d_2 (MaxPooling1 (None, 70, 32)            0         \n",
            "_________________________________________________________________\n",
            "conv1d_3 (Conv1D)            (None, 66, 32)            5152      \n",
            "_________________________________________________________________\n",
            "max_pooling1d_3 (MaxPooling1 (None, 13, 32)            0         \n",
            "_________________________________________________________________\n",
            "global_max_pooling1d_1 (Glob (None, 32)                0         \n",
            "_________________________________________________________________\n",
            "dense_1 (Dense)              (None, 1)                 33        \n",
            "=================================================================\n",
            "Total params: 332,385\n",
            "Trainable params: 332,385\n",
            "Non-trainable params: 0\n",
            "_________________________________________________________________\n"
          ],
          "name": "stdout"
        }
      ]
    },
    {
      "cell_type": "code",
      "metadata": {
        "id": "IqFRzllKqZTO"
      },
      "source": [
        "history = model.fit(pad_x_train, y_train, batch_size=128, epochs=30, validation_split=0.2)"
      ],
      "execution_count": null,
      "outputs": []
    },
    {
      "cell_type": "code",
      "metadata": {
        "id": "2wunkGCkqpjj",
        "colab": {
          "base_uri": "https://localhost:8080/",
          "height": 507
        },
        "outputId": "f89e4f86-79fc-421d-b404-a165c06969e6"
      },
      "source": [
        "import matplotlib.pyplot as plt\n",
        "plt.style.use('seaborn-white')\n",
        "\n",
        "loss = history.history['loss']\n",
        "val_loss = history.history['val_loss']\n",
        "acc = history.history['accuracy']\n",
        "val_acc = history.history['val_accuracy']\n",
        "\n",
        "epochs = range(1, len(loss) + 1)\n",
        "\n",
        "plt.plot(epochs, loss, 'b--', label='training loss')\n",
        "plt.plot(epochs, val_loss, 'r:', label='validation loss')\n",
        "plt.grid()\n",
        "plt.legend()\n",
        "\n",
        "plt.figure()\n",
        "plt.plot(epochs, acc, 'b--', label='training acc')\n",
        "plt.plot(epochs, val_acc, 'r:', label='validation acc')\n",
        "plt.grid()\n",
        "plt.legend()\n",
        "\n",
        "plt.show()"
      ],
      "execution_count": 13,
      "outputs": [
        {
          "output_type": "display_data",
          "data": {
            "image/png": "[encoded data removed]",
            "text/plain": [
              "<Figure size 432x288 with 1 Axes>"
            ]
          },
          "metadata": {}
        },
        {
          "output_type": "display_data",
          "data": {
            "image/png": "[encoded data removed]",
            "text/plain": [
              "<Figure size 432x288 with 1 Axes>"
            ]
          },
          "metadata": {}
        }
      ]
    },
    {
      "cell_type": "code",
      "metadata": {
        "colab": {
          "base_uri": "https://localhost:8080/"
        },
        "id": "tbrgTiWFw_63",
        "outputId": "88280f8a-962e-4ee5-a94f-917b60c715d0"
      },
      "source": [
        "model.evaluate(pad_x_test, y_test)"
      ],
      "execution_count": 14,
      "outputs": [
        {
          "output_type": "stream",
          "text": [
            "782/782 [==============================] - 2s 2ms/step - loss: 0.3842 - accuracy: 0.8500\n"
          ],
          "name": "stdout"
        },
        {
          "output_type": "execute_result",
          "data": {
            "text/plain": [
              "[0.38421452045440674, 0.8500000238418579]"
            ]
          },
          "metadata": {},
          "execution_count": 14
        }
      ]
    },
    {
      "cell_type": "markdown",
      "metadata": {
        "id": "rz3VYIQvyETy"
      },
      "source": [
        "### Reuters"
      ]
    },
    {
      "cell_type": "code",
      "metadata": {
        "id": "OMdvcvViyKkg"
      },
      "source": [
        "from tensorflow.keras.datasets import reuters"
      ],
      "execution_count": 16,
      "outputs": []
    },
    {
      "cell_type": "code",
      "metadata": {
        "colab": {
          "base_uri": "https://localhost:8080/"
        },
        "id": "peWZgcGTyETy",
        "outputId": "73f5f93a-1657-45c8-9e6c-1f89c1c2b3dd"
      },
      "source": [
        "num_words = 10000\n",
        "max_len = 500\n",
        "\n",
        "(input_train, y_train), (input_test, y_test) = reuters.load_data(num_words=num_words)\n",
        "print(input_train[0])\n",
        "print(y_train[0])\n",
        "print(input_train.shape)\n",
        "print(y_train.shape)"
      ],
      "execution_count": 25,
      "outputs": [
        {
          "output_type": "stream",
          "text": [
            "[1, 2, 2, 8, 43, 10, 447, 5, 25, 207, 270, 5, 3095, 111, 16, 369, 186, 90, 67, 7, 89, 5, 19, 102, 6, 19, 124, 15, 90, 67, 84, 22, 482, 26, 7, 48, 4, 49, 8, 864, 39, 209, 154, 6, 151, 6, 83, 11, 15, 22, 155, 11, 15, 7, 48, 9, 4579, 1005, 504, 6, 258, 6, 272, 11, 15, 22, 134, 44, 11, 15, 16, 8, 197, 1245, 90, 67, 52, 29, 209, 30, 32, 132, 6, 109, 15, 17, 12]\n",
            "3\n",
            "(8982,)\n",
            "(8982,)\n"
          ],
          "name": "stdout"
        }
      ]
    },
    {
      "cell_type": "code",
      "metadata": {
        "colab": {
          "base_uri": "https://localhost:8080/"
        },
        "id": "Fn1FMQ-vyETz",
        "outputId": "b8494247-17c3-46aa-bef7-7e815e384a75"
      },
      "source": [
        "pad_x_train = pad_sequences(input_train, maxlen=max_len)\n",
        "pad_x_test = pad_sequences(input_test, maxlen=max_len)\n",
        "\n",
        "print(pad_x_train.shape)\n",
        "print(pad_x_test.shape)"
      ],
      "execution_count": 26,
      "outputs": [
        {
          "output_type": "stream",
          "text": [
            "(8982, 500)\n",
            "(2246, 500)\n"
          ],
          "name": "stdout"
        }
      ]
    },
    {
      "cell_type": "code",
      "metadata": {
        "id": "q7DLVAWqyET0"
      },
      "source": [
        "def build_model():\n",
        "    model = Sequential()\n",
        "\n",
        "    model.add(Embedding(input_dim=num_words, output_dim=32, input_length=max_len))\n",
        "    model.add(Conv1D(64, 7, activation='relu'))\n",
        "    model.add(MaxPooling1D(7))\n",
        "    model.add(Conv1D(64, 5, activation='relu'))\n",
        "    model.add(MaxPooling1D(5))\n",
        "    model.add(GlobalMaxPool1D())\n",
        "    model.add(Dense(46, activation='softmax'))\n",
        "\n",
        "    model.compile(\n",
        "        optimizer='adam',\n",
        "        loss='sparse_categorical_crossentropy',\n",
        "        metrics=['accuracy']\n",
        "    )\n",
        "\n",
        "    return model"
      ],
      "execution_count": 27,
      "outputs": []
    },
    {
      "cell_type": "code",
      "metadata": {
        "colab": {
          "base_uri": "https://localhost:8080/"
        },
        "id": "i50PheV3yET0",
        "outputId": "925c916d-7fd0-4561-aee5-4967161371ab"
      },
      "source": [
        "model = build_model()\n",
        "model.summary()"
      ],
      "execution_count": 28,
      "outputs": [
        {
          "output_type": "stream",
          "text": [
            "Model: \"sequential_4\"\n",
            "_________________________________________________________________\n",
            "Layer (type)                 Output Shape              Param #   \n",
            "=================================================================\n",
            "embedding_4 (Embedding)      (None, 500, 32)           320000    \n",
            "_________________________________________________________________\n",
            "conv1d_8 (Conv1D)            (None, 494, 64)           14400     \n",
            "_________________________________________________________________\n",
            "max_pooling1d_8 (MaxPooling1 (None, 70, 64)            0         \n",
            "_________________________________________________________________\n",
            "conv1d_9 (Conv1D)            (None, 66, 64)            20544     \n",
            "_________________________________________________________________\n",
            "max_pooling1d_9 (MaxPooling1 (None, 13, 64)            0         \n",
            "_________________________________________________________________\n",
            "global_max_pooling1d_4 (Glob (None, 64)                0         \n",
            "_________________________________________________________________\n",
            "dense_4 (Dense)              (None, 46)                2990      \n",
            "=================================================================\n",
            "Total params: 357,934\n",
            "Trainable params: 357,934\n",
            "Non-trainable params: 0\n",
            "_________________________________________________________________\n"
          ],
          "name": "stdout"
        }
      ]
    },
    {
      "cell_type": "code",
      "metadata": {
        "colab": {
          "base_uri": "https://localhost:8080/"
        },
        "id": "RlqSfO44yET0",
        "outputId": "25aa90ea-e66f-40eb-f1ec-845935209f66"
      },
      "source": [
        "history = model.fit(pad_x_train, y_train, batch_size=128, epochs=30, validation_split=0.2)"
      ],
      "execution_count": 29,
      "outputs": [
        {
          "output_type": "stream",
          "text": [
            "Epoch 1/30\n",
            "57/57 [==============================] - 2s 14ms/step - loss: 2.7367 - accuracy: 0.3427 - val_loss: 2.1380 - val_accuracy: 0.3472\n",
            "Epoch 2/30\n",
            "57/57 [==============================] - 0s 8ms/step - loss: 1.9598 - accuracy: 0.4920 - val_loss: 1.7830 - val_accuracy: 0.5214\n",
            "Epoch 3/30\n",
            "57/57 [==============================] - 0s 8ms/step - loss: 1.6876 - accuracy: 0.5582 - val_loss: 1.6080 - val_accuracy: 0.5977\n",
            "Epoch 4/30\n",
            "57/57 [==============================] - 0s 8ms/step - loss: 1.4965 - accuracy: 0.6351 - val_loss: 1.5027 - val_accuracy: 0.6466\n",
            "Epoch 5/30\n",
            "57/57 [==============================] - 0s 8ms/step - loss: 1.3228 - accuracy: 0.6907 - val_loss: 1.4200 - val_accuracy: 0.6717\n",
            "Epoch 6/30\n",
            "57/57 [==============================] - 0s 8ms/step - loss: 1.1560 - accuracy: 0.7151 - val_loss: 1.3678 - val_accuracy: 0.6800\n",
            "Epoch 7/30\n",
            "57/57 [==============================] - 0s 8ms/step - loss: 1.0046 - accuracy: 0.7446 - val_loss: 1.3463 - val_accuracy: 0.6878\n",
            "Epoch 8/30\n",
            "57/57 [==============================] - 0s 8ms/step - loss: 0.8740 - accuracy: 0.7768 - val_loss: 1.3555 - val_accuracy: 0.6967\n",
            "Epoch 9/30\n",
            "57/57 [==============================] - 0s 8ms/step - loss: 0.7653 - accuracy: 0.8033 - val_loss: 1.3852 - val_accuracy: 0.7067\n",
            "Epoch 10/30\n",
            "57/57 [==============================] - 0s 8ms/step - loss: 0.6580 - accuracy: 0.8301 - val_loss: 1.4385 - val_accuracy: 0.7084\n",
            "Epoch 11/30\n",
            "57/57 [==============================] - 0s 8ms/step - loss: 0.5669 - accuracy: 0.8550 - val_loss: 1.4809 - val_accuracy: 0.7156\n",
            "Epoch 12/30\n",
            "57/57 [==============================] - 0s 8ms/step - loss: 0.4839 - accuracy: 0.8746 - val_loss: 1.5602 - val_accuracy: 0.7179\n",
            "Epoch 13/30\n",
            "57/57 [==============================] - 0s 8ms/step - loss: 0.4136 - accuracy: 0.8977 - val_loss: 1.6379 - val_accuracy: 0.7106\n",
            "Epoch 14/30\n",
            "57/57 [==============================] - 0s 8ms/step - loss: 0.3593 - accuracy: 0.9168 - val_loss: 1.6755 - val_accuracy: 0.7145\n",
            "Epoch 15/30\n",
            "57/57 [==============================] - 0s 8ms/step - loss: 0.2986 - accuracy: 0.9312 - val_loss: 1.7319 - val_accuracy: 0.7229\n",
            "Epoch 16/30\n",
            "57/57 [==============================] - 0s 8ms/step - loss: 0.2647 - accuracy: 0.9403 - val_loss: 1.8162 - val_accuracy: 0.7173\n",
            "Epoch 17/30\n",
            "57/57 [==============================] - 0s 8ms/step - loss: 0.2352 - accuracy: 0.9461 - val_loss: 1.8587 - val_accuracy: 0.7162\n",
            "Epoch 18/30\n",
            "57/57 [==============================] - 0s 8ms/step - loss: 0.2127 - accuracy: 0.9541 - val_loss: 1.8734 - val_accuracy: 0.7179\n",
            "Epoch 19/30\n",
            "57/57 [==============================] - 0s 8ms/step - loss: 0.2006 - accuracy: 0.9541 - val_loss: 1.9251 - val_accuracy: 0.7090\n",
            "Epoch 20/30\n",
            "57/57 [==============================] - 0s 8ms/step - loss: 0.1739 - accuracy: 0.9580 - val_loss: 1.9339 - val_accuracy: 0.7112\n",
            "Epoch 21/30\n",
            "57/57 [==============================] - 0s 8ms/step - loss: 0.1610 - accuracy: 0.9598 - val_loss: 1.9957 - val_accuracy: 0.7134\n",
            "Epoch 22/30\n",
            "57/57 [==============================] - 0s 8ms/step - loss: 0.1499 - accuracy: 0.9627 - val_loss: 2.0186 - val_accuracy: 0.7206\n",
            "Epoch 23/30\n",
            "57/57 [==============================] - 0s 8ms/step - loss: 0.1490 - accuracy: 0.9601 - val_loss: 2.0093 - val_accuracy: 0.7162\n",
            "Epoch 24/30\n",
            "57/57 [==============================] - 0s 8ms/step - loss: 0.1495 - accuracy: 0.9614 - val_loss: 1.9958 - val_accuracy: 0.7257\n",
            "Epoch 25/30\n",
            "57/57 [==============================] - 0s 8ms/step - loss: 0.1311 - accuracy: 0.9644 - val_loss: 2.0455 - val_accuracy: 0.7156\n",
            "Epoch 26/30\n",
            "57/57 [==============================] - 0s 8ms/step - loss: 0.1363 - accuracy: 0.9621 - val_loss: 1.9957 - val_accuracy: 0.7206\n",
            "Epoch 27/30\n",
            "57/57 [==============================] - 0s 8ms/step - loss: 0.1235 - accuracy: 0.9644 - val_loss: 2.0788 - val_accuracy: 0.7168\n",
            "Epoch 28/30\n",
            "57/57 [==============================] - 0s 8ms/step - loss: 0.1256 - accuracy: 0.9642 - val_loss: 2.0931 - val_accuracy: 0.7257\n",
            "Epoch 29/30\n",
            "57/57 [==============================] - 0s 8ms/step - loss: 0.1177 - accuracy: 0.9638 - val_loss: 2.0948 - val_accuracy: 0.7190\n",
            "Epoch 30/30\n",
            "57/57 [==============================] - 0s 8ms/step - loss: 0.1078 - accuracy: 0.9641 - val_loss: 2.0499 - val_accuracy: 0.7090\n"
          ],
          "name": "stdout"
        }
      ]
    },
    {
      "cell_type": "code",
      "metadata": {
        "colab": {
          "base_uri": "https://localhost:8080/",
          "height": 507
        },
        "id": "j14Bip0uyET0",
        "outputId": "bcae9009-c32e-4966-a753-4172ddd21483"
      },
      "source": [
        "import matplotlib.pyplot as plt\n",
        "plt.style.use('seaborn-white')\n",
        "\n",
        "loss = history.history['loss']\n",
        "val_loss = history.history['val_loss']\n",
        "acc = history.history['accuracy']\n",
        "val_acc = history.history['val_accuracy']\n",
        "\n",
        "epochs = range(1, len(loss) + 1)\n",
        "\n",
        "plt.plot(epochs, loss, 'b--', label='training loss')\n",
        "plt.plot(epochs, val_loss, 'r:', label='validation loss')\n",
        "plt.grid()\n",
        "plt.legend()\n",
        "\n",
        "plt.figure()\n",
        "plt.plot(epochs, acc, 'b--', label='training acc')\n",
        "plt.plot(epochs, val_acc, 'r:', label='validation acc')\n",
        "plt.grid()\n",
        "plt.legend()\n",
        "\n",
        "plt.show()"
      ],
      "execution_count": 30,
      "outputs": [
        {
          "output_type": "display_data",
          "data": {
            "image/png": "[encoded data removed]",
            "text/plain": [
              "<Figure size 432x288 with 1 Axes>"
            ]
          },
          "metadata": {}
        },
        {
          "output_type": "display_data",
          "data": {
            "image/png": "[encoded data removed]",
            "text/plain": [
              "<Figure size 432x288 with 1 Axes>"
            ]
          },
          "metadata": {}
        }
      ]
    },
    {
      "cell_type": "code",
      "metadata": {
        "colab": {
          "base_uri": "https://localhost:8080/"
        },
        "id": "EiN3tQhDyET1",
        "outputId": "11ca0173-4045-46de-85a5-7a13c6c84ab2"
      },
      "source": [
        "model.evaluate(pad_x_test, y_test)"
      ],
      "execution_count": 31,
      "outputs": [
        {
          "output_type": "stream",
          "text": [
            "71/71 [==============================] - 0s 3ms/step - loss: 2.0157 - accuracy: 0.7070\n"
          ],
          "name": "stdout"
        },
        {
          "output_type": "execute_result",
          "data": {
            "text/plain": [
              "[2.0157299041748047, 0.707034707069397]"
            ]
          },
          "metadata": {},
          "execution_count": 31
        }
      ]
    },
    {
      "cell_type": "code",
      "metadata": {
        "id": "hb3WyLGKx4C-"
      },
      "source": [
        ""
      ],
      "execution_count": null,
      "outputs": []
    }
  ]
}