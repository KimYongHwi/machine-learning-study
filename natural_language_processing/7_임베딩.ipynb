{
  "nbformat": 4,
  "nbformat_minor": 0,
  "metadata": {
    "colab": {
      "name": "7. 임베딩.ipynb",
      "provenance": [],
      "collapsed_sections": [],
      "authorship_tag": "ABX9TyOcktcT1KlW0EXfqnXkuhit",
      "include_colab_link": true
    },
    "kernelspec": {
      "name": "python3",
      "display_name": "Python 3"
    },
    "language_info": {
      "name": "python"
    }
  },
  "cells": [
    {
      "cell_type": "markdown",
      "metadata": {
        "id": "view-in-github",
        "colab_type": "text"
      },
      "source": [
        "<a href=\"https://colab.research.google.com/github/KimYongHwi/machine-learning-study/blob/main/natural_language_processing/7_%EC%9E%84%EB%B2%A0%EB%94%A9.ipynb\" target=\"_parent\"><img src=\"https://colab.research.google.com/assets/colab-badge.svg\" alt=\"Open In Colab\"/></a>"
      ]
    },
    {
      "cell_type": "markdown",
      "metadata": {
        "id": "ox1FyDvcAo4v"
      },
      "source": [
        "### 임베딩 (Embedding)\n",
        "- 워드 임베딩은 단어를 컴퓨터가 이해하고, 효율적으로 처리할 수 있도록 단어를 벡터화 하는 기술이다.\n",
        "- 워드 임베딩은 단어의 의미를 잘 표현해야만 하며, 현재까지도 많은 표현 방법이 연구되고 있다.\n",
        "- 워드 임베딩을 거쳐 잘 표현된 단어 벡터들은 계산이 가능하며, 모델 투입도 가능하다."
      ]
    },
    {
      "cell_type": "markdown",
      "metadata": {
        "id": "npvzrfkGsY1-"
      },
      "source": [
        "### 인코딩 (Encoding)\n",
        "- 기계는 자연어(영어, 한국어 등)을 이해할 수 없다.\n",
        "- 데이터를 기계가 이해할 수 있도록 숫자 등으로 변환해주는 작업이 필요한데 이러한 작업을 인코딩이라고한다.\n",
        "- 텍스트 처리에서는 주로 정수 인코딩, 원-핫 인코딩을 사용한다."
      ]
    },
    {
      "cell_type": "markdown",
      "metadata": {
        "id": "Pa0gSPLUsyfS"
      },
      "source": [
        "### 정수 인코딩\n",
        "- dictionary를 이용한 정수 인코딩: 각 단어와 정수 인덱스를 연결하고 토큰을 변환해주는 방법"
      ]
    },
    {
      "cell_type": "code",
      "metadata": {
        "id": "pPfz9yzZAhxv",
        "colab": {
          "base_uri": "https://localhost:8080/"
        },
        "outputId": "0743bb04-fd7b-49eb-d40e-d805c4805636"
      },
      "source": [
        "text = \"평생 살 것처럼 꿈을 꾸어라. 그리고 내일 죽을 것처럼 오늘을 살아라.\"\n",
        "\n",
        "tokens = [x for x in text.split(' ')]\n",
        "unique = set(tokens)\n",
        "unique = list(unique)\n",
        "\n",
        "token2idx = {}\n",
        "for i in range(len(unique)):\n",
        "    token2idx[unique[i]] = i\n",
        "\n",
        "encode = [token2idx[x] for x in tokens]\n",
        "\n",
        "print(tokens)\n",
        "print(token2idx)\n",
        "print(encode)"
      ],
      "execution_count": 68,
      "outputs": [
        {
          "output_type": "stream",
          "text": [
            "['평생', '살', '것처럼', '꿈을', '꾸어라.', '그리고', '내일', '죽을', '것처럼', '오늘을', '살아라.']\n",
            "{'오늘을': 0, '평생': 1, '죽을': 2, '살아라.': 3, '꾸어라.': 4, '내일': 5, '그리고': 6, '살': 7, '꿈을': 8, '것처럼': 9}\n",
            "[1, 7, 9, 8, 4, 6, 5, 2, 9, 0, 3]\n"
          ],
          "name": "stdout"
        }
      ]
    },
    {
      "cell_type": "markdown",
      "metadata": {
        "id": "JuhVRfFhttDK"
      },
      "source": [
        "### keras를 이용한 정수 인코딩\n",
        "- 정수 인코딩은 단어에 정수로 레이블을 부여한다.\n",
        "- `dictionary`, `nltk` 패키지를 이용한 방법들도 있지만, `keras`에서는 텍스트ㅡ 처리에 필요한 도구들을 지원한다.\n",
        "- 해당 도구는 자동으로 단어 빈도가 높은 단어의 인덱스는 낮게 설정한다."
      ]
    },
    {
      "cell_type": "code",
      "metadata": {
        "colab": {
          "base_uri": "https://localhost:8080/"
        },
        "id": "Nofq931RtT7A",
        "outputId": "638672ed-14ec-41c5-de31-871e5aec3f4b"
      },
      "source": [
        "from tensorflow.keras.preprocessing.text import Tokenizer\n",
        "\n",
        "text = \"평생 살 것처럼 꿈을 꾸어라. 그리고 내일 죽을 것처럼 오늘을 살아라.\"\n",
        "\n",
        "t = Tokenizer()\n",
        "t.fit_on_texts([text])\n",
        "print(t.word_index)\n",
        "\n",
        "encoded = t.texts_to_sequences([text])[0]\n",
        "print(encoded)"
      ],
      "execution_count": 69,
      "outputs": [
        {
          "output_type": "stream",
          "text": [
            "{'것처럼': 1, '평생': 2, '살': 3, '꿈을': 4, '꾸어라': 5, '그리고': 6, '내일': 7, '죽을': 8, '오늘을': 9, '살아라': 10}\n",
            "[2, 3, 1, 4, 5, 6, 7, 8, 1, 9, 10]\n"
          ],
          "name": "stdout"
        }
      ]
    },
    {
      "cell_type": "markdown",
      "metadata": {
        "id": "s7_fAEE-uat4"
      },
      "source": [
        "### 원-핫 인코딩\n",
        "- 원-핫 인코딩은 정수 인코딩한 결과를 벡터로 변환한 인코딩\n",
        "- 원-핫 인코딩은 전체 단어 개수 만큼의 길이를 가진 배열에 해당 정수를 가지는 위치는 1, 나머지는 0을 가진 벡터로 변환"
      ]
    },
    {
      "cell_type": "code",
      "metadata": {
        "colab": {
          "base_uri": "https://localhost:8080/",
          "height": 407
        },
        "id": "fAYEP4SLuLSg",
        "outputId": "a2fcd0bb-3aa1-4c72-8fac-4f029cc66c29"
      },
      "source": [
        "import numpy as np\n",
        "import pandas as pd\n",
        "\n",
        "\n",
        "one_hot = []\n",
        "\n",
        "for i in range(len(encoded)):\n",
        "    temp = []\n",
        "    for j in range(max(encoded)):\n",
        "        if j == (encoded[i] -1):\n",
        "            temp.append(1)\n",
        "        else:\n",
        "            temp.append(0)\n",
        "    one_hot.append(temp)\n",
        "\n",
        "print(np.array(one_hot).shape)\n",
        "pd.DataFrame(data=np.array(one_hot), columns=t.word_index.keys())"
      ],
      "execution_count": 70,
      "outputs": [
        {
          "output_type": "stream",
          "text": [
            "(11, 10)\n"
          ],
          "name": "stdout"
        },
        {
          "output_type": "execute_result",
          "data": {
            "text/html": [
              "<div>\n",
              "<style scoped>\n",
              "    .dataframe tbody tr th:only-of-type {\n",
              "        vertical-align: middle;\n",
              "    }\n",
              "\n",
              "    .dataframe tbody tr th {\n",
              "        vertical-align: top;\n",
              "    }\n",
              "\n",
              "    .dataframe thead th {\n",
              "        text-align: right;\n",
              "    }\n",
              "</style>\n",
              "<table border=\"1\" class=\"dataframe\">\n",
              "  <thead>\n",
              "    <tr style=\"text-align: right;\">\n",
              "      <th></th>\n",
              "      <th>것처럼</th>\n",
              "      <th>평생</th>\n",
              "      <th>살</th>\n",
              "      <th>꿈을</th>\n",
              "      <th>꾸어라</th>\n",
              "      <th>그리고</th>\n",
              "      <th>내일</th>\n",
              "      <th>죽을</th>\n",
              "      <th>오늘을</th>\n",
              "      <th>살아라</th>\n",
              "    </tr>\n",
              "  </thead>\n",
              "  <tbody>\n",
              "    <tr>\n",
              "      <th>0</th>\n",
              "      <td>0</td>\n",
              "      <td>1</td>\n",
              "      <td>0</td>\n",
              "      <td>0</td>\n",
              "      <td>0</td>\n",
              "      <td>0</td>\n",
              "      <td>0</td>\n",
              "      <td>0</td>\n",
              "      <td>0</td>\n",
              "      <td>0</td>\n",
              "    </tr>\n",
              "    <tr>\n",
              "      <th>1</th>\n",
              "      <td>0</td>\n",
              "      <td>0</td>\n",
              "      <td>1</td>\n",
              "      <td>0</td>\n",
              "      <td>0</td>\n",
              "      <td>0</td>\n",
              "      <td>0</td>\n",
              "      <td>0</td>\n",
              "      <td>0</td>\n",
              "      <td>0</td>\n",
              "    </tr>\n",
              "    <tr>\n",
              "      <th>2</th>\n",
              "      <td>1</td>\n",
              "      <td>0</td>\n",
              "      <td>0</td>\n",
              "      <td>0</td>\n",
              "      <td>0</td>\n",
              "      <td>0</td>\n",
              "      <td>0</td>\n",
              "      <td>0</td>\n",
              "      <td>0</td>\n",
              "      <td>0</td>\n",
              "    </tr>\n",
              "    <tr>\n",
              "      <th>3</th>\n",
              "      <td>0</td>\n",
              "      <td>0</td>\n",
              "      <td>0</td>\n",
              "      <td>1</td>\n",
              "      <td>0</td>\n",
              "      <td>0</td>\n",
              "      <td>0</td>\n",
              "      <td>0</td>\n",
              "      <td>0</td>\n",
              "      <td>0</td>\n",
              "    </tr>\n",
              "    <tr>\n",
              "      <th>4</th>\n",
              "      <td>0</td>\n",
              "      <td>0</td>\n",
              "      <td>0</td>\n",
              "      <td>0</td>\n",
              "      <td>1</td>\n",
              "      <td>0</td>\n",
              "      <td>0</td>\n",
              "      <td>0</td>\n",
              "      <td>0</td>\n",
              "      <td>0</td>\n",
              "    </tr>\n",
              "    <tr>\n",
              "      <th>5</th>\n",
              "      <td>0</td>\n",
              "      <td>0</td>\n",
              "      <td>0</td>\n",
              "      <td>0</td>\n",
              "      <td>0</td>\n",
              "      <td>1</td>\n",
              "      <td>0</td>\n",
              "      <td>0</td>\n",
              "      <td>0</td>\n",
              "      <td>0</td>\n",
              "    </tr>\n",
              "    <tr>\n",
              "      <th>6</th>\n",
              "      <td>0</td>\n",
              "      <td>0</td>\n",
              "      <td>0</td>\n",
              "      <td>0</td>\n",
              "      <td>0</td>\n",
              "      <td>0</td>\n",
              "      <td>1</td>\n",
              "      <td>0</td>\n",
              "      <td>0</td>\n",
              "      <td>0</td>\n",
              "    </tr>\n",
              "    <tr>\n",
              "      <th>7</th>\n",
              "      <td>0</td>\n",
              "      <td>0</td>\n",
              "      <td>0</td>\n",
              "      <td>0</td>\n",
              "      <td>0</td>\n",
              "      <td>0</td>\n",
              "      <td>0</td>\n",
              "      <td>1</td>\n",
              "      <td>0</td>\n",
              "      <td>0</td>\n",
              "    </tr>\n",
              "    <tr>\n",
              "      <th>8</th>\n",
              "      <td>1</td>\n",
              "      <td>0</td>\n",
              "      <td>0</td>\n",
              "      <td>0</td>\n",
              "      <td>0</td>\n",
              "      <td>0</td>\n",
              "      <td>0</td>\n",
              "      <td>0</td>\n",
              "      <td>0</td>\n",
              "      <td>0</td>\n",
              "    </tr>\n",
              "    <tr>\n",
              "      <th>9</th>\n",
              "      <td>0</td>\n",
              "      <td>0</td>\n",
              "      <td>0</td>\n",
              "      <td>0</td>\n",
              "      <td>0</td>\n",
              "      <td>0</td>\n",
              "      <td>0</td>\n",
              "      <td>0</td>\n",
              "      <td>1</td>\n",
              "      <td>0</td>\n",
              "    </tr>\n",
              "    <tr>\n",
              "      <th>10</th>\n",
              "      <td>0</td>\n",
              "      <td>0</td>\n",
              "      <td>0</td>\n",
              "      <td>0</td>\n",
              "      <td>0</td>\n",
              "      <td>0</td>\n",
              "      <td>0</td>\n",
              "      <td>0</td>\n",
              "      <td>0</td>\n",
              "      <td>1</td>\n",
              "    </tr>\n",
              "  </tbody>\n",
              "</table>\n",
              "</div>"
            ],
            "text/plain": [
              "    것처럼  평생  살  꿈을  꾸어라  그리고  내일  죽을  오늘을  살아라\n",
              "0     0   1  0   0    0    0   0   0    0    0\n",
              "1     0   0  1   0    0    0   0   0    0    0\n",
              "2     1   0  0   0    0    0   0   0    0    0\n",
              "3     0   0  0   1    0    0   0   0    0    0\n",
              "4     0   0  0   0    1    0   0   0    0    0\n",
              "5     0   0  0   0    0    1   0   0    0    0\n",
              "6     0   0  0   0    0    0   1   0    0    0\n",
              "7     0   0  0   0    0    0   0   1    0    0\n",
              "8     1   0  0   0    0    0   0   0    0    0\n",
              "9     0   0  0   0    0    0   0   0    1    0\n",
              "10    0   0  0   0    0    0   0   0    0    1"
            ]
          },
          "metadata": {
            "tags": []
          },
          "execution_count": 70
        }
      ]
    },
    {
      "cell_type": "markdown",
      "metadata": {
        "id": "7iQM7H5_wrK9"
      },
      "source": [
        "### keras를 이용한 원-핫 인코딩\n",
        "- `keras`에서는 정수 인코딩을 원-핫 인코딩으로 간단하게 변환해주는 `to_categorical` 메소드를 제공한다."
      ]
    },
    {
      "cell_type": "code",
      "metadata": {
        "colab": {
          "base_uri": "https://localhost:8080/"
        },
        "id": "QBSyHImZvIvN",
        "outputId": "51493a29-a7e8-43d3-a5c6-73f866a844a3"
      },
      "source": [
        "from tensorflow.keras.utils import to_categorical\n",
        "\n",
        "one_hot = to_categorical(encoded)\n",
        "one_hot"
      ],
      "execution_count": 71,
      "outputs": [
        {
          "output_type": "execute_result",
          "data": {
            "text/plain": [
              "array([[0., 0., 1., 0., 0., 0., 0., 0., 0., 0., 0.],\n",
              "       [0., 0., 0., 1., 0., 0., 0., 0., 0., 0., 0.],\n",
              "       [0., 1., 0., 0., 0., 0., 0., 0., 0., 0., 0.],\n",
              "       [0., 0., 0., 0., 1., 0., 0., 0., 0., 0., 0.],\n",
              "       [0., 0., 0., 0., 0., 1., 0., 0., 0., 0., 0.],\n",
              "       [0., 0., 0., 0., 0., 0., 1., 0., 0., 0., 0.],\n",
              "       [0., 0., 0., 0., 0., 0., 0., 1., 0., 0., 0.],\n",
              "       [0., 0., 0., 0., 0., 0., 0., 0., 1., 0., 0.],\n",
              "       [0., 1., 0., 0., 0., 0., 0., 0., 0., 0., 0.],\n",
              "       [0., 0., 0., 0., 0., 0., 0., 0., 0., 1., 0.],\n",
              "       [0., 0., 0., 0., 0., 0., 0., 0., 0., 0., 1.]], dtype=float32)"
            ]
          },
          "metadata": {
            "tags": []
          },
          "execution_count": 71
        }
      ]
    },
    {
      "cell_type": "markdown",
      "metadata": {
        "id": "ue2xGTsXxoT1"
      },
      "source": [
        "### IMDB 데이터\n",
        "- 영화 데이터베이스\n",
        "- 양근단의 리뷰 5만개로 이루어진 데이터셋\n",
        "  - 훈련 데이터셋: 25,000개\n",
        "  - 테스트데이터: 25,000개"
      ]
    },
    {
      "cell_type": "code",
      "metadata": {
        "id": "eEMbTi9ZxHDr"
      },
      "source": [
        "from tensorflow.keras.datasets import imdb\n",
        "from tensorflow.keras.models import Sequential\n",
        "from tensorflow.keras.layers import Embedding, Dense, Flatten"
      ],
      "execution_count": 72,
      "outputs": []
    },
    {
      "cell_type": "code",
      "metadata": {
        "colab": {
          "base_uri": "https://localhost:8080/"
        },
        "id": "ih04yUhKycjH",
        "outputId": "ae212fc2-aae0-4d3b-d73e-d77d67da23ef"
      },
      "source": [
        "num_words = 1000\n",
        "max_len = 100\n",
        "\n",
        "(x_train, y_train), (x_test, y_test) = imdb.load_data(num_words=num_words)"
      ],
      "execution_count": 73,
      "outputs": [
        {
          "output_type": "stream",
          "text": [
            "<string>:6: VisibleDeprecationWarning: Creating an ndarray from ragged nested sequences (which is a list-or-tuple of lists-or-tuples-or ndarrays with different lengths or shapes) is deprecated. If you meant to do this, you must specify 'dtype=object' when creating the ndarray\n",
            "/usr/local/lib/python3.7/dist-packages/tensorflow/python/keras/datasets/imdb.py:155: VisibleDeprecationWarning: Creating an ndarray from ragged nested sequences (which is a list-or-tuple of lists-or-tuples-or ndarrays with different lengths or shapes) is deprecated. If you meant to do this, you must specify 'dtype=object' when creating the ndarray\n",
            "  x_train, y_train = np.array(xs[:idx]), np.array(labels[:idx])\n",
            "/usr/local/lib/python3.7/dist-packages/tensorflow/python/keras/datasets/imdb.py:156: VisibleDeprecationWarning: Creating an ndarray from ragged nested sequences (which is a list-or-tuple of lists-or-tuples-or ndarrays with different lengths or shapes) is deprecated. If you meant to do this, you must specify 'dtype=object' when creating the ndarray\n",
            "  x_test, y_test = np.array(xs[idx:]), np.array(labels[idx:])\n"
          ],
          "name": "stderr"
        }
      ]
    },
    {
      "cell_type": "code",
      "metadata": {
        "colab": {
          "base_uri": "https://localhost:8080/"
        },
        "id": "LiHXKCRsytIl",
        "outputId": "3c96ac12-59fc-4cd5-d17c-92a8f7f10e20"
      },
      "source": [
        "print(x_train.shape, y_train.shape)\n",
        "print(x_test.shape, y_test.shape)"
      ],
      "execution_count": 74,
      "outputs": [
        {
          "output_type": "stream",
          "text": [
            "(25000,) (25000,)\n",
            "(25000,) (25000,)\n"
          ],
          "name": "stdout"
        }
      ]
    },
    {
      "cell_type": "markdown",
      "metadata": {
        "id": "90BRb22Dy8-U"
      },
      "source": [
        "- 긍정: 1\n",
        "- 부정: 0"
      ]
    },
    {
      "cell_type": "code",
      "metadata": {
        "colab": {
          "base_uri": "https://localhost:8080/"
        },
        "id": "tuY7VXqYy2bX",
        "outputId": "f602b208-b418-4c72-f30c-68c710ce27d1"
      },
      "source": [
        "print(x_train[0])\n",
        "print(y_train[0])"
      ],
      "execution_count": 75,
      "outputs": [
        {
          "output_type": "stream",
          "text": [
            "[1, 14, 22, 16, 43, 530, 973, 2, 2, 65, 458, 2, 66, 2, 4, 173, 36, 256, 5, 25, 100, 43, 838, 112, 50, 670, 2, 9, 35, 480, 284, 5, 150, 4, 172, 112, 167, 2, 336, 385, 39, 4, 172, 2, 2, 17, 546, 38, 13, 447, 4, 192, 50, 16, 6, 147, 2, 19, 14, 22, 4, 2, 2, 469, 4, 22, 71, 87, 12, 16, 43, 530, 38, 76, 15, 13, 2, 4, 22, 17, 515, 17, 12, 16, 626, 18, 2, 5, 62, 386, 12, 8, 316, 8, 106, 5, 4, 2, 2, 16, 480, 66, 2, 33, 4, 130, 12, 16, 38, 619, 5, 25, 124, 51, 36, 135, 48, 25, 2, 33, 6, 22, 12, 215, 28, 77, 52, 5, 14, 407, 16, 82, 2, 8, 4, 107, 117, 2, 15, 256, 4, 2, 7, 2, 5, 723, 36, 71, 43, 530, 476, 26, 400, 317, 46, 7, 4, 2, 2, 13, 104, 88, 4, 381, 15, 297, 98, 32, 2, 56, 26, 141, 6, 194, 2, 18, 4, 226, 22, 21, 134, 476, 26, 480, 5, 144, 30, 2, 18, 51, 36, 28, 224, 92, 25, 104, 4, 226, 65, 16, 38, 2, 88, 12, 16, 283, 5, 16, 2, 113, 103, 32, 15, 16, 2, 19, 178, 32]\n",
            "1\n"
          ],
          "name": "stdout"
        }
      ]
    },
    {
      "cell_type": "code",
      "metadata": {
        "id": "EQzjnpMN0IUe"
      },
      "source": [
        "word_index = imdb.get_word_index()\n",
        "inverted_word_index = dict((i, word) for (word, i) in word_index.items())\n",
        "decoded_sequence = \" \".join(inverted_word_index[i] for i in x_train[0])"
      ],
      "execution_count": 76,
      "outputs": []
    },
    {
      "cell_type": "code",
      "metadata": {
        "colab": {
          "base_uri": "https://localhost:8080/"
        },
        "id": "JIxDZAoVy5ap",
        "outputId": "e292d75f-9a53-4357-b15f-d0bf9b10da12"
      },
      "source": [
        "for i in range(10):\n",
        "    if y_train[i] == 0:\n",
        "        label = '부정'\n",
        "    else:\n",
        "        label = '긍정'\n",
        "\n",
        "    decoded_sequence = \" \".join(inverted_word_index[i] for i in x_train[i])\n",
        "    print(\"{}\\n{}\".format(decoded_sequence, label))"
      ],
      "execution_count": 77,
      "outputs": [
        {
          "output_type": "stream",
          "text": [
            "the as you with out themselves powerful and and their becomes and had and of lot from anyone to have after out atmosphere never more room and it so heart shows to years of every never going and help moments or of every and and movie except her was several of enough more with is now and film as you of and and unfortunately of you than him that with out themselves her get for was and of you movie sometimes movie that with scary but and to story wonderful that in seeing in character to of and and with heart had and they of here that with her serious to have does when from why what have and they is you that isn't one will very to as itself with other and in of seen over and for anyone of and br and to whether from than out themselves history he name half some br of and and was two most of mean for 1 any an and she he should is thought and but of script you not while history he heart to real at and but when from one bit then have two of script their with her and most that with wasn't to with and acting watch an for with and film want an\n",
            "긍정\n",
            "the thought and thought and do making to is and and and while he of jack in where and as getting on was did hands fact characters to always life and not as me can't in at are br of sure your way of little it and and to view of love it so and of guy it used and of where it of here and film of and to don't all unique some like of direction it if out her and and keep of and he and to makes this and and of and it thought begins br and and budget and though ok and and for ever better were and and for budget look and any to of making it out and and for effects show to show cast this family us scenes more it and making and to and finds tv and to of and these thing wants but and an and and as it is video do you david see and it in few those are of and for with of and to one is very work dark they don't do dvd with those them\n",
            "부정\n",
            "the as there in at by br of sure many br of and no only women was than doesn't as you never of and night that with and they bad out and plays of how star so stories film comes and and of and they don't do that had with of hollywood br of my seeing fan this of and out body shots in having because and it's and and first were and for from look and sense from me and die in character as and and but is you that isn't one song just is him less are and not are you that different just even by this of you there is and when it part are film's love film's and was big also light don't and as it in character looked cinematography so stories is far br man acting\n",
            "부정\n",
            "the of and and they and of and went plot actors watch of and was well these can this only and ten so and feels only and killer and of bill br and would find of films saw and about and it for br so ten and by in of songs are of and and is and it's her or know would care i i br screen that obvious plot actors new would with and not have attempt lead or of too would local that of every their it coming this and of and to and br and movie was and that film is under by left this and is entertainment ok this in own be house of and and in and my i i obviously and things just as lost lot br comes never like thing start of obviously comes indeed coming want no bad than history from lost comes and young to movie bad and dream from reason these and movie and it's movie so fi and enough to and and film and almost and and obviously and and to appears i i only human it and just only and to be and new made comes and and high in want to other and of their for and those i'm and that and obviously message obviously obviously for and of and brother br and make and and and this and of blood br and worst and it and this across as it when lines that make excellent and that there is and fantasy to and and film good br of and and and have into your whatever i i and and and be and this and and new be home all and film and lot br made and in at this of and how and in and some this and not all it and are of and and re is and and and i i worst more it is and and message made all and in does of nor of nor side be and and obviously know end and here to all tries in does of nor side of home br be indeed i i all it and in could is performance and and in of and br by br and its and and well of nor at coming it's it that an this obviously i i this as their has obviously bad and and and and and of and br work to of run up and and br and nor this early her bad having and film and movie all care of their br be right acting i i and of and and it away of its and and to and version you br and your way just and was can't and and film of and br and obviously are up obviously not other just and was and as true was least of and certainly lady poorly of setting and and br and to make just have 2 which and of and dialog and br of and say in can is you for it wasn't in and as by it away plenty what have reason and are that and that's have 2 which sister and of important br and to of took work 20 br similar more he good and for hit at coming not see and\n",
            "긍정\n",
            "the sure and br only acting i i was and as on she they and but already most was and and if and was well also good 8 older was with enjoy used enjoy and too i'm of you an job br only women than and to was with these and sure little sure guy sure on was one your life was children in particularly only yes she sort is and but so stories them final known to have does such most that supposed and very moving and only yes this was and for and on this of and to plays that and to for supposed still been last fan always your bit that strong said and and br and to car masterpiece out in also show for film's was tale have and but look part i'm film as to and is script hard br only acting\n",
            "부정\n",
            "the effort still been that usually makes for of and and and and an because before if just though something know novel female i i and lot of above and with and in of script their that out end his and i i\n",
            "부정\n",
            "the and full and to and boring this as and and br and and and need has of and b message to may of and this and and and and and to and he is and and movie women like isn't and i'm and to and in and for from did having because very quality it is and and really book is both too worked and of and br of and and figure really there will and things is far this make and and was couldn't of few br of you to don't female than place she to was between that nothing and movies get are and br yes female just its because many br of and to and people time very and\n",
            "긍정\n",
            "the of and local of their br of attention and and and and and and and and and and and and and of and english and like it years of and and this and of and learn everyone is quite and it and such it and film of too seems he of enough for be and editing and and please great this of and thing 3 and it's and and and given and and back out interesting times no all average talking some of nor seems into best at of every cast i i and keep and and viewer who and and and and movie of and and you've see because you and and her anything it of and and hard and and that's takes as with by br of and in minute and they of and watch seemed and it's lee if oh this and film around get an of and always life was between of and with group rate and film's was although of and had death time and of anyway romantic their and in and only and it's and only cut show if and is star stay movies both and stay and of music of tell and they of here really me we and some and music as had thought and and she in sorry and is and 10 this of and and if average and in at is over worse film is and it for had absolutely in and want it for had absolutely in and want it for had back for it absolutely in one want shots has that movie of here write and it is and set got worse of where and once for of and after saw she film of rest little and camera if best way elements know of and also an were sense or in realistic actually and he's score br any himself in another type english this is and was tom for and get it's such from fantastic will and new years of guy game in and this us hard lives film and fact that out end is getting together br and of seen in of and for and and it meet it's and is had do you for was rather and in why last very has i i throughout never keep viewer who of and and and and music even interest scene music is far br voice and is again something br decent and she this is and not director have against people they line cinematography film is and br and and is and of you it and hero he's if can't is time husband silly and result music and sequences it's and music is and and and and not of and it along are of and and music his get scene but of fact and i i means this and this and as there for disappointed along wrong few has that if his weird way not girl and of love who so and in we down it director in situation line has was big why was your supposed last but especially i i of and and of and and br never give theme rest or really that best and release in for so and and their even interest is and once and like have then own is and has have one is you for off his and we they an\n",
            "부정\n",
            "the out can't some to hit looking when is themselves novel as it and people have and some br is on dull this should and to and and characters one lost her show and for of and br and back video excellent to plenty and involved and and off as in we no that how moments some to as on it early in we years was nothing does is 10 has as new part first that to when is possibly what have whatever of and have 2 also of slow for as it by br though and characters has so heart and and film show of try making to looks in one want and and br when is him their that it christmas not them his and want this and as it his for on of great stupid of their as end should is very together br and us writer br were and go bad and were young to might us father film any more it her get predictable of and for find dvd from through i'm her get up and and of and with other is him and has and and to what's of and this so and too not as you it get up br is others their was out least that hilarious not was into through to why for as it by br of where and was one your life\n",
            "긍정\n",
            "the as on there plot she's and film that for find that saw better just is along wrong silly and or play this you doing was one in own that and are make and old plot gets unfortunately of on was although except and and that with her do they gets for that with and really way that is played character i i what poor set but is along and and on film is and br and fact to is and br and and them and is and br and and good women show to one good played i i was and film because avoid for of totally it time do period it couple in and in viewers get br of my to of material it yet br out more\n",
            "부정\n"
          ],
          "name": "stdout"
        }
      ]
    },
    {
      "cell_type": "markdown",
      "metadata": {
        "id": "vMGlsP2_z5wU"
      },
      "source": [
        "### 데이터 전처리\n",
        "- 모든 데이터를 같은 길이로 맞추기\n",
        "  - `pad_sequence()`\n",
        "    - 데이터가 maxlen보다 길면 데이터를 자름\n",
        "    - 데이터가 길면 padding 설정\n",
        "      - `pre`: 데이터 앞에 0으로 채움\n",
        "      - `post`: 데이터 뒤에 0으로 채움\n",
        "- 모든 데이터(문장 하나하나)가 같은 길이로 맞추어야 `Embedding`레이어를 사용할 수 있음"
      ]
    },
    {
      "cell_type": "code",
      "metadata": {
        "id": "KjYPJuPCzukb"
      },
      "source": [
        "from tensorflow.keras.preprocessing.sequence import pad_sequences\n",
        "\n",
        "pad_x_train = pad_sequences(x_train, maxlen=max_len, padding='pre')\n",
        "pad_x_test = pad_sequences(x_test, maxlen=max_len, padding='pre')"
      ],
      "execution_count": 78,
      "outputs": []
    },
    {
      "cell_type": "code",
      "metadata": {
        "colab": {
          "base_uri": "https://localhost:8080/"
        },
        "id": "JOHZz8YT1m7V",
        "outputId": "b6d6673c-ca64-47a0-c38a-90c5ff4e0f5c"
      },
      "source": [
        "print(len(x_train[0]))\n",
        "print(len(pad_x_train[0]))"
      ],
      "execution_count": 79,
      "outputs": [
        {
          "output_type": "stream",
          "text": [
            "218\n",
            "100\n"
          ],
          "name": "stdout"
        }
      ]
    },
    {
      "cell_type": "code",
      "metadata": {
        "colab": {
          "base_uri": "https://localhost:8080/"
        },
        "id": "sKtKVrkS1u1_",
        "outputId": "49fc99c2-5406-41c4-8af5-fd9845ff9409"
      },
      "source": [
        "print(x_train[0])\n",
        "print(pad_x_train[0])"
      ],
      "execution_count": 80,
      "outputs": [
        {
          "output_type": "stream",
          "text": [
            "[1, 14, 22, 16, 43, 530, 973, 2, 2, 65, 458, 2, 66, 2, 4, 173, 36, 256, 5, 25, 100, 43, 838, 112, 50, 670, 2, 9, 35, 480, 284, 5, 150, 4, 172, 112, 167, 2, 336, 385, 39, 4, 172, 2, 2, 17, 546, 38, 13, 447, 4, 192, 50, 16, 6, 147, 2, 19, 14, 22, 4, 2, 2, 469, 4, 22, 71, 87, 12, 16, 43, 530, 38, 76, 15, 13, 2, 4, 22, 17, 515, 17, 12, 16, 626, 18, 2, 5, 62, 386, 12, 8, 316, 8, 106, 5, 4, 2, 2, 16, 480, 66, 2, 33, 4, 130, 12, 16, 38, 619, 5, 25, 124, 51, 36, 135, 48, 25, 2, 33, 6, 22, 12, 215, 28, 77, 52, 5, 14, 407, 16, 82, 2, 8, 4, 107, 117, 2, 15, 256, 4, 2, 7, 2, 5, 723, 36, 71, 43, 530, 476, 26, 400, 317, 46, 7, 4, 2, 2, 13, 104, 88, 4, 381, 15, 297, 98, 32, 2, 56, 26, 141, 6, 194, 2, 18, 4, 226, 22, 21, 134, 476, 26, 480, 5, 144, 30, 2, 18, 51, 36, 28, 224, 92, 25, 104, 4, 226, 65, 16, 38, 2, 88, 12, 16, 283, 5, 16, 2, 113, 103, 32, 15, 16, 2, 19, 178, 32]\n",
            "[  2  33   6  22  12 215  28  77  52   5  14 407  16  82   2   8   4 107\n",
            " 117   2  15 256   4   2   7   2   5 723  36  71  43 530 476  26 400 317\n",
            "  46   7   4   2   2  13 104  88   4 381  15 297  98  32   2  56  26 141\n",
            "   6 194   2  18   4 226  22  21 134 476  26 480   5 144  30   2  18  51\n",
            "  36  28 224  92  25 104   4 226  65  16  38   2  88  12  16 283   5  16\n",
            "   2 113 103  32  15  16   2  19 178  32]\n"
          ],
          "name": "stdout"
        }
      ]
    },
    {
      "cell_type": "markdown",
      "metadata": {
        "id": "yKTr6ToP170z"
      },
      "source": [
        "### 모델 구성"
      ]
    },
    {
      "cell_type": "code",
      "metadata": {
        "colab": {
          "base_uri": "https://localhost:8080/"
        },
        "id": "-_Xx1K_z16ks",
        "outputId": "ddc4ab20-b3a9-4692-eef1-663ea97c2455"
      },
      "source": [
        "model = Sequential()\n",
        "\n",
        "model.add(Embedding(input_dim=num_words, output_dim=32, input_length=max_len))\n",
        "model.add(Flatten())\n",
        "model.add(Dense(1, activation='sigmoid'))\n",
        "\n",
        "model.summary()"
      ],
      "execution_count": 81,
      "outputs": [
        {
          "output_type": "stream",
          "text": [
            "Model: \"sequential_2\"\n",
            "_________________________________________________________________\n",
            "Layer (type)                 Output Shape              Param #   \n",
            "=================================================================\n",
            "embedding_2 (Embedding)      (None, 100, 32)           32000     \n",
            "_________________________________________________________________\n",
            "flatten_2 (Flatten)          (None, 3200)              0         \n",
            "_________________________________________________________________\n",
            "dense_2 (Dense)              (None, 1)                 3201      \n",
            "=================================================================\n",
            "Total params: 35,201\n",
            "Trainable params: 35,201\n",
            "Non-trainable params: 0\n",
            "_________________________________________________________________\n"
          ],
          "name": "stdout"
        }
      ]
    },
    {
      "cell_type": "markdown",
      "metadata": {
        "id": "YPuaWPeR2R9Y"
      },
      "source": [
        "### 모델 컴파일 및 학습"
      ]
    },
    {
      "cell_type": "code",
      "metadata": {
        "id": "7yXKBZpV2Nt2"
      },
      "source": [
        "model.compile(optimizer='rmsprop', loss='binary_crossentropy', metrics='accuracy')"
      ],
      "execution_count": 82,
      "outputs": []
    },
    {
      "cell_type": "code",
      "metadata": {
        "colab": {
          "base_uri": "https://localhost:8080/"
        },
        "id": "ElzhhtSj2gZh",
        "outputId": "53cd1a93-ded4-4c57-f15f-06d2c5253536"
      },
      "source": [
        "history = model.fit(pad_x_train, y_train, epochs=10, batch_size=32, validation_split=0.2)"
      ],
      "execution_count": 83,
      "outputs": [
        {
          "output_type": "stream",
          "text": [
            "Epoch 1/10\n",
            "625/625 [==============================] - 2s 2ms/step - loss: 0.5669 - accuracy: 0.7078 - val_loss: 0.4288 - val_accuracy: 0.8042\n",
            "Epoch 2/10\n",
            "625/625 [==============================] - 1s 2ms/step - loss: 0.3739 - accuracy: 0.8327 - val_loss: 0.4088 - val_accuracy: 0.8126\n",
            "Epoch 3/10\n",
            "625/625 [==============================] - 1s 2ms/step - loss: 0.3359 - accuracy: 0.8553 - val_loss: 0.3831 - val_accuracy: 0.8276\n",
            "Epoch 4/10\n",
            "625/625 [==============================] - 1s 2ms/step - loss: 0.3080 - accuracy: 0.8704 - val_loss: 0.3911 - val_accuracy: 0.8230\n",
            "Epoch 5/10\n",
            "625/625 [==============================] - 1s 2ms/step - loss: 0.2783 - accuracy: 0.8866 - val_loss: 0.3990 - val_accuracy: 0.8228\n",
            "Epoch 6/10\n",
            "625/625 [==============================] - 1s 2ms/step - loss: 0.2454 - accuracy: 0.9042 - val_loss: 0.4156 - val_accuracy: 0.8136\n",
            "Epoch 7/10\n",
            "625/625 [==============================] - 1s 2ms/step - loss: 0.2122 - accuracy: 0.9247 - val_loss: 0.4313 - val_accuracy: 0.8086\n",
            "Epoch 8/10\n",
            "625/625 [==============================] - 1s 2ms/step - loss: 0.1799 - accuracy: 0.9398 - val_loss: 0.4579 - val_accuracy: 0.8044\n",
            "Epoch 9/10\n",
            "625/625 [==============================] - 1s 2ms/step - loss: 0.1493 - accuracy: 0.9538 - val_loss: 0.4834 - val_accuracy: 0.8004\n",
            "Epoch 10/10\n",
            "625/625 [==============================] - 1s 2ms/step - loss: 0.1222 - accuracy: 0.9670 - val_loss: 0.5173 - val_accuracy: 0.7968\n"
          ],
          "name": "stdout"
        }
      ]
    },
    {
      "cell_type": "markdown",
      "metadata": {
        "id": "idOIT5jn2uXZ"
      },
      "source": [
        "### 시각화"
      ]
    },
    {
      "cell_type": "code",
      "metadata": {
        "id": "t5PGRce12oJg"
      },
      "source": [
        "import matplotlib.pyplot as plt\n",
        "plt.style.use('seaborn-white')"
      ],
      "execution_count": 84,
      "outputs": []
    },
    {
      "cell_type": "code",
      "metadata": {
        "colab": {
          "base_uri": "https://localhost:8080/"
        },
        "id": "RUhpZDbu20pM",
        "outputId": "1d45c7df-8554-49a8-91fa-ded476ddb04c"
      },
      "source": [
        "hist_dict = history.history\n",
        "hist_dict.keys()"
      ],
      "execution_count": 85,
      "outputs": [
        {
          "output_type": "execute_result",
          "data": {
            "text/plain": [
              "dict_keys(['loss', 'accuracy', 'val_loss', 'val_accuracy'])"
            ]
          },
          "metadata": {
            "tags": []
          },
          "execution_count": 85
        }
      ]
    },
    {
      "cell_type": "code",
      "metadata": {
        "colab": {
          "base_uri": "https://localhost:8080/",
          "height": 507
        },
        "id": "-ZxR6-tR23-k",
        "outputId": "dba92d1a-3bb8-426d-95ba-4b67beb9d5aa"
      },
      "source": [
        "plt.plot(hist_dict['loss'], 'b-', label='Train Loss')\n",
        "plt.plot(hist_dict['val_loss'], 'r:', label='Validation Loss')\n",
        "plt.legend()\n",
        "plt.grid()\n",
        "\n",
        "plt.figure()\n",
        "plt.plot(hist_dict['accuracy'], 'b-', label='Train Accuracy')\n",
        "plt.plot(hist_dict['val_accuracy'], 'r:', label='Validation Accuracy')\n",
        "plt.legend()\n",
        "plt.grid()\n",
        "\n",
        "plt.show()"
      ],
      "execution_count": 86,
      "outputs": [
        {
          "output_type": "display_data",
          "data": {
            "image/png": "[encoded data removed]",
            "text/plain": [
              "<Figure size 432x288 with 1 Axes>"
            ]
          },
          "metadata": {
            "tags": []
          }
        },
        {
          "output_type": "display_data",
          "data": {
            "image/png": "[encoded data removed]",
            "text/plain": [
              "<Figure size 432x288 with 1 Axes>"
            ]
          },
          "metadata": {
            "tags": []
          }
        }
      ]
    },
    {
      "cell_type": "markdown",
      "metadata": {
        "id": "dElTybym3h5a"
      },
      "source": [
        "### 모델 평가"
      ]
    },
    {
      "cell_type": "code",
      "metadata": {
        "colab": {
          "base_uri": "https://localhost:8080/"
        },
        "id": "uyuuN8ka3XHv",
        "outputId": "d535e99a-7895-412c-f8e1-dbf7c8045767"
      },
      "source": [
        "model.evaluate(pad_x_test, y_test)"
      ],
      "execution_count": 87,
      "outputs": [
        {
          "output_type": "stream",
          "text": [
            "782/782 [==============================] - 1s 1ms/step - loss: 0.4882 - accuracy: 0.8055\n"
          ],
          "name": "stdout"
        },
        {
          "output_type": "execute_result",
          "data": {
            "text/plain": [
              "[0.48816266655921936, 0.8054800033569336]"
            ]
          },
          "metadata": {
            "tags": []
          },
          "execution_count": 87
        }
      ]
    },
    {
      "cell_type": "markdown",
      "metadata": {
        "id": "nMBXOZcQ3o1h"
      },
      "source": [
        "### 단어의 수를 늘린 후 재학습"
      ]
    },
    {
      "cell_type": "code",
      "metadata": {
        "colab": {
          "base_uri": "https://localhost:8080/"
        },
        "id": "qLnSpcs83mK2",
        "outputId": "da785f8e-e1d3-4254-a01d-d42853277065"
      },
      "source": [
        "num_words=2000\n",
        "max_len=400\n",
        "\n",
        "(x_train, y_train), (x_test, y_test) = imdb.load_data(num_words=num_words)\n",
        "\n",
        "pad_x_train = pad_sequences(x_train, maxlen=max_len, padding='pre')\n",
        "pad_x_test = pad_sequences(x_test, maxlen=max_len, padding='pre')"
      ],
      "execution_count": 88,
      "outputs": [
        {
          "output_type": "stream",
          "text": [
            "<string>:6: VisibleDeprecationWarning: Creating an ndarray from ragged nested sequences (which is a list-or-tuple of lists-or-tuples-or ndarrays with different lengths or shapes) is deprecated. If you meant to do this, you must specify 'dtype=object' when creating the ndarray\n",
            "/usr/local/lib/python3.7/dist-packages/tensorflow/python/keras/datasets/imdb.py:155: VisibleDeprecationWarning: Creating an ndarray from ragged nested sequences (which is a list-or-tuple of lists-or-tuples-or ndarrays with different lengths or shapes) is deprecated. If you meant to do this, you must specify 'dtype=object' when creating the ndarray\n",
            "  x_train, y_train = np.array(xs[:idx]), np.array(labels[:idx])\n",
            "/usr/local/lib/python3.7/dist-packages/tensorflow/python/keras/datasets/imdb.py:156: VisibleDeprecationWarning: Creating an ndarray from ragged nested sequences (which is a list-or-tuple of lists-or-tuples-or ndarrays with different lengths or shapes) is deprecated. If you meant to do this, you must specify 'dtype=object' when creating the ndarray\n",
            "  x_test, y_test = np.array(xs[idx:]), np.array(labels[idx:])\n"
          ],
          "name": "stderr"
        }
      ]
    },
    {
      "cell_type": "markdown",
      "metadata": {
        "id": "JByeFz8Z30zD"
      },
      "source": [
        "### 데이터 확인"
      ]
    },
    {
      "cell_type": "code",
      "metadata": {
        "id": "uHu37Ej_30Ef"
      },
      "source": [
        "# print(x_train[0])\n",
        "# print(pad_x_train[0])"
      ],
      "execution_count": 89,
      "outputs": []
    },
    {
      "cell_type": "code",
      "metadata": {
        "colab": {
          "base_uri": "https://localhost:8080/"
        },
        "id": "GY5zgHL34VZF",
        "outputId": "a6b3a688-8a8a-42a0-e51f-f2159df93aa4"
      },
      "source": [
        "model = Sequential()\n",
        "\n",
        "model.add(Embedding(input_dim=num_words, output_dim=32, input_length=max_len))\n",
        "model.add(Flatten())\n",
        "model.add(Dense(1, activation='sigmoid'))\n",
        "\n",
        "model.summary()"
      ],
      "execution_count": 90,
      "outputs": [
        {
          "output_type": "stream",
          "text": [
            "Model: \"sequential_3\"\n",
            "_________________________________________________________________\n",
            "Layer (type)                 Output Shape              Param #   \n",
            "=================================================================\n",
            "embedding_3 (Embedding)      (None, 400, 32)           64000     \n",
            "_________________________________________________________________\n",
            "flatten_3 (Flatten)          (None, 12800)             0         \n",
            "_________________________________________________________________\n",
            "dense_3 (Dense)              (None, 1)                 12801     \n",
            "=================================================================\n",
            "Total params: 76,801\n",
            "Trainable params: 76,801\n",
            "Non-trainable params: 0\n",
            "_________________________________________________________________\n"
          ],
          "name": "stdout"
        }
      ]
    },
    {
      "cell_type": "code",
      "metadata": {
        "id": "XiE8MvBJ4k8h"
      },
      "source": [
        "model.compile(optimizer='rmsprop', loss='binary_crossentropy', metrics='accuracy')"
      ],
      "execution_count": 91,
      "outputs": []
    },
    {
      "cell_type": "code",
      "metadata": {
        "colab": {
          "base_uri": "https://localhost:8080/"
        },
        "id": "79nBn6Ff4k8h",
        "outputId": "d728f85e-5253-45b7-fb63-ba3dfd3f7006"
      },
      "source": [
        "history = model.fit(pad_x_train, y_train, epochs=10, batch_size=32, validation_split=0.2)"
      ],
      "execution_count": 92,
      "outputs": [
        {
          "output_type": "stream",
          "text": [
            "Epoch 1/10\n",
            "625/625 [==============================] - 3s 4ms/step - loss: 0.4993 - accuracy: 0.7509 - val_loss: 0.3298 - val_accuracy: 0.8676\n",
            "Epoch 2/10\n",
            "625/625 [==============================] - 2s 4ms/step - loss: 0.2798 - accuracy: 0.8859 - val_loss: 0.2972 - val_accuracy: 0.8802\n",
            "Epoch 3/10\n",
            "625/625 [==============================] - 2s 4ms/step - loss: 0.2301 - accuracy: 0.9082 - val_loss: 0.3146 - val_accuracy: 0.8792\n",
            "Epoch 4/10\n",
            "625/625 [==============================] - 2s 4ms/step - loss: 0.1868 - accuracy: 0.9298 - val_loss: 0.3135 - val_accuracy: 0.8762\n",
            "Epoch 5/10\n",
            "625/625 [==============================] - 2s 4ms/step - loss: 0.1464 - accuracy: 0.9496 - val_loss: 0.3362 - val_accuracy: 0.8696\n",
            "Epoch 6/10\n",
            "625/625 [==============================] - 2s 4ms/step - loss: 0.1092 - accuracy: 0.9660 - val_loss: 0.3473 - val_accuracy: 0.8714\n",
            "Epoch 7/10\n",
            "625/625 [==============================] - 2s 4ms/step - loss: 0.0782 - accuracy: 0.9783 - val_loss: 0.3742 - val_accuracy: 0.8680\n",
            "Epoch 8/10\n",
            "625/625 [==============================] - 2s 4ms/step - loss: 0.0542 - accuracy: 0.9870 - val_loss: 0.4127 - val_accuracy: 0.8604\n",
            "Epoch 9/10\n",
            "625/625 [==============================] - 2s 3ms/step - loss: 0.0355 - accuracy: 0.9922 - val_loss: 0.4443 - val_accuracy: 0.8614\n",
            "Epoch 10/10\n",
            "625/625 [==============================] - 2s 4ms/step - loss: 0.0222 - accuracy: 0.9959 - val_loss: 0.4894 - val_accuracy: 0.8578\n"
          ],
          "name": "stdout"
        }
      ]
    },
    {
      "cell_type": "code",
      "metadata": {
        "colab": {
          "base_uri": "https://localhost:8080/"
        },
        "id": "gGGXkg-k48ex",
        "outputId": "7498e940-8c03-449b-96e3-ecea1a901f6d"
      },
      "source": [
        "hist_dict = history.history\n",
        "hist_dict.keys()"
      ],
      "execution_count": 93,
      "outputs": [
        {
          "output_type": "execute_result",
          "data": {
            "text/plain": [
              "dict_keys(['loss', 'accuracy', 'val_loss', 'val_accuracy'])"
            ]
          },
          "metadata": {
            "tags": []
          },
          "execution_count": 93
        }
      ]
    },
    {
      "cell_type": "code",
      "metadata": {
        "colab": {
          "base_uri": "https://localhost:8080/",
          "height": 507
        },
        "id": "0oHB2O4n48ey",
        "outputId": "13bdea2f-72af-4f61-9c59-5759e1993b43"
      },
      "source": [
        "plt.plot(hist_dict['loss'], 'b-', label='Train Loss')\n",
        "plt.plot(hist_dict['val_loss'], 'r:', label='Validation Loss')\n",
        "plt.legend()\n",
        "plt.grid()\n",
        "\n",
        "plt.figure()\n",
        "plt.plot(hist_dict['accuracy'], 'b-', label='Train Accuracy')\n",
        "plt.plot(hist_dict['val_accuracy'], 'r:', label='Validation Accuracy')\n",
        "plt.legend()\n",
        "plt.grid()\n",
        "\n",
        "plt.show()"
      ],
      "execution_count": 94,
      "outputs": [
        {
          "output_type": "display_data",
          "data": {
            "image/png": "[encoded data removed]",
            "text/plain": [
              "<Figure size 432x288 with 1 Axes>"
            ]
          },
          "metadata": {
            "tags": []
          }
        },
        {
          "output_type": "display_data",
          "data": {
            "image/png": "[encoded data removed]",
            "text/plain": [
              "<Figure size 432x288 with 1 Axes>"
            ]
          },
          "metadata": {
            "tags": []
          }
        }
      ]
    },
    {
      "cell_type": "code",
      "metadata": {
        "colab": {
          "base_uri": "https://localhost:8080/"
        },
        "id": "YPpc_DW_5HrE",
        "outputId": "256fb2d2-b16d-4d6b-c645-8544a29a491f"
      },
      "source": [
        "model.evaluate(pad_x_test, y_test)"
      ],
      "execution_count": 95,
      "outputs": [
        {
          "output_type": "stream",
          "text": [
            "782/782 [==============================] - 1s 2ms/step - loss: 0.4950 - accuracy: 0.8490\n"
          ],
          "name": "stdout"
        },
        {
          "output_type": "execute_result",
          "data": {
            "text/plain": [
              "[0.49499812722206116, 0.8490399718284607]"
            ]
          },
          "metadata": {
            "tags": []
          },
          "execution_count": 95
        }
      ]
    },
    {
      "cell_type": "markdown",
      "metadata": {
        "id": "Jp61_ZTU5N2h"
      },
      "source": [
        "- 위 결과도 나쁘지 않으나 과적합이 되는 이유\n",
        "  - 단어간 관계나 문장 구조 등 의미적 연결을 고려하지 않음\n",
        "  - 시퀀스 전체를 고려한 특성을 학습하는것은 `Embedding`층 위에 `RNN`층이나 `1D 합성곱`을 추가하는 것이 좋다."
      ]
    },
    {
      "cell_type": "markdown",
      "metadata": {
        "id": "b5xJ37Ka6x4a"
      },
      "source": [
        "### Word2Vec\n",
        "- 2013년, `Mikolov`와 동료들이 제안한 모형이다.\n",
        "- 분류등과 같이 별도의 레이블이 없이 텍스트 자체만 있어도 학습이 가능\n",
        "- Word2Vec의 방식\n",
        "  - 주변 단어의 관례를 이용\n",
        "    - CBOW (Continuous bag-of-words)\n",
        "      - 주변 단어의 임베딩을 더해서 대상 단어를 예측\n",
        "    - Skip-Gram\n",
        "      - 대상 단어의 임베딩으로 주변 단어를 예측\n",
        "      - 일반적으로 CBOW보다 성능이 좋은 편\n",
        "      - 한번에 여러 단어를 예측해야하기 때문에 비효율적이나 최근에는 **Negative sampling**이라는 방법으로 개선\n",
        "\n",
        "<img src=\"https://www.researchgate.net/publication/328160770/figure/fig14/AS:679665089925122@1539056193562/CBOW-and-Skip-Gram-neural-architectures.ppm\">\n",
        "\n",
        "  <sub>출처: https://www.researchgate.net/figure/CBOW-and-Skip-Gram-neural-architectures_fig14_328160770</sub>"
      ]
    },
    {
      "cell_type": "code",
      "metadata": {
        "colab": {
          "base_uri": "https://localhost:8080/",
          "height": 120
        },
        "id": "nQz3VmW-xBU3",
        "outputId": "14ea51c7-88d6-4bf8-9945-5f7e0d7badf2"
      },
      "source": [
        "from sklearn.datasets import fetch_20newsgroups\n",
        "\n",
        "dataset = fetch_20newsgroups(shuffle=True, random_state=1, remove=('headers', 'footers', 'quotes'))\n",
        "documents = dataset.data\n",
        "\n",
        "print(len(documents))\n",
        "documents[2]"
      ],
      "execution_count": 96,
      "outputs": [
        {
          "output_type": "stream",
          "text": [
            "11314\n"
          ],
          "name": "stdout"
        },
        {
          "output_type": "execute_result",
          "data": {
            "application/vnd.google.colaboratory.intrinsic+json": {
              "type": "string"
            },
            "text/plain": [
              "\"Although I realize that principle is not one of your strongest\\npoints, I would still like to know why do do not ask any question\\nof this sort about the Arab countries.\\n\\n   If you want to continue this think tank charade of yours, your\\nfixation on Israel must stop.  You might have to start asking the\\nsame sort of questions of Arab countries as well.  You realize it\\nwould not work, as the Arab countries' treatment of Jews over the\\nlast several decades is so bad that your fixation on Israel would\\nbegin to look like the biased attack that it is.\\n\\n   Everyone in this group recognizes that your stupid 'Center for\\nPolicy Research' is nothing more than a fancy name for some bigot\\nwho hates Israel.\""
            ]
          },
          "metadata": {
            "tags": []
          },
          "execution_count": 96
        }
      ]
    },
    {
      "cell_type": "code",
      "metadata": {
        "colab": {
          "base_uri": "https://localhost:8080/"
        },
        "id": "n-v1Coc8xbbp",
        "outputId": "f2d22c51-625e-4c5c-ec4a-e90d0ef7be39"
      },
      "source": [
        "import re\n",
        "import nltk\n",
        "from nltk.corpus import stopwords\n",
        "from nltk.tokenize import word_tokenize\n",
        "\n",
        "nltk.download('stopwords')\n",
        "nltk.download('punkt')\n",
        "\n",
        "def clean_text(d):\n",
        "    pattern = r'[^a-zA-Z\\s]'\n",
        "    text = re.sub(pattern, '', d)\n",
        "    return d\n",
        "\n",
        "def clean_stopword(d):\n",
        "    stop_words = stopwords.words('english')\n",
        "    return ' '.join([w.lower() for w in d.split() if w not in stop_words and len(w) > 3])\n",
        "\n",
        "def tokenize(d):\n",
        "    return word_tokenize(d)"
      ],
      "execution_count": 97,
      "outputs": [
        {
          "output_type": "stream",
          "text": [
            "[nltk_data] Downloading package stopwords to /root/nltk_data...\n",
            "[nltk_data]   Package stopwords is already up-to-date!\n",
            "[nltk_data] Downloading package punkt to /root/nltk_data...\n",
            "[nltk_data]   Package punkt is already up-to-date!\n"
          ],
          "name": "stdout"
        }
      ]
    },
    {
      "cell_type": "code",
      "metadata": {
        "colab": {
          "base_uri": "https://localhost:8080/"
        },
        "id": "OkPCRORIyEMv",
        "outputId": "a91236d4-ef09-414c-ab03-1b924fc748f5"
      },
      "source": [
        "import pandas as pd\n",
        "\n",
        "news_df = pd.DataFrame({'article': documents})\n",
        "len(news_df)"
      ],
      "execution_count": 98,
      "outputs": [
        {
          "output_type": "execute_result",
          "data": {
            "text/plain": [
              "11314"
            ]
          },
          "metadata": {
            "tags": []
          },
          "execution_count": 98
        }
      ]
    },
    {
      "cell_type": "code",
      "metadata": {
        "colab": {
          "base_uri": "https://localhost:8080/"
        },
        "id": "REYY0RNKyMcc",
        "outputId": "ecd54cb2-1834-4531-ce00-65b94f2de9f2"
      },
      "source": [
        "news_df.replace(\"\", float(\"NaN\"), inplace=True)\n",
        "news_df.dropna(inplace=True)\n",
        "len(news_df)"
      ],
      "execution_count": 99,
      "outputs": [
        {
          "output_type": "execute_result",
          "data": {
            "text/plain": [
              "11096"
            ]
          },
          "metadata": {
            "tags": []
          },
          "execution_count": 99
        }
      ]
    },
    {
      "cell_type": "code",
      "metadata": {
        "id": "Q7nb0TtnyZ3v"
      },
      "source": [
        "news_df['article'] = news_df['article'].apply(clean_text)"
      ],
      "execution_count": 100,
      "outputs": []
    },
    {
      "cell_type": "code",
      "metadata": {
        "id": "pYmZTjfxyl9a"
      },
      "source": [
        "news_df['article'] = news_df['article'].apply(clean_stopword)"
      ],
      "execution_count": 101,
      "outputs": []
    },
    {
      "cell_type": "code",
      "metadata": {
        "id": "yt1evqI9yqWz"
      },
      "source": [
        "tokenized_news = news_df['article'].apply(tokenize)\n",
        "tokenized_news = tokenized_news.to_list()"
      ],
      "execution_count": 102,
      "outputs": []
    },
    {
      "cell_type": "code",
      "metadata": {
        "colab": {
          "base_uri": "https://localhost:8080/"
        },
        "id": "PaPLeYwJyyDs",
        "outputId": "eb718935-6616-41af-ed83-ee1854ef4503"
      },
      "source": [
        "import numpy as np\n",
        "\n",
        "drop_news = [index for index, sentence in enumerate(tokenized_news) if len(sentence) <= 1]\n",
        "news_texts = np.delete(tokenized_news, drop_news, axis=0)\n",
        "print(len(news_texts))"
      ],
      "execution_count": 103,
      "outputs": [
        {
          "output_type": "stream",
          "text": [
            "10991\n"
          ],
          "name": "stdout"
        },
        {
          "output_type": "stream",
          "text": [
            "/usr/local/lib/python3.7/dist-packages/numpy/core/_asarray.py:83: VisibleDeprecationWarning: Creating an ndarray from ragged nested sequences (which is a list-or-tuple of lists-or-tuples-or ndarrays with different lengths or shapes) is deprecated. If you meant to do this, you must specify 'dtype=object' when creating the ndarray\n",
            "  return array(a, dtype, copy=False, order=order)\n"
          ],
          "name": "stderr"
        }
      ]
    },
    {
      "cell_type": "markdown",
      "metadata": {
        "id": "6eBXYb740qZ0"
      },
      "source": [
        "- CBOW"
      ]
    },
    {
      "cell_type": "code",
      "metadata": {
        "id": "dP0wLVK3zHGK"
      },
      "source": [
        "from gensim.models import Word2Vec\n",
        "\n",
        "# CBOW - sg(skip gram)값을 0으로 설정\n",
        "model = Word2Vec(sentences=news_texts, window=3, size=100, min_count=5, workers=4, sg=0)"
      ],
      "execution_count": 104,
      "outputs": []
    },
    {
      "cell_type": "code",
      "metadata": {
        "colab": {
          "base_uri": "https://localhost:8080/"
        },
        "id": "034f0UlezYjG",
        "outputId": "9804f355-fd16-479c-8073-da06fcc2dc70"
      },
      "source": [
        "model.wv.similarity('man', 'woman')"
      ],
      "execution_count": 105,
      "outputs": [
        {
          "output_type": "execute_result",
          "data": {
            "text/plain": [
              "0.8589254"
            ]
          },
          "metadata": {
            "tags": []
          },
          "execution_count": 105
        }
      ]
    },
    {
      "cell_type": "code",
      "metadata": {
        "colab": {
          "base_uri": "https://localhost:8080/"
        },
        "id": "d3IdLpVRzf0Z",
        "outputId": "0b9a4d85-f695-402f-9f6b-db72ea612c0b"
      },
      "source": [
        "model.most_similar(positive=['soldiers'])"
      ],
      "execution_count": 106,
      "outputs": [
        {
          "output_type": "stream",
          "text": [
            "/usr/local/lib/python3.7/dist-packages/ipykernel_launcher.py:1: DeprecationWarning: Call to deprecated `most_similar` (Method will be removed in 4.0.0, use self.wv.most_similar() instead).\n",
            "  \"\"\"Entry point for launching an IPython kernel.\n"
          ],
          "name": "stderr"
        },
        {
          "output_type": "execute_result",
          "data": {
            "text/plain": [
              "[('turks', 0.9678522944450378),\n",
              " ('land', 0.9676439762115479),\n",
              " ('genocide', 0.9653445482254028),\n",
              " ('killed', 0.9605569839477539),\n",
              " ('villages', 0.9593665599822998),\n",
              " ('began', 0.9547222256660461),\n",
              " ('troops', 0.9509955644607544),\n",
              " ('murdered', 0.9440058469772339),\n",
              " ('civilians', 0.9438657760620117),\n",
              " ('arabs', 0.9430141448974609)]"
            ]
          },
          "metadata": {
            "tags": []
          },
          "execution_count": 106
        }
      ]
    },
    {
      "cell_type": "code",
      "metadata": {
        "colab": {
          "base_uri": "https://localhost:8080/"
        },
        "id": "rntZbgDqz2LU",
        "outputId": "c9456908-2eb7-47ba-f687-e38e797fabcc"
      },
      "source": [
        "model.most_similar(positive=['man', 'soldiers'], negative=['woman'])"
      ],
      "execution_count": 107,
      "outputs": [
        {
          "output_type": "stream",
          "text": [
            "/usr/local/lib/python3.7/dist-packages/ipykernel_launcher.py:1: DeprecationWarning: Call to deprecated `most_similar` (Method will be removed in 4.0.0, use self.wv.most_similar() instead).\n",
            "  \"\"\"Entry point for launching an IPython kernel.\n"
          ],
          "name": "stderr"
        },
        {
          "output_type": "execute_result",
          "data": {
            "text/plain": [
              "[('war', 0.9359641671180725),\n",
              " ('attack', 0.9351508021354675),\n",
              " ('men', 0.925081729888916),\n",
              " ('murders', 0.9052090644836426),\n",
              " ('jew', 0.9032260775566101),\n",
              " ('jerusalem', 0.9027950763702393),\n",
              " ('bosnia', 0.8991117477416992),\n",
              " ('dignity', 0.8968210816383362),\n",
              " ('promised', 0.8966580629348755),\n",
              " ('friendship', 0.8940413594245911)]"
            ]
          },
          "metadata": {
            "tags": []
          },
          "execution_count": 107
        }
      ]
    },
    {
      "cell_type": "markdown",
      "metadata": {
        "id": "-XN0oWNx0tM7"
      },
      "source": [
        "- Skip gram"
      ]
    },
    {
      "cell_type": "code",
      "metadata": {
        "id": "FB2bMVC90KJo"
      },
      "source": [
        "from gensim.models import Word2Vec\n",
        "\n",
        "# Skip gram\n",
        "model = Word2Vec(sentences=news_texts, window=3, size=100, min_count=5, workers=4, sg=1)"
      ],
      "execution_count": 108,
      "outputs": []
    },
    {
      "cell_type": "code",
      "metadata": {
        "colab": {
          "base_uri": "https://localhost:8080/"
        },
        "id": "yzZtmqQ80V6K",
        "outputId": "f5eeea61-03a3-4e3c-c749-73e20e6c0fc0"
      },
      "source": [
        "model.wv.similarity('man', 'woman')"
      ],
      "execution_count": 109,
      "outputs": [
        {
          "output_type": "execute_result",
          "data": {
            "text/plain": [
              "0.83293617"
            ]
          },
          "metadata": {
            "tags": []
          },
          "execution_count": 109
        }
      ]
    },
    {
      "cell_type": "code",
      "metadata": {
        "colab": {
          "base_uri": "https://localhost:8080/"
        },
        "id": "GsPge9Tc0V6L",
        "outputId": "d2184fc4-3d9e-4013-9f1b-6f176d42d619"
      },
      "source": [
        "model.most_similar(positive=['soldiers'])"
      ],
      "execution_count": 110,
      "outputs": [
        {
          "output_type": "stream",
          "text": [
            "/usr/local/lib/python3.7/dist-packages/ipykernel_launcher.py:1: DeprecationWarning: Call to deprecated `most_similar` (Method will be removed in 4.0.0, use self.wv.most_similar() instead).\n",
            "  \"\"\"Entry point for launching an IPython kernel.\n"
          ],
          "name": "stderr"
        },
        {
          "output_type": "execute_result",
          "data": {
            "text/plain": [
              "[('wounded', 0.9207339286804199),\n",
              " ('villages', 0.9182985424995422),\n",
              " ('troops', 0.9119439125061035),\n",
              " ('turks', 0.9112537503242493),\n",
              " ('azerbaijanis', 0.904045820236206),\n",
              " ('greeks', 0.9020031690597534),\n",
              " ('kurds', 0.9009740948677063),\n",
              " ('azeri', 0.9008885025978088),\n",
              " ('murdered', 0.8978092074394226),\n",
              " ('attacked', 0.8954031467437744)]"
            ]
          },
          "metadata": {
            "tags": []
          },
          "execution_count": 110
        }
      ]
    },
    {
      "cell_type": "code",
      "metadata": {
        "colab": {
          "base_uri": "https://localhost:8080/"
        },
        "id": "TZsNQbuO0V6M",
        "outputId": "a20a2d7a-1599-4321-b202-ef72b995a1a3"
      },
      "source": [
        "model.most_similar(positive=['man', 'soldiers'], negative=['woman'])"
      ],
      "execution_count": 111,
      "outputs": [
        {
          "output_type": "stream",
          "text": [
            "/usr/local/lib/python3.7/dist-packages/ipykernel_launcher.py:1: DeprecationWarning: Call to deprecated `most_similar` (Method will be removed in 4.0.0, use self.wv.most_similar() instead).\n",
            "  \"\"\"Entry point for launching an IPython kernel.\n"
          ],
          "name": "stderr"
        },
        {
          "output_type": "execute_result",
          "data": {
            "text/plain": [
              "[('murders', 0.8464395999908447),\n",
              " ('murder', 0.8389997482299805),\n",
              " ('babies', 0.8375294208526611),\n",
              " ('israelis', 0.8312669992446899),\n",
              " ('fighters', 0.8248286843299866),\n",
              " ('jew', 0.8233842849731445),\n",
              " ('greeks', 0.8196418285369873),\n",
              " ('wars', 0.8187225461006165),\n",
              " ('rape', 0.8137237429618835),\n",
              " ('alike', 0.8123501539230347)]"
            ]
          },
          "metadata": {
            "tags": []
          },
          "execution_count": 111
        }
      ]
    },
    {
      "cell_type": "markdown",
      "metadata": {
        "id": "M-mClbph0pVb"
      },
      "source": [
        "- 시각화"
      ]
    },
    {
      "cell_type": "code",
      "metadata": {
        "id": "HNUvsfzC0jDE"
      },
      "source": [
        "from gensim.models import KeyedVectors\n",
        "\n",
        "model.wv.save_word2vec_format('news_w2v')"
      ],
      "execution_count": 112,
      "outputs": []
    },
    {
      "cell_type": "markdown",
      "metadata": {
        "id": "7WqqWm5U09YG"
      },
      "source": [
        "- metadata.tsv와 tensor.tsv 데이터 생성"
      ]
    },
    {
      "cell_type": "code",
      "metadata": {
        "colab": {
          "base_uri": "https://localhost:8080/"
        },
        "id": "E0a0D_LP08nJ",
        "outputId": "4e9ee0c6-d849-44a6-beeb-24249a9928c8"
      },
      "source": [
        "!python -m gensim.scripts.word2vec2tensor -i news_w2v -o news_w2v"
      ],
      "execution_count": 113,
      "outputs": [
        {
          "output_type": "stream",
          "text": [
            "2021-08-13 14:42:12,154 - word2vec2tensor - INFO - running /usr/local/lib/python3.7/dist-packages/gensim/scripts/word2vec2tensor.py -i news_w2v -o news_w2v\n",
            "2021-08-13 14:42:12,155 - utils_any2vec - INFO - loading projection weights from news_w2v\n",
            "2021-08-13 14:42:14,419 - utils_any2vec - INFO - loaded (22174, 100) matrix from news_w2v\n",
            "2021-08-13 14:42:16,303 - word2vec2tensor - INFO - 2D tensor file saved to news_w2v_tensor.tsv\n",
            "2021-08-13 14:42:16,303 - word2vec2tensor - INFO - Tensor metadata file saved to news_w2v_metadata.tsv\n",
            "2021-08-13 14:42:16,306 - word2vec2tensor - INFO - finished running word2vec2tensor.py\n"
          ],
          "name": "stdout"
        }
      ]
    },
    {
      "cell_type": "code",
      "metadata": {
        "colab": {
          "base_uri": "https://localhost:8080/"
        },
        "id": "Ydc8mRRZ1Lhj",
        "outputId": "3c5a405a-47d0-4356-cdf6-b9fe36f171f6"
      },
      "source": [
        "!ls"
      ],
      "execution_count": 114,
      "outputs": [
        {
          "output_type": "stream",
          "text": [
            "news_w2v  news_w2v_metadata.tsv  news_w2v_tensor.tsv  sample_data\n"
          ],
          "name": "stdout"
        }
      ]
    },
    {
      "cell_type": "code",
      "metadata": {
        "colab": {
          "base_uri": "https://localhost:8080/",
          "height": 17
        },
        "id": "IW4DuDFK1QBn",
        "outputId": "99452606-7bb1-478f-d941-a616c4dab2db"
      },
      "source": [
        "from google.colab import files\n",
        "\n",
        "files.download('news_w2v_metadata.tsv')\n",
        "files.download('news_w2v_tensor.tsv')"
      ],
      "execution_count": 115,
      "outputs": [
        {
          "output_type": "display_data",
          "data": {
            "application/javascript": [
              "\n",
              "    async function download(id, filename, size) {\n",
              "      if (!google.colab.kernel.accessAllowed) {\n",
              "        return;\n",
              "      }\n",
              "      const div = document.createElement('div');\n",
              "      const label = document.createElement('label');\n",
              "      label.textContent = `Downloading \"${filename}\": `;\n",
              "      div.appendChild(label);\n",
              "      const progress = document.createElement('progress');\n",
              "      progress.max = size;\n",
              "      div.appendChild(progress);\n",
              "      document.body.appendChild(div);\n",
              "\n",
              "      const buffers = [];\n",
              "      let downloaded = 0;\n",
              "\n",
              "      const channel = await google.colab.kernel.comms.open(id);\n",
              "      // Send a message to notify the kernel that we're ready.\n",
              "      channel.send({})\n",
              "\n",
              "      for await (const message of channel.messages) {\n",
              "        // Send a message to notify the kernel that we're ready.\n",
              "        channel.send({})\n",
              "        if (message.buffers) {\n",
              "          for (const buffer of message.buffers) {\n",
              "            buffers.push(buffer);\n",
              "            downloaded += buffer.byteLength;\n",
              "            progress.value = downloaded;\n",
              "          }\n",
              "        }\n",
              "      }\n",
              "      const blob = new Blob(buffers, {type: 'application/binary'});\n",
              "      const a = document.createElement('a');\n",
              "      a.href = window.URL.createObjectURL(blob);\n",
              "      a.download = filename;\n",
              "      div.appendChild(a);\n",
              "      a.click();\n",
              "      div.remove();\n",
              "    }\n",
              "  "
            ],
            "text/plain": [
              "<IPython.core.display.Javascript object>"
            ]
          },
          "metadata": {
            "tags": []
          }
        },
        {
          "output_type": "display_data",
          "data": {
            "application/javascript": [
              "download(\"download_8e92f98a-5415-41ae-9a1e-4094dad60223\", \"news_w2v_metadata.tsv\", 172160)"
            ],
            "text/plain": [
              "<IPython.core.display.Javascript object>"
            ]
          },
          "metadata": {
            "tags": []
          }
        },
        {
          "output_type": "display_data",
          "data": {
            "application/javascript": [
              "\n",
              "    async function download(id, filename, size) {\n",
              "      if (!google.colab.kernel.accessAllowed) {\n",
              "        return;\n",
              "      }\n",
              "      const div = document.createElement('div');\n",
              "      const label = document.createElement('label');\n",
              "      label.textContent = `Downloading \"${filename}\": `;\n",
              "      div.appendChild(label);\n",
              "      const progress = document.createElement('progress');\n",
              "      progress.max = size;\n",
              "      div.appendChild(progress);\n",
              "      document.body.appendChild(div);\n",
              "\n",
              "      const buffers = [];\n",
              "      let downloaded = 0;\n",
              "\n",
              "      const channel = await google.colab.kernel.comms.open(id);\n",
              "      // Send a message to notify the kernel that we're ready.\n",
              "      channel.send({})\n",
              "\n",
              "      for await (const message of channel.messages) {\n",
              "        // Send a message to notify the kernel that we're ready.\n",
              "        channel.send({})\n",
              "        if (message.buffers) {\n",
              "          for (const buffer of message.buffers) {\n",
              "            buffers.push(buffer);\n",
              "            downloaded += buffer.byteLength;\n",
              "            progress.value = downloaded;\n",
              "          }\n",
              "        }\n",
              "      }\n",
              "      const blob = new Blob(buffers, {type: 'application/binary'});\n",
              "      const a = document.createElement('a');\n",
              "      a.href = window.URL.createObjectURL(blob);\n",
              "      a.download = filename;\n",
              "      div.appendChild(a);\n",
              "      a.click();\n",
              "      div.remove();\n",
              "    }\n",
              "  "
            ],
            "text/plain": [
              "<IPython.core.display.Javascript object>"
            ]
          },
          "metadata": {
            "tags": []
          }
        },
        {
          "output_type": "display_data",
          "data": {
            "application/javascript": [
              "download(\"download_7785e6b5-ce6f-44b8-9270-127ebd604053\", \"news_w2v_tensor.tsv\", 25937994)"
            ],
            "text/plain": [
              "<IPython.core.display.Javascript object>"
            ]
          },
          "metadata": {
            "tags": []
          }
        }
      ]
    },
    {
      "cell_type": "markdown",
      "metadata": {
        "id": "dZsxkzVy1pQy"
      },
      "source": [
        "- Embedding Projector: https://projector.tensorflow.org/"
      ]
    },
    {
      "cell_type": "markdown",
      "metadata": {
        "id": "EYeSuY6oYCRc"
      },
      "source": [
        "### T-SNE\n",
        "- T-SNE(t-Stochastic Neighbor Embedding)은 고차원의 벡터들의 구조를 보존하며 저차원으로 사상하는 차원 축소 알고리즘이다.\n",
        "- 단어 임베딩에서도 생성된 고차원 벡터들을 시각화하기 위해 T-SNE 알고리즘을 많이 이용한다.\n",
        "- T-SNE는 가장 먼저 원 공간의 데이터 유사도 $P_{ij}$와 임베딩 공간의 데이터 유사도 $q_{ij}$를 정의한다.\n",
        "- $x_{i}$에서 $x_{j}$간의 유사도 $P_{j|i}$는 다음과 같이 정의할 수 있다.\n",
        "$$ p_{j|i} = \\frac {exp({-|x_i - x_j|}^2 / 2  \\sigma^2_i)}{\\sum_{k \\neq i}exp({-|x_i - x_k|}^2 / 2  \\sigma^2_i)} $$\n",
        "- $p_{j|i}$는 $x_i$와 $x_j$ 간의 거리에서 가중치 $\\sigma^2_i$로 나눈 후, 이를 **Negative exponential**을 취해 모든 점 간의 거리의 합과 나누어준 값으로 두 점 간의 거리가 가까울 수록 큰 값을 가진다.\n",
        "\n",
        "- 또한 임베딩 공간에서의 $y_i$에서 $y_j$ 간의 유사도 $q_{j|i}$ 는 다음과 같이 정의할 수 있다.\n",
        "\n",
        "$$ q_{j|i} = \\frac {(1 + |y_i-y_j|^2)^{-1}}{\\sum_{k \\neq l}(1 + |y_i-y_j|^2)^{-1}} $$\n",
        "\n",
        "- $q_{j|i}$는 $x_i$와 $x_j$ 간의 거리에서 1을 더해준 후 역수를 취한 값과 전체 합산 값과 나누어 유사도를 정의한다.\n",
        "\n",
        "- T-SNE의 학습은 $p_{j|i}$와 비슷해지도록 $q_{j|i}$의 위치를 조정하는 것이라고 할 수 있다."
      ]
    }
  ]
}