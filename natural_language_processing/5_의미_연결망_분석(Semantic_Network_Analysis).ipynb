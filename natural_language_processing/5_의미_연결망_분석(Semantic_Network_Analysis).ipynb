{
  "nbformat": 4,
  "nbformat_minor": 0,
  "metadata": {
    "colab": {
      "name": "5. 의미 연결망 분석(Semantic Network Analysis).ipynb",
      "provenance": [],
      "authorship_tag": "ABX9TyNhgYxUWvKLxRvIFlrNvTkL",
      "include_colab_link": true
    },
    "kernelspec": {
      "name": "python3",
      "display_name": "Python 3"
    },
    "language_info": {
      "name": "python"
    }
  },
  "cells": [
    {
      "cell_type": "markdown",
      "metadata": {
        "id": "view-in-github",
        "colab_type": "text"
      },
      "source": [
        "<a href=\"https://colab.research.google.com/github/KimYongHwi/machine-learning-study/blob/main/natural_language_processing/5_%EC%9D%98%EB%AF%B8_%EC%97%B0%EA%B2%B0%EB%A7%9D_%EB%B6%84%EC%84%9D(Semantic_Network_Analysis).ipynb\" target=\"_parent\"><img src=\"https://colab.research.google.com/assets/colab-badge.svg\" alt=\"Open In Colab\"/></a>"
      ]
    },
    {
      "cell_type": "markdown",
      "metadata": {
        "id": "01swmKSAuE-k"
      },
      "source": [
        "### 의미 연결망 분석(Semantic Network Analysis)\n",
        "- 사회 연결망 분석(Social Network Analysis)는 분석 대상 및 분석 대상들간의 관계를 연결망 구조로 표현하고 이를 계량적으로 제시하는 분석 기법\n",
        "- 사회 연결망 분석은 사람, 장소, 물품 등의 객체 간의 관계를 분석하는데 효과적이며 주로 친구 관계, 전력 공급 등을 분석하는데 사용\n",
        "- 사회 연결망 분석 기법을 텍스트 내 단어의 관계에 적용한 것이 바로 의미 연결망 분석\n",
        "- 의미 연경망 분석에서는 일정한 범위 내에서 어휘가 동시에 등장하면 서로 연결된 것으로 간주하고 이 연결 관계들을 분석한다."
      ]
    },
    {
      "cell_type": "markdown",
      "metadata": {
        "id": "0xAitgyHu4d1"
      },
      "source": [
        "### n-gram\n",
        "- `nltk`라이브러리는 편하게 n-gram을 생성할 수 있는 함수를 제공\n",
        "- 많이 사용되는 `bigrams`의 경우에는 별도의 함수를 제공하니 해당 내용을 참조하여 n-gram 생성"
      ]
    },
    {
      "cell_type": "code",
      "metadata": {
        "id": "dQIvILOcjFwb",
        "colab": {
          "base_uri": "https://localhost:8080/"
        },
        "outputId": "a74a093e-4563-44e7-b181-38d56ff5c70a"
      },
      "source": [
        "import nltk\n",
        "nltk.download('punkt')"
      ],
      "execution_count": 1,
      "outputs": [
        {
          "output_type": "stream",
          "text": [
            "[nltk_data] Downloading package punkt to /root/nltk_data...\n",
            "[nltk_data]   Unzipping tokenizers/punkt.zip.\n"
          ],
          "name": "stdout"
        },
        {
          "output_type": "execute_result",
          "data": {
            "text/plain": [
              "True"
            ]
          },
          "metadata": {
            "tags": []
          },
          "execution_count": 1
        }
      ]
    },
    {
      "cell_type": "code",
      "metadata": {
        "colab": {
          "base_uri": "https://localhost:8080/"
        },
        "id": "49jX-oRPvlGc",
        "outputId": "9c48d8e5-ed57-482b-cab4-f677183b6337"
      },
      "source": [
        "from nltk import word_tokenize, bigrams\n",
        "\n",
        "sentence = 'I lovae data science and deep learning'\n",
        "tokens = word_tokenize(sentence)\n",
        "\n",
        "bgram = bigrams(tokens)\n",
        "bgram_list = [x for x in bgram]\n",
        "print(bgram_list)"
      ],
      "execution_count": 2,
      "outputs": [
        {
          "output_type": "stream",
          "text": [
            "[('I', 'lovae'), ('lovae', 'data'), ('data', 'science'), ('science', 'and'), ('and', 'deep'), ('deep', 'learning')]\n"
          ],
          "name": "stdout"
        }
      ]
    },
    {
      "cell_type": "code",
      "metadata": {
        "colab": {
          "base_uri": "https://localhost:8080/"
        },
        "id": "6i-v6syHvq_y",
        "outputId": "370cc233-2c7a-491e-acbe-44797b9dc8d7"
      },
      "source": [
        "from nltk.util import ngrams\n",
        "\n",
        "tgram = ngrams(tokens, 3)\n",
        "qgram = ngrams(tokens, 4)\n",
        "\n",
        "tgram_list = [x for x in tgram]\n",
        "qgram_list = [x for x in qgram]\n",
        "\n",
        "print(tgram_list)\n",
        "print(qgram_list)"
      ],
      "execution_count": 3,
      "outputs": [
        {
          "output_type": "stream",
          "text": [
            "[('I', 'lovae', 'data'), ('lovae', 'data', 'science'), ('data', 'science', 'and'), ('science', 'and', 'deep'), ('and', 'deep', 'learning')]\n",
            "[('I', 'lovae', 'data', 'science'), ('lovae', 'data', 'science', 'and'), ('data', 'science', 'and', 'deep'), ('science', 'and', 'deep', 'learning')]\n"
          ],
          "name": "stdout"
        }
      ]
    },
    {
      "cell_type": "markdown",
      "metadata": {
        "id": "Vw0qVFocS54V"
      },
      "source": [
        "### 어휘 동시 출현 빈도의 계수화\n",
        "- 동시 출현(Co-occurrence)란 두 개 이상의 어휘가 일정한 범위나 거리 내에서 함께 출현하는 것을 의미\n",
        "- 단어간의 동시 출현 관계를 분석하면 문서나 문장으로부터 두 단어가 유사한 의미를 가졌는지 등의 추상화된 정보를 얻을 수 있다.\n",
        "- 동시 출현 빈도는 Window라는 지정 범위 내에서 동시 등장한 어휘를 활률 등으로 계수화 가능\n",
        "  - 예를 들어 단어 뒤 잘못된 단어가 온다면, 이를 동시 출현 빈도가 높은 단어로 교정\n",
        "- 어휘 동시 출현 빈도 행렬은 하나하나 측정할 수도 있지만, 바이그램 개수를 정리하면 편리하게 만들어 볼 수 있다.\n",
        "- `nltk`에서 제공하는 `ConditionalFreqDist` 메소드를 이용하면 문맥별 단어 빈도를 쉽게 측정 가능하다"
      ]
    },
    {
      "cell_type": "code",
      "metadata": {
        "colab": {
          "base_uri": "https://localhost:8080/"
        },
        "id": "3ubfVweqwPRM",
        "outputId": "e02b983b-e7e1-4a27-9ecc-5d195640f644"
      },
      "source": [
        "from nltk import ConditionalFreqDist\n",
        "\n",
        "sentences = ['I love data science and deep learning', 'I love science', 'I know this code']\n",
        "tokens = [word_tokenize(x) for x in sentences]\n",
        "bgrams = [bigrams(x) for x in tokens]\n",
        "\n",
        "token = []\n",
        "for i in bgrams:\n",
        "    token += ([x for x in i])\n",
        "\n",
        "cfd = ConditionalFreqDist(token)\n",
        "cfd.conditions()"
      ],
      "execution_count": 4,
      "outputs": [
        {
          "output_type": "execute_result",
          "data": {
            "text/plain": [
              "['I', 'love', 'data', 'science', 'and', 'deep', 'know', 'this']"
            ]
          },
          "metadata": {
            "tags": []
          },
          "execution_count": 4
        }
      ]
    },
    {
      "cell_type": "code",
      "metadata": {
        "colab": {
          "base_uri": "https://localhost:8080/"
        },
        "id": "1TSk5iDpUCY1",
        "outputId": "2713e965-f9b5-4f2d-f444-81c8813c3433"
      },
      "source": [
        "print(cfd['I'])"
      ],
      "execution_count": 5,
      "outputs": [
        {
          "output_type": "stream",
          "text": [
            "<FreqDist with 2 samples and 3 outcomes>\n"
          ],
          "name": "stdout"
        }
      ]
    },
    {
      "cell_type": "code",
      "metadata": {
        "colab": {
          "base_uri": "https://localhost:8080/"
        },
        "id": "4E7FMlmdUCca",
        "outputId": "401aa697-8d6a-4b42-b754-0a64a44ca885"
      },
      "source": [
        "# I와 Love가 동시 출현한 빈도\n",
        "print(cfd['I']['love'])"
      ],
      "execution_count": 6,
      "outputs": [
        {
          "output_type": "stream",
          "text": [
            "2\n"
          ],
          "name": "stdout"
        }
      ]
    },
    {
      "cell_type": "code",
      "metadata": {
        "colab": {
          "base_uri": "https://localhost:8080/"
        },
        "id": "NzzSC9LVUCgg",
        "outputId": "b59d4ba6-7684-43cd-807e-efa42bac752c"
      },
      "source": [
        "# I와 동시 출현 빈도가 높은 단어\n",
        "print(cfd['I'].most_common(1))"
      ],
      "execution_count": 7,
      "outputs": [
        {
          "output_type": "stream",
          "text": [
            "[('love', 2)]\n"
          ],
          "name": "stdout"
        }
      ]
    },
    {
      "cell_type": "code",
      "metadata": {
        "colab": {
          "base_uri": "https://localhost:8080/"
        },
        "id": "P9kuZv1GXfse",
        "outputId": "8619de4b-c751-48ad-9010-672dfc858f73"
      },
      "source": [
        "import numpy as np\n",
        "\n",
        "freq_matrix = []\n",
        "\n",
        "for i in cfd.keys():\n",
        "    temp = []\n",
        "    for j in cfd.keys():\n",
        "        temp.append(cfd[i][j])\n",
        "    freq_matrix.append(temp)\n",
        "\n",
        "freq_matrix = np.array(freq_matrix)\n",
        "print(cfd.keys())\n",
        "print(freq_matrix)"
      ],
      "execution_count": 8,
      "outputs": [
        {
          "output_type": "stream",
          "text": [
            "dict_keys(['I', 'love', 'data', 'science', 'and', 'deep', 'know', 'this'])\n",
            "[[0 2 0 0 0 0 1 0]\n",
            " [0 0 1 1 0 0 0 0]\n",
            " [0 0 0 1 0 0 0 0]\n",
            " [0 0 0 0 1 0 0 0]\n",
            " [0 0 0 0 0 1 0 0]\n",
            " [0 0 0 0 0 0 0 0]\n",
            " [0 0 0 0 0 0 0 1]\n",
            " [0 0 0 0 0 0 0 0]]\n"
          ],
          "name": "stdout"
        }
      ]
    },
    {
      "cell_type": "code",
      "metadata": {
        "colab": {
          "base_uri": "https://localhost:8080/",
          "height": 208
        },
        "id": "QPp_akPdX5mO",
        "outputId": "f06095a6-cf53-4de4-87d1-ccf02a47eeba"
      },
      "source": [
        "import pandas as pd\n",
        "\n",
        "df = pd.DataFrame(freq_matrix, index=cfd.keys(), columns=cfd.keys())\n",
        "df.style.background_gradient(cmap='coolwarm')"
      ],
      "execution_count": 9,
      "outputs": [
        {
          "output_type": "execute_result",
          "data": {
            "text/html": [
              "<style  type=\"text/css\" >\n",
              "#T_d942e98c_ea77_11eb_9582_0242ac1c0002row0_col0,#T_d942e98c_ea77_11eb_9582_0242ac1c0002row0_col2,#T_d942e98c_ea77_11eb_9582_0242ac1c0002row0_col3,#T_d942e98c_ea77_11eb_9582_0242ac1c0002row0_col4,#T_d942e98c_ea77_11eb_9582_0242ac1c0002row0_col5,#T_d942e98c_ea77_11eb_9582_0242ac1c0002row0_col7,#T_d942e98c_ea77_11eb_9582_0242ac1c0002row1_col0,#T_d942e98c_ea77_11eb_9582_0242ac1c0002row1_col1,#T_d942e98c_ea77_11eb_9582_0242ac1c0002row1_col4,#T_d942e98c_ea77_11eb_9582_0242ac1c0002row1_col5,#T_d942e98c_ea77_11eb_9582_0242ac1c0002row1_col6,#T_d942e98c_ea77_11eb_9582_0242ac1c0002row1_col7,#T_d942e98c_ea77_11eb_9582_0242ac1c0002row2_col0,#T_d942e98c_ea77_11eb_9582_0242ac1c0002row2_col1,#T_d942e98c_ea77_11eb_9582_0242ac1c0002row2_col2,#T_d942e98c_ea77_11eb_9582_0242ac1c0002row2_col4,#T_d942e98c_ea77_11eb_9582_0242ac1c0002row2_col5,#T_d942e98c_ea77_11eb_9582_0242ac1c0002row2_col6,#T_d942e98c_ea77_11eb_9582_0242ac1c0002row2_col7,#T_d942e98c_ea77_11eb_9582_0242ac1c0002row3_col0,#T_d942e98c_ea77_11eb_9582_0242ac1c0002row3_col1,#T_d942e98c_ea77_11eb_9582_0242ac1c0002row3_col2,#T_d942e98c_ea77_11eb_9582_0242ac1c0002row3_col3,#T_d942e98c_ea77_11eb_9582_0242ac1c0002row3_col5,#T_d942e98c_ea77_11eb_9582_0242ac1c0002row3_col6,#T_d942e98c_ea77_11eb_9582_0242ac1c0002row3_col7,#T_d942e98c_ea77_11eb_9582_0242ac1c0002row4_col0,#T_d942e98c_ea77_11eb_9582_0242ac1c0002row4_col1,#T_d942e98c_ea77_11eb_9582_0242ac1c0002row4_col2,#T_d942e98c_ea77_11eb_9582_0242ac1c0002row4_col3,#T_d942e98c_ea77_11eb_9582_0242ac1c0002row4_col4,#T_d942e98c_ea77_11eb_9582_0242ac1c0002row4_col6,#T_d942e98c_ea77_11eb_9582_0242ac1c0002row4_col7,#T_d942e98c_ea77_11eb_9582_0242ac1c0002row5_col0,#T_d942e98c_ea77_11eb_9582_0242ac1c0002row5_col1,#T_d942e98c_ea77_11eb_9582_0242ac1c0002row5_col2,#T_d942e98c_ea77_11eb_9582_0242ac1c0002row5_col3,#T_d942e98c_ea77_11eb_9582_0242ac1c0002row5_col4,#T_d942e98c_ea77_11eb_9582_0242ac1c0002row5_col5,#T_d942e98c_ea77_11eb_9582_0242ac1c0002row5_col6,#T_d942e98c_ea77_11eb_9582_0242ac1c0002row5_col7,#T_d942e98c_ea77_11eb_9582_0242ac1c0002row6_col0,#T_d942e98c_ea77_11eb_9582_0242ac1c0002row6_col1,#T_d942e98c_ea77_11eb_9582_0242ac1c0002row6_col2,#T_d942e98c_ea77_11eb_9582_0242ac1c0002row6_col3,#T_d942e98c_ea77_11eb_9582_0242ac1c0002row6_col4,#T_d942e98c_ea77_11eb_9582_0242ac1c0002row6_col5,#T_d942e98c_ea77_11eb_9582_0242ac1c0002row6_col6,#T_d942e98c_ea77_11eb_9582_0242ac1c0002row7_col0,#T_d942e98c_ea77_11eb_9582_0242ac1c0002row7_col1,#T_d942e98c_ea77_11eb_9582_0242ac1c0002row7_col2,#T_d942e98c_ea77_11eb_9582_0242ac1c0002row7_col3,#T_d942e98c_ea77_11eb_9582_0242ac1c0002row7_col4,#T_d942e98c_ea77_11eb_9582_0242ac1c0002row7_col5,#T_d942e98c_ea77_11eb_9582_0242ac1c0002row7_col6,#T_d942e98c_ea77_11eb_9582_0242ac1c0002row7_col7{\n",
              "            background-color:  #3b4cc0;\n",
              "            color:  #f1f1f1;\n",
              "        }#T_d942e98c_ea77_11eb_9582_0242ac1c0002row0_col1,#T_d942e98c_ea77_11eb_9582_0242ac1c0002row0_col6,#T_d942e98c_ea77_11eb_9582_0242ac1c0002row1_col2,#T_d942e98c_ea77_11eb_9582_0242ac1c0002row1_col3,#T_d942e98c_ea77_11eb_9582_0242ac1c0002row2_col3,#T_d942e98c_ea77_11eb_9582_0242ac1c0002row3_col4,#T_d942e98c_ea77_11eb_9582_0242ac1c0002row4_col5,#T_d942e98c_ea77_11eb_9582_0242ac1c0002row6_col7{\n",
              "            background-color:  #b40426;\n",
              "            color:  #f1f1f1;\n",
              "        }</style><table id=\"T_d942e98c_ea77_11eb_9582_0242ac1c0002\" ><thead>    <tr>        <th class=\"blank level0\" ></th>        <th class=\"col_heading level0 col0\" >I</th>        <th class=\"col_heading level0 col1\" >love</th>        <th class=\"col_heading level0 col2\" >data</th>        <th class=\"col_heading level0 col3\" >science</th>        <th class=\"col_heading level0 col4\" >and</th>        <th class=\"col_heading level0 col5\" >deep</th>        <th class=\"col_heading level0 col6\" >know</th>        <th class=\"col_heading level0 col7\" >this</th>    </tr></thead><tbody>\n",
              "                <tr>\n",
              "                        <th id=\"T_d942e98c_ea77_11eb_9582_0242ac1c0002level0_row0\" class=\"row_heading level0 row0\" >I</th>\n",
              "                        <td id=\"T_d942e98c_ea77_11eb_9582_0242ac1c0002row0_col0\" class=\"data row0 col0\" >0</td>\n",
              "                        <td id=\"T_d942e98c_ea77_11eb_9582_0242ac1c0002row0_col1\" class=\"data row0 col1\" >2</td>\n",
              "                        <td id=\"T_d942e98c_ea77_11eb_9582_0242ac1c0002row0_col2\" class=\"data row0 col2\" >0</td>\n",
              "                        <td id=\"T_d942e98c_ea77_11eb_9582_0242ac1c0002row0_col3\" class=\"data row0 col3\" >0</td>\n",
              "                        <td id=\"T_d942e98c_ea77_11eb_9582_0242ac1c0002row0_col4\" class=\"data row0 col4\" >0</td>\n",
              "                        <td id=\"T_d942e98c_ea77_11eb_9582_0242ac1c0002row0_col5\" class=\"data row0 col5\" >0</td>\n",
              "                        <td id=\"T_d942e98c_ea77_11eb_9582_0242ac1c0002row0_col6\" class=\"data row0 col6\" >1</td>\n",
              "                        <td id=\"T_d942e98c_ea77_11eb_9582_0242ac1c0002row0_col7\" class=\"data row0 col7\" >0</td>\n",
              "            </tr>\n",
              "            <tr>\n",
              "                        <th id=\"T_d942e98c_ea77_11eb_9582_0242ac1c0002level0_row1\" class=\"row_heading level0 row1\" >love</th>\n",
              "                        <td id=\"T_d942e98c_ea77_11eb_9582_0242ac1c0002row1_col0\" class=\"data row1 col0\" >0</td>\n",
              "                        <td id=\"T_d942e98c_ea77_11eb_9582_0242ac1c0002row1_col1\" class=\"data row1 col1\" >0</td>\n",
              "                        <td id=\"T_d942e98c_ea77_11eb_9582_0242ac1c0002row1_col2\" class=\"data row1 col2\" >1</td>\n",
              "                        <td id=\"T_d942e98c_ea77_11eb_9582_0242ac1c0002row1_col3\" class=\"data row1 col3\" >1</td>\n",
              "                        <td id=\"T_d942e98c_ea77_11eb_9582_0242ac1c0002row1_col4\" class=\"data row1 col4\" >0</td>\n",
              "                        <td id=\"T_d942e98c_ea77_11eb_9582_0242ac1c0002row1_col5\" class=\"data row1 col5\" >0</td>\n",
              "                        <td id=\"T_d942e98c_ea77_11eb_9582_0242ac1c0002row1_col6\" class=\"data row1 col6\" >0</td>\n",
              "                        <td id=\"T_d942e98c_ea77_11eb_9582_0242ac1c0002row1_col7\" class=\"data row1 col7\" >0</td>\n",
              "            </tr>\n",
              "            <tr>\n",
              "                        <th id=\"T_d942e98c_ea77_11eb_9582_0242ac1c0002level0_row2\" class=\"row_heading level0 row2\" >data</th>\n",
              "                        <td id=\"T_d942e98c_ea77_11eb_9582_0242ac1c0002row2_col0\" class=\"data row2 col0\" >0</td>\n",
              "                        <td id=\"T_d942e98c_ea77_11eb_9582_0242ac1c0002row2_col1\" class=\"data row2 col1\" >0</td>\n",
              "                        <td id=\"T_d942e98c_ea77_11eb_9582_0242ac1c0002row2_col2\" class=\"data row2 col2\" >0</td>\n",
              "                        <td id=\"T_d942e98c_ea77_11eb_9582_0242ac1c0002row2_col3\" class=\"data row2 col3\" >1</td>\n",
              "                        <td id=\"T_d942e98c_ea77_11eb_9582_0242ac1c0002row2_col4\" class=\"data row2 col4\" >0</td>\n",
              "                        <td id=\"T_d942e98c_ea77_11eb_9582_0242ac1c0002row2_col5\" class=\"data row2 col5\" >0</td>\n",
              "                        <td id=\"T_d942e98c_ea77_11eb_9582_0242ac1c0002row2_col6\" class=\"data row2 col6\" >0</td>\n",
              "                        <td id=\"T_d942e98c_ea77_11eb_9582_0242ac1c0002row2_col7\" class=\"data row2 col7\" >0</td>\n",
              "            </tr>\n",
              "            <tr>\n",
              "                        <th id=\"T_d942e98c_ea77_11eb_9582_0242ac1c0002level0_row3\" class=\"row_heading level0 row3\" >science</th>\n",
              "                        <td id=\"T_d942e98c_ea77_11eb_9582_0242ac1c0002row3_col0\" class=\"data row3 col0\" >0</td>\n",
              "                        <td id=\"T_d942e98c_ea77_11eb_9582_0242ac1c0002row3_col1\" class=\"data row3 col1\" >0</td>\n",
              "                        <td id=\"T_d942e98c_ea77_11eb_9582_0242ac1c0002row3_col2\" class=\"data row3 col2\" >0</td>\n",
              "                        <td id=\"T_d942e98c_ea77_11eb_9582_0242ac1c0002row3_col3\" class=\"data row3 col3\" >0</td>\n",
              "                        <td id=\"T_d942e98c_ea77_11eb_9582_0242ac1c0002row3_col4\" class=\"data row3 col4\" >1</td>\n",
              "                        <td id=\"T_d942e98c_ea77_11eb_9582_0242ac1c0002row3_col5\" class=\"data row3 col5\" >0</td>\n",
              "                        <td id=\"T_d942e98c_ea77_11eb_9582_0242ac1c0002row3_col6\" class=\"data row3 col6\" >0</td>\n",
              "                        <td id=\"T_d942e98c_ea77_11eb_9582_0242ac1c0002row3_col7\" class=\"data row3 col7\" >0</td>\n",
              "            </tr>\n",
              "            <tr>\n",
              "                        <th id=\"T_d942e98c_ea77_11eb_9582_0242ac1c0002level0_row4\" class=\"row_heading level0 row4\" >and</th>\n",
              "                        <td id=\"T_d942e98c_ea77_11eb_9582_0242ac1c0002row4_col0\" class=\"data row4 col0\" >0</td>\n",
              "                        <td id=\"T_d942e98c_ea77_11eb_9582_0242ac1c0002row4_col1\" class=\"data row4 col1\" >0</td>\n",
              "                        <td id=\"T_d942e98c_ea77_11eb_9582_0242ac1c0002row4_col2\" class=\"data row4 col2\" >0</td>\n",
              "                        <td id=\"T_d942e98c_ea77_11eb_9582_0242ac1c0002row4_col3\" class=\"data row4 col3\" >0</td>\n",
              "                        <td id=\"T_d942e98c_ea77_11eb_9582_0242ac1c0002row4_col4\" class=\"data row4 col4\" >0</td>\n",
              "                        <td id=\"T_d942e98c_ea77_11eb_9582_0242ac1c0002row4_col5\" class=\"data row4 col5\" >1</td>\n",
              "                        <td id=\"T_d942e98c_ea77_11eb_9582_0242ac1c0002row4_col6\" class=\"data row4 col6\" >0</td>\n",
              "                        <td id=\"T_d942e98c_ea77_11eb_9582_0242ac1c0002row4_col7\" class=\"data row4 col7\" >0</td>\n",
              "            </tr>\n",
              "            <tr>\n",
              "                        <th id=\"T_d942e98c_ea77_11eb_9582_0242ac1c0002level0_row5\" class=\"row_heading level0 row5\" >deep</th>\n",
              "                        <td id=\"T_d942e98c_ea77_11eb_9582_0242ac1c0002row5_col0\" class=\"data row5 col0\" >0</td>\n",
              "                        <td id=\"T_d942e98c_ea77_11eb_9582_0242ac1c0002row5_col1\" class=\"data row5 col1\" >0</td>\n",
              "                        <td id=\"T_d942e98c_ea77_11eb_9582_0242ac1c0002row5_col2\" class=\"data row5 col2\" >0</td>\n",
              "                        <td id=\"T_d942e98c_ea77_11eb_9582_0242ac1c0002row5_col3\" class=\"data row5 col3\" >0</td>\n",
              "                        <td id=\"T_d942e98c_ea77_11eb_9582_0242ac1c0002row5_col4\" class=\"data row5 col4\" >0</td>\n",
              "                        <td id=\"T_d942e98c_ea77_11eb_9582_0242ac1c0002row5_col5\" class=\"data row5 col5\" >0</td>\n",
              "                        <td id=\"T_d942e98c_ea77_11eb_9582_0242ac1c0002row5_col6\" class=\"data row5 col6\" >0</td>\n",
              "                        <td id=\"T_d942e98c_ea77_11eb_9582_0242ac1c0002row5_col7\" class=\"data row5 col7\" >0</td>\n",
              "            </tr>\n",
              "            <tr>\n",
              "                        <th id=\"T_d942e98c_ea77_11eb_9582_0242ac1c0002level0_row6\" class=\"row_heading level0 row6\" >know</th>\n",
              "                        <td id=\"T_d942e98c_ea77_11eb_9582_0242ac1c0002row6_col0\" class=\"data row6 col0\" >0</td>\n",
              "                        <td id=\"T_d942e98c_ea77_11eb_9582_0242ac1c0002row6_col1\" class=\"data row6 col1\" >0</td>\n",
              "                        <td id=\"T_d942e98c_ea77_11eb_9582_0242ac1c0002row6_col2\" class=\"data row6 col2\" >0</td>\n",
              "                        <td id=\"T_d942e98c_ea77_11eb_9582_0242ac1c0002row6_col3\" class=\"data row6 col3\" >0</td>\n",
              "                        <td id=\"T_d942e98c_ea77_11eb_9582_0242ac1c0002row6_col4\" class=\"data row6 col4\" >0</td>\n",
              "                        <td id=\"T_d942e98c_ea77_11eb_9582_0242ac1c0002row6_col5\" class=\"data row6 col5\" >0</td>\n",
              "                        <td id=\"T_d942e98c_ea77_11eb_9582_0242ac1c0002row6_col6\" class=\"data row6 col6\" >0</td>\n",
              "                        <td id=\"T_d942e98c_ea77_11eb_9582_0242ac1c0002row6_col7\" class=\"data row6 col7\" >1</td>\n",
              "            </tr>\n",
              "            <tr>\n",
              "                        <th id=\"T_d942e98c_ea77_11eb_9582_0242ac1c0002level0_row7\" class=\"row_heading level0 row7\" >this</th>\n",
              "                        <td id=\"T_d942e98c_ea77_11eb_9582_0242ac1c0002row7_col0\" class=\"data row7 col0\" >0</td>\n",
              "                        <td id=\"T_d942e98c_ea77_11eb_9582_0242ac1c0002row7_col1\" class=\"data row7 col1\" >0</td>\n",
              "                        <td id=\"T_d942e98c_ea77_11eb_9582_0242ac1c0002row7_col2\" class=\"data row7 col2\" >0</td>\n",
              "                        <td id=\"T_d942e98c_ea77_11eb_9582_0242ac1c0002row7_col3\" class=\"data row7 col3\" >0</td>\n",
              "                        <td id=\"T_d942e98c_ea77_11eb_9582_0242ac1c0002row7_col4\" class=\"data row7 col4\" >0</td>\n",
              "                        <td id=\"T_d942e98c_ea77_11eb_9582_0242ac1c0002row7_col5\" class=\"data row7 col5\" >0</td>\n",
              "                        <td id=\"T_d942e98c_ea77_11eb_9582_0242ac1c0002row7_col6\" class=\"data row7 col6\" >0</td>\n",
              "                        <td id=\"T_d942e98c_ea77_11eb_9582_0242ac1c0002row7_col7\" class=\"data row7 col7\" >0</td>\n",
              "            </tr>\n",
              "    </tbody></table>"
            ],
            "text/plain": [
              "<pandas.io.formats.style.Styler at 0x7fe8f53b8e50>"
            ]
          },
          "metadata": {
            "tags": []
          },
          "execution_count": 9
        }
      ]
    },
    {
      "cell_type": "markdown",
      "metadata": {
        "id": "YMY2jToiYg1k"
      },
      "source": [
        "- 동시 출현 빈도 행렬은 인접 행렬로도 간주할 수 있음\n",
        "- `networkx` 라이브러리를 사용해 해당 행렬을 그래프로 시각화\n",
        "  - 앞서 만든 데이터프레임을 그래프로 변환\n",
        "  - 넘파이 배열 등으로도 가능하나, 이 경우 별도로 라벨을 지정해줘야함"
      ]
    },
    {
      "cell_type": "code",
      "metadata": {
        "colab": {
          "base_uri": "https://localhost:8080/"
        },
        "id": "_oAHwQo3YoOq",
        "outputId": "f7ee3e4f-3e40-450c-8e10-479017ecbcbd"
      },
      "source": [
        "import networkx as nx\n",
        "\n",
        "G = nx.from_pandas_adjacency(df)\n",
        "print(G.nodes())\n",
        "print(G.edges())"
      ],
      "execution_count": 10,
      "outputs": [
        {
          "output_type": "stream",
          "text": [
            "['I', 'love', 'data', 'science', 'and', 'deep', 'know', 'this']\n",
            "[('I', 'love'), ('I', 'know'), ('love', 'data'), ('love', 'science'), ('data', 'science'), ('science', 'and'), ('and', 'deep'), ('know', 'this')]\n"
          ],
          "name": "stdout"
        }
      ]
    },
    {
      "cell_type": "markdown",
      "metadata": {
        "id": "INsSs3zXZLOd"
      },
      "source": [
        "- 각 엣지에 접근해보면 각 엣지의 가중치에 각 단어간의 빈도가 사용된 것을 확인 가능"
      ]
    },
    {
      "cell_type": "code",
      "metadata": {
        "colab": {
          "base_uri": "https://localhost:8080/"
        },
        "id": "2GCK6uaDZI9v",
        "outputId": "316f7019-b39e-46bd-c108-436b37fe352e"
      },
      "source": [
        "print(G.edges()['I', 'love'])\n",
        "print(G.edges()['I', 'know'])"
      ],
      "execution_count": 11,
      "outputs": [
        {
          "output_type": "stream",
          "text": [
            "{'weight': 2}\n",
            "{'weight': 1}\n"
          ],
          "name": "stdout"
        }
      ]
    },
    {
      "cell_type": "code",
      "metadata": {
        "colab": {
          "base_uri": "https://localhost:8080/",
          "height": 319
        },
        "id": "6DR_pqEvZZQO",
        "outputId": "6245cea5-fed7-46f1-8e8b-75eab2445320"
      },
      "source": [
        "nx.draw(G, with_labels=True)"
      ],
      "execution_count": 12,
      "outputs": [
        {
          "output_type": "display_data",
          "data": {
            "image/png": "[encoded data removed]",
            "text/plain": [
              "<Figure size 432x288 with 1 Axes>"
            ]
          },
          "metadata": {
            "tags": []
          }
        }
      ]
    },
    {
      "cell_type": "markdown",
      "metadata": {
        "id": "GEBUVnTlZyOw"
      },
      "source": [
        "- 어휘 동시 출현 빈도를 이용하면 어휘 동시 출현 확률까지 측정 가능\n",
        "- 어휘 동신 출현 확률 계산에는 `nltk`의 `ConditionalProbDist`를 이용"
      ]
    },
    {
      "cell_type": "code",
      "metadata": {
        "colab": {
          "base_uri": "https://localhost:8080/"
        },
        "id": "ERs0O41dZqnr",
        "outputId": "4c273739-6894-4cc8-f7ee-977dc7d00149"
      },
      "source": [
        "from nltk.probability import ConditionalProbDist, MLEProbDist\n",
        "\n",
        "cpd = ConditionalProbDist(cfd, MLEProbDist)\n",
        "cpd.conditions()"
      ],
      "execution_count": 13,
      "outputs": [
        {
          "output_type": "execute_result",
          "data": {
            "text/plain": [
              "['I', 'love', 'data', 'science', 'and', 'deep', 'know', 'this']"
            ]
          },
          "metadata": {
            "tags": []
          },
          "execution_count": 13
        }
      ]
    },
    {
      "cell_type": "code",
      "metadata": {
        "colab": {
          "base_uri": "https://localhost:8080/"
        },
        "id": "H53nKxcIaJNr",
        "outputId": "baae0016-a4e4-4b0d-ce13-22e5850ebf4a"
      },
      "source": [
        "prob_matrix = []\n",
        "\n",
        "for i in cpd.keys():\n",
        "    prob_matrix.append([cpd[i].prob(j) for j in cpd.keys()])\n",
        "\n",
        "prob_matrix = np.array(prob_matrix)\n",
        "\n",
        "print(cpd.keys())\n",
        "print(prob_matrix)"
      ],
      "execution_count": 14,
      "outputs": [
        {
          "output_type": "stream",
          "text": [
            "dict_keys(['I', 'love', 'data', 'science', 'and', 'deep', 'know', 'this'])\n",
            "[[0.         0.66666667 0.         0.         0.         0.\n",
            "  0.33333333 0.        ]\n",
            " [0.         0.         0.5        0.5        0.         0.\n",
            "  0.         0.        ]\n",
            " [0.         0.         0.         1.         0.         0.\n",
            "  0.         0.        ]\n",
            " [0.         0.         0.         0.         1.         0.\n",
            "  0.         0.        ]\n",
            " [0.         0.         0.         0.         0.         1.\n",
            "  0.         0.        ]\n",
            " [0.         0.         0.         0.         0.         0.\n",
            "  0.         0.        ]\n",
            " [0.         0.         0.         0.         0.         0.\n",
            "  0.         1.        ]\n",
            " [0.         0.         0.         0.         0.         0.\n",
            "  0.         0.        ]]\n"
          ],
          "name": "stdout"
        }
      ]
    },
    {
      "cell_type": "code",
      "metadata": {
        "colab": {
          "base_uri": "https://localhost:8080/",
          "height": 208
        },
        "id": "X15gy71xadCJ",
        "outputId": "44588b2d-a95b-4d45-95de-8db5a6afc13d"
      },
      "source": [
        "df = pd.DataFrame(prob_matrix, index=cpd.keys(), columns=cpd.keys())\n",
        "df.style.background_gradient(cmap='coolwarm')"
      ],
      "execution_count": 15,
      "outputs": [
        {
          "output_type": "execute_result",
          "data": {
            "text/html": [
              "<style  type=\"text/css\" >\n",
              "#T_d9b5592c_ea77_11eb_9582_0242ac1c0002row0_col0,#T_d9b5592c_ea77_11eb_9582_0242ac1c0002row0_col2,#T_d9b5592c_ea77_11eb_9582_0242ac1c0002row0_col3,#T_d9b5592c_ea77_11eb_9582_0242ac1c0002row0_col4,#T_d9b5592c_ea77_11eb_9582_0242ac1c0002row0_col5,#T_d9b5592c_ea77_11eb_9582_0242ac1c0002row0_col7,#T_d9b5592c_ea77_11eb_9582_0242ac1c0002row1_col0,#T_d9b5592c_ea77_11eb_9582_0242ac1c0002row1_col1,#T_d9b5592c_ea77_11eb_9582_0242ac1c0002row1_col4,#T_d9b5592c_ea77_11eb_9582_0242ac1c0002row1_col5,#T_d9b5592c_ea77_11eb_9582_0242ac1c0002row1_col6,#T_d9b5592c_ea77_11eb_9582_0242ac1c0002row1_col7,#T_d9b5592c_ea77_11eb_9582_0242ac1c0002row2_col0,#T_d9b5592c_ea77_11eb_9582_0242ac1c0002row2_col1,#T_d9b5592c_ea77_11eb_9582_0242ac1c0002row2_col2,#T_d9b5592c_ea77_11eb_9582_0242ac1c0002row2_col4,#T_d9b5592c_ea77_11eb_9582_0242ac1c0002row2_col5,#T_d9b5592c_ea77_11eb_9582_0242ac1c0002row2_col6,#T_d9b5592c_ea77_11eb_9582_0242ac1c0002row2_col7,#T_d9b5592c_ea77_11eb_9582_0242ac1c0002row3_col0,#T_d9b5592c_ea77_11eb_9582_0242ac1c0002row3_col1,#T_d9b5592c_ea77_11eb_9582_0242ac1c0002row3_col2,#T_d9b5592c_ea77_11eb_9582_0242ac1c0002row3_col3,#T_d9b5592c_ea77_11eb_9582_0242ac1c0002row3_col5,#T_d9b5592c_ea77_11eb_9582_0242ac1c0002row3_col6,#T_d9b5592c_ea77_11eb_9582_0242ac1c0002row3_col7,#T_d9b5592c_ea77_11eb_9582_0242ac1c0002row4_col0,#T_d9b5592c_ea77_11eb_9582_0242ac1c0002row4_col1,#T_d9b5592c_ea77_11eb_9582_0242ac1c0002row4_col2,#T_d9b5592c_ea77_11eb_9582_0242ac1c0002row4_col3,#T_d9b5592c_ea77_11eb_9582_0242ac1c0002row4_col4,#T_d9b5592c_ea77_11eb_9582_0242ac1c0002row4_col6,#T_d9b5592c_ea77_11eb_9582_0242ac1c0002row4_col7,#T_d9b5592c_ea77_11eb_9582_0242ac1c0002row5_col0,#T_d9b5592c_ea77_11eb_9582_0242ac1c0002row5_col1,#T_d9b5592c_ea77_11eb_9582_0242ac1c0002row5_col2,#T_d9b5592c_ea77_11eb_9582_0242ac1c0002row5_col3,#T_d9b5592c_ea77_11eb_9582_0242ac1c0002row5_col4,#T_d9b5592c_ea77_11eb_9582_0242ac1c0002row5_col5,#T_d9b5592c_ea77_11eb_9582_0242ac1c0002row5_col6,#T_d9b5592c_ea77_11eb_9582_0242ac1c0002row5_col7,#T_d9b5592c_ea77_11eb_9582_0242ac1c0002row6_col0,#T_d9b5592c_ea77_11eb_9582_0242ac1c0002row6_col1,#T_d9b5592c_ea77_11eb_9582_0242ac1c0002row6_col2,#T_d9b5592c_ea77_11eb_9582_0242ac1c0002row6_col3,#T_d9b5592c_ea77_11eb_9582_0242ac1c0002row6_col4,#T_d9b5592c_ea77_11eb_9582_0242ac1c0002row6_col5,#T_d9b5592c_ea77_11eb_9582_0242ac1c0002row6_col6,#T_d9b5592c_ea77_11eb_9582_0242ac1c0002row7_col0,#T_d9b5592c_ea77_11eb_9582_0242ac1c0002row7_col1,#T_d9b5592c_ea77_11eb_9582_0242ac1c0002row7_col2,#T_d9b5592c_ea77_11eb_9582_0242ac1c0002row7_col3,#T_d9b5592c_ea77_11eb_9582_0242ac1c0002row7_col4,#T_d9b5592c_ea77_11eb_9582_0242ac1c0002row7_col5,#T_d9b5592c_ea77_11eb_9582_0242ac1c0002row7_col6,#T_d9b5592c_ea77_11eb_9582_0242ac1c0002row7_col7{\n",
              "            background-color:  #3b4cc0;\n",
              "            color:  #f1f1f1;\n",
              "        }#T_d9b5592c_ea77_11eb_9582_0242ac1c0002row0_col1,#T_d9b5592c_ea77_11eb_9582_0242ac1c0002row0_col6,#T_d9b5592c_ea77_11eb_9582_0242ac1c0002row1_col2,#T_d9b5592c_ea77_11eb_9582_0242ac1c0002row2_col3,#T_d9b5592c_ea77_11eb_9582_0242ac1c0002row3_col4,#T_d9b5592c_ea77_11eb_9582_0242ac1c0002row4_col5,#T_d9b5592c_ea77_11eb_9582_0242ac1c0002row6_col7{\n",
              "            background-color:  #b40426;\n",
              "            color:  #f1f1f1;\n",
              "        }#T_d9b5592c_ea77_11eb_9582_0242ac1c0002row1_col3{\n",
              "            background-color:  #dddcdc;\n",
              "            color:  #000000;\n",
              "        }</style><table id=\"T_d9b5592c_ea77_11eb_9582_0242ac1c0002\" ><thead>    <tr>        <th class=\"blank level0\" ></th>        <th class=\"col_heading level0 col0\" >I</th>        <th class=\"col_heading level0 col1\" >love</th>        <th class=\"col_heading level0 col2\" >data</th>        <th class=\"col_heading level0 col3\" >science</th>        <th class=\"col_heading level0 col4\" >and</th>        <th class=\"col_heading level0 col5\" >deep</th>        <th class=\"col_heading level0 col6\" >know</th>        <th class=\"col_heading level0 col7\" >this</th>    </tr></thead><tbody>\n",
              "                <tr>\n",
              "                        <th id=\"T_d9b5592c_ea77_11eb_9582_0242ac1c0002level0_row0\" class=\"row_heading level0 row0\" >I</th>\n",
              "                        <td id=\"T_d9b5592c_ea77_11eb_9582_0242ac1c0002row0_col0\" class=\"data row0 col0\" >0.000000</td>\n",
              "                        <td id=\"T_d9b5592c_ea77_11eb_9582_0242ac1c0002row0_col1\" class=\"data row0 col1\" >0.666667</td>\n",
              "                        <td id=\"T_d9b5592c_ea77_11eb_9582_0242ac1c0002row0_col2\" class=\"data row0 col2\" >0.000000</td>\n",
              "                        <td id=\"T_d9b5592c_ea77_11eb_9582_0242ac1c0002row0_col3\" class=\"data row0 col3\" >0.000000</td>\n",
              "                        <td id=\"T_d9b5592c_ea77_11eb_9582_0242ac1c0002row0_col4\" class=\"data row0 col4\" >0.000000</td>\n",
              "                        <td id=\"T_d9b5592c_ea77_11eb_9582_0242ac1c0002row0_col5\" class=\"data row0 col5\" >0.000000</td>\n",
              "                        <td id=\"T_d9b5592c_ea77_11eb_9582_0242ac1c0002row0_col6\" class=\"data row0 col6\" >0.333333</td>\n",
              "                        <td id=\"T_d9b5592c_ea77_11eb_9582_0242ac1c0002row0_col7\" class=\"data row0 col7\" >0.000000</td>\n",
              "            </tr>\n",
              "            <tr>\n",
              "                        <th id=\"T_d9b5592c_ea77_11eb_9582_0242ac1c0002level0_row1\" class=\"row_heading level0 row1\" >love</th>\n",
              "                        <td id=\"T_d9b5592c_ea77_11eb_9582_0242ac1c0002row1_col0\" class=\"data row1 col0\" >0.000000</td>\n",
              "                        <td id=\"T_d9b5592c_ea77_11eb_9582_0242ac1c0002row1_col1\" class=\"data row1 col1\" >0.000000</td>\n",
              "                        <td id=\"T_d9b5592c_ea77_11eb_9582_0242ac1c0002row1_col2\" class=\"data row1 col2\" >0.500000</td>\n",
              "                        <td id=\"T_d9b5592c_ea77_11eb_9582_0242ac1c0002row1_col3\" class=\"data row1 col3\" >0.500000</td>\n",
              "                        <td id=\"T_d9b5592c_ea77_11eb_9582_0242ac1c0002row1_col4\" class=\"data row1 col4\" >0.000000</td>\n",
              "                        <td id=\"T_d9b5592c_ea77_11eb_9582_0242ac1c0002row1_col5\" class=\"data row1 col5\" >0.000000</td>\n",
              "                        <td id=\"T_d9b5592c_ea77_11eb_9582_0242ac1c0002row1_col6\" class=\"data row1 col6\" >0.000000</td>\n",
              "                        <td id=\"T_d9b5592c_ea77_11eb_9582_0242ac1c0002row1_col7\" class=\"data row1 col7\" >0.000000</td>\n",
              "            </tr>\n",
              "            <tr>\n",
              "                        <th id=\"T_d9b5592c_ea77_11eb_9582_0242ac1c0002level0_row2\" class=\"row_heading level0 row2\" >data</th>\n",
              "                        <td id=\"T_d9b5592c_ea77_11eb_9582_0242ac1c0002row2_col0\" class=\"data row2 col0\" >0.000000</td>\n",
              "                        <td id=\"T_d9b5592c_ea77_11eb_9582_0242ac1c0002row2_col1\" class=\"data row2 col1\" >0.000000</td>\n",
              "                        <td id=\"T_d9b5592c_ea77_11eb_9582_0242ac1c0002row2_col2\" class=\"data row2 col2\" >0.000000</td>\n",
              "                        <td id=\"T_d9b5592c_ea77_11eb_9582_0242ac1c0002row2_col3\" class=\"data row2 col3\" >1.000000</td>\n",
              "                        <td id=\"T_d9b5592c_ea77_11eb_9582_0242ac1c0002row2_col4\" class=\"data row2 col4\" >0.000000</td>\n",
              "                        <td id=\"T_d9b5592c_ea77_11eb_9582_0242ac1c0002row2_col5\" class=\"data row2 col5\" >0.000000</td>\n",
              "                        <td id=\"T_d9b5592c_ea77_11eb_9582_0242ac1c0002row2_col6\" class=\"data row2 col6\" >0.000000</td>\n",
              "                        <td id=\"T_d9b5592c_ea77_11eb_9582_0242ac1c0002row2_col7\" class=\"data row2 col7\" >0.000000</td>\n",
              "            </tr>\n",
              "            <tr>\n",
              "                        <th id=\"T_d9b5592c_ea77_11eb_9582_0242ac1c0002level0_row3\" class=\"row_heading level0 row3\" >science</th>\n",
              "                        <td id=\"T_d9b5592c_ea77_11eb_9582_0242ac1c0002row3_col0\" class=\"data row3 col0\" >0.000000</td>\n",
              "                        <td id=\"T_d9b5592c_ea77_11eb_9582_0242ac1c0002row3_col1\" class=\"data row3 col1\" >0.000000</td>\n",
              "                        <td id=\"T_d9b5592c_ea77_11eb_9582_0242ac1c0002row3_col2\" class=\"data row3 col2\" >0.000000</td>\n",
              "                        <td id=\"T_d9b5592c_ea77_11eb_9582_0242ac1c0002row3_col3\" class=\"data row3 col3\" >0.000000</td>\n",
              "                        <td id=\"T_d9b5592c_ea77_11eb_9582_0242ac1c0002row3_col4\" class=\"data row3 col4\" >1.000000</td>\n",
              "                        <td id=\"T_d9b5592c_ea77_11eb_9582_0242ac1c0002row3_col5\" class=\"data row3 col5\" >0.000000</td>\n",
              "                        <td id=\"T_d9b5592c_ea77_11eb_9582_0242ac1c0002row3_col6\" class=\"data row3 col6\" >0.000000</td>\n",
              "                        <td id=\"T_d9b5592c_ea77_11eb_9582_0242ac1c0002row3_col7\" class=\"data row3 col7\" >0.000000</td>\n",
              "            </tr>\n",
              "            <tr>\n",
              "                        <th id=\"T_d9b5592c_ea77_11eb_9582_0242ac1c0002level0_row4\" class=\"row_heading level0 row4\" >and</th>\n",
              "                        <td id=\"T_d9b5592c_ea77_11eb_9582_0242ac1c0002row4_col0\" class=\"data row4 col0\" >0.000000</td>\n",
              "                        <td id=\"T_d9b5592c_ea77_11eb_9582_0242ac1c0002row4_col1\" class=\"data row4 col1\" >0.000000</td>\n",
              "                        <td id=\"T_d9b5592c_ea77_11eb_9582_0242ac1c0002row4_col2\" class=\"data row4 col2\" >0.000000</td>\n",
              "                        <td id=\"T_d9b5592c_ea77_11eb_9582_0242ac1c0002row4_col3\" class=\"data row4 col3\" >0.000000</td>\n",
              "                        <td id=\"T_d9b5592c_ea77_11eb_9582_0242ac1c0002row4_col4\" class=\"data row4 col4\" >0.000000</td>\n",
              "                        <td id=\"T_d9b5592c_ea77_11eb_9582_0242ac1c0002row4_col5\" class=\"data row4 col5\" >1.000000</td>\n",
              "                        <td id=\"T_d9b5592c_ea77_11eb_9582_0242ac1c0002row4_col6\" class=\"data row4 col6\" >0.000000</td>\n",
              "                        <td id=\"T_d9b5592c_ea77_11eb_9582_0242ac1c0002row4_col7\" class=\"data row4 col7\" >0.000000</td>\n",
              "            </tr>\n",
              "            <tr>\n",
              "                        <th id=\"T_d9b5592c_ea77_11eb_9582_0242ac1c0002level0_row5\" class=\"row_heading level0 row5\" >deep</th>\n",
              "                        <td id=\"T_d9b5592c_ea77_11eb_9582_0242ac1c0002row5_col0\" class=\"data row5 col0\" >0.000000</td>\n",
              "                        <td id=\"T_d9b5592c_ea77_11eb_9582_0242ac1c0002row5_col1\" class=\"data row5 col1\" >0.000000</td>\n",
              "                        <td id=\"T_d9b5592c_ea77_11eb_9582_0242ac1c0002row5_col2\" class=\"data row5 col2\" >0.000000</td>\n",
              "                        <td id=\"T_d9b5592c_ea77_11eb_9582_0242ac1c0002row5_col3\" class=\"data row5 col3\" >0.000000</td>\n",
              "                        <td id=\"T_d9b5592c_ea77_11eb_9582_0242ac1c0002row5_col4\" class=\"data row5 col4\" >0.000000</td>\n",
              "                        <td id=\"T_d9b5592c_ea77_11eb_9582_0242ac1c0002row5_col5\" class=\"data row5 col5\" >0.000000</td>\n",
              "                        <td id=\"T_d9b5592c_ea77_11eb_9582_0242ac1c0002row5_col6\" class=\"data row5 col6\" >0.000000</td>\n",
              "                        <td id=\"T_d9b5592c_ea77_11eb_9582_0242ac1c0002row5_col7\" class=\"data row5 col7\" >0.000000</td>\n",
              "            </tr>\n",
              "            <tr>\n",
              "                        <th id=\"T_d9b5592c_ea77_11eb_9582_0242ac1c0002level0_row6\" class=\"row_heading level0 row6\" >know</th>\n",
              "                        <td id=\"T_d9b5592c_ea77_11eb_9582_0242ac1c0002row6_col0\" class=\"data row6 col0\" >0.000000</td>\n",
              "                        <td id=\"T_d9b5592c_ea77_11eb_9582_0242ac1c0002row6_col1\" class=\"data row6 col1\" >0.000000</td>\n",
              "                        <td id=\"T_d9b5592c_ea77_11eb_9582_0242ac1c0002row6_col2\" class=\"data row6 col2\" >0.000000</td>\n",
              "                        <td id=\"T_d9b5592c_ea77_11eb_9582_0242ac1c0002row6_col3\" class=\"data row6 col3\" >0.000000</td>\n",
              "                        <td id=\"T_d9b5592c_ea77_11eb_9582_0242ac1c0002row6_col4\" class=\"data row6 col4\" >0.000000</td>\n",
              "                        <td id=\"T_d9b5592c_ea77_11eb_9582_0242ac1c0002row6_col5\" class=\"data row6 col5\" >0.000000</td>\n",
              "                        <td id=\"T_d9b5592c_ea77_11eb_9582_0242ac1c0002row6_col6\" class=\"data row6 col6\" >0.000000</td>\n",
              "                        <td id=\"T_d9b5592c_ea77_11eb_9582_0242ac1c0002row6_col7\" class=\"data row6 col7\" >1.000000</td>\n",
              "            </tr>\n",
              "            <tr>\n",
              "                        <th id=\"T_d9b5592c_ea77_11eb_9582_0242ac1c0002level0_row7\" class=\"row_heading level0 row7\" >this</th>\n",
              "                        <td id=\"T_d9b5592c_ea77_11eb_9582_0242ac1c0002row7_col0\" class=\"data row7 col0\" >0.000000</td>\n",
              "                        <td id=\"T_d9b5592c_ea77_11eb_9582_0242ac1c0002row7_col1\" class=\"data row7 col1\" >0.000000</td>\n",
              "                        <td id=\"T_d9b5592c_ea77_11eb_9582_0242ac1c0002row7_col2\" class=\"data row7 col2\" >0.000000</td>\n",
              "                        <td id=\"T_d9b5592c_ea77_11eb_9582_0242ac1c0002row7_col3\" class=\"data row7 col3\" >0.000000</td>\n",
              "                        <td id=\"T_d9b5592c_ea77_11eb_9582_0242ac1c0002row7_col4\" class=\"data row7 col4\" >0.000000</td>\n",
              "                        <td id=\"T_d9b5592c_ea77_11eb_9582_0242ac1c0002row7_col5\" class=\"data row7 col5\" >0.000000</td>\n",
              "                        <td id=\"T_d9b5592c_ea77_11eb_9582_0242ac1c0002row7_col6\" class=\"data row7 col6\" >0.000000</td>\n",
              "                        <td id=\"T_d9b5592c_ea77_11eb_9582_0242ac1c0002row7_col7\" class=\"data row7 col7\" >0.000000</td>\n",
              "            </tr>\n",
              "    </tbody></table>"
            ],
            "text/plain": [
              "<pandas.io.formats.style.Styler at 0x7fe8eba90710>"
            ]
          },
          "metadata": {
            "tags": []
          },
          "execution_count": 15
        }
      ]
    },
    {
      "cell_type": "markdown",
      "metadata": {
        "id": "HJFL633tauQe"
      },
      "source": [
        "- 확률 행렬도 인접 행렬로 간주할 수 있음\n",
        "- 그래프 시각화 시 빈도 행렬과 동일한 결과를 얻을 수 있으나, 확률을 가중치로 사용시 부정확한 결과를 얻을 수 있음"
      ]
    },
    {
      "cell_type": "code",
      "metadata": {
        "colab": {
          "base_uri": "https://localhost:8080/"
        },
        "id": "nYNHRBDUasXu",
        "outputId": "1ff456f9-9b1f-49df-cd35-b72d6a84227a"
      },
      "source": [
        "prob_G = nx.from_pandas_adjacency(df)\n",
        "\n",
        "print(prob_G.nodes())\n",
        "print(prob_G.edges())"
      ],
      "execution_count": 16,
      "outputs": [
        {
          "output_type": "stream",
          "text": [
            "['I', 'love', 'data', 'science', 'and', 'deep', 'know', 'this']\n",
            "[('I', 'love'), ('I', 'know'), ('love', 'data'), ('love', 'science'), ('data', 'science'), ('science', 'and'), ('and', 'deep'), ('know', 'this')]\n"
          ],
          "name": "stdout"
        }
      ]
    },
    {
      "cell_type": "code",
      "metadata": {
        "colab": {
          "base_uri": "https://localhost:8080/"
        },
        "id": "YH4xatbhbBLB",
        "outputId": "4a9913ad-1a59-44ef-a55c-48c7dda54b51"
      },
      "source": [
        "print(prob_G.edges()['I', 'love'])\n",
        "print(prob_G.edges()['I', 'know'])"
      ],
      "execution_count": 17,
      "outputs": [
        {
          "output_type": "stream",
          "text": [
            "{'weight': 0.6666666666666666}\n",
            "{'weight': 0.3333333333333333}\n"
          ],
          "name": "stdout"
        }
      ]
    },
    {
      "cell_type": "code",
      "metadata": {
        "colab": {
          "base_uri": "https://localhost:8080/",
          "height": 319
        },
        "id": "HGw-iVkVbFiK",
        "outputId": "50ecf5ce-c89d-401a-dad8-19b9bd9c9396"
      },
      "source": [
        "nx.draw(prob_G, with_labels=True)"
      ],
      "execution_count": 18,
      "outputs": [
        {
          "output_type": "display_data",
          "data": {
            "image/png": "[encoded data removed]",
            "text/plain": [
              "<Figure size 432x288 with 1 Axes>"
            ]
          },
          "metadata": {
            "tags": []
          }
        }
      ]
    },
    {
      "cell_type": "markdown",
      "metadata": {
        "id": "rR66gqDeTxFB"
      },
      "source": [
        "### 중심성\n",
        "- 연결망 분석에서 가장 많이 주목하는 속성은 바로 중심성 지수\n",
        "- 중심성은 전체 연결망에서 중심에 위치하는 정도를 표현하는 지표로, 이를 분석하면 연결 정도, 중요도 등을 알 수 있다.\n",
        "- 중심성 지수는 나타내는 특징에 따라 **연결 중심성**, **매개 중심성**, **근점 중심성**, **위세 중심성**으로 구분할 수 있다."
      ]
    },
    {
      "cell_type": "markdown",
      "metadata": {
        "id": "8fk10lRWUGtW"
      },
      "source": [
        "**1. 연결 중심성(Degree Centrality)**\n",
        "- 연결 중심성은 가장 기본적이고 직관적으로 중심성을 측정하는 지표이다.\n",
        "- 텍스트에서 다른 단어와의 동시 출현 빈도가 많은 특정 단어는 연결 중심성이 높다고 볼 수 있다.\n",
        "- 연결 정도로만 측정하면 연결망의 크기에 따라 달라져 비교가 어렵기 때문에 여러 방밥으로 표준화 해야 한다.\n",
        "- 주로 `특정 노드 i와 직접적으로 연결된 노드 수 / 노드 i와 직간접적으로 연결된 노드 수`로 계산한다.\n",
        "- 직접적으로 연결된 노두는 서로 엣지 관계인 노드를 뜻하며, 간접적으로 연결된 노드는 서로 엣지 관계는 아니나 다른 노드와 엣지에 의해 도달할 수 있는 노드를 말한다.\n",
        "- 연결 중심성 계산 수식\n",
        "$$ degree_{ik} = \\sum_{i=1}^{N} Z_{ijk} = Z_{jk}$$\n",
        "$$ outdegree_{ik} = \\sum_{j=1}^{N} Z_{ijk} = Z_{ik} $$\n",
        "$$ C_{i} = \\sum_{j=1}^{n}(Z_{ij}+Z_{ji}) / \\sum_{i=1}^{n}\\sum_{j=1}^{n}(Z_{ij})\\qquad단, 0\\le C \\le 1$$\n",
        "\n",
        "- 해당 수식을 직접 계산할수도 있으나, `networkx`에는 해당 라이브러리로 구성된 그래프의 연결 중심성을 쉽게 계산해주는 메소드가 존재한다."
      ]
    },
    {
      "cell_type": "code",
      "metadata": {
        "id": "pC9mw6lUbQqE",
        "colab": {
          "base_uri": "https://localhost:8080/"
        },
        "outputId": "62dabe66-6213-475e-dade-779e7cf5deeb"
      },
      "source": [
        "nx.degree_centrality(G)"
      ],
      "execution_count": 19,
      "outputs": [
        {
          "output_type": "execute_result",
          "data": {
            "text/plain": [
              "{'I': 0.2857142857142857,\n",
              " 'and': 0.2857142857142857,\n",
              " 'data': 0.2857142857142857,\n",
              " 'deep': 0.14285714285714285,\n",
              " 'know': 0.2857142857142857,\n",
              " 'love': 0.42857142857142855,\n",
              " 'science': 0.42857142857142855,\n",
              " 'this': 0.14285714285714285}"
            ]
          },
          "metadata": {
            "tags": []
          },
          "execution_count": 19
        }
      ]
    },
    {
      "cell_type": "markdown",
      "metadata": {
        "id": "wcgPQYATWnus"
      },
      "source": [
        "**2. 위세 중심성(Eigenvector Centraility)**\n",
        "- 위세 중심성은 연결된 상대 단어의 중요성에 가중치를 둔다.\n",
        "- 중요한 단어와 많이 연결됐다면 위세 중심성은 높아지게 된다.\n",
        "- 위세 중심성은 고유 벡터로써 인접해 있는 노드의 위세 점수와 관련되어 있어 직접 계산하기는 쉽지 않다.\n",
        "- 위세 중심성 계산 수식\n",
        "\n",
        "$$ P_i =\\sum_{j=1}^{N-1}P_iZ_{ji},\\qquad0 \\le P_i \\le 1$$\n",
        "- 위세 중심성 계산에는 `eigenvector_centraility`를 이용해 계산\n",
        "- `weight`로는 어휘 동시 출현 빈도를 이용"
      ]
    },
    {
      "cell_type": "code",
      "metadata": {
        "colab": {
          "base_uri": "https://localhost:8080/"
        },
        "id": "XtBVFYheWkHL",
        "outputId": "b58ec05e-a7cb-4b8d-8e5a-835e22e700ac"
      },
      "source": [
        "nx.eigenvector_centrality(G, weight='weight')"
      ],
      "execution_count": 20,
      "outputs": [
        {
          "output_type": "execute_result",
          "data": {
            "text/plain": [
              "{'I': 0.5055042648573065,\n",
              " 'and': 0.15933837227495717,\n",
              " 'data': 0.35703593885196566,\n",
              " 'deep': 0.055886131430398216,\n",
              " 'know': 0.20216573350291445,\n",
              " 'love': 0.6195557831651917,\n",
              " 'science': 0.39841035839294925,\n",
              " 'this': 0.07090581134630142}"
            ]
          },
          "metadata": {
            "tags": []
          },
          "execution_count": 20
        }
      ]
    },
    {
      "cell_type": "markdown",
      "metadata": {
        "id": "55GTPY-pXcuY"
      },
      "source": [
        "**3.근접 중심성(Closeness Centrality)**\n",
        "- 근접 중심성은 한 단어가 다른 단어에 얼마나 가깝게 있는지를 측정하는 지표\n",
        "- 직접적으로 연결된 노드만 측정하는 열결 중심성과 다르게, 근접 중심성은 직간접적으로 연결된 모든 노드들 사이의 거리를 측정\n",
        "- 근접 중심성을 측정하기 위해선 다음과 같이 계산\n",
        "  \n",
        "  (모든 노드 수 - 1 / 특정 노드 i에서 모든 노드에 이르는 최단 경로 수를 모두 더한 수)\n",
        "\n",
        "\n",
        "$$ C_C(A) = \\frac{1}{\\frac{1}{N-1}\\sum_{x \\ne A}l_{X,A}} = \\frac{N-1}{\\sum_{x \\ne A}l_{X,A}} $$\n",
        "\n",
        "- 근접 중심성을 계산하기 위해선 `closeness_centrality()` 메소드를 사용"
      ]
    },
    {
      "cell_type": "code",
      "metadata": {
        "colab": {
          "base_uri": "https://localhost:8080/"
        },
        "id": "ft_y9okJXZex",
        "outputId": "452886c2-24e0-47da-abc4-1646e1347f75"
      },
      "source": [
        "nx.closeness_centrality(G, distance='weight')"
      ],
      "execution_count": 22,
      "outputs": [
        {
          "output_type": "execute_result",
          "data": {
            "text/plain": [
              "{'I': 0.35,\n",
              " 'and': 0.3333333333333333,\n",
              " 'data': 0.3684210526315789,\n",
              " 'deep': 0.25925925925925924,\n",
              " 'know': 0.2916666666666667,\n",
              " 'love': 0.4375,\n",
              " 'science': 0.4117647058823529,\n",
              " 'this': 0.23333333333333334}"
            ]
          },
          "metadata": {
            "tags": []
          },
          "execution_count": 22
        }
      ]
    },
    {
      "cell_type": "markdown",
      "metadata": {
        "id": "CVjZUXpLYdLR"
      },
      "source": [
        "**4. 매개 중심성(Betweeness Centrality)**\n",
        "- 매개 중심성은 한 단어가 단어들과의 연결망을 구축하는데 얼마나 도움을 주는지 측정하는 지표이다\n",
        "- 매개 중심성이 높은 단어는 빈도 수가 작더라도 단어 간 의미부여 역할이 크기 때문에, 해당 단어를 제거하면 의사소통이 어려워진다.\n",
        "- 매개 중심성은 모든 노드 간 최단 경로에서 특정 노드가 등장하는 횟수로 측정하며, 표준화를 위해 최대값인 `(N+1) * (N-2) / 2`로 나눈다.\n",
        "- 매개 중심성 계산 수식\n",
        "\n",
        "$$ C_{B}^{'}(P_m) = \\frac{\\sum_i^N \\sum_j^N \\frac{g_{imj}}{g_{ij}}}{(\\frac{N^2-3N+2}{2})}, \\qquad 단, i<j,\\quad i \\ne j$$\n",
        "\n",
        "- 매개 중심성을 계산하기 위해선 `current_flow_betweenness_centrality()` 메소드를 이용"
      ]
    },
    {
      "cell_type": "code",
      "metadata": {
        "colab": {
          "base_uri": "https://localhost:8080/"
        },
        "id": "xyLwaCzzYSGD",
        "outputId": "9d7aaf98-0a18-4d6f-8c8f-554aef5af430"
      },
      "source": [
        "nx.betweenness_centrality(G)"
      ],
      "execution_count": 23,
      "outputs": [
        {
          "output_type": "execute_result",
          "data": {
            "text/plain": [
              "{'I': 0.47619047619047616,\n",
              " 'and': 0.2857142857142857,\n",
              " 'data': 0.0,\n",
              " 'deep': 0.0,\n",
              " 'know': 0.2857142857142857,\n",
              " 'love': 0.5714285714285714,\n",
              " 'science': 0.47619047619047616,\n",
              " 'this': 0.0}"
            ]
          },
          "metadata": {
            "tags": []
          },
          "execution_count": 23
        }
      ]
    },
    {
      "cell_type": "code",
      "metadata": {
        "colab": {
          "base_uri": "https://localhost:8080/"
        },
        "id": "ttlKhH6FZtes",
        "outputId": "e16877ea-6169-4830-9003-f0cc8b369acc"
      },
      "source": [
        "nx.current_flow_betweenness_centrality(G)"
      ],
      "execution_count": 24,
      "outputs": [
        {
          "output_type": "execute_result",
          "data": {
            "text/plain": [
              "{'I': 0.4761904761904764,\n",
              " 'and': 0.28571428571428564,\n",
              " 'data': 0.19047619047619005,\n",
              " 'deep': 2.1147105230955362e-16,\n",
              " 'know': 0.28571428571428614,\n",
              " 'love': 0.6190476190476187,\n",
              " 'science': 0.5396825396825393,\n",
              " 'this': 8.458842092382145e-17}"
            ]
          },
          "metadata": {
            "tags": []
          },
          "execution_count": 24
        }
      ]
    },
    {
      "cell_type": "code",
      "metadata": {
        "id": "DBZvB5TJZvqm"
      },
      "source": [
        ""
      ],
      "execution_count": null,
      "outputs": []
    }
  ]
}