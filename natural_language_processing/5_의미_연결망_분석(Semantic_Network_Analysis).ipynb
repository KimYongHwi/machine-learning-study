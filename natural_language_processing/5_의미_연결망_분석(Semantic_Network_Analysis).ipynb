{
  "nbformat": 4,
  "nbformat_minor": 0,
  "metadata": {
    "colab": {
      "name": "5. 의미 연결망 분석(Semantic Network Analysis).ipynb",
      "provenance": [],
      "authorship_tag": "ABX9TyPpIbiESCrVXVRBMH+YEsoo",
      "include_colab_link": true
    },
    "kernelspec": {
      "name": "python3",
      "display_name": "Python 3"
    },
    "language_info": {
      "name": "python"
    }
  },
  "cells": [
    {
      "cell_type": "markdown",
      "metadata": {
        "id": "view-in-github",
        "colab_type": "text"
      },
      "source": [
        "<a href=\"https://colab.research.google.com/github/KimYongHwi/machine-learning-study/blob/main/natural_language_processing/5_%EC%9D%98%EB%AF%B8_%EC%97%B0%EA%B2%B0%EB%A7%9D_%EB%B6%84%EC%84%9D(Semantic_Network_Analysis).ipynb\" target=\"_parent\"><img src=\"https://colab.research.google.com/assets/colab-badge.svg\" alt=\"Open In Colab\"/></a>"
      ]
    },
    {
      "cell_type": "markdown",
      "metadata": {
        "id": "01swmKSAuE-k"
      },
      "source": [
        "### 의미 연결망 분석(Semantic Network Analysis)\n",
        "- 사회 연결망 분석(Social Network Analysis)는 분석 대상 및 분석 대상들간의 관계를 연결망 구조로 표현하고 이를 계량적으로 제시하는 분석 기법\n",
        "- 사회 연결망 분석은 사람, 장소, 물품 등의 객체 간의 관계를 분석하는데 효과적이며 주로 친구 관계, 전력 공급 등을 분석하는데 사용\n",
        "- 사회 연결망 분석 기법을 텍스트 내 단어의 관계에 적용한 것이 바로 의미 연결망 분석\n",
        "- 의미 연경망 분석에서는 일정한 범위 내에서 어휘가 동시에 등장하면 서로 연결된 것으로 간주하고 이 연결 관계들을 분석한다."
      ]
    },
    {
      "cell_type": "markdown",
      "metadata": {
        "id": "0xAitgyHu4d1"
      },
      "source": [
        "### n-gram\n",
        "- `nltk`라이브러리는 편하게 n-gram을 생성할 수 있는 함수를 제공\n",
        "- 많이 사용되는 `bigrams`의 경우에는 별도의 함수를 제공하니 해당 내용을 참조하여 n-gram 생성"
      ]
    },
    {
      "cell_type": "code",
      "metadata": {
        "id": "dQIvILOcjFwb",
        "colab": {
          "base_uri": "https://localhost:8080/"
        },
        "outputId": "17d6ee03-1f20-4b99-add5-874ffca794f1"
      },
      "source": [
        "import nltk\n",
        "nltk.download('punkt')"
      ],
      "execution_count": 1,
      "outputs": [
        {
          "output_type": "stream",
          "text": [
            "[nltk_data] Downloading package punkt to /root/nltk_data...\n",
            "[nltk_data]   Unzipping tokenizers/punkt.zip.\n"
          ],
          "name": "stdout"
        },
        {
          "output_type": "execute_result",
          "data": {
            "text/plain": [
              "True"
            ]
          },
          "metadata": {
            "tags": []
          },
          "execution_count": 1
        }
      ]
    },
    {
      "cell_type": "code",
      "metadata": {
        "colab": {
          "base_uri": "https://localhost:8080/"
        },
        "id": "49jX-oRPvlGc",
        "outputId": "c8e49dda-3838-47d8-8c6f-dcad8cab3a48"
      },
      "source": [
        "from nltk import word_tokenize, bigrams\n",
        "\n",
        "sentence = 'I lovae data science and deep learning'\n",
        "tokens = word_tokenize(sentence)\n",
        "\n",
        "bgram = bigrams(tokens)\n",
        "bgram_list = [x for x in bgram]\n",
        "print(bgram_list)"
      ],
      "execution_count": 2,
      "outputs": [
        {
          "output_type": "stream",
          "text": [
            "[('I', 'lovae'), ('lovae', 'data'), ('data', 'science'), ('science', 'and'), ('and', 'deep'), ('deep', 'learning')]\n"
          ],
          "name": "stdout"
        }
      ]
    },
    {
      "cell_type": "code",
      "metadata": {
        "colab": {
          "base_uri": "https://localhost:8080/"
        },
        "id": "6i-v6syHvq_y",
        "outputId": "8ec8ef4a-9b50-425c-a0b1-7feb78133f52"
      },
      "source": [
        "from nltk.util import ngrams\n",
        "\n",
        "tgram = ngrams(tokens, 3)\n",
        "qgram = ngrams(tokens, 4)\n",
        "\n",
        "tgram_list = [x for x in tgram]\n",
        "qgram_list = [x for x in qgram]\n",
        "\n",
        "print(tgram_list)\n",
        "print(qgram_list)"
      ],
      "execution_count": 3,
      "outputs": [
        {
          "output_type": "stream",
          "text": [
            "[('I', 'lovae', 'data'), ('lovae', 'data', 'science'), ('data', 'science', 'and'), ('science', 'and', 'deep'), ('and', 'deep', 'learning')]\n",
            "[('I', 'lovae', 'data', 'science'), ('lovae', 'data', 'science', 'and'), ('data', 'science', 'and', 'deep'), ('science', 'and', 'deep', 'learning')]\n"
          ],
          "name": "stdout"
        }
      ]
    },
    {
      "cell_type": "markdown",
      "metadata": {
        "id": "Vw0qVFocS54V"
      },
      "source": [
        "### 어휘 동시 출현 빈도의 계수화\n",
        "- 동시 출현(Co-occurrence)란 두 개 이상의 어휘가 일정한 범위나 거리 내에서 함께 출현하는 것을 의미\n",
        "- 단어간의 동시 출현 관계를 분석하면 문서나 문장으로부터 두 단어가 유사한 의미를 가졌는지 등의 추상화된 정보를 얻을 수 있다.\n",
        "- 동시 출현 빈도는 Window라는 지정 범위 내에서 동시 등장한 어휘를 활률 등으로 계수화 가능\n",
        "  - 예를 들어 단어 뒤 잘못된 단어가 온다면, 이를 동시 출현 빈도가 높은 단어로 교정\n",
        "- 어휘 동시 출현 빈도 행렬은 하나하나 측정할 수도 있지만, 바이그램 개수를 정리하면 편리하게 만들어 볼 수 있다.\n",
        "- `nltk`에서 제공하는 `ConditionalFreqDist` 메소드를 이용하면 문맥별 단어 빈도를 쉽게 측정 가능하다"
      ]
    },
    {
      "cell_type": "code",
      "metadata": {
        "colab": {
          "base_uri": "https://localhost:8080/"
        },
        "id": "3ubfVweqwPRM",
        "outputId": "5684a045-5a0e-4a41-8f58-a6344b5b4e7d"
      },
      "source": [
        "from nltk import ConditionalFreqDist\n",
        "\n",
        "sentences = ['I love data science and deep learning', 'I love science', 'I know this code']\n",
        "tokens = [word_tokenize(x) for x in sentences]\n",
        "bgrams = [bigrams(x) for x in tokens]\n",
        "\n",
        "token = []\n",
        "for i in bgrams:\n",
        "    token += ([x for x in i])\n",
        "\n",
        "cfd = ConditionalFreqDist(token)\n",
        "cfd.conditions()"
      ],
      "execution_count": 6,
      "outputs": [
        {
          "output_type": "execute_result",
          "data": {
            "text/plain": [
              "['I', 'love', 'data', 'science', 'and', 'deep', 'know', 'this']"
            ]
          },
          "metadata": {
            "tags": []
          },
          "execution_count": 6
        }
      ]
    },
    {
      "cell_type": "code",
      "metadata": {
        "colab": {
          "base_uri": "https://localhost:8080/"
        },
        "id": "1TSk5iDpUCY1",
        "outputId": "692a631f-1a35-4bb4-bf5e-15edf20183e7"
      },
      "source": [
        "print(cfd['I'])"
      ],
      "execution_count": 7,
      "outputs": [
        {
          "output_type": "stream",
          "text": [
            "<FreqDist with 2 samples and 3 outcomes>\n"
          ],
          "name": "stdout"
        }
      ]
    },
    {
      "cell_type": "code",
      "metadata": {
        "colab": {
          "base_uri": "https://localhost:8080/"
        },
        "id": "4E7FMlmdUCca",
        "outputId": "70758008-b5b2-437b-bcc2-5d1be4908f68"
      },
      "source": [
        "# I와 Love가 동시 출현한 빈도\n",
        "print(cfd['I']['love'])"
      ],
      "execution_count": 8,
      "outputs": [
        {
          "output_type": "stream",
          "text": [
            "2\n"
          ],
          "name": "stdout"
        }
      ]
    },
    {
      "cell_type": "code",
      "metadata": {
        "colab": {
          "base_uri": "https://localhost:8080/"
        },
        "id": "NzzSC9LVUCgg",
        "outputId": "c6dde1a6-3ac7-4241-f6ef-95ac2624af98"
      },
      "source": [
        "# I와 동시 출현 빈도가 높은 단어\n",
        "print(cfd['I'].most_common(1))"
      ],
      "execution_count": 11,
      "outputs": [
        {
          "output_type": "stream",
          "text": [
            "[('love', 2)]\n"
          ],
          "name": "stdout"
        }
      ]
    },
    {
      "cell_type": "code",
      "metadata": {
        "colab": {
          "base_uri": "https://localhost:8080/"
        },
        "id": "P9kuZv1GXfse",
        "outputId": "6df47367-d0ce-4149-c3ff-6f0a52783313"
      },
      "source": [
        "import numpy as np\n",
        "\n",
        "freq_matrix = []\n",
        "\n",
        "for i in cfd.keys():\n",
        "    temp = []\n",
        "    for j in cfd.keys():\n",
        "        temp.append(cfd[i][j])\n",
        "    freq_matrix.append(temp)\n",
        "\n",
        "freq_matrix = np.array(freq_matrix)\n",
        "print(cfd.keys())\n",
        "print(freq_matrix)"
      ],
      "execution_count": 14,
      "outputs": [
        {
          "output_type": "stream",
          "text": [
            "dict_keys(['I', 'love', 'data', 'science', 'and', 'deep', 'know', 'this'])\n",
            "[[0 2 0 0 0 0 1 0]\n",
            " [0 0 1 1 0 0 0 0]\n",
            " [0 0 0 1 0 0 0 0]\n",
            " [0 0 0 0 1 0 0 0]\n",
            " [0 0 0 0 0 1 0 0]\n",
            " [0 0 0 0 0 0 0 0]\n",
            " [0 0 0 0 0 0 0 1]\n",
            " [0 0 0 0 0 0 0 0]]\n"
          ],
          "name": "stdout"
        }
      ]
    },
    {
      "cell_type": "code",
      "metadata": {
        "colab": {
          "base_uri": "https://localhost:8080/",
          "height": 208
        },
        "id": "QPp_akPdX5mO",
        "outputId": "864a72e7-0cb6-4d7f-dea7-a78bb1db35af"
      },
      "source": [
        "import pandas as pd\n",
        "\n",
        "df = pd.DataFrame(freq_matrix, index=cfd.keys(), columns=cfd.keys())\n",
        "df.style.background_gradient(cmap='coolwarm')"
      ],
      "execution_count": 16,
      "outputs": [
        {
          "output_type": "execute_result",
          "data": {
            "text/html": [
              "<style  type=\"text/css\" >\n",
              "#T_cead6a1e_e375_11eb_a43d_0242ac1c0002row0_col0,#T_cead6a1e_e375_11eb_a43d_0242ac1c0002row0_col2,#T_cead6a1e_e375_11eb_a43d_0242ac1c0002row0_col3,#T_cead6a1e_e375_11eb_a43d_0242ac1c0002row0_col4,#T_cead6a1e_e375_11eb_a43d_0242ac1c0002row0_col5,#T_cead6a1e_e375_11eb_a43d_0242ac1c0002row0_col7,#T_cead6a1e_e375_11eb_a43d_0242ac1c0002row1_col0,#T_cead6a1e_e375_11eb_a43d_0242ac1c0002row1_col1,#T_cead6a1e_e375_11eb_a43d_0242ac1c0002row1_col4,#T_cead6a1e_e375_11eb_a43d_0242ac1c0002row1_col5,#T_cead6a1e_e375_11eb_a43d_0242ac1c0002row1_col6,#T_cead6a1e_e375_11eb_a43d_0242ac1c0002row1_col7,#T_cead6a1e_e375_11eb_a43d_0242ac1c0002row2_col0,#T_cead6a1e_e375_11eb_a43d_0242ac1c0002row2_col1,#T_cead6a1e_e375_11eb_a43d_0242ac1c0002row2_col2,#T_cead6a1e_e375_11eb_a43d_0242ac1c0002row2_col4,#T_cead6a1e_e375_11eb_a43d_0242ac1c0002row2_col5,#T_cead6a1e_e375_11eb_a43d_0242ac1c0002row2_col6,#T_cead6a1e_e375_11eb_a43d_0242ac1c0002row2_col7,#T_cead6a1e_e375_11eb_a43d_0242ac1c0002row3_col0,#T_cead6a1e_e375_11eb_a43d_0242ac1c0002row3_col1,#T_cead6a1e_e375_11eb_a43d_0242ac1c0002row3_col2,#T_cead6a1e_e375_11eb_a43d_0242ac1c0002row3_col3,#T_cead6a1e_e375_11eb_a43d_0242ac1c0002row3_col5,#T_cead6a1e_e375_11eb_a43d_0242ac1c0002row3_col6,#T_cead6a1e_e375_11eb_a43d_0242ac1c0002row3_col7,#T_cead6a1e_e375_11eb_a43d_0242ac1c0002row4_col0,#T_cead6a1e_e375_11eb_a43d_0242ac1c0002row4_col1,#T_cead6a1e_e375_11eb_a43d_0242ac1c0002row4_col2,#T_cead6a1e_e375_11eb_a43d_0242ac1c0002row4_col3,#T_cead6a1e_e375_11eb_a43d_0242ac1c0002row4_col4,#T_cead6a1e_e375_11eb_a43d_0242ac1c0002row4_col6,#T_cead6a1e_e375_11eb_a43d_0242ac1c0002row4_col7,#T_cead6a1e_e375_11eb_a43d_0242ac1c0002row5_col0,#T_cead6a1e_e375_11eb_a43d_0242ac1c0002row5_col1,#T_cead6a1e_e375_11eb_a43d_0242ac1c0002row5_col2,#T_cead6a1e_e375_11eb_a43d_0242ac1c0002row5_col3,#T_cead6a1e_e375_11eb_a43d_0242ac1c0002row5_col4,#T_cead6a1e_e375_11eb_a43d_0242ac1c0002row5_col5,#T_cead6a1e_e375_11eb_a43d_0242ac1c0002row5_col6,#T_cead6a1e_e375_11eb_a43d_0242ac1c0002row5_col7,#T_cead6a1e_e375_11eb_a43d_0242ac1c0002row6_col0,#T_cead6a1e_e375_11eb_a43d_0242ac1c0002row6_col1,#T_cead6a1e_e375_11eb_a43d_0242ac1c0002row6_col2,#T_cead6a1e_e375_11eb_a43d_0242ac1c0002row6_col3,#T_cead6a1e_e375_11eb_a43d_0242ac1c0002row6_col4,#T_cead6a1e_e375_11eb_a43d_0242ac1c0002row6_col5,#T_cead6a1e_e375_11eb_a43d_0242ac1c0002row6_col6,#T_cead6a1e_e375_11eb_a43d_0242ac1c0002row7_col0,#T_cead6a1e_e375_11eb_a43d_0242ac1c0002row7_col1,#T_cead6a1e_e375_11eb_a43d_0242ac1c0002row7_col2,#T_cead6a1e_e375_11eb_a43d_0242ac1c0002row7_col3,#T_cead6a1e_e375_11eb_a43d_0242ac1c0002row7_col4,#T_cead6a1e_e375_11eb_a43d_0242ac1c0002row7_col5,#T_cead6a1e_e375_11eb_a43d_0242ac1c0002row7_col6,#T_cead6a1e_e375_11eb_a43d_0242ac1c0002row7_col7{\n",
              "            background-color:  #3b4cc0;\n",
              "            color:  #f1f1f1;\n",
              "        }#T_cead6a1e_e375_11eb_a43d_0242ac1c0002row0_col1,#T_cead6a1e_e375_11eb_a43d_0242ac1c0002row0_col6,#T_cead6a1e_e375_11eb_a43d_0242ac1c0002row1_col2,#T_cead6a1e_e375_11eb_a43d_0242ac1c0002row1_col3,#T_cead6a1e_e375_11eb_a43d_0242ac1c0002row2_col3,#T_cead6a1e_e375_11eb_a43d_0242ac1c0002row3_col4,#T_cead6a1e_e375_11eb_a43d_0242ac1c0002row4_col5,#T_cead6a1e_e375_11eb_a43d_0242ac1c0002row6_col7{\n",
              "            background-color:  #b40426;\n",
              "            color:  #f1f1f1;\n",
              "        }</style><table id=\"T_cead6a1e_e375_11eb_a43d_0242ac1c0002\" ><thead>    <tr>        <th class=\"blank level0\" ></th>        <th class=\"col_heading level0 col0\" >I</th>        <th class=\"col_heading level0 col1\" >love</th>        <th class=\"col_heading level0 col2\" >data</th>        <th class=\"col_heading level0 col3\" >science</th>        <th class=\"col_heading level0 col4\" >and</th>        <th class=\"col_heading level0 col5\" >deep</th>        <th class=\"col_heading level0 col6\" >know</th>        <th class=\"col_heading level0 col7\" >this</th>    </tr></thead><tbody>\n",
              "                <tr>\n",
              "                        <th id=\"T_cead6a1e_e375_11eb_a43d_0242ac1c0002level0_row0\" class=\"row_heading level0 row0\" >I</th>\n",
              "                        <td id=\"T_cead6a1e_e375_11eb_a43d_0242ac1c0002row0_col0\" class=\"data row0 col0\" >0</td>\n",
              "                        <td id=\"T_cead6a1e_e375_11eb_a43d_0242ac1c0002row0_col1\" class=\"data row0 col1\" >2</td>\n",
              "                        <td id=\"T_cead6a1e_e375_11eb_a43d_0242ac1c0002row0_col2\" class=\"data row0 col2\" >0</td>\n",
              "                        <td id=\"T_cead6a1e_e375_11eb_a43d_0242ac1c0002row0_col3\" class=\"data row0 col3\" >0</td>\n",
              "                        <td id=\"T_cead6a1e_e375_11eb_a43d_0242ac1c0002row0_col4\" class=\"data row0 col4\" >0</td>\n",
              "                        <td id=\"T_cead6a1e_e375_11eb_a43d_0242ac1c0002row0_col5\" class=\"data row0 col5\" >0</td>\n",
              "                        <td id=\"T_cead6a1e_e375_11eb_a43d_0242ac1c0002row0_col6\" class=\"data row0 col6\" >1</td>\n",
              "                        <td id=\"T_cead6a1e_e375_11eb_a43d_0242ac1c0002row0_col7\" class=\"data row0 col7\" >0</td>\n",
              "            </tr>\n",
              "            <tr>\n",
              "                        <th id=\"T_cead6a1e_e375_11eb_a43d_0242ac1c0002level0_row1\" class=\"row_heading level0 row1\" >love</th>\n",
              "                        <td id=\"T_cead6a1e_e375_11eb_a43d_0242ac1c0002row1_col0\" class=\"data row1 col0\" >0</td>\n",
              "                        <td id=\"T_cead6a1e_e375_11eb_a43d_0242ac1c0002row1_col1\" class=\"data row1 col1\" >0</td>\n",
              "                        <td id=\"T_cead6a1e_e375_11eb_a43d_0242ac1c0002row1_col2\" class=\"data row1 col2\" >1</td>\n",
              "                        <td id=\"T_cead6a1e_e375_11eb_a43d_0242ac1c0002row1_col3\" class=\"data row1 col3\" >1</td>\n",
              "                        <td id=\"T_cead6a1e_e375_11eb_a43d_0242ac1c0002row1_col4\" class=\"data row1 col4\" >0</td>\n",
              "                        <td id=\"T_cead6a1e_e375_11eb_a43d_0242ac1c0002row1_col5\" class=\"data row1 col5\" >0</td>\n",
              "                        <td id=\"T_cead6a1e_e375_11eb_a43d_0242ac1c0002row1_col6\" class=\"data row1 col6\" >0</td>\n",
              "                        <td id=\"T_cead6a1e_e375_11eb_a43d_0242ac1c0002row1_col7\" class=\"data row1 col7\" >0</td>\n",
              "            </tr>\n",
              "            <tr>\n",
              "                        <th id=\"T_cead6a1e_e375_11eb_a43d_0242ac1c0002level0_row2\" class=\"row_heading level0 row2\" >data</th>\n",
              "                        <td id=\"T_cead6a1e_e375_11eb_a43d_0242ac1c0002row2_col0\" class=\"data row2 col0\" >0</td>\n",
              "                        <td id=\"T_cead6a1e_e375_11eb_a43d_0242ac1c0002row2_col1\" class=\"data row2 col1\" >0</td>\n",
              "                        <td id=\"T_cead6a1e_e375_11eb_a43d_0242ac1c0002row2_col2\" class=\"data row2 col2\" >0</td>\n",
              "                        <td id=\"T_cead6a1e_e375_11eb_a43d_0242ac1c0002row2_col3\" class=\"data row2 col3\" >1</td>\n",
              "                        <td id=\"T_cead6a1e_e375_11eb_a43d_0242ac1c0002row2_col4\" class=\"data row2 col4\" >0</td>\n",
              "                        <td id=\"T_cead6a1e_e375_11eb_a43d_0242ac1c0002row2_col5\" class=\"data row2 col5\" >0</td>\n",
              "                        <td id=\"T_cead6a1e_e375_11eb_a43d_0242ac1c0002row2_col6\" class=\"data row2 col6\" >0</td>\n",
              "                        <td id=\"T_cead6a1e_e375_11eb_a43d_0242ac1c0002row2_col7\" class=\"data row2 col7\" >0</td>\n",
              "            </tr>\n",
              "            <tr>\n",
              "                        <th id=\"T_cead6a1e_e375_11eb_a43d_0242ac1c0002level0_row3\" class=\"row_heading level0 row3\" >science</th>\n",
              "                        <td id=\"T_cead6a1e_e375_11eb_a43d_0242ac1c0002row3_col0\" class=\"data row3 col0\" >0</td>\n",
              "                        <td id=\"T_cead6a1e_e375_11eb_a43d_0242ac1c0002row3_col1\" class=\"data row3 col1\" >0</td>\n",
              "                        <td id=\"T_cead6a1e_e375_11eb_a43d_0242ac1c0002row3_col2\" class=\"data row3 col2\" >0</td>\n",
              "                        <td id=\"T_cead6a1e_e375_11eb_a43d_0242ac1c0002row3_col3\" class=\"data row3 col3\" >0</td>\n",
              "                        <td id=\"T_cead6a1e_e375_11eb_a43d_0242ac1c0002row3_col4\" class=\"data row3 col4\" >1</td>\n",
              "                        <td id=\"T_cead6a1e_e375_11eb_a43d_0242ac1c0002row3_col5\" class=\"data row3 col5\" >0</td>\n",
              "                        <td id=\"T_cead6a1e_e375_11eb_a43d_0242ac1c0002row3_col6\" class=\"data row3 col6\" >0</td>\n",
              "                        <td id=\"T_cead6a1e_e375_11eb_a43d_0242ac1c0002row3_col7\" class=\"data row3 col7\" >0</td>\n",
              "            </tr>\n",
              "            <tr>\n",
              "                        <th id=\"T_cead6a1e_e375_11eb_a43d_0242ac1c0002level0_row4\" class=\"row_heading level0 row4\" >and</th>\n",
              "                        <td id=\"T_cead6a1e_e375_11eb_a43d_0242ac1c0002row4_col0\" class=\"data row4 col0\" >0</td>\n",
              "                        <td id=\"T_cead6a1e_e375_11eb_a43d_0242ac1c0002row4_col1\" class=\"data row4 col1\" >0</td>\n",
              "                        <td id=\"T_cead6a1e_e375_11eb_a43d_0242ac1c0002row4_col2\" class=\"data row4 col2\" >0</td>\n",
              "                        <td id=\"T_cead6a1e_e375_11eb_a43d_0242ac1c0002row4_col3\" class=\"data row4 col3\" >0</td>\n",
              "                        <td id=\"T_cead6a1e_e375_11eb_a43d_0242ac1c0002row4_col4\" class=\"data row4 col4\" >0</td>\n",
              "                        <td id=\"T_cead6a1e_e375_11eb_a43d_0242ac1c0002row4_col5\" class=\"data row4 col5\" >1</td>\n",
              "                        <td id=\"T_cead6a1e_e375_11eb_a43d_0242ac1c0002row4_col6\" class=\"data row4 col6\" >0</td>\n",
              "                        <td id=\"T_cead6a1e_e375_11eb_a43d_0242ac1c0002row4_col7\" class=\"data row4 col7\" >0</td>\n",
              "            </tr>\n",
              "            <tr>\n",
              "                        <th id=\"T_cead6a1e_e375_11eb_a43d_0242ac1c0002level0_row5\" class=\"row_heading level0 row5\" >deep</th>\n",
              "                        <td id=\"T_cead6a1e_e375_11eb_a43d_0242ac1c0002row5_col0\" class=\"data row5 col0\" >0</td>\n",
              "                        <td id=\"T_cead6a1e_e375_11eb_a43d_0242ac1c0002row5_col1\" class=\"data row5 col1\" >0</td>\n",
              "                        <td id=\"T_cead6a1e_e375_11eb_a43d_0242ac1c0002row5_col2\" class=\"data row5 col2\" >0</td>\n",
              "                        <td id=\"T_cead6a1e_e375_11eb_a43d_0242ac1c0002row5_col3\" class=\"data row5 col3\" >0</td>\n",
              "                        <td id=\"T_cead6a1e_e375_11eb_a43d_0242ac1c0002row5_col4\" class=\"data row5 col4\" >0</td>\n",
              "                        <td id=\"T_cead6a1e_e375_11eb_a43d_0242ac1c0002row5_col5\" class=\"data row5 col5\" >0</td>\n",
              "                        <td id=\"T_cead6a1e_e375_11eb_a43d_0242ac1c0002row5_col6\" class=\"data row5 col6\" >0</td>\n",
              "                        <td id=\"T_cead6a1e_e375_11eb_a43d_0242ac1c0002row5_col7\" class=\"data row5 col7\" >0</td>\n",
              "            </tr>\n",
              "            <tr>\n",
              "                        <th id=\"T_cead6a1e_e375_11eb_a43d_0242ac1c0002level0_row6\" class=\"row_heading level0 row6\" >know</th>\n",
              "                        <td id=\"T_cead6a1e_e375_11eb_a43d_0242ac1c0002row6_col0\" class=\"data row6 col0\" >0</td>\n",
              "                        <td id=\"T_cead6a1e_e375_11eb_a43d_0242ac1c0002row6_col1\" class=\"data row6 col1\" >0</td>\n",
              "                        <td id=\"T_cead6a1e_e375_11eb_a43d_0242ac1c0002row6_col2\" class=\"data row6 col2\" >0</td>\n",
              "                        <td id=\"T_cead6a1e_e375_11eb_a43d_0242ac1c0002row6_col3\" class=\"data row6 col3\" >0</td>\n",
              "                        <td id=\"T_cead6a1e_e375_11eb_a43d_0242ac1c0002row6_col4\" class=\"data row6 col4\" >0</td>\n",
              "                        <td id=\"T_cead6a1e_e375_11eb_a43d_0242ac1c0002row6_col5\" class=\"data row6 col5\" >0</td>\n",
              "                        <td id=\"T_cead6a1e_e375_11eb_a43d_0242ac1c0002row6_col6\" class=\"data row6 col6\" >0</td>\n",
              "                        <td id=\"T_cead6a1e_e375_11eb_a43d_0242ac1c0002row6_col7\" class=\"data row6 col7\" >1</td>\n",
              "            </tr>\n",
              "            <tr>\n",
              "                        <th id=\"T_cead6a1e_e375_11eb_a43d_0242ac1c0002level0_row7\" class=\"row_heading level0 row7\" >this</th>\n",
              "                        <td id=\"T_cead6a1e_e375_11eb_a43d_0242ac1c0002row7_col0\" class=\"data row7 col0\" >0</td>\n",
              "                        <td id=\"T_cead6a1e_e375_11eb_a43d_0242ac1c0002row7_col1\" class=\"data row7 col1\" >0</td>\n",
              "                        <td id=\"T_cead6a1e_e375_11eb_a43d_0242ac1c0002row7_col2\" class=\"data row7 col2\" >0</td>\n",
              "                        <td id=\"T_cead6a1e_e375_11eb_a43d_0242ac1c0002row7_col3\" class=\"data row7 col3\" >0</td>\n",
              "                        <td id=\"T_cead6a1e_e375_11eb_a43d_0242ac1c0002row7_col4\" class=\"data row7 col4\" >0</td>\n",
              "                        <td id=\"T_cead6a1e_e375_11eb_a43d_0242ac1c0002row7_col5\" class=\"data row7 col5\" >0</td>\n",
              "                        <td id=\"T_cead6a1e_e375_11eb_a43d_0242ac1c0002row7_col6\" class=\"data row7 col6\" >0</td>\n",
              "                        <td id=\"T_cead6a1e_e375_11eb_a43d_0242ac1c0002row7_col7\" class=\"data row7 col7\" >0</td>\n",
              "            </tr>\n",
              "    </tbody></table>"
            ],
            "text/plain": [
              "<pandas.io.formats.style.Styler at 0x7f4e65d42650>"
            ]
          },
          "metadata": {
            "tags": []
          },
          "execution_count": 16
        }
      ]
    },
    {
      "cell_type": "markdown",
      "metadata": {
        "id": "YMY2jToiYg1k"
      },
      "source": [
        "- 동시 출현 빈도 행렬은 인접 행렬로도 간주할 수 있음\n",
        "- `networkx` 라이브러리를 사용해 해당 행렬을 그래프로 시각화\n",
        "  - 앞서 만든 데이터프레임을 그래프로 변환\n",
        "  - 넘파이 배열 등으로도 가능하나, 이 경우 별도로 라벨을 지정해줘야함"
      ]
    },
    {
      "cell_type": "code",
      "metadata": {
        "colab": {
          "base_uri": "https://localhost:8080/"
        },
        "id": "_oAHwQo3YoOq",
        "outputId": "2c157173-bafe-4589-dcaf-f8dd4e0018e5"
      },
      "source": [
        "import networkx as nx\n",
        "\n",
        "G = nx.from_pandas_adjacency(df)\n",
        "print(G.nodes())\n",
        "print(G.edges())"
      ],
      "execution_count": 17,
      "outputs": [
        {
          "output_type": "stream",
          "text": [
            "['I', 'love', 'data', 'science', 'and', 'deep', 'know', 'this']\n",
            "[('I', 'love'), ('I', 'know'), ('love', 'data'), ('love', 'science'), ('data', 'science'), ('science', 'and'), ('and', 'deep'), ('know', 'this')]\n"
          ],
          "name": "stdout"
        }
      ]
    },
    {
      "cell_type": "markdown",
      "metadata": {
        "id": "INsSs3zXZLOd"
      },
      "source": [
        "- 각 엣지에 접근해보면 각 엣지의 가중치에 각 단어간의 빈도가 사용된 것을 확인 가능"
      ]
    },
    {
      "cell_type": "code",
      "metadata": {
        "colab": {
          "base_uri": "https://localhost:8080/"
        },
        "id": "2GCK6uaDZI9v",
        "outputId": "e2a9a376-1f66-4b43-f8c9-70c6d69ab052"
      },
      "source": [
        "print(G.edges()['I', 'love'])\n",
        "print(G.edges()['I', 'know'])"
      ],
      "execution_count": 19,
      "outputs": [
        {
          "output_type": "stream",
          "text": [
            "{'weight': 2}\n",
            "{'weight': 1}\n"
          ],
          "name": "stdout"
        }
      ]
    },
    {
      "cell_type": "code",
      "metadata": {
        "colab": {
          "base_uri": "https://localhost:8080/",
          "height": 319
        },
        "id": "6DR_pqEvZZQO",
        "outputId": "1afbeb2a-0bbb-44d8-eaf8-243e227eccd3"
      },
      "source": [
        "nx.draw(G, with_labels=True)"
      ],
      "execution_count": 23,
      "outputs": [
        {
          "output_type": "display_data",
          "data": {
            "image/png": "[encoded data removed]",
            "text/plain": [
              "<Figure size 432x288 with 1 Axes>"
            ]
          },
          "metadata": {
            "tags": []
          }
        }
      ]
    },
    {
      "cell_type": "markdown",
      "metadata": {
        "id": "GEBUVnTlZyOw"
      },
      "source": [
        "- 어휘 동시 출현 빈도를 이용하면 어휘 동시 출현 확률까지 측정 가능\n",
        "- 어휘 동신 출현 확률 계산에는 `nltk`의 `ConditionalProbDist`를 이용"
      ]
    },
    {
      "cell_type": "code",
      "metadata": {
        "colab": {
          "base_uri": "https://localhost:8080/"
        },
        "id": "ERs0O41dZqnr",
        "outputId": "838848b9-4565-4ce6-fb41-a91478c8f158"
      },
      "source": [
        "from nltk.probability import ConditionalProbDist, MLEProbDist\n",
        "\n",
        "cpd = ConditionalProbDist(cfd, MLEProbDist)\n",
        "cpd.conditions()"
      ],
      "execution_count": 25,
      "outputs": [
        {
          "output_type": "execute_result",
          "data": {
            "text/plain": [
              "['I', 'love', 'data', 'science', 'and', 'deep', 'know', 'this']"
            ]
          },
          "metadata": {
            "tags": []
          },
          "execution_count": 25
        }
      ]
    },
    {
      "cell_type": "code",
      "metadata": {
        "colab": {
          "base_uri": "https://localhost:8080/"
        },
        "id": "H53nKxcIaJNr",
        "outputId": "173ab957-ede7-4dea-9568-e7030181d913"
      },
      "source": [
        "prob_matrix = []\n",
        "\n",
        "for i in cpd.keys():\n",
        "    prob_matrix.append([cpd[i].prob(j) for j in cpd.keys()])\n",
        "\n",
        "prob_matrix = np.array(prob_matrix)\n",
        "\n",
        "print(cpd.keys())\n",
        "print(prob_matrix)"
      ],
      "execution_count": 27,
      "outputs": [
        {
          "output_type": "stream",
          "text": [
            "dict_keys(['I', 'love', 'data', 'science', 'and', 'deep', 'know', 'this'])\n",
            "[[0.         0.66666667 0.         0.         0.         0.\n",
            "  0.33333333 0.        ]\n",
            " [0.         0.         0.5        0.5        0.         0.\n",
            "  0.         0.        ]\n",
            " [0.         0.         0.         1.         0.         0.\n",
            "  0.         0.        ]\n",
            " [0.         0.         0.         0.         1.         0.\n",
            "  0.         0.        ]\n",
            " [0.         0.         0.         0.         0.         1.\n",
            "  0.         0.        ]\n",
            " [0.         0.         0.         0.         0.         0.\n",
            "  0.         0.        ]\n",
            " [0.         0.         0.         0.         0.         0.\n",
            "  0.         1.        ]\n",
            " [0.         0.         0.         0.         0.         0.\n",
            "  0.         0.        ]]\n"
          ],
          "name": "stdout"
        }
      ]
    },
    {
      "cell_type": "code",
      "metadata": {
        "colab": {
          "base_uri": "https://localhost:8080/",
          "height": 208
        },
        "id": "X15gy71xadCJ",
        "outputId": "9b428575-ff4a-4c88-e2b7-7f8f1307544b"
      },
      "source": [
        "df = pd.DataFrame(prob_matrix, index=cpd.keys(), columns=cpd.keys())\n",
        "df.style.background_gradient(cmap='coolwarm')"
      ],
      "execution_count": 28,
      "outputs": [
        {
          "output_type": "execute_result",
          "data": {
            "text/html": [
              "<style  type=\"text/css\" >\n",
              "#T_2e8bc826_e377_11eb_a43d_0242ac1c0002row0_col0,#T_2e8bc826_e377_11eb_a43d_0242ac1c0002row0_col2,#T_2e8bc826_e377_11eb_a43d_0242ac1c0002row0_col3,#T_2e8bc826_e377_11eb_a43d_0242ac1c0002row0_col4,#T_2e8bc826_e377_11eb_a43d_0242ac1c0002row0_col5,#T_2e8bc826_e377_11eb_a43d_0242ac1c0002row0_col7,#T_2e8bc826_e377_11eb_a43d_0242ac1c0002row1_col0,#T_2e8bc826_e377_11eb_a43d_0242ac1c0002row1_col1,#T_2e8bc826_e377_11eb_a43d_0242ac1c0002row1_col4,#T_2e8bc826_e377_11eb_a43d_0242ac1c0002row1_col5,#T_2e8bc826_e377_11eb_a43d_0242ac1c0002row1_col6,#T_2e8bc826_e377_11eb_a43d_0242ac1c0002row1_col7,#T_2e8bc826_e377_11eb_a43d_0242ac1c0002row2_col0,#T_2e8bc826_e377_11eb_a43d_0242ac1c0002row2_col1,#T_2e8bc826_e377_11eb_a43d_0242ac1c0002row2_col2,#T_2e8bc826_e377_11eb_a43d_0242ac1c0002row2_col4,#T_2e8bc826_e377_11eb_a43d_0242ac1c0002row2_col5,#T_2e8bc826_e377_11eb_a43d_0242ac1c0002row2_col6,#T_2e8bc826_e377_11eb_a43d_0242ac1c0002row2_col7,#T_2e8bc826_e377_11eb_a43d_0242ac1c0002row3_col0,#T_2e8bc826_e377_11eb_a43d_0242ac1c0002row3_col1,#T_2e8bc826_e377_11eb_a43d_0242ac1c0002row3_col2,#T_2e8bc826_e377_11eb_a43d_0242ac1c0002row3_col3,#T_2e8bc826_e377_11eb_a43d_0242ac1c0002row3_col5,#T_2e8bc826_e377_11eb_a43d_0242ac1c0002row3_col6,#T_2e8bc826_e377_11eb_a43d_0242ac1c0002row3_col7,#T_2e8bc826_e377_11eb_a43d_0242ac1c0002row4_col0,#T_2e8bc826_e377_11eb_a43d_0242ac1c0002row4_col1,#T_2e8bc826_e377_11eb_a43d_0242ac1c0002row4_col2,#T_2e8bc826_e377_11eb_a43d_0242ac1c0002row4_col3,#T_2e8bc826_e377_11eb_a43d_0242ac1c0002row4_col4,#T_2e8bc826_e377_11eb_a43d_0242ac1c0002row4_col6,#T_2e8bc826_e377_11eb_a43d_0242ac1c0002row4_col7,#T_2e8bc826_e377_11eb_a43d_0242ac1c0002row5_col0,#T_2e8bc826_e377_11eb_a43d_0242ac1c0002row5_col1,#T_2e8bc826_e377_11eb_a43d_0242ac1c0002row5_col2,#T_2e8bc826_e377_11eb_a43d_0242ac1c0002row5_col3,#T_2e8bc826_e377_11eb_a43d_0242ac1c0002row5_col4,#T_2e8bc826_e377_11eb_a43d_0242ac1c0002row5_col5,#T_2e8bc826_e377_11eb_a43d_0242ac1c0002row5_col6,#T_2e8bc826_e377_11eb_a43d_0242ac1c0002row5_col7,#T_2e8bc826_e377_11eb_a43d_0242ac1c0002row6_col0,#T_2e8bc826_e377_11eb_a43d_0242ac1c0002row6_col1,#T_2e8bc826_e377_11eb_a43d_0242ac1c0002row6_col2,#T_2e8bc826_e377_11eb_a43d_0242ac1c0002row6_col3,#T_2e8bc826_e377_11eb_a43d_0242ac1c0002row6_col4,#T_2e8bc826_e377_11eb_a43d_0242ac1c0002row6_col5,#T_2e8bc826_e377_11eb_a43d_0242ac1c0002row6_col6,#T_2e8bc826_e377_11eb_a43d_0242ac1c0002row7_col0,#T_2e8bc826_e377_11eb_a43d_0242ac1c0002row7_col1,#T_2e8bc826_e377_11eb_a43d_0242ac1c0002row7_col2,#T_2e8bc826_e377_11eb_a43d_0242ac1c0002row7_col3,#T_2e8bc826_e377_11eb_a43d_0242ac1c0002row7_col4,#T_2e8bc826_e377_11eb_a43d_0242ac1c0002row7_col5,#T_2e8bc826_e377_11eb_a43d_0242ac1c0002row7_col6,#T_2e8bc826_e377_11eb_a43d_0242ac1c0002row7_col7{\n",
              "            background-color:  #3b4cc0;\n",
              "            color:  #f1f1f1;\n",
              "        }#T_2e8bc826_e377_11eb_a43d_0242ac1c0002row0_col1,#T_2e8bc826_e377_11eb_a43d_0242ac1c0002row0_col6,#T_2e8bc826_e377_11eb_a43d_0242ac1c0002row1_col2,#T_2e8bc826_e377_11eb_a43d_0242ac1c0002row2_col3,#T_2e8bc826_e377_11eb_a43d_0242ac1c0002row3_col4,#T_2e8bc826_e377_11eb_a43d_0242ac1c0002row4_col5,#T_2e8bc826_e377_11eb_a43d_0242ac1c0002row6_col7{\n",
              "            background-color:  #b40426;\n",
              "            color:  #f1f1f1;\n",
              "        }#T_2e8bc826_e377_11eb_a43d_0242ac1c0002row1_col3{\n",
              "            background-color:  #dddcdc;\n",
              "            color:  #000000;\n",
              "        }</style><table id=\"T_2e8bc826_e377_11eb_a43d_0242ac1c0002\" ><thead>    <tr>        <th class=\"blank level0\" ></th>        <th class=\"col_heading level0 col0\" >I</th>        <th class=\"col_heading level0 col1\" >love</th>        <th class=\"col_heading level0 col2\" >data</th>        <th class=\"col_heading level0 col3\" >science</th>        <th class=\"col_heading level0 col4\" >and</th>        <th class=\"col_heading level0 col5\" >deep</th>        <th class=\"col_heading level0 col6\" >know</th>        <th class=\"col_heading level0 col7\" >this</th>    </tr></thead><tbody>\n",
              "                <tr>\n",
              "                        <th id=\"T_2e8bc826_e377_11eb_a43d_0242ac1c0002level0_row0\" class=\"row_heading level0 row0\" >I</th>\n",
              "                        <td id=\"T_2e8bc826_e377_11eb_a43d_0242ac1c0002row0_col0\" class=\"data row0 col0\" >0.000000</td>\n",
              "                        <td id=\"T_2e8bc826_e377_11eb_a43d_0242ac1c0002row0_col1\" class=\"data row0 col1\" >0.666667</td>\n",
              "                        <td id=\"T_2e8bc826_e377_11eb_a43d_0242ac1c0002row0_col2\" class=\"data row0 col2\" >0.000000</td>\n",
              "                        <td id=\"T_2e8bc826_e377_11eb_a43d_0242ac1c0002row0_col3\" class=\"data row0 col3\" >0.000000</td>\n",
              "                        <td id=\"T_2e8bc826_e377_11eb_a43d_0242ac1c0002row0_col4\" class=\"data row0 col4\" >0.000000</td>\n",
              "                        <td id=\"T_2e8bc826_e377_11eb_a43d_0242ac1c0002row0_col5\" class=\"data row0 col5\" >0.000000</td>\n",
              "                        <td id=\"T_2e8bc826_e377_11eb_a43d_0242ac1c0002row0_col6\" class=\"data row0 col6\" >0.333333</td>\n",
              "                        <td id=\"T_2e8bc826_e377_11eb_a43d_0242ac1c0002row0_col7\" class=\"data row0 col7\" >0.000000</td>\n",
              "            </tr>\n",
              "            <tr>\n",
              "                        <th id=\"T_2e8bc826_e377_11eb_a43d_0242ac1c0002level0_row1\" class=\"row_heading level0 row1\" >love</th>\n",
              "                        <td id=\"T_2e8bc826_e377_11eb_a43d_0242ac1c0002row1_col0\" class=\"data row1 col0\" >0.000000</td>\n",
              "                        <td id=\"T_2e8bc826_e377_11eb_a43d_0242ac1c0002row1_col1\" class=\"data row1 col1\" >0.000000</td>\n",
              "                        <td id=\"T_2e8bc826_e377_11eb_a43d_0242ac1c0002row1_col2\" class=\"data row1 col2\" >0.500000</td>\n",
              "                        <td id=\"T_2e8bc826_e377_11eb_a43d_0242ac1c0002row1_col3\" class=\"data row1 col3\" >0.500000</td>\n",
              "                        <td id=\"T_2e8bc826_e377_11eb_a43d_0242ac1c0002row1_col4\" class=\"data row1 col4\" >0.000000</td>\n",
              "                        <td id=\"T_2e8bc826_e377_11eb_a43d_0242ac1c0002row1_col5\" class=\"data row1 col5\" >0.000000</td>\n",
              "                        <td id=\"T_2e8bc826_e377_11eb_a43d_0242ac1c0002row1_col6\" class=\"data row1 col6\" >0.000000</td>\n",
              "                        <td id=\"T_2e8bc826_e377_11eb_a43d_0242ac1c0002row1_col7\" class=\"data row1 col7\" >0.000000</td>\n",
              "            </tr>\n",
              "            <tr>\n",
              "                        <th id=\"T_2e8bc826_e377_11eb_a43d_0242ac1c0002level0_row2\" class=\"row_heading level0 row2\" >data</th>\n",
              "                        <td id=\"T_2e8bc826_e377_11eb_a43d_0242ac1c0002row2_col0\" class=\"data row2 col0\" >0.000000</td>\n",
              "                        <td id=\"T_2e8bc826_e377_11eb_a43d_0242ac1c0002row2_col1\" class=\"data row2 col1\" >0.000000</td>\n",
              "                        <td id=\"T_2e8bc826_e377_11eb_a43d_0242ac1c0002row2_col2\" class=\"data row2 col2\" >0.000000</td>\n",
              "                        <td id=\"T_2e8bc826_e377_11eb_a43d_0242ac1c0002row2_col3\" class=\"data row2 col3\" >1.000000</td>\n",
              "                        <td id=\"T_2e8bc826_e377_11eb_a43d_0242ac1c0002row2_col4\" class=\"data row2 col4\" >0.000000</td>\n",
              "                        <td id=\"T_2e8bc826_e377_11eb_a43d_0242ac1c0002row2_col5\" class=\"data row2 col5\" >0.000000</td>\n",
              "                        <td id=\"T_2e8bc826_e377_11eb_a43d_0242ac1c0002row2_col6\" class=\"data row2 col6\" >0.000000</td>\n",
              "                        <td id=\"T_2e8bc826_e377_11eb_a43d_0242ac1c0002row2_col7\" class=\"data row2 col7\" >0.000000</td>\n",
              "            </tr>\n",
              "            <tr>\n",
              "                        <th id=\"T_2e8bc826_e377_11eb_a43d_0242ac1c0002level0_row3\" class=\"row_heading level0 row3\" >science</th>\n",
              "                        <td id=\"T_2e8bc826_e377_11eb_a43d_0242ac1c0002row3_col0\" class=\"data row3 col0\" >0.000000</td>\n",
              "                        <td id=\"T_2e8bc826_e377_11eb_a43d_0242ac1c0002row3_col1\" class=\"data row3 col1\" >0.000000</td>\n",
              "                        <td id=\"T_2e8bc826_e377_11eb_a43d_0242ac1c0002row3_col2\" class=\"data row3 col2\" >0.000000</td>\n",
              "                        <td id=\"T_2e8bc826_e377_11eb_a43d_0242ac1c0002row3_col3\" class=\"data row3 col3\" >0.000000</td>\n",
              "                        <td id=\"T_2e8bc826_e377_11eb_a43d_0242ac1c0002row3_col4\" class=\"data row3 col4\" >1.000000</td>\n",
              "                        <td id=\"T_2e8bc826_e377_11eb_a43d_0242ac1c0002row3_col5\" class=\"data row3 col5\" >0.000000</td>\n",
              "                        <td id=\"T_2e8bc826_e377_11eb_a43d_0242ac1c0002row3_col6\" class=\"data row3 col6\" >0.000000</td>\n",
              "                        <td id=\"T_2e8bc826_e377_11eb_a43d_0242ac1c0002row3_col7\" class=\"data row3 col7\" >0.000000</td>\n",
              "            </tr>\n",
              "            <tr>\n",
              "                        <th id=\"T_2e8bc826_e377_11eb_a43d_0242ac1c0002level0_row4\" class=\"row_heading level0 row4\" >and</th>\n",
              "                        <td id=\"T_2e8bc826_e377_11eb_a43d_0242ac1c0002row4_col0\" class=\"data row4 col0\" >0.000000</td>\n",
              "                        <td id=\"T_2e8bc826_e377_11eb_a43d_0242ac1c0002row4_col1\" class=\"data row4 col1\" >0.000000</td>\n",
              "                        <td id=\"T_2e8bc826_e377_11eb_a43d_0242ac1c0002row4_col2\" class=\"data row4 col2\" >0.000000</td>\n",
              "                        <td id=\"T_2e8bc826_e377_11eb_a43d_0242ac1c0002row4_col3\" class=\"data row4 col3\" >0.000000</td>\n",
              "                        <td id=\"T_2e8bc826_e377_11eb_a43d_0242ac1c0002row4_col4\" class=\"data row4 col4\" >0.000000</td>\n",
              "                        <td id=\"T_2e8bc826_e377_11eb_a43d_0242ac1c0002row4_col5\" class=\"data row4 col5\" >1.000000</td>\n",
              "                        <td id=\"T_2e8bc826_e377_11eb_a43d_0242ac1c0002row4_col6\" class=\"data row4 col6\" >0.000000</td>\n",
              "                        <td id=\"T_2e8bc826_e377_11eb_a43d_0242ac1c0002row4_col7\" class=\"data row4 col7\" >0.000000</td>\n",
              "            </tr>\n",
              "            <tr>\n",
              "                        <th id=\"T_2e8bc826_e377_11eb_a43d_0242ac1c0002level0_row5\" class=\"row_heading level0 row5\" >deep</th>\n",
              "                        <td id=\"T_2e8bc826_e377_11eb_a43d_0242ac1c0002row5_col0\" class=\"data row5 col0\" >0.000000</td>\n",
              "                        <td id=\"T_2e8bc826_e377_11eb_a43d_0242ac1c0002row5_col1\" class=\"data row5 col1\" >0.000000</td>\n",
              "                        <td id=\"T_2e8bc826_e377_11eb_a43d_0242ac1c0002row5_col2\" class=\"data row5 col2\" >0.000000</td>\n",
              "                        <td id=\"T_2e8bc826_e377_11eb_a43d_0242ac1c0002row5_col3\" class=\"data row5 col3\" >0.000000</td>\n",
              "                        <td id=\"T_2e8bc826_e377_11eb_a43d_0242ac1c0002row5_col4\" class=\"data row5 col4\" >0.000000</td>\n",
              "                        <td id=\"T_2e8bc826_e377_11eb_a43d_0242ac1c0002row5_col5\" class=\"data row5 col5\" >0.000000</td>\n",
              "                        <td id=\"T_2e8bc826_e377_11eb_a43d_0242ac1c0002row5_col6\" class=\"data row5 col6\" >0.000000</td>\n",
              "                        <td id=\"T_2e8bc826_e377_11eb_a43d_0242ac1c0002row5_col7\" class=\"data row5 col7\" >0.000000</td>\n",
              "            </tr>\n",
              "            <tr>\n",
              "                        <th id=\"T_2e8bc826_e377_11eb_a43d_0242ac1c0002level0_row6\" class=\"row_heading level0 row6\" >know</th>\n",
              "                        <td id=\"T_2e8bc826_e377_11eb_a43d_0242ac1c0002row6_col0\" class=\"data row6 col0\" >0.000000</td>\n",
              "                        <td id=\"T_2e8bc826_e377_11eb_a43d_0242ac1c0002row6_col1\" class=\"data row6 col1\" >0.000000</td>\n",
              "                        <td id=\"T_2e8bc826_e377_11eb_a43d_0242ac1c0002row6_col2\" class=\"data row6 col2\" >0.000000</td>\n",
              "                        <td id=\"T_2e8bc826_e377_11eb_a43d_0242ac1c0002row6_col3\" class=\"data row6 col3\" >0.000000</td>\n",
              "                        <td id=\"T_2e8bc826_e377_11eb_a43d_0242ac1c0002row6_col4\" class=\"data row6 col4\" >0.000000</td>\n",
              "                        <td id=\"T_2e8bc826_e377_11eb_a43d_0242ac1c0002row6_col5\" class=\"data row6 col5\" >0.000000</td>\n",
              "                        <td id=\"T_2e8bc826_e377_11eb_a43d_0242ac1c0002row6_col6\" class=\"data row6 col6\" >0.000000</td>\n",
              "                        <td id=\"T_2e8bc826_e377_11eb_a43d_0242ac1c0002row6_col7\" class=\"data row6 col7\" >1.000000</td>\n",
              "            </tr>\n",
              "            <tr>\n",
              "                        <th id=\"T_2e8bc826_e377_11eb_a43d_0242ac1c0002level0_row7\" class=\"row_heading level0 row7\" >this</th>\n",
              "                        <td id=\"T_2e8bc826_e377_11eb_a43d_0242ac1c0002row7_col0\" class=\"data row7 col0\" >0.000000</td>\n",
              "                        <td id=\"T_2e8bc826_e377_11eb_a43d_0242ac1c0002row7_col1\" class=\"data row7 col1\" >0.000000</td>\n",
              "                        <td id=\"T_2e8bc826_e377_11eb_a43d_0242ac1c0002row7_col2\" class=\"data row7 col2\" >0.000000</td>\n",
              "                        <td id=\"T_2e8bc826_e377_11eb_a43d_0242ac1c0002row7_col3\" class=\"data row7 col3\" >0.000000</td>\n",
              "                        <td id=\"T_2e8bc826_e377_11eb_a43d_0242ac1c0002row7_col4\" class=\"data row7 col4\" >0.000000</td>\n",
              "                        <td id=\"T_2e8bc826_e377_11eb_a43d_0242ac1c0002row7_col5\" class=\"data row7 col5\" >0.000000</td>\n",
              "                        <td id=\"T_2e8bc826_e377_11eb_a43d_0242ac1c0002row7_col6\" class=\"data row7 col6\" >0.000000</td>\n",
              "                        <td id=\"T_2e8bc826_e377_11eb_a43d_0242ac1c0002row7_col7\" class=\"data row7 col7\" >0.000000</td>\n",
              "            </tr>\n",
              "    </tbody></table>"
            ],
            "text/plain": [
              "<pandas.io.formats.style.Styler at 0x7f4e5b7bef10>"
            ]
          },
          "metadata": {
            "tags": []
          },
          "execution_count": 28
        }
      ]
    },
    {
      "cell_type": "markdown",
      "metadata": {
        "id": "HJFL633tauQe"
      },
      "source": [
        "- 확률 행렬도 인접 행렬로 간주할 수 있음\n",
        "- 그래프 시각화 시 빈도 행렬과 동일한 결과를 얻을 수 있으나, 확률을 가중치로 사용시 부정확한 결과를 얻을 수 있음"
      ]
    },
    {
      "cell_type": "code",
      "metadata": {
        "colab": {
          "base_uri": "https://localhost:8080/"
        },
        "id": "nYNHRBDUasXu",
        "outputId": "d4c806c0-6644-4062-c438-80415099449e"
      },
      "source": [
        "prob_G = nx.from_pandas_adjacency(df)\n",
        "\n",
        "print(prob_G.nodes())\n",
        "print(prob_G.edges())"
      ],
      "execution_count": 29,
      "outputs": [
        {
          "output_type": "stream",
          "text": [
            "['I', 'love', 'data', 'science', 'and', 'deep', 'know', 'this']\n",
            "[('I', 'love'), ('I', 'know'), ('love', 'data'), ('love', 'science'), ('data', 'science'), ('science', 'and'), ('and', 'deep'), ('know', 'this')]\n"
          ],
          "name": "stdout"
        }
      ]
    },
    {
      "cell_type": "code",
      "metadata": {
        "colab": {
          "base_uri": "https://localhost:8080/"
        },
        "id": "YH4xatbhbBLB",
        "outputId": "fed95856-76f0-43df-d50b-52fe502e7a6d"
      },
      "source": [
        "print(prob_G.edges()['I', 'love'])\n",
        "print(prob_G.edges()['I', 'know'])"
      ],
      "execution_count": 31,
      "outputs": [
        {
          "output_type": "stream",
          "text": [
            "{'weight': 0.6666666666666666}\n",
            "{'weight': 0.3333333333333333}\n"
          ],
          "name": "stdout"
        }
      ]
    },
    {
      "cell_type": "code",
      "metadata": {
        "colab": {
          "base_uri": "https://localhost:8080/",
          "height": 319
        },
        "id": "HGw-iVkVbFiK",
        "outputId": "86c654ff-1887-4251-f124-b48d18207556"
      },
      "source": [
        "nx.draw(prob_G, with_labels=True)"
      ],
      "execution_count": 32,
      "outputs": [
        {
          "output_type": "display_data",
          "data": {
            "image/png": "[encoded data removed]",
            "text/plain": [
              "<Figure size 432x288 with 1 Axes>"
            ]
          },
          "metadata": {
            "tags": []
          }
        }
      ]
    },
    {
      "cell_type": "code",
      "metadata": {
        "id": "pC9mw6lUbQqE"
      },
      "source": [
        ""
      ],
      "execution_count": null,
      "outputs": []
    }
  ]
}